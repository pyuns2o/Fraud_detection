{
 "cells": [
  {
   "cell_type": "code",
   "execution_count": 1,
   "id": "f6385fd1",
   "metadata": {},
   "outputs": [],
   "source": [
    "import numpy as np\n",
    "import matplotlib.pyplot as plt\n",
    "import seaborn as sns\n",
    "import pandas as pd"
   ]
  },
  {
   "cell_type": "code",
   "execution_count": 2,
   "id": "83d19228",
   "metadata": {},
   "outputs": [],
   "source": [
    "df_claim = pd.read_csv('BGCON_CLAIM_DATA.csv', encoding = 'utf-8', dtype={'HOSP_SPEC_DVSN':str})"
   ]
  },
  {
   "cell_type": "code",
   "execution_count": 3,
   "id": "2124e4de",
   "metadata": {},
   "outputs": [
    {
     "data": {
      "text/plain": [
       "Index(['CUST_ID', 'POLY_NO', 'ACCI_OCCP_GRP1', 'ACCI_OCCP_GRP2', 'CHANG_FP_YN',\n",
       "       'CNTT_RECP_SQNO', 'RECP_DATE', 'ORIG_RESN_DATE', 'RESN_DATE',\n",
       "       'CRNT_PROG_DVSN', 'ACCI_DVSN', 'CAUS_CODE', 'CAUS_CODE_DTAL',\n",
       "       'DSAS_NAME', 'DMND_RESN_CODE', 'DMND_RSCD_SQNO', 'HOSP_OTPA_STDT',\n",
       "       'HOSP_OTPA_ENDT', 'RESL_CD1', 'RESL_NM1', 'VLID_HOSP_OTDA',\n",
       "       'HOUSE_HOSP_DIST', 'HOSP_CODE', 'ACCI_HOSP_ADDR', 'HOSP_SPEC_DVSN',\n",
       "       'CHME_LICE_NO', 'PAYM_DATE', 'DMND_AMT', 'PAYM_AMT', 'PMMI_DLNG_YN',\n",
       "       'SELF_CHAM', 'NON_PAY', 'TAMT_SFCA', 'PATT_CHRG_TOTA', 'DSCT_AMT',\n",
       "       'COUNT_TRMT_ITEM', 'DCAF_CMPS_XCPA', 'NON_PAY_RATIO', 'HEED_HOSP_YN'],\n",
       "      dtype='object')"
      ]
     },
     "execution_count": 3,
     "metadata": {},
     "output_type": "execute_result"
    }
   ],
   "source": [
    "df_claim.columns"
   ]
  },
  {
   "cell_type": "code",
   "execution_count": 4,
   "id": "92bfdc34",
   "metadata": {},
   "outputs": [
    {
     "data": {
      "text/plain": [
       "CUST_ID                 0\n",
       "POLY_NO                 0\n",
       "ACCI_OCCP_GRP1       1417\n",
       "ACCI_OCCP_GRP2       1417\n",
       "CHANG_FP_YN             0\n",
       "CNTT_RECP_SQNO          0\n",
       "RECP_DATE               0\n",
       "ORIG_RESN_DATE          0\n",
       "RESN_DATE               0\n",
       "CRNT_PROG_DVSN          0\n",
       "ACCI_DVSN               0\n",
       "CAUS_CODE               0\n",
       "CAUS_CODE_DTAL          0\n",
       "DSAS_NAME               0\n",
       "DMND_RESN_CODE          0\n",
       "DMND_RSCD_SQNO          0\n",
       "HOSP_OTPA_STDT      32571\n",
       "HOSP_OTPA_ENDT      32571\n",
       "RESL_CD1                0\n",
       "RESL_NM1                0\n",
       "VLID_HOSP_OTDA          0\n",
       "HOUSE_HOSP_DIST     17048\n",
       "HOSP_CODE               9\n",
       "ACCI_HOSP_ADDR      10070\n",
       "HOSP_SPEC_DVSN          9\n",
       "CHME_LICE_NO            0\n",
       "PAYM_DATE              13\n",
       "DMND_AMT                0\n",
       "PAYM_AMT                0\n",
       "PMMI_DLNG_YN            0\n",
       "SELF_CHAM          100053\n",
       "NON_PAY            100053\n",
       "TAMT_SFCA          100053\n",
       "PATT_CHRG_TOTA     100053\n",
       "DSCT_AMT           100053\n",
       "COUNT_TRMT_ITEM    100053\n",
       "DCAF_CMPS_XCPA     110963\n",
       "NON_PAY_RATIO           0\n",
       "HEED_HOSP_YN            0\n",
       "dtype: int64"
      ]
     },
     "execution_count": 4,
     "metadata": {},
     "output_type": "execute_result"
    }
   ],
   "source": [
    "df_claim.isnull().sum()"
   ]
  },
  {
   "cell_type": "code",
   "execution_count": 5,
   "id": "2b9a09b6",
   "metadata": {},
   "outputs": [
    {
     "data": {
      "text/plain": [
       "CUST_ID           0\n",
       "POLY_NO           0\n",
       "RECP_DATE         0\n",
       "ACCI_DVSN         0\n",
       "CAUS_CODE         0\n",
       "CAUS_CODE_DTAL    0\n",
       "DSAS_NAME         0\n",
       "DMND_RESN_CODE    0\n",
       "RESL_CD1          0\n",
       "RESL_NM1          0\n",
       "VLID_HOSP_OTDA    0\n",
       "HOSP_CODE         9\n",
       "HOSP_SPEC_DVSN    9\n",
       "CHME_LICE_NO      0\n",
       "DMND_AMT          0\n",
       "PAYM_AMT          0\n",
       "PMMI_DLNG_YN      0\n",
       "NON_PAY_RATIO     0\n",
       "HEED_HOSP_YN      0\n",
       "dtype: int64"
      ]
     },
     "execution_count": 5,
     "metadata": {},
     "output_type": "execute_result"
    }
   ],
   "source": [
    "df_claim = df_claim.drop(['ACCI_OCCP_GRP1','ACCI_OCCP_GRP2','CHANG_FP_YN','CNTT_RECP_SQNO','ORIG_RESN_DATE','RESN_DATE','CRNT_PROG_DVSN',\n",
    "                          'SELF_CHAM','NON_PAY','TAMT_SFCA','PATT_CHRG_TOTA','DSCT_AMT','COUNT_TRMT_ITEM','DCAF_CMPS_XCPA','HOUSE_HOSP_DIST',\n",
    "                          'DMND_RSCD_SQNO','HOSP_OTPA_STDT','HOSP_OTPA_ENDT','ACCI_HOSP_ADDR','PAYM_DATE'], axis=1)\n",
    "df_claim.isnull().sum()"
   ]
  },
  {
   "cell_type": "code",
   "execution_count": 6,
   "id": "f2c81865",
   "metadata": {},
   "outputs": [
    {
     "data": {
      "text/plain": [
       "('RESL_CD1', 'RESL_NM1', 'CAUS_CODE', 'CAUS_CODE_DTAL')"
      ]
     },
     "execution_count": 6,
     "metadata": {},
     "output_type": "execute_result"
    }
   ],
   "source": [
    "df_claim = df_claim.drop(['CHME_LICE_NO','DMND_AMT','PAYM_AMT' ], axis=1)\n",
    "df_claim.isnull().sum()\n",
    "'RESL_CD1', 'RESL_NM1', 'CAUS_CODE', 'CAUS_CODE_DTAL' "
   ]
  },
  {
   "cell_type": "code",
   "execution_count": 7,
   "id": "8bbad95c",
   "metadata": {},
   "outputs": [],
   "source": [
    "df_claim = df_claim.drop(['RESL_CD1', 'RESL_NM1', 'CAUS_CODE', 'CAUS_CODE_DTAL','NON_PAY_RATIO'], axis=1)"
   ]
  },
  {
   "cell_type": "code",
   "execution_count": 8,
   "id": "60bb2076",
   "metadata": {},
   "outputs": [
    {
     "data": {
      "text/html": [
       "<div>\n",
       "<style scoped>\n",
       "    .dataframe tbody tr th:only-of-type {\n",
       "        vertical-align: middle;\n",
       "    }\n",
       "\n",
       "    .dataframe tbody tr th {\n",
       "        vertical-align: top;\n",
       "    }\n",
       "\n",
       "    .dataframe thead th {\n",
       "        text-align: right;\n",
       "    }\n",
       "</style>\n",
       "<table border=\"1\" class=\"dataframe\">\n",
       "  <thead>\n",
       "    <tr style=\"text-align: right;\">\n",
       "      <th></th>\n",
       "      <th>CUST_ID</th>\n",
       "      <th>POLY_NO</th>\n",
       "      <th>RECP_DATE</th>\n",
       "      <th>ACCI_DVSN</th>\n",
       "      <th>DSAS_NAME</th>\n",
       "      <th>DMND_RESN_CODE</th>\n",
       "      <th>VLID_HOSP_OTDA</th>\n",
       "      <th>HOSP_CODE</th>\n",
       "      <th>HOSP_SPEC_DVSN</th>\n",
       "      <th>PMMI_DLNG_YN</th>\n",
       "      <th>HEED_HOSP_YN</th>\n",
       "    </tr>\n",
       "  </thead>\n",
       "  <tbody>\n",
       "    <tr>\n",
       "      <th>0</th>\n",
       "      <td>5936</td>\n",
       "      <td>1365</td>\n",
       "      <td>20060112</td>\n",
       "      <td>1</td>\n",
       "      <td>하악부표재성손상</td>\n",
       "      <td>3</td>\n",
       "      <td>2</td>\n",
       "      <td>12537.0</td>\n",
       "      <td>95</td>\n",
       "      <td>N</td>\n",
       "      <td>N</td>\n",
       "    </tr>\n",
       "    <tr>\n",
       "      <th>1</th>\n",
       "      <td>5936</td>\n",
       "      <td>6151</td>\n",
       "      <td>20060112</td>\n",
       "      <td>1</td>\n",
       "      <td>하악부표재성손상</td>\n",
       "      <td>3</td>\n",
       "      <td>2</td>\n",
       "      <td>12537.0</td>\n",
       "      <td>95</td>\n",
       "      <td>N</td>\n",
       "      <td>N</td>\n",
       "    </tr>\n",
       "    <tr>\n",
       "      <th>2</th>\n",
       "      <td>5936</td>\n",
       "      <td>10364</td>\n",
       "      <td>20060112</td>\n",
       "      <td>1</td>\n",
       "      <td>하악부표재성손상</td>\n",
       "      <td>3</td>\n",
       "      <td>2</td>\n",
       "      <td>12537.0</td>\n",
       "      <td>95</td>\n",
       "      <td>N</td>\n",
       "      <td>N</td>\n",
       "    </tr>\n",
       "    <tr>\n",
       "      <th>3</th>\n",
       "      <td>1043</td>\n",
       "      <td>1247</td>\n",
       "      <td>20060112</td>\n",
       "      <td>3</td>\n",
       "      <td>기타세균성창자감염|손목및손의2도화상|피부염</td>\n",
       "      <td>2</td>\n",
       "      <td>6</td>\n",
       "      <td>12537.0</td>\n",
       "      <td>95</td>\n",
       "      <td>N</td>\n",
       "      <td>N</td>\n",
       "    </tr>\n",
       "    <tr>\n",
       "      <th>4</th>\n",
       "      <td>8545</td>\n",
       "      <td>11236</td>\n",
       "      <td>20060112</td>\n",
       "      <td>3</td>\n",
       "      <td>좌측하지정맥류혈관발거술|레이저소작술</td>\n",
       "      <td>5</td>\n",
       "      <td>0</td>\n",
       "      <td>2305.0</td>\n",
       "      <td>30</td>\n",
       "      <td>N</td>\n",
       "      <td>N</td>\n",
       "    </tr>\n",
       "    <tr>\n",
       "      <th>...</th>\n",
       "      <td>...</td>\n",
       "      <td>...</td>\n",
       "      <td>...</td>\n",
       "      <td>...</td>\n",
       "      <td>...</td>\n",
       "      <td>...</td>\n",
       "      <td>...</td>\n",
       "      <td>...</td>\n",
       "      <td>...</td>\n",
       "      <td>...</td>\n",
       "      <td>...</td>\n",
       "    </tr>\n",
       "    <tr>\n",
       "      <th>119015</th>\n",
       "      <td>15545</td>\n",
       "      <td>48830</td>\n",
       "      <td>20150303</td>\n",
       "      <td>3</td>\n",
       "      <td>자기부담금 추가지급(Auto)</td>\n",
       "      <td>3</td>\n",
       "      <td>4</td>\n",
       "      <td>7577.0</td>\n",
       "      <td>20</td>\n",
       "      <td>Y</td>\n",
       "      <td>N</td>\n",
       "    </tr>\n",
       "    <tr>\n",
       "      <th>119016</th>\n",
       "      <td>15489</td>\n",
       "      <td>110348</td>\n",
       "      <td>20150513</td>\n",
       "      <td>1</td>\n",
       "      <td>자기부담금 추가지급(Auto)</td>\n",
       "      <td>3</td>\n",
       "      <td>1</td>\n",
       "      <td>10968.0</td>\n",
       "      <td>30</td>\n",
       "      <td>Y</td>\n",
       "      <td>N</td>\n",
       "    </tr>\n",
       "    <tr>\n",
       "      <th>119017</th>\n",
       "      <td>6864</td>\n",
       "      <td>110453</td>\n",
       "      <td>20150618</td>\n",
       "      <td>3</td>\n",
       "      <td>자기부담금 추가지급(Auto)</td>\n",
       "      <td>2</td>\n",
       "      <td>10</td>\n",
       "      <td>8352.0</td>\n",
       "      <td>20</td>\n",
       "      <td>Y</td>\n",
       "      <td>N</td>\n",
       "    </tr>\n",
       "    <tr>\n",
       "      <th>119018</th>\n",
       "      <td>15545</td>\n",
       "      <td>48830</td>\n",
       "      <td>20150618</td>\n",
       "      <td>3</td>\n",
       "      <td>자기부담금 추가지급(Auto)</td>\n",
       "      <td>3</td>\n",
       "      <td>1</td>\n",
       "      <td>7577.0</td>\n",
       "      <td>20</td>\n",
       "      <td>Y</td>\n",
       "      <td>N</td>\n",
       "    </tr>\n",
       "    <tr>\n",
       "      <th>119019</th>\n",
       "      <td>21542</td>\n",
       "      <td>34676</td>\n",
       "      <td>20150630</td>\n",
       "      <td>3</td>\n",
       "      <td>자기부담금 추가지급(Auto)</td>\n",
       "      <td>2</td>\n",
       "      <td>2</td>\n",
       "      <td>7418.0</td>\n",
       "      <td>20</td>\n",
       "      <td>Y</td>\n",
       "      <td>N</td>\n",
       "    </tr>\n",
       "  </tbody>\n",
       "</table>\n",
       "<p>119020 rows × 11 columns</p>\n",
       "</div>"
      ],
      "text/plain": [
       "        CUST_ID  POLY_NO  RECP_DATE  ACCI_DVSN                DSAS_NAME  \\\n",
       "0          5936     1365   20060112          1                 하악부표재성손상   \n",
       "1          5936     6151   20060112          1                 하악부표재성손상   \n",
       "2          5936    10364   20060112          1                 하악부표재성손상   \n",
       "3          1043     1247   20060112          3  기타세균성창자감염|손목및손의2도화상|피부염   \n",
       "4          8545    11236   20060112          3      좌측하지정맥류혈관발거술|레이저소작술   \n",
       "...         ...      ...        ...        ...                      ...   \n",
       "119015    15545    48830   20150303          3         자기부담금 추가지급(Auto)   \n",
       "119016    15489   110348   20150513          1         자기부담금 추가지급(Auto)   \n",
       "119017     6864   110453   20150618          3         자기부담금 추가지급(Auto)   \n",
       "119018    15545    48830   20150618          3         자기부담금 추가지급(Auto)   \n",
       "119019    21542    34676   20150630          3         자기부담금 추가지급(Auto)   \n",
       "\n",
       "        DMND_RESN_CODE  VLID_HOSP_OTDA  HOSP_CODE HOSP_SPEC_DVSN PMMI_DLNG_YN  \\\n",
       "0                    3               2    12537.0             95            N   \n",
       "1                    3               2    12537.0             95            N   \n",
       "2                    3               2    12537.0             95            N   \n",
       "3                    2               6    12537.0             95            N   \n",
       "4                    5               0     2305.0             30            N   \n",
       "...                ...             ...        ...            ...          ...   \n",
       "119015               3               4     7577.0             20            Y   \n",
       "119016               3               1    10968.0             30            Y   \n",
       "119017               2              10     8352.0             20            Y   \n",
       "119018               3               1     7577.0             20            Y   \n",
       "119019               2               2     7418.0             20            Y   \n",
       "\n",
       "       HEED_HOSP_YN  \n",
       "0                 N  \n",
       "1                 N  \n",
       "2                 N  \n",
       "3                 N  \n",
       "4                 N  \n",
       "...             ...  \n",
       "119015            N  \n",
       "119016            N  \n",
       "119017            N  \n",
       "119018            N  \n",
       "119019            N  \n",
       "\n",
       "[119020 rows x 11 columns]"
      ]
     },
     "execution_count": 8,
     "metadata": {},
     "output_type": "execute_result"
    }
   ],
   "source": [
    "df_claim"
   ]
  },
  {
   "cell_type": "code",
   "execution_count": 9,
   "id": "214a8744",
   "metadata": {},
   "outputs": [],
   "source": [
    "import pickle\n",
    "with open(\"df_cust.pickle\",\"rb\") as fr:\n",
    "    df_cust = pickle.load(fr)"
   ]
  },
  {
   "cell_type": "code",
   "execution_count": 10,
   "id": "91100cc1",
   "metadata": {},
   "outputs": [],
   "source": [
    "df_cust = df_cust.drop(['SEX', 'AGE', 'RESI_COST', 'RESI_TYPE_CODE',\n",
    "       'FP_CAREER', 'CUST_RGST', 'CTPR', 'OCCP_GRP_1', 'OCCP_GRP_2',\n",
    "       'TOTALPREM', 'MINCRDT', 'MAXCRDT', 'WEDD_YN', 'MATE_OCCP_GRP_1',\n",
    "       'MATE_OCCP_GRP_2', 'CHLD_CNT', 'CUST_INCM', 'RCBASE_HSHD_INCM',\n",
    "       'JPBASE_HSHD_INCM', 'year', 'month'], axis=1)"
   ]
  },
  {
   "cell_type": "code",
   "execution_count": 11,
   "id": "d950453c",
   "metadata": {
    "scrolled": false
   },
   "outputs": [],
   "source": [
    "df_claim = pd.merge(df_claim, df_cust, on = 'CUST_ID', how = 'inner')"
   ]
  },
  {
   "cell_type": "code",
   "execution_count": 12,
   "id": "d8d25701",
   "metadata": {},
   "outputs": [],
   "source": [
    "df_claim_yes = df_claim[df_claim['SIU_CUST_YN']=='Y']\n",
    "df_claim_no = df_claim[df_claim['SIU_CUST_YN']=='N']"
   ]
  },
  {
   "cell_type": "code",
   "execution_count": 13,
   "id": "1936deaf",
   "metadata": {},
   "outputs": [
    {
     "data": {
      "text/plain": [
       "{1, 2, 3}"
      ]
     },
     "execution_count": 13,
     "metadata": {},
     "output_type": "execute_result"
    }
   ],
   "source": [
    "set(df_claim['ACCI_DVSN'])"
   ]
  },
  {
   "cell_type": "code",
   "execution_count": 14,
   "id": "dcf42824",
   "metadata": {},
   "outputs": [
    {
     "data": {
      "text/plain": [
       "<AxesSubplot:xlabel='ACCI_DVSN', ylabel='count'>"
      ]
     },
     "execution_count": 14,
     "metadata": {},
     "output_type": "execute_result"
    },
    {
     "data": {
      "image/png": "[encoded data removed]",
      "text/plain": [
       "<Figure size 432x288 with 1 Axes>"
      ]
     },
     "metadata": {
      "needs_background": "light"
     },
     "output_type": "display_data"
    }
   ],
   "source": [
    "sns.countplot(x = 'ACCI_DVSN', data = df_claim)"
   ]
  },
  {
   "cell_type": "code",
   "execution_count": 15,
   "id": "b2333108",
   "metadata": {},
   "outputs": [
    {
     "data": {
      "text/plain": [
       "<AxesSubplot:xlabel='ACCI_DVSN', ylabel='count'>"
      ]
     },
     "execution_count": 15,
     "metadata": {},
     "output_type": "execute_result"
    },
    {
     "data": {
      "image/png": "[encoded data removed]",
      "text/plain": [
       "<Figure size 432x288 with 1 Axes>"
      ]
     },
     "metadata": {
      "needs_background": "light"
     },
     "output_type": "display_data"
    }
   ],
   "source": [
    "sns.countplot(x = 'ACCI_DVSN', data = df_claim_yes)"
   ]
  },
  {
   "cell_type": "code",
   "execution_count": 16,
   "id": "5b0ef56a",
   "metadata": {},
   "outputs": [
    {
     "data": {
      "text/plain": [
       "<AxesSubplot:xlabel='ACCI_DVSN', ylabel='count'>"
      ]
     },
     "execution_count": 16,
     "metadata": {},
     "output_type": "execute_result"
    },
    {
     "data": {
      "image/png": "[encoded data removed]",
      "text/plain": [
       "<Figure size 432x288 with 1 Axes>"
      ]
     },
     "metadata": {
      "needs_background": "light"
     },
     "output_type": "display_data"
    }
   ],
   "source": [
    "sns.countplot(x = 'ACCI_DVSN', data = df_claim_no)"
   ]
  },
  {
   "cell_type": "code",
   "execution_count": 17,
   "id": "ea7ceeb8",
   "metadata": {},
   "outputs": [
    {
     "data": {
      "text/plain": [
       "3    16172\n",
       "1     6168\n",
       "2     2224\n",
       "Name: ACCI_DVSN, dtype: int64"
      ]
     },
     "execution_count": 17,
     "metadata": {},
     "output_type": "execute_result"
    }
   ],
   "source": [
    "df_claim_yes['ACCI_DVSN'].value_counts(normalize=False)"
   ]
  },
  {
   "cell_type": "code",
   "execution_count": 18,
   "id": "2bb4d5e3",
   "metadata": {},
   "outputs": [
    {
     "data": {
      "text/plain": [
       "3    53517\n",
       "1    24840\n",
       "2     6852\n",
       "Name: ACCI_DVSN, dtype: int64"
      ]
     },
     "execution_count": 18,
     "metadata": {},
     "output_type": "execute_result"
    }
   ],
   "source": [
    "df_claim_no['ACCI_DVSN'].value_counts(normalize=False)"
   ]
  },
  {
   "cell_type": "code",
   "execution_count": 19,
   "id": "b6a73391",
   "metadata": {},
   "outputs": [
    {
     "data": {
      "text/plain": [
       "N    85209\n",
       "Y    24564\n",
       "Name: SIU_CUST_YN, dtype: int64"
      ]
     },
     "execution_count": 19,
     "metadata": {},
     "output_type": "execute_result"
    }
   ],
   "source": [
    "df_claim['SIU_CUST_YN'].value_counts()"
   ]
  },
  {
   "cell_type": "code",
   "execution_count": 20,
   "id": "a8d2dfc0",
   "metadata": {},
   "outputs": [
    {
     "name": "stdout",
     "output_type": "stream",
     "text": [
      "3.930965386110012e-18\n",
      "귀무가설을 기각합니다. 사고구분코드3과 보험 사기 여부 간에 유의한 관련성이 있습니다.\n"
     ]
    }
   ],
   "source": [
    "import numpy as np\n",
    "from scipy.stats import chi2_contingency\n",
    "\n",
    "# 주어진 데이터셋 (예시)\n",
    "data = np.array([[53517, 85209-53517], [16172, 24564-16172]])  # 사고3인 경우와 아닌 경우에 대한 교차표\n",
    "\n",
    "# 카이제곱 검정 수행\n",
    "chi2, p_value, _, _ = chi2_contingency(data)\n",
    "print(p_value)\n",
    "# 유의성 검정 결과 출력\n",
    "if p_value < 0.05:\n",
    "    print(\"귀무가설을 기각합니다. 사고구분코드3과 보험 사기 여부 간에 유의한 관련성이 있습니다.\")\n",
    "else:\n",
    "    print(\"귀무가설을 기각할 수 없습니다. 사고구분코드3과 보험 사기 여부 간에 유의한 관련성이 없습니다.\")\n"
   ]
  },
  {
   "cell_type": "code",
   "execution_count": 21,
   "id": "ee56976f",
   "metadata": {},
   "outputs": [
    {
     "data": {
      "text/plain": [
       "{1, 2, 3, 4, 5, 6, 7, 9}"
      ]
     },
     "execution_count": 21,
     "metadata": {},
     "output_type": "execute_result"
    }
   ],
   "source": [
    "set(df_claim['DMND_RESN_CODE'])"
   ]
  },
  {
   "cell_type": "code",
   "execution_count": 22,
   "id": "0c83f43b",
   "metadata": {},
   "outputs": [
    {
     "data": {
      "text/plain": [
       "<AxesSubplot:xlabel='DMND_RESN_CODE', ylabel='count'>"
      ]
     },
     "execution_count": 22,
     "metadata": {},
     "output_type": "execute_result"
    },
    {
     "data": {
      "image/png": "[encoded data removed]",
      "text/plain": [
       "<Figure size 432x288 with 1 Axes>"
      ]
     },
     "metadata": {
      "needs_background": "light"
     },
     "output_type": "display_data"
    }
   ],
   "source": [
    "sns.countplot(x = 'DMND_RESN_CODE', data = df_claim)"
   ]
  },
  {
   "cell_type": "code",
   "execution_count": 23,
   "id": "cbf2f498",
   "metadata": {},
   "outputs": [
    {
     "data": {
      "text/plain": [
       "<AxesSubplot:xlabel='DMND_RESN_CODE', ylabel='count'>"
      ]
     },
     "execution_count": 23,
     "metadata": {},
     "output_type": "execute_result"
    },
    {
     "data": {
      "image/png": "[encoded data removed]",
      "text/plain": [
       "<Figure size 432x288 with 1 Axes>"
      ]
     },
     "metadata": {
      "needs_background": "light"
     },
     "output_type": "display_data"
    }
   ],
   "source": [
    "sns.countplot(x = 'DMND_RESN_CODE', data = df_claim_yes)"
   ]
  },
  {
   "cell_type": "code",
   "execution_count": 24,
   "id": "038a9494",
   "metadata": {},
   "outputs": [
    {
     "data": {
      "text/plain": [
       "<AxesSubplot:xlabel='DMND_RESN_CODE', ylabel='count'>"
      ]
     },
     "execution_count": 24,
     "metadata": {},
     "output_type": "execute_result"
    },
    {
     "data": {
      "image/png": "[encoded data removed]",
      "text/plain": [
       "<Figure size 432x288 with 1 Axes>"
      ]
     },
     "metadata": {
      "needs_background": "light"
     },
     "output_type": "display_data"
    }
   ],
   "source": [
    "sns.countplot(x = 'DMND_RESN_CODE', data = df_claim_no)"
   ]
  },
  {
   "cell_type": "code",
   "execution_count": 25,
   "id": "aa4176e4",
   "metadata": {},
   "outputs": [
    {
     "data": {
      "text/plain": [
       "2    0.774792\n",
       "5    0.100472\n",
       "3    0.073359\n",
       "6    0.038308\n",
       "4    0.011440\n",
       "1    0.001466\n",
       "7    0.000163\n",
       "Name: DMND_RESN_CODE, dtype: float64"
      ]
     },
     "execution_count": 25,
     "metadata": {},
     "output_type": "execute_result"
    }
   ],
   "source": [
    "df_claim_yes['DMND_RESN_CODE'].value_counts(normalize=True)"
   ]
  },
  {
   "cell_type": "code",
   "execution_count": 26,
   "id": "38d83d34",
   "metadata": {},
   "outputs": [
    {
     "data": {
      "text/plain": [
       "2    0.448990\n",
       "3    0.241101\n",
       "5    0.194275\n",
       "6    0.101210\n",
       "4    0.006584\n",
       "1    0.006020\n",
       "7    0.001760\n",
       "9    0.000059\n",
       "Name: DMND_RESN_CODE, dtype: float64"
      ]
     },
     "execution_count": 26,
     "metadata": {},
     "output_type": "execute_result"
    }
   ],
   "source": [
    "df_claim_no['DMND_RESN_CODE'].value_counts(normalize=True)"
   ]
  },
  {
   "cell_type": "code",
   "execution_count": 27,
   "id": "ae394a79",
   "metadata": {},
   "outputs": [
    {
     "data": {
      "text/plain": [
       "{0,\n",
       " 1,\n",
       " 2,\n",
       " 3,\n",
       " 4,\n",
       " 5,\n",
       " 6,\n",
       " 7,\n",
       " 8,\n",
       " 9,\n",
       " 10,\n",
       " 11,\n",
       " 12,\n",
       " 13,\n",
       " 14,\n",
       " 15,\n",
       " 16,\n",
       " 17,\n",
       " 18,\n",
       " 19,\n",
       " 20,\n",
       " 21,\n",
       " 22,\n",
       " 23,\n",
       " 24,\n",
       " 25,\n",
       " 26,\n",
       " 27,\n",
       " 28,\n",
       " 29,\n",
       " 30,\n",
       " 31,\n",
       " 32,\n",
       " 33,\n",
       " 34,\n",
       " 35,\n",
       " 36,\n",
       " 37,\n",
       " 38,\n",
       " 39,\n",
       " 40,\n",
       " 41,\n",
       " 42,\n",
       " 43,\n",
       " 44,\n",
       " 45,\n",
       " 46,\n",
       " 47,\n",
       " 48,\n",
       " 49,\n",
       " 50,\n",
       " 51,\n",
       " 52,\n",
       " 53,\n",
       " 54,\n",
       " 55,\n",
       " 56,\n",
       " 57,\n",
       " 58,\n",
       " 59,\n",
       " 60,\n",
       " 61,\n",
       " 62,\n",
       " 63,\n",
       " 64,\n",
       " 65,\n",
       " 66,\n",
       " 67,\n",
       " 68,\n",
       " 69,\n",
       " 70,\n",
       " 71,\n",
       " 72,\n",
       " 73,\n",
       " 74,\n",
       " 75,\n",
       " 76,\n",
       " 77,\n",
       " 78,\n",
       " 79,\n",
       " 80,\n",
       " 81,\n",
       " 82,\n",
       " 83,\n",
       " 84,\n",
       " 85,\n",
       " 86,\n",
       " 87,\n",
       " 88,\n",
       " 89,\n",
       " 90,\n",
       " 91,\n",
       " 92,\n",
       " 93,\n",
       " 94,\n",
       " 95,\n",
       " 96,\n",
       " 97,\n",
       " 98,\n",
       " 99,\n",
       " 100,\n",
       " 101,\n",
       " 102,\n",
       " 103,\n",
       " 104,\n",
       " 105,\n",
       " 106,\n",
       " 107,\n",
       " 108,\n",
       " 109,\n",
       " 110,\n",
       " 111,\n",
       " 112,\n",
       " 113,\n",
       " 114,\n",
       " 115,\n",
       " 116,\n",
       " 118,\n",
       " 119,\n",
       " 120,\n",
       " 121,\n",
       " 122,\n",
       " 123,\n",
       " 124,\n",
       " 125,\n",
       " 126,\n",
       " 127,\n",
       " 128,\n",
       " 129,\n",
       " 130,\n",
       " 131,\n",
       " 132,\n",
       " 133,\n",
       " 134,\n",
       " 135,\n",
       " 136,\n",
       " 137,\n",
       " 138,\n",
       " 139,\n",
       " 140,\n",
       " 141,\n",
       " 142,\n",
       " 143,\n",
       " 144,\n",
       " 145,\n",
       " 146,\n",
       " 149,\n",
       " 150,\n",
       " 152,\n",
       " 154,\n",
       " 155,\n",
       " 156,\n",
       " 157,\n",
       " 162,\n",
       " 163,\n",
       " 165,\n",
       " 166,\n",
       " 168,\n",
       " 169,\n",
       " 170,\n",
       " 171,\n",
       " 172,\n",
       " 173,\n",
       " 174,\n",
       " 175,\n",
       " 177,\n",
       " 182,\n",
       " 183,\n",
       " 186,\n",
       " 190,\n",
       " 195,\n",
       " 205,\n",
       " 208,\n",
       " 212,\n",
       " 216,\n",
       " 228,\n",
       " 235,\n",
       " 237,\n",
       " 267,\n",
       " 274,\n",
       " 307,\n",
       " 308,\n",
       " 373,\n",
       " 578}"
      ]
     },
     "execution_count": 27,
     "metadata": {},
     "output_type": "execute_result"
    }
   ],
   "source": [
    "set(df_claim['VLID_HOSP_OTDA'])"
   ]
  },
  {
   "cell_type": "code",
   "execution_count": 87,
   "id": "1a2fa598",
   "metadata": {},
   "outputs": [
    {
     "data": {
      "text/plain": [
       "<AxesSubplot:xlabel='VLID_HOSP_OTDA', ylabel='Density'>"
      ]
     },
     "execution_count": 87,
     "metadata": {},
     "output_type": "execute_result"
    },
    {
     "data": {
      "image/png": "[encoded data removed]",
      "text/plain": [
       "<Figure size 432x288 with 1 Axes>"
      ]
     },
     "metadata": {
      "needs_background": "light"
     },
     "output_type": "display_data"
    }
   ],
   "source": [
    "sns.kdeplot(x = 'VLID_HOSP_OTDA', data = df_claim)"
   ]
  },
  {
   "cell_type": "code",
   "execution_count": 90,
   "id": "1c7c4b0a",
   "metadata": {},
   "outputs": [
    {
     "data": {
      "text/plain": [
       "<AxesSubplot:xlabel='VLID_HOSP_OTDA', ylabel='Density'>"
      ]
     },
     "execution_count": 90,
     "metadata": {},
     "output_type": "execute_result"
    },
    {
     "data": {
      "image/png": "[encoded data removed]",
      "text/plain": [
       "<Figure size 432x288 with 1 Axes>"
      ]
     },
     "metadata": {
      "needs_background": "light"
     },
     "output_type": "display_data"
    }
   ],
   "source": [
    "sns.kdeplot(x = 'VLID_HOSP_OTDA', data = df_claim_yes)\n",
    "sns.kdeplot(x = 'VLID_HOSP_OTDA', data = df_claim_no)"
   ]
  },
  {
   "cell_type": "code",
   "execution_count": 29,
   "id": "aa36e1fa",
   "metadata": {},
   "outputs": [
    {
     "data": {
      "text/plain": [
       "14.94418661455789"
      ]
     },
     "execution_count": 29,
     "metadata": {},
     "output_type": "execute_result"
    }
   ],
   "source": [
    "np.mean(df_claim_yes['VLID_HOSP_OTDA'])"
   ]
  },
  {
   "cell_type": "code",
   "execution_count": 30,
   "id": "fe525f3e",
   "metadata": {},
   "outputs": [
    {
     "data": {
      "text/plain": [
       "6.925923317959371"
      ]
     },
     "execution_count": 30,
     "metadata": {},
     "output_type": "execute_result"
    }
   ],
   "source": [
    "np.mean(df_claim_no['VLID_HOSP_OTDA'])"
   ]
  },
  {
   "cell_type": "code",
   "execution_count": 31,
   "id": "8ab72a03",
   "metadata": {},
   "outputs": [
    {
     "data": {
      "text/plain": [
       "578"
      ]
     },
     "execution_count": 31,
     "metadata": {},
     "output_type": "execute_result"
    }
   ],
   "source": [
    "np.max(df_claim_no['VLID_HOSP_OTDA'])"
   ]
  },
  {
   "cell_type": "code",
   "execution_count": 32,
   "id": "276ec5db",
   "metadata": {},
   "outputs": [
    {
     "name": "stdout",
     "output_type": "stream",
     "text": [
      "0.0\n",
      "87.18094380894827\n",
      "귀무가설을 기각합니다. 사기를 치는 집단의 입원기간과 안 치는 집단의 입원기간의 차이는 유의미합니다.\n"
     ]
    }
   ],
   "source": [
    "import numpy as np\n",
    "from scipy.stats import ttest_ind\n",
    "\n",
    "# 데이터 (예시)\n",
    "group1_income = df_claim_yes['VLID_HOSP_OTDA']  # 사기를 치는 경우의 입원기간\n",
    "group2_income = df_claim_no['VLID_HOSP_OTDA']  # 안 치는 경우의 입원기간\n",
    "\n",
    "# 독립표본 t-test 수행\n",
    "t_statistic, p_value = ttest_ind(group1_income, group2_income)\n",
    "print(p_value)\n",
    "print(t_statistic)\n",
    "# 유의성 검정 결과 출력\n",
    "if p_value < 0.05:\n",
    "    print(\"귀무가설을 기각합니다. 사기를 치는 집단의 입원기간과 안 치는 집단의 입원기간의 차이는 유의미합니다.\")\n",
    "else:\n",
    "    print(\"귀무가설을 기각할 수 없습니다. 사기를 치는 집단의 입원기간과 안 치는 집단의 입원기간의 차이는 유의미하지 않습니다.\")"
   ]
  },
  {
   "cell_type": "code",
   "execution_count": 33,
   "id": "9171c74e",
   "metadata": {},
   "outputs": [
    {
     "data": {
      "text/plain": [
       "{'10', '20', '25', '30', '40', '45', '60', '70', '80', '85', '90', '95', nan}"
      ]
     },
     "execution_count": 33,
     "metadata": {},
     "output_type": "execute_result"
    }
   ],
   "source": [
    "set(df_claim['HOSP_SPEC_DVSN'])"
   ]
  },
  {
   "cell_type": "code",
   "execution_count": 34,
   "id": "accfaae6",
   "metadata": {},
   "outputs": [
    {
     "data": {
      "text/plain": [
       "<AxesSubplot:xlabel='HOSP_SPEC_DVSN', ylabel='count'>"
      ]
     },
     "execution_count": 34,
     "metadata": {},
     "output_type": "execute_result"
    },
    {
     "data": {
      "image/png": "[encoded data removed]",
      "text/plain": [
       "<Figure size 432x288 with 1 Axes>"
      ]
     },
     "metadata": {
      "needs_background": "light"
     },
     "output_type": "display_data"
    }
   ],
   "source": [
    "sns.countplot(x = 'HOSP_SPEC_DVSN', data = df_claim)"
   ]
  },
  {
   "cell_type": "code",
   "execution_count": 35,
   "id": "c672f0ee",
   "metadata": {},
   "outputs": [
    {
     "data": {
      "text/plain": [
       "<AxesSubplot:xlabel='HOSP_SPEC_DVSN', ylabel='count'>"
      ]
     },
     "execution_count": 35,
     "metadata": {},
     "output_type": "execute_result"
    },
    {
     "data": {
      "image/png": "[encoded data removed]",
      "text/plain": [
       "<Figure size 432x288 with 1 Axes>"
      ]
     },
     "metadata": {
      "needs_background": "light"
     },
     "output_type": "display_data"
    }
   ],
   "source": [
    "sns.countplot(x = 'HOSP_SPEC_DVSN', data = df_claim_yes)"
   ]
  },
  {
   "cell_type": "code",
   "execution_count": 36,
   "id": "fc7fb793",
   "metadata": {},
   "outputs": [
    {
     "data": {
      "text/plain": [
       "<AxesSubplot:xlabel='HOSP_SPEC_DVSN', ylabel='count'>"
      ]
     },
     "execution_count": 36,
     "metadata": {},
     "output_type": "execute_result"
    },
    {
     "data": {
      "image/png": "[encoded data removed]",
      "text/plain": [
       "<Figure size 432x288 with 1 Axes>"
      ]
     },
     "metadata": {
      "needs_background": "light"
     },
     "output_type": "display_data"
    }
   ],
   "source": [
    "sns.countplot(x = 'HOSP_SPEC_DVSN', data = df_claim_no)"
   ]
  },
  {
   "cell_type": "code",
   "execution_count": 37,
   "id": "4c10c165",
   "metadata": {},
   "outputs": [
    {
     "data": {
      "text/plain": [
       "10    0.175522\n",
       "20    0.255161\n",
       "25    0.024307\n",
       "30    0.289158\n",
       "40    0.000651\n",
       "45    0.007736\n",
       "60    0.000285\n",
       "70    0.000285\n",
       "80    0.085420\n",
       "85    0.017792\n",
       "90    0.000285\n",
       "95    0.143398\n",
       "Name: HOSP_SPEC_DVSN, dtype: float64"
      ]
     },
     "execution_count": 37,
     "metadata": {},
     "output_type": "execute_result"
    }
   ],
   "source": [
    "df_claim_yes['HOSP_SPEC_DVSN'].value_counts(normalize=True).sort_index()"
   ]
  },
  {
   "cell_type": "code",
   "execution_count": 38,
   "id": "ea50367b",
   "metadata": {},
   "outputs": [
    {
     "data": {
      "text/plain": [
       "10    0.377956\n",
       "20    0.237832\n",
       "25    0.006878\n",
       "30    0.267690\n",
       "40    0.002829\n",
       "45    0.016736\n",
       "60    0.000469\n",
       "70    0.000610\n",
       "80    0.014870\n",
       "85    0.006467\n",
       "90    0.000669\n",
       "95    0.066993\n",
       "Name: HOSP_SPEC_DVSN, dtype: float64"
      ]
     },
     "execution_count": 38,
     "metadata": {},
     "output_type": "execute_result"
    }
   ],
   "source": [
    "df_claim_no['HOSP_SPEC_DVSN'].value_counts(normalize=True).sort_index()\n",
    "#25(요양병원), 80(한방병원), 85(한의원), 95(의료기관이외)에서 확연한 차이를 보임."
   ]
  },
  {
   "cell_type": "code",
   "execution_count": 39,
   "id": "1e90cc84",
   "metadata": {},
   "outputs": [
    {
     "data": {
      "text/plain": [
       "{'N', 'Y'}"
      ]
     },
     "execution_count": 39,
     "metadata": {},
     "output_type": "execute_result"
    }
   ],
   "source": [
    "set(df_claim['PMMI_DLNG_YN'])"
   ]
  },
  {
   "cell_type": "code",
   "execution_count": 40,
   "id": "c5f2ae0d",
   "metadata": {},
   "outputs": [
    {
     "data": {
      "text/plain": [
       "<AxesSubplot:xlabel='PMMI_DLNG_YN', ylabel='count'>"
      ]
     },
     "execution_count": 40,
     "metadata": {},
     "output_type": "execute_result"
    },
    {
     "data": {
      "image/png": "[encoded data removed]",
      "text/plain": [
       "<Figure size 432x288 with 1 Axes>"
      ]
     },
     "metadata": {
      "needs_background": "light"
     },
     "output_type": "display_data"
    }
   ],
   "source": [
    "sns.countplot(x = 'PMMI_DLNG_YN', data = df_claim)"
   ]
  },
  {
   "cell_type": "code",
   "execution_count": 41,
   "id": "6af09edb",
   "metadata": {},
   "outputs": [
    {
     "data": {
      "text/plain": [
       "<AxesSubplot:xlabel='PMMI_DLNG_YN', ylabel='count'>"
      ]
     },
     "execution_count": 41,
     "metadata": {},
     "output_type": "execute_result"
    },
    {
     "data": {
      "image/png": "[encoded data removed]",
      "text/plain": [
       "<Figure size 432x288 with 1 Axes>"
      ]
     },
     "metadata": {
      "needs_background": "light"
     },
     "output_type": "display_data"
    }
   ],
   "source": [
    "sns.countplot(x = 'PMMI_DLNG_YN', data = df_claim_yes)"
   ]
  },
  {
   "cell_type": "code",
   "execution_count": 42,
   "id": "b4bb09d3",
   "metadata": {},
   "outputs": [
    {
     "data": {
      "text/plain": [
       "<AxesSubplot:xlabel='PMMI_DLNG_YN', ylabel='count'>"
      ]
     },
     "execution_count": 42,
     "metadata": {},
     "output_type": "execute_result"
    },
    {
     "data": {
      "image/png": "[encoded data removed]",
      "text/plain": [
       "<Figure size 432x288 with 1 Axes>"
      ]
     },
     "metadata": {
      "needs_background": "light"
     },
     "output_type": "display_data"
    }
   ],
   "source": [
    "sns.countplot(x = 'PMMI_DLNG_YN', data = df_claim_no)"
   ]
  },
  {
   "cell_type": "code",
   "execution_count": 44,
   "id": "32e3b0cd",
   "metadata": {},
   "outputs": [
    {
     "data": {
      "text/plain": [
       "{'N', 'Y'}"
      ]
     },
     "execution_count": 44,
     "metadata": {},
     "output_type": "execute_result"
    }
   ],
   "source": [
    "set(df_claim['HEED_HOSP_YN'])"
   ]
  },
  {
   "cell_type": "code",
   "execution_count": 45,
   "id": "127b5153",
   "metadata": {},
   "outputs": [
    {
     "data": {
      "text/plain": [
       "<AxesSubplot:xlabel='HEED_HOSP_YN', ylabel='count'>"
      ]
     },
     "execution_count": 45,
     "metadata": {},
     "output_type": "execute_result"
    },
    {
     "data": {
      "image/png": "[encoded data removed]",
      "text/plain": [
       "<Figure size 432x288 with 1 Axes>"
      ]
     },
     "metadata": {
      "needs_background": "light"
     },
     "output_type": "display_data"
    }
   ],
   "source": [
    "sns.countplot(x = 'HEED_HOSP_YN', data = df_claim)"
   ]
  },
  {
   "cell_type": "code",
   "execution_count": 46,
   "id": "aaa471df",
   "metadata": {},
   "outputs": [
    {
     "data": {
      "text/plain": [
       "<AxesSubplot:xlabel='HEED_HOSP_YN', ylabel='count'>"
      ]
     },
     "execution_count": 46,
     "metadata": {},
     "output_type": "execute_result"
    },
    {
     "data": {
      "image/png": "[encoded data removed]",
      "text/plain": [
       "<Figure size 432x288 with 1 Axes>"
      ]
     },
     "metadata": {
      "needs_background": "light"
     },
     "output_type": "display_data"
    }
   ],
   "source": [
    "sns.countplot(x = 'HEED_HOSP_YN', data = df_claim_yes)"
   ]
  },
  {
   "cell_type": "code",
   "execution_count": 47,
   "id": "81d7b46d",
   "metadata": {},
   "outputs": [
    {
     "data": {
      "text/plain": [
       "<AxesSubplot:xlabel='HEED_HOSP_YN', ylabel='count'>"
      ]
     },
     "execution_count": 47,
     "metadata": {},
     "output_type": "execute_result"
    },
    {
     "data": {
      "image/png": "[encoded data removed]",
      "text/plain": [
       "<Figure size 432x288 with 1 Axes>"
      ]
     },
     "metadata": {
      "needs_background": "light"
     },
     "output_type": "display_data"
    }
   ],
   "source": [
    "sns.countplot(x = 'HEED_HOSP_YN', data = df_claim_no)"
   ]
  },
  {
   "cell_type": "code",
   "execution_count": 48,
   "id": "0f81aa45",
   "metadata": {},
   "outputs": [
    {
     "data": {
      "text/plain": [
       "N    0.963646\n",
       "Y    0.036354\n",
       "Name: HEED_HOSP_YN, dtype: float64"
      ]
     },
     "execution_count": 48,
     "metadata": {},
     "output_type": "execute_result"
    }
   ],
   "source": [
    "df_claim_yes['HEED_HOSP_YN'].value_counts(normalize = True)"
   ]
  },
  {
   "cell_type": "code",
   "execution_count": 49,
   "id": "5ff5cd92",
   "metadata": {},
   "outputs": [
    {
     "data": {
      "text/plain": [
       "N    0.97519\n",
       "Y    0.02481\n",
       "Name: HEED_HOSP_YN, dtype: float64"
      ]
     },
     "execution_count": 49,
     "metadata": {},
     "output_type": "execute_result"
    }
   ],
   "source": [
    "df_claim_no['HEED_HOSP_YN'].value_counts(normalize = True)"
   ]
  },
  {
   "cell_type": "code",
   "execution_count": 50,
   "id": "8565520d",
   "metadata": {},
   "outputs": [
    {
     "name": "stdout",
     "output_type": "stream",
     "text": [
      "1.9550669516383214e-22\n",
      "귀무가설을 기각합니다. 유의병원과 보험 사기 여부 간에 유의한 관련성이 있습니다.\n"
     ]
    }
   ],
   "source": [
    "import numpy as np\n",
    "from scipy.stats import chi2_contingency\n",
    "\n",
    "# 주어진 데이터셋 (예시)\n",
    "data = np.array([[2114, 83095], [893, 23671]])  # 유의병원 경우와 아닌 경우에 대한 교차표\n",
    "\n",
    "# 카이제곱 검정 수행\n",
    "chi2, p_value, _, _ = chi2_contingency(data)\n",
    "print(p_value)\n",
    "# 유의성 검정 결과 출력\n",
    "if p_value < 0.05:\n",
    "    print(\"귀무가설을 기각합니다. 유의병원과 보험 사기 여부 간에 유의한 관련성이 있습니다.\")\n",
    "else:\n",
    "    print(\"귀무가설을 기각할 수 없습니다. 유의병원과 보험 사기 여부 간에 유의한 관련성이 없습니다.\")\n"
   ]
  },
  {
   "cell_type": "code",
   "execution_count": 54,
   "id": "f7ffa9d0",
   "metadata": {},
   "outputs": [],
   "source": [
    "df_claim['RECP_DATE'] = df_claim['RECP_DATE'].astype(str)"
   ]
  },
  {
   "cell_type": "code",
   "execution_count": 55,
   "id": "a37f6d24",
   "metadata": {},
   "outputs": [
    {
     "data": {
      "text/plain": [
       "0         20060112\n",
       "1         20060112\n",
       "2         20060112\n",
       "3         20070824\n",
       "4         20070824\n",
       "            ...   \n",
       "109768    20160621\n",
       "109769    20160621\n",
       "109770    20160621\n",
       "109771    20160621\n",
       "109772    20160621\n",
       "Name: RECP_DATE, Length: 109773, dtype: object"
      ]
     },
     "execution_count": 55,
     "metadata": {},
     "output_type": "execute_result"
    }
   ],
   "source": [
    "df_claim['RECP_DATE']"
   ]
  },
  {
   "cell_type": "code",
   "execution_count": 57,
   "id": "b32ccfea",
   "metadata": {},
   "outputs": [
    {
     "data": {
      "text/plain": [
       "'2006'"
      ]
     },
     "execution_count": 57,
     "metadata": {},
     "output_type": "execute_result"
    }
   ],
   "source": [
    "df_claim['RECP_DATE'][0][0:4]"
   ]
  },
  {
   "cell_type": "code",
   "execution_count": 58,
   "id": "45d5d727",
   "metadata": {},
   "outputs": [],
   "source": [
    "df_claim['year'] = df_claim['RECP_DATE'].apply(lambda x : x[0:4])"
   ]
  },
  {
   "cell_type": "code",
   "execution_count": 61,
   "id": "d01867f0",
   "metadata": {},
   "outputs": [
    {
     "data": {
      "text/plain": [
       "array(['2006', '2007', '2009', '2012', '2013', '2015', '2008', '2011',\n",
       "       '2010', '2014', '2016'], dtype=object)"
      ]
     },
     "execution_count": 61,
     "metadata": {},
     "output_type": "execute_result"
    }
   ],
   "source": [
    "df_claim['year'].unique()"
   ]
  },
  {
   "cell_type": "code",
   "execution_count": 62,
   "id": "9ac8f470",
   "metadata": {},
   "outputs": [],
   "source": [
    "df_claim_yes = df_claim[df_claim['SIU_CUST_YN']=='Y']\n",
    "df_claim_no = df_claim[df_claim['SIU_CUST_YN']=='N']"
   ]
  },
  {
   "cell_type": "code",
   "execution_count": 72,
   "id": "57c78b95",
   "metadata": {},
   "outputs": [
    {
     "data": {
      "text/plain": [
       "<AxesSubplot:xlabel='year', ylabel='count'>"
      ]
     },
     "execution_count": 72,
     "metadata": {},
     "output_type": "execute_result"
    },
    {
     "data": {
      "image/png": "[encoded data removed]",
      "text/plain": [
       "<Figure size 432x288 with 1 Axes>"
      ]
     },
     "metadata": {
      "needs_background": "light"
     },
     "output_type": "display_data"
    }
   ],
   "source": [
    "sns.countplot(x = 'year', data = df_claim, order = df_claim['year'].value_counts().index)"
   ]
  },
  {
   "cell_type": "code",
   "execution_count": 73,
   "id": "5d4e001b",
   "metadata": {},
   "outputs": [
    {
     "data": {
      "text/plain": [
       "<AxesSubplot:xlabel='year', ylabel='count'>"
      ]
     },
     "execution_count": 73,
     "metadata": {},
     "output_type": "execute_result"
    },
    {
     "data": {
      "image/png": "[encoded data removed]",
      "text/plain": [
       "<Figure size 432x288 with 1 Axes>"
      ]
     },
     "metadata": {
      "needs_background": "light"
     },
     "output_type": "display_data"
    }
   ],
   "source": [
    "sns.countplot(x = 'year', data = df_claim_yes, order = df_claim_yes['year'].value_counts().index)"
   ]
  },
  {
   "cell_type": "code",
   "execution_count": 74,
   "id": "e455253d",
   "metadata": {},
   "outputs": [
    {
     "data": {
      "text/plain": [
       "<AxesSubplot:xlabel='year', ylabel='count'>"
      ]
     },
     "execution_count": 74,
     "metadata": {},
     "output_type": "execute_result"
    },
    {
     "data": {
      "image/png": "[encoded data removed]",
      "text/plain": [
       "<Figure size 432x288 with 1 Axes>"
      ]
     },
     "metadata": {
      "needs_background": "light"
     },
     "output_type": "display_data"
    }
   ],
   "source": [
    "sns.countplot(x = 'year', data = df_claim_no, order = df_claim_no['year'].value_counts().index)"
   ]
  },
  {
   "cell_type": "code",
   "execution_count": 83,
   "id": "8f95aa6f",
   "metadata": {},
   "outputs": [
    {
     "data": {
      "text/plain": [
       "2006    0.035458\n",
       "2007    0.059029\n",
       "2008    0.086020\n",
       "2009    0.120379\n",
       "2010    0.148917\n",
       "2011    0.138210\n",
       "2012    0.128114\n",
       "2013    0.116349\n",
       "2014    0.084514\n",
       "2015    0.056994\n",
       "2016    0.026014\n",
       "Name: year, dtype: float64"
      ]
     },
     "execution_count": 83,
     "metadata": {},
     "output_type": "execute_result"
    }
   ],
   "source": [
    "yes = df_claim_yes['year'].value_counts(normalize = True).sort_index()\n",
    "yes"
   ]
  },
  {
   "cell_type": "code",
   "execution_count": 84,
   "id": "a23bdea5",
   "metadata": {},
   "outputs": [
    {
     "data": {
      "text/plain": [
       "2006    0.031710\n",
       "2007    0.065944\n",
       "2008    0.070239\n",
       "2009    0.077973\n",
       "2010    0.087526\n",
       "2011    0.088242\n",
       "2012    0.108451\n",
       "2013    0.118943\n",
       "2014    0.135232\n",
       "2015    0.139351\n",
       "2016    0.076389\n",
       "Name: year, dtype: float64"
      ]
     },
     "execution_count": 84,
     "metadata": {},
     "output_type": "execute_result"
    }
   ],
   "source": [
    "no = df_claim_no['year'].value_counts(normalize = True).sort_index()\n",
    "no"
   ]
  },
  {
   "cell_type": "code",
   "execution_count": 81,
   "id": "d0649109",
   "metadata": {},
   "outputs": [
    {
     "name": "stdout",
     "output_type": "stream",
     "text": [
      "귀무가설을 기각합니다. 지역과 보험 사기 여부 간에 유의한 관련성이 있습니다.\n",
      "귀무가설을 기각합니다. 지역과 보험 사기 여부 간에 유의한 관련성이 있습니다.\n",
      "귀무가설을 기각합니다. 지역과 보험 사기 여부 간에 유의한 관련성이 있습니다.\n",
      "귀무가설을 기각합니다. 지역과 보험 사기 여부 간에 유의한 관련성이 있습니다.\n",
      "귀무가설을 기각합니다. 지역과 보험 사기 여부 간에 유의한 관련성이 있습니다.\n",
      "귀무가설을 기각합니다. 지역과 보험 사기 여부 간에 유의한 관련성이 있습니다.\n",
      "귀무가설을 기각합니다. 지역과 보험 사기 여부 간에 유의한 관련성이 있습니다.\n",
      "귀무가설을 기각할 수 없습니다. 지역과 보험 사기 여부 간에 유의한 관련성이 없습니다.\n",
      "귀무가설을 기각합니다. 지역과 보험 사기 여부 간에 유의한 관련성이 있습니다.\n",
      "귀무가설을 기각합니다. 지역과 보험 사기 여부 간에 유의한 관련성이 있습니다.\n"
     ]
    }
   ],
   "source": [
    "import numpy as np\n",
    "from scipy.stats import chi2_contingency\n",
    "\n",
    "for i in range(10):\n",
    "    a = yes[i]\n",
    "    b = 24564 - yes[i]\n",
    "    c = no[i]\n",
    "    d = 85209- no[i]\n",
    "\n",
    "    data = np.array([[a, b], [c, d]])  # 각 연도인 경우와 아닌 경우에 대한 교차표\n",
    "    chi2, p_value, _, _ = chi2_contingency(data)\n",
    "    if p_value < 0.05:\n",
    "        print(\"귀무가설을 기각합니다. 연도와 보험 사기 여부 간에 유의한 관련성이 있습니다.\")\n",
    "    else:\n",
    "        print(\"귀무가설을 기각할 수 없습니다. 연도와 보험 사기 여부 간에 유의한 관련성이 없습니다.\")"
   ]
  },
  {
   "cell_type": "code",
   "execution_count": 91,
   "id": "bd28b425",
   "metadata": {},
   "outputs": [],
   "source": [
    "from pandasql import sqldf\n",
    "dfsql = lambda q: sqldf(q, globals())"
   ]
  },
  {
   "cell_type": "code",
   "execution_count": 93,
   "id": "4c0ebf67",
   "metadata": {},
   "outputs": [
    {
     "data": {
      "text/html": [
       "<div>\n",
       "<style scoped>\n",
       "    .dataframe tbody tr th:only-of-type {\n",
       "        vertical-align: middle;\n",
       "    }\n",
       "\n",
       "    .dataframe tbody tr th {\n",
       "        vertical-align: top;\n",
       "    }\n",
       "\n",
       "    .dataframe thead th {\n",
       "        text-align: right;\n",
       "    }\n",
       "</style>\n",
       "<table border=\"1\" class=\"dataframe\">\n",
       "  <thead>\n",
       "    <tr style=\"text-align: right;\">\n",
       "      <th></th>\n",
       "      <th>CUST_ID</th>\n",
       "      <th>count(CUST_ID)</th>\n",
       "      <th>SIU_CUST_YN</th>\n",
       "    </tr>\n",
       "  </thead>\n",
       "  <tbody>\n",
       "    <tr>\n",
       "      <th>0</th>\n",
       "      <td>1</td>\n",
       "      <td>4</td>\n",
       "      <td>N</td>\n",
       "    </tr>\n",
       "    <tr>\n",
       "      <th>1</th>\n",
       "      <td>2</td>\n",
       "      <td>3</td>\n",
       "      <td>N</td>\n",
       "    </tr>\n",
       "    <tr>\n",
       "      <th>2</th>\n",
       "      <td>3</td>\n",
       "      <td>1</td>\n",
       "      <td>N</td>\n",
       "    </tr>\n",
       "    <tr>\n",
       "      <th>3</th>\n",
       "      <td>4</td>\n",
       "      <td>9</td>\n",
       "      <td>N</td>\n",
       "    </tr>\n",
       "    <tr>\n",
       "      <th>4</th>\n",
       "      <td>5</td>\n",
       "      <td>1</td>\n",
       "      <td>N</td>\n",
       "    </tr>\n",
       "    <tr>\n",
       "      <th>...</th>\n",
       "      <td>...</td>\n",
       "      <td>...</td>\n",
       "      <td>...</td>\n",
       "    </tr>\n",
       "    <tr>\n",
       "      <th>20602</th>\n",
       "      <td>22396</td>\n",
       "      <td>3</td>\n",
       "      <td>N</td>\n",
       "    </tr>\n",
       "    <tr>\n",
       "      <th>20603</th>\n",
       "      <td>22397</td>\n",
       "      <td>1</td>\n",
       "      <td>N</td>\n",
       "    </tr>\n",
       "    <tr>\n",
       "      <th>20604</th>\n",
       "      <td>22398</td>\n",
       "      <td>2</td>\n",
       "      <td>N</td>\n",
       "    </tr>\n",
       "    <tr>\n",
       "      <th>20605</th>\n",
       "      <td>22399</td>\n",
       "      <td>1</td>\n",
       "      <td>N</td>\n",
       "    </tr>\n",
       "    <tr>\n",
       "      <th>20606</th>\n",
       "      <td>22400</td>\n",
       "      <td>1</td>\n",
       "      <td>N</td>\n",
       "    </tr>\n",
       "  </tbody>\n",
       "</table>\n",
       "<p>20607 rows × 3 columns</p>\n",
       "</div>"
      ],
      "text/plain": [
       "       CUST_ID  count(CUST_ID) SIU_CUST_YN\n",
       "0            1               4           N\n",
       "1            2               3           N\n",
       "2            3               1           N\n",
       "3            4               9           N\n",
       "4            5               1           N\n",
       "...        ...             ...         ...\n",
       "20602    22396               3           N\n",
       "20603    22397               1           N\n",
       "20604    22398               2           N\n",
       "20605    22399               1           N\n",
       "20606    22400               1           N\n",
       "\n",
       "[20607 rows x 3 columns]"
      ]
     },
     "execution_count": 93,
     "metadata": {},
     "output_type": "execute_result"
    }
   ],
   "source": [
    "claim_cnt = dfsql('''select CUST_ID, count(CUST_ID), SIU_CUST_YN from df_claim group by CUST_ID''')\n",
    "claim_cnt"
   ]
  },
  {
   "cell_type": "code",
   "execution_count": 94,
   "id": "705854dd",
   "metadata": {},
   "outputs": [],
   "source": [
    "import pickle\n",
    "with open(\"claim_cnt.pickle\",\"wb\") as fw:\n",
    "    pickle.dump(claim_cnt, fw)"
   ]
  },
  {
   "cell_type": "code",
   "execution_count": null,
   "id": "b8a9e537",
   "metadata": {},
   "outputs": [],
   "source": []
  }
 ],
 "metadata": {
  "kernelspec": {
   "display_name": "Python 3 (ipykernel)",
   "language": "python",
   "name": "python3"
  },
  "language_info": {
   "codemirror_mode": {
    "name": "ipython",
    "version": 3
   },
   "file_extension": ".py",
   "mimetype": "text/x-python",
   "name": "python",
   "nbconvert_exporter": "python",
   "pygments_lexer": "ipython3",
   "version": "3.9.7"
  }
 },
 "nbformat": 4,
 "nbformat_minor": 5
}
