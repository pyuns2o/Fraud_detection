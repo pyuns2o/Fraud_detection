{
 "cells": [
  {
   "cell_type": "code",
   "execution_count": 68,
   "metadata": {
    "colab": {
     "base_uri": "https://localhost:8080/"
    },
    "executionInfo": {
     "elapsed": 1871,
     "status": "ok",
     "timestamp": 1684835325729,
     "user": {
      "displayName": "Swan Kim",
      "userId": "01255046753553274360"
     },
     "user_tz": -540
    },
    "id": "rzwIDejaNBTI",
    "outputId": "d5e3273a-a095-43a1-d619-aad2b3c11fd8"
   },
   "outputs": [
    {
     "name": "stdout",
     "output_type": "stream",
     "text": [
      "Package                            Version\n",
      "---------------------------------- --------------------\n",
      "abagen                             0.1.3\n",
      "aiohttp                            3.8.3\n",
      "aiosignal                          1.2.0\n",
      "alabaster                          0.7.12\n",
      "anaconda-client                    1.9.0\n",
      "anaconda-navigator                 2.1.1\n",
      "anaconda-project                   0.10.1\n",
      "anyio                              2.2.0\n",
      "appdirs                            1.4.4\n",
      "argh                               0.26.2\n",
      "argon2-cffi                        20.1.0\n",
      "arrow                              0.13.1\n",
      "asn1crypto                         1.4.0\n",
      "astor                              0.8.1\n",
      "astroid                            2.6.6\n",
      "astropy                            4.3.1\n",
      "async-generator                    1.10\n",
      "async-timeout                      4.0.2\n",
      "atomicwrites                       1.4.0\n",
      "attrs                              21.2.0\n",
      "autopep8                           1.5.7\n",
      "Babel                              2.9.1\n",
      "backcall                           0.2.0\n",
      "backports.functools-lru-cache      1.6.4\n",
      "backports.shutil-get-terminal-size 1.0.0\n",
      "backports.tempfile                 1.0\n",
      "backports.weakref                  1.0.post1\n",
      "bcrypt                             3.2.0\n",
      "bctpy                              0.6.0\n",
      "beautifulsoup4                     4.10.0\n",
      "bids-validator                     1.9.9\n",
      "binaryornot                        0.4.4\n",
      "biopython                          1.80\n",
      "bitarray                           2.3.0\n",
      "bkcharts                           0.2\n",
      "black                              19.10b0\n",
      "bleach                             4.0.0\n",
      "bokeh                              2.4.1\n",
      "boto                               2.49.0\n",
      "Bottleneck                         1.3.2\n",
      "brainspace                         0.1.4\n",
      "brainstat                          0.4.2\n",
      "branca                             0.6.0\n",
      "brotlipy                           0.7.0\n",
      "cached-property                    1.5.2\n",
      "certifi                            2021.10.8\n",
      "cffi                               1.14.6\n",
      "chardet                            4.0.0\n",
      "charset-normalizer                 2.0.4\n",
      "click                              8.0.3\n",
      "cloudpickle                        2.0.0\n",
      "clyent                             1.2.2\n",
      "cognitiveatlas                     0.1.9\n",
      "colorama                           0.4.4\n",
      "comtypes                           1.1.10\n",
      "conda                              4.13.0\n",
      "conda-build                        3.21.6\n",
      "conda-content-trust                0+unknown\n",
      "conda-pack                         0.6.0\n",
      "conda-package-handling             1.7.3\n",
      "conda-repo-cli                     1.0.4\n",
      "conda-token                        0.3.0\n",
      "conda-verify                       3.4.2\n",
      "contextlib2                        0.6.0.post1\n",
      "cookiecutter                       1.7.2\n",
      "cryptography                       3.4.8\n",
      "cycler                             0.10.0\n",
      "Cython                             0.29.24\n",
      "cytoolz                            0.11.0\n",
      "daal4py                            2021.3.0\n",
      "dask                               2021.10.0\n",
      "debugpy                            1.4.1\n",
      "decorator                          5.1.0\n",
      "defusedxml                         0.7.1\n",
      "diff-match-patch                   20200713\n",
      "distributed                        2021.10.0\n",
      "docopt                             0.6.2\n",
      "docutils                           0.17.1\n",
      "entrypoints                        0.3\n",
      "et-xmlfile                         1.1.0\n",
      "fastcache                          1.1.0\n",
      "filelock                           3.3.1\n",
      "flake8                             3.9.2\n",
      "Flask                              1.1.2\n",
      "folium                             0.14.0\n",
      "fonttools                          4.25.0\n",
      "formulaic                          0.3.4\n",
      "frozenlist                         1.3.1\n",
      "fsspec                             2021.10.1\n",
      "future                             0.18.2\n",
      "fuzzywuzzy                         0.18.0\n",
      "gevent                             21.8.0\n",
      "glob2                              0.7\n",
      "graphviz                           0.20.1\n",
      "greenlet                           1.1.1\n",
      "h5py                               3.2.1\n",
      "HeapDict                           1.0.1\n",
      "html5lib                           1.1\n",
      "hyperopt                           0.2.7\n",
      "idna                               3.2\n",
      "imagecodecs                        2021.8.26\n",
      "imageio                            2.9.0\n",
      "imagesize                          1.2.0\n",
      "imbalanced-learn                   0.10.1\n",
      "imblearn                           0.0\n",
      "importlib-metadata                 4.8.1\n",
      "indexed-gzip                       1.7.0\n",
      "inflection                         0.5.1\n",
      "iniconfig                          1.1.1\n",
      "interface-meta                     1.3.0\n",
      "intervaltree                       3.1.0\n",
      "ipykernel                          6.4.1\n",
      "ipython                            7.29.0\n",
      "ipython-genutils                   0.2.0\n",
      "ipywidgets                         7.6.5\n",
      "isort                              5.9.3\n",
      "itsdangerous                       2.0.1\n",
      "jdcal                              1.4.1\n",
      "jedi                               0.18.0\n",
      "Jinja2                             2.11.3\n",
      "jinja2-time                        0.2.0\n",
      "joblib                             1.2.0\n",
      "json5                              0.9.6\n",
      "jsonschema                         3.2.0\n",
      "jupyter                            1.0.0\n",
      "jupyter-client                     6.1.12\n",
      "jupyter-console                    6.4.0\n",
      "jupyter-core                       4.8.1\n",
      "jupyter-server                     1.4.1\n",
      "jupyterlab                         3.2.1\n",
      "jupyterlab-pygments                0.1.2\n",
      "jupyterlab-server                  2.8.2\n",
      "jupyterlab-widgets                 1.0.0\n",
      "keyring                            23.1.0\n",
      "kiwisolver                         1.3.1\n",
      "lazy-object-proxy                  1.6.0\n",
      "libarchive-c                       2.9\n",
      "llvmlite                           0.37.0\n",
      "locket                             0.2.1\n",
      "lxml                               4.6.3\n",
      "MarkupSafe                         1.1.1\n",
      "matplotlib                         3.4.3\n",
      "matplotlib-inline                  0.1.2\n",
      "mccabe                             0.6.1\n",
      "menuinst                           1.4.18\n",
      "mistune                            0.8.4\n",
      "mkl-fft                            1.3.1\n",
      "mkl-random                         1.2.2\n",
      "mkl-service                        2.4.0\n",
      "mock                               4.0.3\n",
      "more-itertools                     8.10.0\n",
      "mpmath                             1.2.1\n",
      "msgpack                            1.0.2\n",
      "multidict                          6.0.2\n",
      "multipledispatch                   0.6.0\n",
      "munkres                            1.1.4\n",
      "mypy-extensions                    0.4.3\n",
      "navigator-updater                  0.2.1\n",
      "nbclassic                          0.2.6\n",
      "nbclient                           0.5.3\n",
      "nbconvert                          6.1.0\n",
      "nbformat                           5.1.3\n",
      "nest-asyncio                       1.5.1\n",
      "netneurotools                      0.2.3\n",
      "networkx                           2.6.3\n",
      "neurosynth                         0.3.8\n",
      "nibabel                            4.0.2\n",
      "nilearn                            0.9.2\n",
      "NiMARE                             0.0.12\n",
      "nltk                               3.6.5\n",
      "nose                               1.3.7\n",
      "notebook                           6.4.5\n",
      "num2words                          0.5.12\n",
      "numba                              0.54.1\n",
      "numexpr                            2.7.3\n",
      "numpy                              1.20.3\n",
      "numpydoc                           1.1.0\n",
      "olefile                            0.46\n",
      "opencv-python                      4.5.5.64\n",
      "openpyxl                           3.0.9\n",
      "packaging                          21.0\n",
      "pandas                             1.3.4\n",
      "pandasql                           0.7.3\n",
      "pandocfilters                      1.4.3\n",
      "paramiko                           2.7.2\n",
      "parso                              0.8.2\n",
      "partd                              1.2.0\n",
      "path                               16.0.0\n",
      "pathlib2                           2.3.6\n",
      "pathspec                           0.7.0\n",
      "patsy                              0.5.2\n",
      "pep8                               1.7.1\n",
      "pexpect                            4.8.0\n",
      "pickleshare                        0.7.5\n",
      "Pillow                             8.4.0\n",
      "pip                                21.2.4\n",
      "pkginfo                            1.7.1\n",
      "pluggy                             0.13.1\n",
      "ply                                3.11\n",
      "poyo                               0.5.0\n",
      "prometheus-client                  0.11.0\n",
      "prompt-toolkit                     3.0.20\n",
      "psutil                             5.8.0\n",
      "ptyprocess                         0.7.0\n",
      "py                                 1.10.0\n",
      "py4j                               0.10.9.7\n",
      "pybids                             0.15.5\n",
      "pycodestyle                        2.7.0\n",
      "pycosat                            0.6.3\n",
      "pycparser                          2.20\n",
      "pycurl                             7.44.1\n",
      "pydocstyle                         6.1.1\n",
      "pyerfa                             2.0.0\n",
      "pyflakes                           2.3.1\n",
      "Pygments                           2.10.0\n",
      "PyJWT                              2.1.0\n",
      "pylint                             2.9.6\n",
      "pyls-spyder                        0.4.0\n",
      "PyMARE                             0.0.4rc2\n",
      "PyMySQL                            1.0.2\n",
      "PyNaCl                             1.4.0\n",
      "pyodbc                             4.0.0-unsupported\n",
      "pyOpenSSL                          21.0.0"
     ]
    }
   ],
   "source": [
    "!pip list"
   ]
  },
  {
   "cell_type": "code",
   "execution_count": 69,
   "metadata": {
    "colab": {
     "base_uri": "https://localhost:8080/"
    },
    "executionInfo": {
     "elapsed": 8778,
     "status": "ok",
     "timestamp": 1684835361951,
     "user": {
      "displayName": "Swan Kim",
      "userId": "01255046753553274360"
     },
     "user_tz": -540
    },
    "id": "XSDXoGNzNDWM",
    "outputId": "222d4089-aefc-4730-dbc4-e07f5c2a2868",
    "scrolled": true
   },
   "outputs": [
    {
     "name": "stdout",
     "output_type": "stream",
     "text": [
      "\n",
      "pyparsing                          3.0.4\n",
      "pyrcca                             0.2\n",
      "pyreadline                         2.1\n",
      "pyrsistent                         0.18.0\n",
      "PySocks                            1.7.1\n",
      "pytest                             6.2.4\n",
      "python-dateutil                    2.8.2\n",
      "python-lsp-black                   1.0.0\n",
      "python-lsp-jsonrpc                 1.0.0\n",
      "python-lsp-server                  1.2.4\n",
      "python-slugify                     5.0.2\n",
      "pytz                               2021.3\n",
      "PyWavelets                         1.1.1\n",
      "pywin32                            228\n",
      "pywin32-ctypes                     0.2.0\n",
      "pywinpty                           0.5.7\n",
      "PyYAML                             6.0\n",
      "pyzmq                              22.2.1\n",
      "QDarkStyle                         3.0.2\n",
      "qstylizer                          0.1.10\n",
      "QtAwesome                          1.0.2\n",
      "qtconsole                          5.1.1\n",
      "QtPy                               1.10.0\n",
      "regex                              2021.8.3\n",
      "requests                           2.26.0\n",
      "rope                               0.19.0\n",
      "Rtree                              0.9.7\n",
      "ruamel-yaml-conda                  0.15.100\n",
      "scikit-image                       0.18.3\n",
      "scikit-learn                       1.2.2\n",
      "scikit-learn-intelex               2021.20210714.120553\n",
      "scipy                              1.7.1\n",
      "seaborn                            0.11.2\n",
      "Send2Trash                         1.8.0\n",
      "setuptools                         58.0.4\n",
      "simplegeneric                      0.8.1\n",
      "singledispatch                     3.7.0\n",
      "sip                                4.19.13\n",
      "six                                1.16.0\n",
      "sniffio                            1.2.0\n",
      "snowballstemmer                    2.1.0\n",
      "sortedcollections                  2.1.0\n",
      "sortedcontainers                   2.4.0\n",
      "soupsieve                          2.2.1\n",
      "sparse                             0.13.0\n",
      "Sphinx                             4.2.0\n",
      "sphinxcontrib-applehelp            1.0.2\n",
      "sphinxcontrib-devhelp              1.0.2\n",
      "sphinxcontrib-htmlhelp             2.0.0\n",
      "sphinxcontrib-jsmath               1.0.1\n",
      "sphinxcontrib-qthelp               1.0.3\n",
      "sphinxcontrib-serializinghtml      1.1.5\n",
      "sphinxcontrib-websupport           1.2.4\n",
      "spyder                             5.1.5\n",
      "spyder-kernels                     2.1.3\n",
      "SQLAlchemy                         1.4.46\n",
      "statsmodels                        0.12.2\n",
      "sympy                              1.9\n",
      "tables                             3.6.1\n",
      "TBB                                0.2\n",
      "tblib                              1.7.0\n",
      "templateflow                       0.8.1\n",
      "terminado                          0.9.4\n",
      "testpath                           0.5.0\n",
      "text-unidecode                     1.3\n",
      "textdistance                       4.2.1\n",
      "threadpoolctl                      2.2.0\n",
      "three-merge                        0.1.1\n",
      "tifffile                           2021.7.2\n",
      "tinycss                            0.4\n",
      "toml                               0.10.2\n",
      "toolz                              0.11.1\n",
      "tornado                            6.1\n",
      "tqdm                               4.62.3\n",
      "traitlets                          5.1.0\n",
      "trimesh                            3.18.0\n",
      "typed-ast                          1.4.3\n",
      "typing-extensions                  3.10.0.2\n",
      "ujson                              4.0.2\n",
      "unicodecsv                         0.14.1\n",
      "Unidecode                          1.2.0\n",
      "urllib3                            1.26.7\n",
      "vboxapi                            1.0\n",
      "vtk                                9.2.2\n",
      "watchdog                           2.1.3\n",
      "wcwidth                            0.2.5\n",
      "webencodings                       0.5.1\n",
      "Werkzeug                           2.0.2\n",
      "wheel                              0.37.0\n",
      "whichcraft                         0.6.1\n",
      "widgetsnbextension                 3.5.1\n",
      "win-inet-pton                      1.1.0\n",
      "win-unicode-console                0.5\n",
      "wincertstore                       0.2\n",
      "wrapt                              1.12.1\n",
      "wslink                             1.9.0\n",
      "xlrd                               2.0.1\n",
      "XlsxWriter                         3.0.1\n",
      "xlwings                            0.24.9\n",
      "xlwt                               1.3.0\n",
      "xmltodict                          0.12.0\n",
      "yapf                               0.31.0\n",
      "yarl                               1.8.1\n",
      "zict                               2.0.0\n",
      "zipp                               3.6.0\n",
      "zope.event                         4.5.0\n",
      "zope.interface                     5.4.0\n",
      "Requirement already satisfied: sqlalchemy==1.4.46 in c:\\anaconda3\\lib\\site-packages (1.4.46)\n",
      "Requirement already satisfied: greenlet!=0.4.17 in c:\\anaconda3\\lib\\site-packages (from sqlalchemy==1.4.46) (1.1.1)\n"
     ]
    }
   ],
   "source": [
    "# sqlalchemy version 바꿈\n",
    "!pip install sqlalchemy==1.4.46"
   ]
  },
  {
   "cell_type": "code",
   "execution_count": 70,
   "metadata": {
    "executionInfo": {
     "elapsed": 4613,
     "status": "ok",
     "timestamp": 1684835506922,
     "user": {
      "displayName": "Swan Kim",
      "userId": "01255046753553274360"
     },
     "user_tz": -540
    },
    "id": "RU1eFWUjNIgM"
   },
   "outputs": [],
   "source": [
    "import pandas as pd\n",
    "df_cust = pd.read_csv('BGCON_CUST_DATA.csv', encoding = 'utf-8', dtype={'RESI_TYPE_CODE':str})\n",
    "df_cntt = pd.read_csv('BGCON_CNTT_DATA.csv', encoding = 'utf-8')\n",
    "df_claim = pd.read_csv('BGCON_CLAIM_DATA.csv', encoding = 'utf-8', dtype={'HOSP_SPEC_DVSN':str})\n",
    "df_fpinfo = pd.read_csv('BGCON_FPINFO_DATA.csv', encoding = 'utf-8')\n"
   ]
  },
  {
   "cell_type": "code",
   "execution_count": 71,
   "metadata": {
    "colab": {
     "base_uri": "https://localhost:8080/",
     "height": 299
    },
    "executionInfo": {
     "elapsed": 5,
     "status": "ok",
     "timestamp": 1684835506922,
     "user": {
      "displayName": "Swan Kim",
      "userId": "01255046753553274360"
     },
     "user_tz": -540
    },
    "id": "cuT0Y8PBNMbc",
    "outputId": "c2b72707-27e7-41ca-f4b9-69a93b7d239a"
   },
   "outputs": [
    {
     "data": {
      "text/html": [
       "<div>\n",
       "<style scoped>\n",
       "    .dataframe tbody tr th:only-of-type {\n",
       "        vertical-align: middle;\n",
       "    }\n",
       "\n",
       "    .dataframe tbody tr th {\n",
       "        vertical-align: top;\n",
       "    }\n",
       "\n",
       "    .dataframe thead th {\n",
       "        text-align: right;\n",
       "    }\n",
       "</style>\n",
       "<table border=\"1\" class=\"dataframe\">\n",
       "  <thead>\n",
       "    <tr style=\"text-align: right;\">\n",
       "      <th></th>\n",
       "      <th>CUST_ID</th>\n",
       "      <th>DIVIDED_SET</th>\n",
       "      <th>SIU_CUST_YN</th>\n",
       "      <th>SEX</th>\n",
       "      <th>AGE</th>\n",
       "      <th>RESI_COST</th>\n",
       "      <th>RESI_TYPE_CODE</th>\n",
       "      <th>FP_CAREER</th>\n",
       "      <th>CUST_RGST</th>\n",
       "      <th>CTPR</th>\n",
       "      <th>...</th>\n",
       "      <th>WEDD_YN</th>\n",
       "      <th>MATE_OCCP_GRP_1</th>\n",
       "      <th>MATE_OCCP_GRP_2</th>\n",
       "      <th>CHLD_CNT</th>\n",
       "      <th>LTBN_CHLD_AGE</th>\n",
       "      <th>MAX_PAYM_YM</th>\n",
       "      <th>MAX_PRM</th>\n",
       "      <th>CUST_INCM</th>\n",
       "      <th>RCBASE_HSHD_INCM</th>\n",
       "      <th>JPBASE_HSHD_INCM</th>\n",
       "    </tr>\n",
       "  </thead>\n",
       "  <tbody>\n",
       "    <tr>\n",
       "      <th>0</th>\n",
       "      <td>1</td>\n",
       "      <td>1</td>\n",
       "      <td>N</td>\n",
       "      <td>2</td>\n",
       "      <td>47</td>\n",
       "      <td>21111</td>\n",
       "      <td>20</td>\n",
       "      <td>N</td>\n",
       "      <td>199910.0</td>\n",
       "      <td>충북</td>\n",
       "      <td>...</td>\n",
       "      <td>Y</td>\n",
       "      <td>3.사무직</td>\n",
       "      <td>2차산업 종사자</td>\n",
       "      <td>2.0</td>\n",
       "      <td>13.0</td>\n",
       "      <td>200811.0</td>\n",
       "      <td>319718.0</td>\n",
       "      <td>4879.0</td>\n",
       "      <td>10094</td>\n",
       "      <td>11337.0</td>\n",
       "    </tr>\n",
       "    <tr>\n",
       "      <th>1</th>\n",
       "      <td>2</td>\n",
       "      <td>1</td>\n",
       "      <td>N</td>\n",
       "      <td>1</td>\n",
       "      <td>53</td>\n",
       "      <td>40000</td>\n",
       "      <td>20</td>\n",
       "      <td>N</td>\n",
       "      <td>199910.0</td>\n",
       "      <td>서울</td>\n",
       "      <td>...</td>\n",
       "      <td>Y</td>\n",
       "      <td>1.주부</td>\n",
       "      <td>주부</td>\n",
       "      <td>2.0</td>\n",
       "      <td>17.0</td>\n",
       "      <td>200012.0</td>\n",
       "      <td>341341.0</td>\n",
       "      <td>6509.0</td>\n",
       "      <td>9143</td>\n",
       "      <td>6509.0</td>\n",
       "    </tr>\n",
       "    <tr>\n",
       "      <th>2</th>\n",
       "      <td>3</td>\n",
       "      <td>1</td>\n",
       "      <td>N</td>\n",
       "      <td>1</td>\n",
       "      <td>60</td>\n",
       "      <td>0</td>\n",
       "      <td>NaN</td>\n",
       "      <td>N</td>\n",
       "      <td>199910.0</td>\n",
       "      <td>서울</td>\n",
       "      <td>...</td>\n",
       "      <td>N</td>\n",
       "      <td>NaN</td>\n",
       "      <td>NaN</td>\n",
       "      <td>0.0</td>\n",
       "      <td>0.0</td>\n",
       "      <td>200305.0</td>\n",
       "      <td>131300.0</td>\n",
       "      <td>4180.0</td>\n",
       "      <td>0</td>\n",
       "      <td>4180.0</td>\n",
       "    </tr>\n",
       "    <tr>\n",
       "      <th>3</th>\n",
       "      <td>4</td>\n",
       "      <td>1</td>\n",
       "      <td>N</td>\n",
       "      <td>2</td>\n",
       "      <td>64</td>\n",
       "      <td>12861</td>\n",
       "      <td>40</td>\n",
       "      <td>Y</td>\n",
       "      <td>199910.0</td>\n",
       "      <td>경기</td>\n",
       "      <td>...</td>\n",
       "      <td>N</td>\n",
       "      <td>NaN</td>\n",
       "      <td>NaN</td>\n",
       "      <td>0.0</td>\n",
       "      <td>0.0</td>\n",
       "      <td>201009.0</td>\n",
       "      <td>1493184.0</td>\n",
       "      <td>NaN</td>\n",
       "      <td>4270</td>\n",
       "      <td>5914.0</td>\n",
       "    </tr>\n",
       "    <tr>\n",
       "      <th>4</th>\n",
       "      <td>5</td>\n",
       "      <td>1</td>\n",
       "      <td>N</td>\n",
       "      <td>2</td>\n",
       "      <td>54</td>\n",
       "      <td>0</td>\n",
       "      <td>NaN</td>\n",
       "      <td>Y</td>\n",
       "      <td>199910.0</td>\n",
       "      <td>광주</td>\n",
       "      <td>...</td>\n",
       "      <td>Y</td>\n",
       "      <td>3.사무직</td>\n",
       "      <td>고위 공무원</td>\n",
       "      <td>3.0</td>\n",
       "      <td>19.0</td>\n",
       "      <td>200807.0</td>\n",
       "      <td>166760.0</td>\n",
       "      <td>3894.0</td>\n",
       "      <td>0</td>\n",
       "      <td>8885.0</td>\n",
       "    </tr>\n",
       "  </tbody>\n",
       "</table>\n",
       "<p>5 rows × 25 columns</p>\n",
       "</div>"
      ],
      "text/plain": [
       "   CUST_ID  DIVIDED_SET SIU_CUST_YN  SEX  AGE  RESI_COST RESI_TYPE_CODE  \\\n",
       "0        1            1           N    2   47      21111             20   \n",
       "1        2            1           N    1   53      40000             20   \n",
       "2        3            1           N    1   60          0            NaN   \n",
       "3        4            1           N    2   64      12861             40   \n",
       "4        5            1           N    2   54          0            NaN   \n",
       "\n",
       "  FP_CAREER  CUST_RGST CTPR  ... WEDD_YN MATE_OCCP_GRP_1  MATE_OCCP_GRP_2  \\\n",
       "0         N   199910.0   충북  ...       Y           3.사무직         2차산업 종사자   \n",
       "1         N   199910.0   서울  ...       Y            1.주부               주부   \n",
       "2         N   199910.0   서울  ...       N             NaN              NaN   \n",
       "3         Y   199910.0   경기  ...       N             NaN              NaN   \n",
       "4         Y   199910.0   광주  ...       Y           3.사무직           고위 공무원   \n",
       "\n",
       "   CHLD_CNT  LTBN_CHLD_AGE MAX_PAYM_YM    MAX_PRM CUST_INCM  RCBASE_HSHD_INCM  \\\n",
       "0       2.0           13.0    200811.0   319718.0    4879.0             10094   \n",
       "1       2.0           17.0    200012.0   341341.0    6509.0              9143   \n",
       "2       0.0            0.0    200305.0   131300.0    4180.0                 0   \n",
       "3       0.0            0.0    201009.0  1493184.0       NaN              4270   \n",
       "4       3.0           19.0    200807.0   166760.0    3894.0                 0   \n",
       "\n",
       "   JPBASE_HSHD_INCM  \n",
       "0           11337.0  \n",
       "1            6509.0  \n",
       "2            4180.0  \n",
       "3            5914.0  \n",
       "4            8885.0  \n",
       "\n",
       "[5 rows x 25 columns]"
      ]
     },
     "execution_count": 71,
     "metadata": {},
     "output_type": "execute_result"
    }
   ],
   "source": [
    "df_cust.head()"
   ]
  },
  {
   "cell_type": "code",
   "execution_count": 72,
   "metadata": {
    "colab": {
     "base_uri": "https://localhost:8080/"
    },
    "executionInfo": {
     "elapsed": 525,
     "status": "ok",
     "timestamp": 1684835517171,
     "user": {
      "displayName": "Swan Kim",
      "userId": "01255046753553274360"
     },
     "user_tz": -540
    },
    "id": "tYztZ9mOdGsg",
    "outputId": "22fae062-ce9d-4532-9af7-42f6f60eb38e"
   },
   "outputs": [
    {
     "name": "stdout",
     "output_type": "stream",
     "text": [
      "<class 'pandas.core.frame.DataFrame'>\n",
      "RangeIndex: 22400 entries, 0 to 22399\n",
      "Data columns (total 25 columns):\n",
      " #   Column            Non-Null Count  Dtype  \n",
      "---  ------            --------------  -----  \n",
      " 0   CUST_ID           22400 non-null  int64  \n",
      " 1   DIVIDED_SET       22400 non-null  int64  \n",
      " 2   SIU_CUST_YN       20607 non-null  object \n",
      " 3   SEX               22400 non-null  int64  \n",
      " 4   AGE               22400 non-null  int64  \n",
      " 5   RESI_COST         22400 non-null  int64  \n",
      " 6   RESI_TYPE_CODE    21146 non-null  object \n",
      " 7   FP_CAREER         22400 non-null  object \n",
      " 8   CUST_RGST         21944 non-null  float64\n",
      " 9   CTPR              21779 non-null  object \n",
      " 10  OCCP_GRP_1        21805 non-null  object \n",
      " 11  OCCP_GRP_2        21805 non-null  object \n",
      " 12  TOTALPREM         16609 non-null  float64\n",
      " 13  MINCRDT           12924 non-null  float64\n",
      " 14  MAXCRDT           12924 non-null  float64\n",
      " 15  WEDD_YN           21927 non-null  object \n",
      " 16  MATE_OCCP_GRP_1   10573 non-null  object \n",
      " 17  MATE_OCCP_GRP_2   10573 non-null  object \n",
      " 18  CHLD_CNT          21927 non-null  float64\n",
      " 19  LTBN_CHLD_AGE     21927 non-null  float64\n",
      " 20  MAX_PAYM_YM       15914 non-null  float64\n",
      " 21  MAX_PRM           15914 non-null  float64\n",
      " 22  CUST_INCM         17137 non-null  float64\n",
      " 23  RCBASE_HSHD_INCM  22400 non-null  int64  \n",
      " 24  JPBASE_HSHD_INCM  21720 non-null  float64\n",
      "dtypes: float64(10), int64(6), object(9)\n",
      "memory usage: 4.3+ MB\n"
     ]
    }
   ],
   "source": [
    "df_cust.info()"
   ]
  },
  {
   "cell_type": "code",
   "execution_count": 73,
   "metadata": {
    "colab": {
     "base_uri": "https://localhost:8080/",
     "height": 444
    },
    "executionInfo": {
     "elapsed": 847,
     "status": "ok",
     "timestamp": 1684558200805,
     "user": {
      "displayName": "Swan Kim",
      "userId": "01255046753553274360"
     },
     "user_tz": -540
    },
    "id": "vUigDnE9dSkO",
    "outputId": "6f193beb-67e7-42e7-ab1b-f968b7ebbc27"
   },
   "outputs": [
    {
     "data": {
      "text/plain": [
       "<AxesSubplot:>"
      ]
     },
     "execution_count": 73,
     "metadata": {},
     "output_type": "execute_result"
    },
    {
     "data": {
      "image/png": "[encoded data removed]",
      "text/plain": [
       "<Figure size 432x288 with 1 Axes>"
      ]
     },
     "metadata": {
      "needs_background": "light"
     },
     "output_type": "display_data"
    }
   ],
   "source": [
    "import matplotlib.pyplot as plt\n",
    "plt.rc('font', family='NanumBarunGothic')\n",
    "fig, ax = plt.subplots()\n",
    "df_cust['SIU_CUST_YN'].value_counts().plot(ax=ax, kind='bar')"
   ]
  },
  {
   "cell_type": "code",
   "execution_count": 74,
   "metadata": {
    "colab": {
     "base_uri": "https://localhost:8080/",
     "height": 459
    },
    "executionInfo": {
     "elapsed": 327,
     "status": "ok",
     "timestamp": 1684558202951,
     "user": {
      "displayName": "Swan Kim",
      "userId": "01255046753553274360"
     },
     "user_tz": -540
    },
    "id": "s0_1PfPwd5r1",
    "outputId": "84474146-8286-4d68-9714-6d65832683d3"
   },
   "outputs": [
    {
     "data": {
      "text/plain": [
       "<AxesSubplot:>"
      ]
     },
     "execution_count": 74,
     "metadata": {},
     "output_type": "execute_result"
    },
    {
     "name": "stderr",
     "output_type": "stream",
     "text": [
      "C:\\Anaconda3\\lib\\site-packages\\matplotlib\\backends\\backend_agg.py:240: RuntimeWarning: Glyph 44221 missing from current font.\n",
      "  font.set_text(s, 0.0, flags=flags)\n",
      "C:\\Anaconda3\\lib\\site-packages\\matplotlib\\backends\\backend_agg.py:240: RuntimeWarning: Glyph 44592 missing from current font.\n",
      "  font.set_text(s, 0.0, flags=flags)\n",
      "C:\\Anaconda3\\lib\\site-packages\\matplotlib\\backends\\backend_agg.py:240: RuntimeWarning: Glyph 49436 missing from current font.\n",
      "  font.set_text(s, 0.0, flags=flags)\n",
      "C:\\Anaconda3\\lib\\site-packages\\matplotlib\\backends\\backend_agg.py:240: RuntimeWarning: Glyph 50872 missing from current font.\n",
      "  font.set_text(s, 0.0, flags=flags)\n",
      "C:\\Anaconda3\\lib\\site-packages\\matplotlib\\backends\\backend_agg.py:240: RuntimeWarning: Glyph 45224 missing from current font.\n",
      "  font.set_text(s, 0.0, flags=flags)\n",
      "C:\\Anaconda3\\lib\\site-packages\\matplotlib\\backends\\backend_agg.py:240: RuntimeWarning: Glyph 48512 missing from current font.\n",
      "  font.set_text(s, 0.0, flags=flags)\n",
      "C:\\Anaconda3\\lib\\site-packages\\matplotlib\\backends\\backend_agg.py:240: RuntimeWarning: Glyph 49328 missing from current font.\n",
      "  font.set_text(s, 0.0, flags=flags)\n",
      "C:\\Anaconda3\\lib\\site-packages\\matplotlib\\backends\\backend_agg.py:240: RuntimeWarning: Glyph 51064 missing from current font.\n",
      "  font.set_text(s, 0.0, flags=flags)\n",
      "C:\\Anaconda3\\lib\\site-packages\\matplotlib\\backends\\backend_agg.py:240: RuntimeWarning: Glyph 52380 missing from current font.\n",
      "  font.set_text(s, 0.0, flags=flags)\n",
      "C:\\Anaconda3\\lib\\site-packages\\matplotlib\\backends\\backend_agg.py:240: RuntimeWarning: Glyph 51204 missing from current font.\n",
      "  font.set_text(s, 0.0, flags=flags)\n",
      "C:\\Anaconda3\\lib\\site-packages\\matplotlib\\backends\\backend_agg.py:240: RuntimeWarning: Glyph 45824 missing from current font.\n",
      "  font.set_text(s, 0.0, flags=flags)\n",
      "C:\\Anaconda3\\lib\\site-packages\\matplotlib\\backends\\backend_agg.py:240: RuntimeWarning: Glyph 44396 missing from current font.\n",
      "  font.set_text(s, 0.0, flags=flags)\n",
      "C:\\Anaconda3\\lib\\site-packages\\matplotlib\\backends\\backend_agg.py:240: RuntimeWarning: Glyph 48513 missing from current font.\n",
      "  font.set_text(s, 0.0, flags=flags)\n",
      "C:\\Anaconda3\\lib\\site-packages\\matplotlib\\backends\\backend_agg.py:240: RuntimeWarning: Glyph 44305 missing from current font.\n",
      "  font.set_text(s, 0.0, flags=flags)\n",
      "C:\\Anaconda3\\lib\\site-packages\\matplotlib\\backends\\backend_agg.py:240: RuntimeWarning: Glyph 51452 missing from current font.\n",
      "  font.set_text(s, 0.0, flags=flags)\n",
      "C:\\Anaconda3\\lib\\site-packages\\matplotlib\\backends\\backend_agg.py:240: RuntimeWarning: Glyph 52649 missing from current font.\n",
      "  font.set_text(s, 0.0, flags=flags)\n",
      "C:\\Anaconda3\\lib\\site-packages\\matplotlib\\backends\\backend_agg.py:240: RuntimeWarning: Glyph 44053 missing from current font.\n",
      "  font.set_text(s, 0.0, flags=flags)\n",
      "C:\\Anaconda3\\lib\\site-packages\\matplotlib\\backends\\backend_agg.py:240: RuntimeWarning: Glyph 50896 missing from current font.\n",
      "  font.set_text(s, 0.0, flags=flags)\n",
      "C:\\Anaconda3\\lib\\site-packages\\matplotlib\\backends\\backend_agg.py:240: RuntimeWarning: Glyph 51228 missing from current font.\n",
      "  font.set_text(s, 0.0, flags=flags)\n",
      "C:\\Anaconda3\\lib\\site-packages\\matplotlib\\backends\\backend_agg.py:240: RuntimeWarning: Glyph 49464 missing from current font.\n",
      "  font.set_text(s, 0.0, flags=flags)\n",
      "C:\\Anaconda3\\lib\\site-packages\\matplotlib\\backends\\backend_agg.py:240: RuntimeWarning: Glyph 51333 missing from current font.\n",
      "  font.set_text(s, 0.0, flags=flags)\n",
      "C:\\Anaconda3\\lib\\site-packages\\matplotlib\\backends\\backend_agg.py:203: RuntimeWarning: Glyph 44221 missing from current font.\n",
      "  font.set_text(s, 0, flags=flags)\n",
      "C:\\Anaconda3\\lib\\site-packages\\matplotlib\\backends\\backend_agg.py:203: RuntimeWarning: Glyph 44592 missing from current font.\n",
      "  font.set_text(s, 0, flags=flags)\n",
      "C:\\Anaconda3\\lib\\site-packages\\matplotlib\\backends\\backend_agg.py:203: RuntimeWarning: Glyph 49436 missing from current font.\n",
      "  font.set_text(s, 0, flags=flags)\n",
      "C:\\Anaconda3\\lib\\site-packages\\matplotlib\\backends\\backend_agg.py:203: RuntimeWarning: Glyph 50872 missing from current font.\n",
      "  font.set_text(s, 0, flags=flags)\n",
      "C:\\Anaconda3\\lib\\site-packages\\matplotlib\\backends\\backend_agg.py:203: RuntimeWarning: Glyph 45224 missing from current font.\n",
      "  font.set_text(s, 0, flags=flags)\n",
      "C:\\Anaconda3\\lib\\site-packages\\matplotlib\\backends\\backend_agg.py:203: RuntimeWarning: Glyph 48512 missing from current font.\n",
      "  font.set_text(s, 0, flags=flags)\n",
      "C:\\Anaconda3\\lib\\site-packages\\matplotlib\\backends\\backend_agg.py:203: RuntimeWarning: Glyph 49328 missing from current font.\n",
      "  font.set_text(s, 0, flags=flags)\n",
      "C:\\Anaconda3\\lib\\site-packages\\matplotlib\\backends\\backend_agg.py:203: RuntimeWarning: Glyph 51064 missing from current font.\n",
      "  font.set_text(s, 0, flags=flags)\n",
      "C:\\Anaconda3\\lib\\site-packages\\matplotlib\\backends\\backend_agg.py:203: RuntimeWarning: Glyph 52380 missing from current font.\n",
      "  font.set_text(s, 0, flags=flags)\n",
      "C:\\Anaconda3\\lib\\site-packages\\matplotlib\\backends\\backend_agg.py:203: RuntimeWarning: Glyph 51204 missing from current font.\n",
      "  font.set_text(s, 0, flags=flags)\n",
      "C:\\Anaconda3\\lib\\site-packages\\matplotlib\\backends\\backend_agg.py:203: RuntimeWarning: Glyph 45824 missing from current font.\n",
      "  font.set_text(s, 0, flags=flags)\n",
      "C:\\Anaconda3\\lib\\site-packages\\matplotlib\\backends\\backend_agg.py:203: RuntimeWarning: Glyph 44396 missing from current font.\n",
      "  font.set_text(s, 0, flags=flags)\n",
      "C:\\Anaconda3\\lib\\site-packages\\matplotlib\\backends\\backend_agg.py:203: RuntimeWarning: Glyph 48513 missing from current font.\n",
      "  font.set_text(s, 0, flags=flags)\n",
      "C:\\Anaconda3\\lib\\site-packages\\matplotlib\\backends\\backend_agg.py:203: RuntimeWarning: Glyph 44305 missing from current font.\n",
      "  font.set_text(s, 0, flags=flags)\n",
      "C:\\Anaconda3\\lib\\site-packages\\matplotlib\\backends\\backend_agg.py:203: RuntimeWarning: Glyph 51452 missing from current font.\n",
      "  font.set_text(s, 0, flags=flags)\n",
      "C:\\Anaconda3\\lib\\site-packages\\matplotlib\\backends\\backend_agg.py:203: RuntimeWarning: Glyph 52649 missing from current font.\n",
      "  font.set_text(s, 0, flags=flags)\n",
      "C:\\Anaconda3\\lib\\site-packages\\matplotlib\\backends\\backend_agg.py:203: RuntimeWarning: Glyph 44053 missing from current font.\n",
      "  font.set_text(s, 0, flags=flags)\n",
      "C:\\Anaconda3\\lib\\site-packages\\matplotlib\\backends\\backend_agg.py:203: RuntimeWarning: Glyph 50896 missing from current font.\n",
      "  font.set_text(s, 0, flags=flags)\n",
      "C:\\Anaconda3\\lib\\site-packages\\matplotlib\\backends\\backend_agg.py:203: RuntimeWarning: Glyph 51228 missing from current font.\n",
      "  font.set_text(s, 0, flags=flags)\n",
      "C:\\Anaconda3\\lib\\site-packages\\matplotlib\\backends\\backend_agg.py:203: RuntimeWarning: Glyph 49464 missing from current font.\n",
      "  font.set_text(s, 0, flags=flags)\n",
      "C:\\Anaconda3\\lib\\site-packages\\matplotlib\\backends\\backend_agg.py:203: RuntimeWarning: Glyph 51333 missing from current font.\n",
      "  font.set_text(s, 0, flags=flags)\n"
     ]
    },
    {
     "data": {
      "image/png": "[encoded data removed]",
      "text/plain": [
       "<Figure size 432x288 with 1 Axes>"
      ]
     },
     "metadata": {
      "needs_background": "light"
     },
     "output_type": "display_data"
    }
   ],
   "source": [
    "fig, ax = plt.subplots()\n",
    "\n",
    "df_cust['CTPR'].value_counts().plot(ax=ax, kind='bar')"
   ]
  },
  {
   "cell_type": "code",
   "execution_count": 75,
   "metadata": {
    "colab": {
     "base_uri": "https://localhost:8080/",
     "height": 364
    },
    "executionInfo": {
     "elapsed": 327,
     "status": "ok",
     "timestamp": 1684558290083,
     "user": {
      "displayName": "Swan Kim",
      "userId": "01255046753553274360"
     },
     "user_tz": -540
    },
    "id": "t46TkvUEfsnR",
    "outputId": "cb5dfafc-9625-4202-ec94-9a9bce12b6df"
   },
   "outputs": [
    {
     "data": {
      "text/html": [
       "<div>\n",
       "<style scoped>\n",
       "    .dataframe tbody tr th:only-of-type {\n",
       "        vertical-align: middle;\n",
       "    }\n",
       "\n",
       "    .dataframe tbody tr th {\n",
       "        vertical-align: top;\n",
       "    }\n",
       "\n",
       "    .dataframe thead th {\n",
       "        text-align: right;\n",
       "    }\n",
       "</style>\n",
       "<table border=\"1\" class=\"dataframe\">\n",
       "  <thead>\n",
       "    <tr style=\"text-align: right;\">\n",
       "      <th></th>\n",
       "      <th>CUST_ID</th>\n",
       "      <th>DIVIDED_SET</th>\n",
       "      <th>SEX</th>\n",
       "      <th>AGE</th>\n",
       "      <th>RESI_COST</th>\n",
       "      <th>CUST_RGST</th>\n",
       "      <th>TOTALPREM</th>\n",
       "      <th>MINCRDT</th>\n",
       "      <th>MAXCRDT</th>\n",
       "      <th>CHLD_CNT</th>\n",
       "      <th>LTBN_CHLD_AGE</th>\n",
       "      <th>MAX_PAYM_YM</th>\n",
       "      <th>MAX_PRM</th>\n",
       "      <th>CUST_INCM</th>\n",
       "      <th>RCBASE_HSHD_INCM</th>\n",
       "      <th>JPBASE_HSHD_INCM</th>\n",
       "    </tr>\n",
       "  </thead>\n",
       "  <tbody>\n",
       "    <tr>\n",
       "      <th>count</th>\n",
       "      <td>22400.000000</td>\n",
       "      <td>22400.000000</td>\n",
       "      <td>22400.000000</td>\n",
       "      <td>22400.000000</td>\n",
       "      <td>22400.000000</td>\n",
       "      <td>21944.000000</td>\n",
       "      <td>1.660900e+04</td>\n",
       "      <td>12924.000000</td>\n",
       "      <td>12924.000000</td>\n",
       "      <td>21927.000000</td>\n",
       "      <td>21927.000000</td>\n",
       "      <td>15914.000000</td>\n",
       "      <td>1.591400e+04</td>\n",
       "      <td>17137.000000</td>\n",
       "      <td>22400.000000</td>\n",
       "      <td>21720.000000</td>\n",
       "    </tr>\n",
       "    <tr>\n",
       "      <th>mean</th>\n",
       "      <td>11200.500000</td>\n",
       "      <td>1.080045</td>\n",
       "      <td>1.565134</td>\n",
       "      <td>44.734866</td>\n",
       "      <td>15914.413973</td>\n",
       "      <td>198924.250638</td>\n",
       "      <td>2.998266e+07</td>\n",
       "      <td>5.838904</td>\n",
       "      <td>19.480656</td>\n",
       "      <td>0.709491</td>\n",
       "      <td>8.603731</td>\n",
       "      <td>200881.825437</td>\n",
       "      <td>4.807763e+05</td>\n",
       "      <td>2704.184863</td>\n",
       "      <td>4768.733884</td>\n",
       "      <td>5198.238950</td>\n",
       "    </tr>\n",
       "    <tr>\n",
       "      <th>std</th>\n",
       "      <td>6466.467351</td>\n",
       "      <td>0.271368</td>\n",
       "      <td>0.495750</td>\n",
       "      <td>15.445707</td>\n",
       "      <td>14963.317519</td>\n",
       "      <td>16989.329112</td>\n",
       "      <td>4.897438e+07</td>\n",
       "      <td>3.515198</td>\n",
       "      <td>32.363151</td>\n",
       "      <td>0.953671</td>\n",
       "      <td>11.585592</td>\n",
       "      <td>522.266749</td>\n",
       "      <td>1.327265e+06</td>\n",
       "      <td>2188.208641</td>\n",
       "      <td>3072.385280</td>\n",
       "      <td>2714.947843</td>\n",
       "    </tr>\n",
       "    <tr>\n",
       "      <th>min</th>\n",
       "      <td>1.000000</td>\n",
       "      <td>1.000000</td>\n",
       "      <td>1.000000</td>\n",
       "      <td>2.000000</td>\n",
       "      <td>0.000000</td>\n",
       "      <td>101.000000</td>\n",
       "      <td>5.000000e+02</td>\n",
       "      <td>0.000000</td>\n",
       "      <td>0.000000</td>\n",
       "      <td>0.000000</td>\n",
       "      <td>0.000000</td>\n",
       "      <td>199801.000000</td>\n",
       "      <td>6.000000e+00</td>\n",
       "      <td>0.000000</td>\n",
       "      <td>0.000000</td>\n",
       "      <td>0.000000</td>\n",
       "    </tr>\n",
       "    <tr>\n",
       "      <th>25%</th>\n",
       "      <td>5600.750000</td>\n",
       "      <td>1.000000</td>\n",
       "      <td>1.000000</td>\n",
       "      <td>34.000000</td>\n",
       "      <td>6732.750000</td>\n",
       "      <td>200306.000000</td>\n",
       "      <td>6.665459e+06</td>\n",
       "      <td>6.000000</td>\n",
       "      <td>6.000000</td>\n",
       "      <td>0.000000</td>\n",
       "      <td>0.000000</td>\n",
       "      <td>200404.000000</td>\n",
       "      <td>1.129440e+05</td>\n",
       "      <td>0.000000</td>\n",
       "      <td>2995.000000</td>\n",
       "      <td>3557.750000</td>\n",
       "    </tr>\n",
       "    <tr>\n",
       "      <th>50%</th>\n",
       "      <td>11200.500000</td>\n",
       "      <td>1.000000</td>\n",
       "      <td>2.000000</td>\n",
       "      <td>46.000000</td>\n",
       "      <td>12222.000000</td>\n",
       "      <td>200306.000000</td>\n",
       "      <td>1.622463e+07</td>\n",
       "      <td>6.000000</td>\n",
       "      <td>6.000000</td>\n",
       "      <td>0.000000</td>\n",
       "      <td>0.000000</td>\n",
       "      <td>200901.000000</td>\n",
       "      <td>2.265920e+05</td>\n",
       "      <td>3432.000000</td>\n",
       "      <td>4807.000000</td>\n",
       "      <td>4681.000000</td>\n",
       "    </tr>\n",
       "    <tr>\n",
       "      <th>75%</th>\n",
       "      <td>16800.250000</td>\n",
       "      <td>1.000000</td>\n",
       "      <td>2.000000</td>\n",
       "      <td>56.000000</td>\n",
       "      <td>20988.000000</td>\n",
       "      <td>200402.000000</td>\n",
       "      <td>3.479439e+07</td>\n",
       "      <td>6.000000</td>\n",
       "      <td>7.000000</td>\n",
       "      <td>1.000000</td>\n",
       "      <td>19.000000</td>\n",
       "      <td>201402.000000</td>\n",
       "      <td>4.852868e+05</td>\n",
       "      <td>4398.000000</td>\n",
       "      <td>6607.250000</td>\n",
       "      <td>6839.500000</td>\n",
       "    </tr>\n",
       "    <tr>\n",
       "      <th>max</th>\n",
       "      <td>22400.000000</td>\n",
       "      <td>2.000000</td>\n",
       "      <td>2.000000</td>\n",
       "      <td>89.000000</td>\n",
       "      <td>305555.000000</td>\n",
       "      <td>201602.000000</td>\n",
       "      <td>1.840052e+09</td>\n",
       "      <td>99.000000</td>\n",
       "      <td>99.000000</td>\n",
       "      <td>6.000000</td>\n",
       "      <td>35.000000</td>\n",
       "      <td>207110.000000</td>\n",
       "      <td>5.686262e+07</td>\n",
       "      <td>12687.000000</td>\n",
       "      <td>19829.000000</td>\n",
       "      <td>25872.000000</td>\n",
       "    </tr>\n",
       "  </tbody>\n",
       "</table>\n",
       "</div>"
      ],
      "text/plain": [
       "            CUST_ID   DIVIDED_SET           SEX           AGE      RESI_COST  \\\n",
       "count  22400.000000  22400.000000  22400.000000  22400.000000   22400.000000   \n",
       "mean   11200.500000      1.080045      1.565134     44.734866   15914.413973   \n",
       "std     6466.467351      0.271368      0.495750     15.445707   14963.317519   \n",
       "min        1.000000      1.000000      1.000000      2.000000       0.000000   \n",
       "25%     5600.750000      1.000000      1.000000     34.000000    6732.750000   \n",
       "50%    11200.500000      1.000000      2.000000     46.000000   12222.000000   \n",
       "75%    16800.250000      1.000000      2.000000     56.000000   20988.000000   \n",
       "max    22400.000000      2.000000      2.000000     89.000000  305555.000000   \n",
       "\n",
       "           CUST_RGST     TOTALPREM       MINCRDT       MAXCRDT      CHLD_CNT  \\\n",
       "count   21944.000000  1.660900e+04  12924.000000  12924.000000  21927.000000   \n",
       "mean   198924.250638  2.998266e+07      5.838904     19.480656      0.709491   \n",
       "std     16989.329112  4.897438e+07      3.515198     32.363151      0.953671   \n",
       "min       101.000000  5.000000e+02      0.000000      0.000000      0.000000   \n",
       "25%    200306.000000  6.665459e+06      6.000000      6.000000      0.000000   \n",
       "50%    200306.000000  1.622463e+07      6.000000      6.000000      0.000000   \n",
       "75%    200402.000000  3.479439e+07      6.000000      7.000000      1.000000   \n",
       "max    201602.000000  1.840052e+09     99.000000     99.000000      6.000000   \n",
       "\n",
       "       LTBN_CHLD_AGE    MAX_PAYM_YM       MAX_PRM     CUST_INCM  \\\n",
       "count   21927.000000   15914.000000  1.591400e+04  17137.000000   \n",
       "mean        8.603731  200881.825437  4.807763e+05   2704.184863   \n",
       "std        11.585592     522.266749  1.327265e+06   2188.208641   \n",
       "min         0.000000  199801.000000  6.000000e+00      0.000000   \n",
       "25%         0.000000  200404.000000  1.129440e+05      0.000000   \n",
       "50%         0.000000  200901.000000  2.265920e+05   3432.000000   \n",
       "75%        19.000000  201402.000000  4.852868e+05   4398.000000   \n",
       "max        35.000000  207110.000000  5.686262e+07  12687.000000   \n",
       "\n",
       "       RCBASE_HSHD_INCM  JPBASE_HSHD_INCM  \n",
       "count      22400.000000      21720.000000  \n",
       "mean        4768.733884       5198.238950  \n",
       "std         3072.385280       2714.947843  \n",
       "min            0.000000          0.000000  \n",
       "25%         2995.000000       3557.750000  \n",
       "50%         4807.000000       4681.000000  \n",
       "75%         6607.250000       6839.500000  \n",
       "max        19829.000000      25872.000000  "
      ]
     },
     "execution_count": 75,
     "metadata": {},
     "output_type": "execute_result"
    }
   ],
   "source": [
    "df_cust.describe()"
   ]
  },
  {
   "cell_type": "code",
   "execution_count": 76,
   "metadata": {
    "colab": {
     "base_uri": "https://localhost:8080/"
    },
    "executionInfo": {
     "elapsed": 5,
     "status": "ok",
     "timestamp": 1684553405619,
     "user": {
      "displayName": "Swan Kim",
      "userId": "01255046753553274360"
     },
     "user_tz": -540
    },
    "id": "05jY7RWrNOWc",
    "outputId": "5ddf814c-ffce-4f31-fc85-70c13d125d9c"
   },
   "outputs": [
    {
     "data": {
      "text/plain": [
       "CUST_ID                 0\n",
       "DIVIDED_SET             0\n",
       "SIU_CUST_YN          1793\n",
       "SEX                     0\n",
       "AGE                     0\n",
       "RESI_COST               0\n",
       "RESI_TYPE_CODE       1254\n",
       "FP_CAREER               0\n",
       "CUST_RGST             456\n",
       "CTPR                  621\n",
       "OCCP_GRP_1            595\n",
       "OCCP_GRP_2            595\n",
       "TOTALPREM            5791\n",
       "MINCRDT              9476\n",
       "MAXCRDT              9476\n",
       "WEDD_YN               473\n",
       "MATE_OCCP_GRP_1     11827\n",
       "MATE_OCCP_GRP_2     11827\n",
       "CHLD_CNT              473\n",
       "LTBN_CHLD_AGE         473\n",
       "MAX_PAYM_YM          6486\n",
       "MAX_PRM              6486\n",
       "CUST_INCM            5263\n",
       "RCBASE_HSHD_INCM        0\n",
       "JPBASE_HSHD_INCM      680\n",
       "dtype: int64"
      ]
     },
     "execution_count": 76,
     "metadata": {},
     "output_type": "execute_result"
    }
   ],
   "source": [
    "df_cust.isnull().sum() # 결측치 비율, 결측치가 많다."
   ]
  },
  {
   "cell_type": "code",
   "execution_count": 77,
   "metadata": {
    "id": "pUOQSX6hNTLs"
   },
   "outputs": [],
   "source": [
    "# 데이터 정리(결측치가 많고, 의미 약한 변수를 정리하자)\n",
    "df_cust = df_cust.drop(['DIVIDED_SET', 'CUST_RGST', 'MAXCRDT', 'OCCP_GRP_2', 'MATE_OCCP_GRP_1', 'MATE_OCCP_GRP_2', 'CHLD_CNT', 'LTBN_CHLD_AGE', 'MAX_PAYM_YM', 'RCBASE_HSHD_INCM', 'JPBASE_HSHD_INCM'], axis=1)\n"
   ]
  },
  {
   "cell_type": "code",
   "execution_count": 78,
   "metadata": {
    "colab": {
     "base_uri": "https://localhost:8080/"
    },
    "executionInfo": {
     "elapsed": 461,
     "status": "ok",
     "timestamp": 1684553406077,
     "user": {
      "displayName": "Swan Kim",
      "userId": "01255046753553274360"
     },
     "user_tz": -540
    },
    "id": "RmkFeR6HNWO7",
    "outputId": "34f93f6c-2a2b-4613-903b-0e702d1b4726"
   },
   "outputs": [
    {
     "data": {
      "text/plain": [
       "CUST_ID              0\n",
       "SIU_CUST_YN       1793\n",
       "SEX                  0\n",
       "AGE                  0\n",
       "RESI_COST            0\n",
       "RESI_TYPE_CODE    1254\n",
       "FP_CAREER            0\n",
       "CTPR               621\n",
       "OCCP_GRP_1         595\n",
       "TOTALPREM         5791\n",
       "MINCRDT           9476\n",
       "WEDD_YN            473\n",
       "MAX_PRM           6486\n",
       "CUST_INCM         5263\n",
       "dtype: int64"
      ]
     },
     "execution_count": 78,
     "metadata": {},
     "output_type": "execute_result"
    }
   ],
   "source": [
    "df_cust.isnull().sum() # 결측치 비율"
   ]
  },
  {
   "cell_type": "code",
   "execution_count": 79,
   "metadata": {
    "executionInfo": {
     "elapsed": 352,
     "status": "ok",
     "timestamp": 1684836492098,
     "user": {
      "displayName": "Swan Kim",
      "userId": "01255046753553274360"
     },
     "user_tz": -540
    },
    "id": "UD-lVIBuNYKr"
   },
   "outputs": [],
   "source": [
    "# 범주형 변수에서 결측을 하나의 범주로 인정한다.\n",
    "df_cust.fillna({'RESI_TYPE_CODE':'None'}, inplace=True)\n",
    "df_cust.fillna({'CTPR':'None'}, inplace=True)\n",
    "df_cust.fillna({'OCCP_GRP_1':'None'}, inplace=True)\n",
    "df_cust.fillna({'WEDD_YN':'None'}, inplace=True)\n",
    "\n",
    "df_cust = df_cust[df_cust['SIU_CUST_YN'].notna()] # SIU_CUST_YN 이 없는 레코드 제외\n"
   ]
  },
  {
   "cell_type": "code",
   "execution_count": 80,
   "metadata": {
    "colab": {
     "base_uri": "https://localhost:8080/"
    },
    "executionInfo": {
     "elapsed": 8,
     "status": "ok",
     "timestamp": 1684553406078,
     "user": {
      "displayName": "Swan Kim",
      "userId": "01255046753553274360"
     },
     "user_tz": -540
    },
    "id": "7vWmy3TDNaVi",
    "outputId": "ee773e6c-fd10-462e-e51f-399f85e1cef0"
   },
   "outputs": [
    {
     "data": {
      "text/plain": [
       "CUST_ID              0\n",
       "SIU_CUST_YN          0\n",
       "SEX                  0\n",
       "AGE                  0\n",
       "RESI_COST            0\n",
       "RESI_TYPE_CODE       0\n",
       "FP_CAREER            0\n",
       "CTPR                 0\n",
       "OCCP_GRP_1           0\n",
       "TOTALPREM         5321\n",
       "MINCRDT           8766\n",
       "WEDD_YN              0\n",
       "MAX_PRM           5966\n",
       "CUST_INCM         4823\n",
       "dtype: int64"
      ]
     },
     "execution_count": 80,
     "metadata": {},
     "output_type": "execute_result"
    }
   ],
   "source": [
    "df_cust.isnull().sum() # 결측치 비율"
   ]
  },
  {
   "cell_type": "code",
   "execution_count": 81,
   "metadata": {
    "colab": {
     "base_uri": "https://localhost:8080/"
    },
    "executionInfo": {
     "elapsed": 7,
     "status": "ok",
     "timestamp": 1684553406078,
     "user": {
      "displayName": "Swan Kim",
      "userId": "01255046753553274360"
     },
     "user_tz": -540
    },
    "id": "p6AY0y6xNcBa",
    "outputId": "c26ebaea-93fb-4113-c535-e0453088a7f7"
   },
   "outputs": [
    {
     "data": {
      "text/plain": [
       "POLY_NO               0\n",
       "CUST_ID               0\n",
       "CUST_ROLE             0\n",
       "IRKD_CODE_DTAL        0\n",
       "IRKD_CODE_ITEM        0\n",
       "GOOD_CLSF_CDNM        0\n",
       "CNTT_YM               0\n",
       "CLLT_FP_PRNO         82\n",
       "REAL_PAYM_TERM        0\n",
       "SALE_CHNL_CODE        0\n",
       "CNTT_STAT_CODE       82\n",
       "EXPR_YM              82\n",
       "EXTN_YM           54217\n",
       "LAPS_YM           91629\n",
       "PAYM_CYCL_CODE       82\n",
       "MAIN_INSR_AMT        82\n",
       "SUM_ORIG_PREM        82\n",
       "RECP_PUBL            84\n",
       "CNTT_RECP            84\n",
       "MNTH_INCM_AMT        82\n",
       "DISTANCE          10556\n",
       "dtype: int64"
      ]
     },
     "execution_count": 81,
     "metadata": {},
     "output_type": "execute_result"
    }
   ],
   "source": [
    "df_cntt.isnull().sum() # 보험 계약 데이터 결측치 비율"
   ]
  },
  {
   "cell_type": "code",
   "execution_count": 82,
   "metadata": {
    "colab": {
     "base_uri": "https://localhost:8080/"
    },
    "executionInfo": {
     "elapsed": 5,
     "status": "ok",
     "timestamp": 1684553406078,
     "user": {
      "displayName": "Swan Kim",
      "userId": "01255046753553274360"
     },
     "user_tz": -540
    },
    "id": "WwqfXlJbNeJq",
    "outputId": "88f97f63-671f-4ce2-c3b2-c15e617af477"
   },
   "outputs": [
    {
     "data": {
      "text/plain": [
       "POLY_NO            0\n",
       "CUST_ID            0\n",
       "CUST_ROLE          0\n",
       "GOOD_CLSF_CDNM     0\n",
       "CLLT_FP_PRNO      82\n",
       "REAL_PAYM_TERM     0\n",
       "SALE_CHNL_CODE     0\n",
       "CNTT_STAT_CODE    82\n",
       "PAYM_CYCL_CODE    82\n",
       "MAIN_INSR_AMT     82\n",
       "dtype: int64"
      ]
     },
     "execution_count": 82,
     "metadata": {},
     "output_type": "execute_result"
    }
   ],
   "source": [
    "df_cntt = df_cntt.drop(['IRKD_CODE_DTAL','IRKD_CODE_ITEM','CNTT_YM','EXPR_YM','EXTN_YM','LAPS_YM','SUM_ORIG_PREM','RECP_PUBL','CNTT_RECP','MNTH_INCM_AMT','DISTANCE'], axis=1)\n",
    "df_cntt.isnull().sum() # 결측치 비율"
   ]
  },
  {
   "cell_type": "code",
   "execution_count": 83,
   "metadata": {
    "colab": {
     "base_uri": "https://localhost:8080/"
    },
    "executionInfo": {
     "elapsed": 4,
     "status": "ok",
     "timestamp": 1684553406078,
     "user": {
      "displayName": "Swan Kim",
      "userId": "01255046753553274360"
     },
     "user_tz": -540
    },
    "id": "w9UBBi8zNgGy",
    "outputId": "052c2247-7606-4112-aa0d-e66576a03bb4"
   },
   "outputs": [
    {
     "data": {
      "text/plain": [
       "CUST_ID                 0\n",
       "POLY_NO                 0\n",
       "ACCI_OCCP_GRP1       1417\n",
       "ACCI_OCCP_GRP2       1417\n",
       "CHANG_FP_YN             0\n",
       "CNTT_RECP_SQNO          0\n",
       "RECP_DATE               0\n",
       "ORIG_RESN_DATE          0\n",
       "RESN_DATE               0\n",
       "CRNT_PROG_DVSN          0\n",
       "ACCI_DVSN               0\n",
       "CAUS_CODE               0\n",
       "CAUS_CODE_DTAL          0\n",
       "DSAS_NAME               0\n",
       "DMND_RESN_CODE          0\n",
       "DMND_RSCD_SQNO          0\n",
       "HOSP_OTPA_STDT      32571\n",
       "HOSP_OTPA_ENDT      32571\n",
       "RESL_CD1                0\n",
       "RESL_NM1                0\n",
       "VLID_HOSP_OTDA          0\n",
       "HOUSE_HOSP_DIST     17048\n",
       "HOSP_CODE               9\n",
       "ACCI_HOSP_ADDR      10070\n",
       "HOSP_SPEC_DVSN          9\n",
       "CHME_LICE_NO            0\n",
       "PAYM_DATE              13\n",
       "DMND_AMT                0\n",
       "PAYM_AMT                0\n",
       "PMMI_DLNG_YN            0\n",
       "SELF_CHAM          100053\n",
       "NON_PAY            100053\n",
       "TAMT_SFCA          100053\n",
       "PATT_CHRG_TOTA     100053\n",
       "DSCT_AMT           100053\n",
       "COUNT_TRMT_ITEM    100053\n",
       "DCAF_CMPS_XCPA     110963\n",
       "NON_PAY_RATIO           0\n",
       "HEED_HOSP_YN            0\n",
       "dtype: int64"
      ]
     },
     "execution_count": 83,
     "metadata": {},
     "output_type": "execute_result"
    }
   ],
   "source": [
    "df_claim.isnull().sum() # 보험료 청구데이터 결측치 비율"
   ]
  },
  {
   "cell_type": "code",
   "execution_count": 84,
   "metadata": {
    "colab": {
     "base_uri": "https://localhost:8080/"
    },
    "executionInfo": {
     "elapsed": 3,
     "status": "ok",
     "timestamp": 1684553406078,
     "user": {
      "displayName": "Swan Kim",
      "userId": "01255046753553274360"
     },
     "user_tz": -540
    },
    "id": "SPisKkdINhji",
    "outputId": "d6ce35fd-1c41-45d1-b1f9-82290f530be7"
   },
   "outputs": [
    {
     "data": {
      "text/plain": [
       "CUST_ID           0\n",
       "POLY_NO           0\n",
       "ACCI_DVSN         0\n",
       "CAUS_CODE         0\n",
       "CAUS_CODE_DTAL    0\n",
       "DSAS_NAME         0\n",
       "DMND_RESN_CODE    0\n",
       "RESL_CD1          0\n",
       "RESL_NM1          0\n",
       "VLID_HOSP_OTDA    0\n",
       "HOSP_CODE         9\n",
       "HOSP_SPEC_DVSN    9\n",
       "CHME_LICE_NO      0\n",
       "DMND_AMT          0\n",
       "PAYM_AMT          0\n",
       "PMMI_DLNG_YN      0\n",
       "NON_PAY_RATIO     0\n",
       "HEED_HOSP_YN      0\n",
       "dtype: int64"
      ]
     },
     "execution_count": 84,
     "metadata": {},
     "output_type": "execute_result"
    }
   ],
   "source": [
    "df_claim = df_claim.drop(['ACCI_OCCP_GRP1','ACCI_OCCP_GRP2','CHANG_FP_YN','CNTT_RECP_SQNO','RECP_DATE','ORIG_RESN_DATE','RESN_DATE','CRNT_PROG_DVSN',\n",
    "                          'SELF_CHAM','NON_PAY','TAMT_SFCA','PATT_CHRG_TOTA','DSCT_AMT','COUNT_TRMT_ITEM','DCAF_CMPS_XCPA','HOUSE_HOSP_DIST',\n",
    "                          'DMND_RSCD_SQNO','HOSP_OTPA_STDT','HOSP_OTPA_ENDT','ACCI_HOSP_ADDR','PAYM_DATE'], axis=1)\n",
    "df_claim.isnull().sum() # 결측치 비율"
   ]
  },
  {
   "cell_type": "code",
   "execution_count": 85,
   "metadata": {
    "colab": {
     "base_uri": "https://localhost:8080/"
    },
    "executionInfo": {
     "elapsed": 6398,
     "status": "ok",
     "timestamp": 1684836603964,
     "user": {
      "displayName": "Swan Kim",
      "userId": "01255046753553274360"
     },
     "user_tz": -540
    },
    "id": "9SWPGjRHNjnZ",
    "outputId": "8ac27d45-e24a-4c19-c711-18489b7faf97"
   },
   "outputs": [
    {
     "name": "stdout",
     "output_type": "stream",
     "text": [
      "Requirement already satisfied: pandasql in c:\\anaconda3\\lib\\site-packages (0.7.3)\n",
      "Requirement already satisfied: sqlalchemy in c:\\anaconda3\\lib\\site-packages (from pandasql) (1.4.46)\n",
      "Requirement already satisfied: numpy in c:\\anaconda3\\lib\\site-packages (from pandasql) (1.20.3)\n",
      "Requirement already satisfied: pandas in c:\\anaconda3\\lib\\site-packages (from pandasql) (1.3.4)\n",
      "Requirement already satisfied: python-dateutil>=2.7.3 in c:\\anaconda3\\lib\\site-packages (from pandas->pandasql) (2.8.2)\n",
      "Requirement already satisfied: pytz>=2017.3 in c:\\anaconda3\\lib\\site-packages (from pandas->pandasql) (2021.3)\n",
      "Requirement already satisfied: six>=1.5 in c:\\anaconda3\\lib\\site-packages (from python-dateutil>=2.7.3->pandas->pandasql) (1.16.0)\n",
      "Requirement already satisfied: greenlet!=0.4.17 in c:\\anaconda3\\lib\\site-packages (from sqlalchemy->pandasql) (1.1.1)\n"
     ]
    }
   ],
   "source": [
    "!pip install pandasql\n",
    "import numpy as np \n",
    "from pandasql import sqldf\n",
    "dfsql = lambda q: sqldf(q, globals())"
   ]
  },
  {
   "cell_type": "code",
   "execution_count": 86,
   "metadata": {
    "colab": {
     "base_uri": "https://localhost:8080/"
    },
    "executionInfo": {
     "elapsed": 330,
     "status": "ok",
     "timestamp": 1684836612310,
     "user": {
      "displayName": "Swan Kim",
      "userId": "01255046753553274360"
     },
     "user_tz": -540
    },
    "id": "-Q6dCHSqNmmJ",
    "outputId": "9f611b96-843b-4e53-e62d-3e148613a52e"
   },
   "outputs": [
    {
     "data": {
      "text/plain": [
       "N    18801\n",
       "Y     1806\n",
       "Name: SIU_CUST_YN, dtype: int64"
      ]
     },
     "execution_count": 86,
     "metadata": {},
     "output_type": "execute_result"
    }
   ],
   "source": [
    "# EDA\n",
    "df_cust['SIU_CUST_YN'].value_counts() # class Imblance 확인"
   ]
  },
  {
   "cell_type": "code",
   "execution_count": 87,
   "metadata": {
    "colab": {
     "base_uri": "https://localhost:8080/",
     "height": 175
    },
    "executionInfo": {
     "elapsed": 5,
     "status": "ok",
     "timestamp": 1684553409980,
     "user": {
      "displayName": "Swan Kim",
      "userId": "01255046753553274360"
     },
     "user_tz": -540
    },
    "id": "LftAXE8_HWnp",
    "outputId": "0782a455-f84d-41aa-d4da-4a2f0f23c717"
   },
   "outputs": [
    {
     "data": {
      "text/html": [
       "<div>\n",
       "<style scoped>\n",
       "    .dataframe tbody tr th:only-of-type {\n",
       "        vertical-align: middle;\n",
       "    }\n",
       "\n",
       "    .dataframe tbody tr th {\n",
       "        vertical-align: top;\n",
       "    }\n",
       "\n",
       "    .dataframe thead th {\n",
       "        text-align: right;\n",
       "    }\n",
       "</style>\n",
       "<table border=\"1\" class=\"dataframe\">\n",
       "  <thead>\n",
       "    <tr style=\"text-align: right;\">\n",
       "      <th></th>\n",
       "      <th>FP_CAREER</th>\n",
       "      <th>SIU_CUST_YN</th>\n",
       "      <th>cnt</th>\n",
       "    </tr>\n",
       "  </thead>\n",
       "  <tbody>\n",
       "    <tr>\n",
       "      <th>0</th>\n",
       "      <td>N</td>\n",
       "      <td>N</td>\n",
       "      <td>17858</td>\n",
       "    </tr>\n",
       "    <tr>\n",
       "      <th>1</th>\n",
       "      <td>N</td>\n",
       "      <td>Y</td>\n",
       "      <td>1630</td>\n",
       "    </tr>\n",
       "    <tr>\n",
       "      <th>2</th>\n",
       "      <td>Y</td>\n",
       "      <td>N</td>\n",
       "      <td>943</td>\n",
       "    </tr>\n",
       "    <tr>\n",
       "      <th>3</th>\n",
       "      <td>Y</td>\n",
       "      <td>Y</td>\n",
       "      <td>176</td>\n",
       "    </tr>\n",
       "  </tbody>\n",
       "</table>\n",
       "</div>"
      ],
      "text/plain": [
       "  FP_CAREER SIU_CUST_YN    cnt\n",
       "0         N           N  17858\n",
       "1         N           Y   1630\n",
       "2         Y           N    943\n",
       "3         Y           Y    176"
      ]
     },
     "execution_count": 87,
     "metadata": {},
     "output_type": "execute_result"
    }
   ],
   "source": [
    "dfsql('''select FP_CAREER, SIU_CUST_YN, count(*) as cnt from df_cust group by FP_CAREER, SIU_CUST_YN''')"
   ]
  },
  {
   "cell_type": "code",
   "execution_count": 88,
   "metadata": {
    "colab": {
     "base_uri": "https://localhost:8080/",
     "height": 175
    },
    "executionInfo": {
     "elapsed": 4,
     "status": "ok",
     "timestamp": 1684553409980,
     "user": {
      "displayName": "Swan Kim",
      "userId": "01255046753553274360"
     },
     "user_tz": -540
    },
    "id": "AgcNt-4fHwrJ",
    "outputId": "ce54e748-e28f-4075-ab0e-4324d7031e36"
   },
   "outputs": [
    {
     "data": {
      "text/html": [
       "<div>\n",
       "<style scoped>\n",
       "    .dataframe tbody tr th:only-of-type {\n",
       "        vertical-align: middle;\n",
       "    }\n",
       "\n",
       "    .dataframe tbody tr th {\n",
       "        vertical-align: top;\n",
       "    }\n",
       "\n",
       "    .dataframe thead th {\n",
       "        text-align: right;\n",
       "    }\n",
       "</style>\n",
       "<table border=\"1\" class=\"dataframe\">\n",
       "  <thead>\n",
       "    <tr style=\"text-align: right;\">\n",
       "      <th></th>\n",
       "      <th>SEX</th>\n",
       "      <th>SIU_CUST_YN</th>\n",
       "      <th>cnt</th>\n",
       "    </tr>\n",
       "  </thead>\n",
       "  <tbody>\n",
       "    <tr>\n",
       "      <th>0</th>\n",
       "      <td>1</td>\n",
       "      <td>N</td>\n",
       "      <td>8310</td>\n",
       "    </tr>\n",
       "    <tr>\n",
       "      <th>1</th>\n",
       "      <td>1</td>\n",
       "      <td>Y</td>\n",
       "      <td>651</td>\n",
       "    </tr>\n",
       "    <tr>\n",
       "      <th>2</th>\n",
       "      <td>2</td>\n",
       "      <td>N</td>\n",
       "      <td>10491</td>\n",
       "    </tr>\n",
       "    <tr>\n",
       "      <th>3</th>\n",
       "      <td>2</td>\n",
       "      <td>Y</td>\n",
       "      <td>1155</td>\n",
       "    </tr>\n",
       "  </tbody>\n",
       "</table>\n",
       "</div>"
      ],
      "text/plain": [
       "   SEX SIU_CUST_YN    cnt\n",
       "0    1           N   8310\n",
       "1    1           Y    651\n",
       "2    2           N  10491\n",
       "3    2           Y   1155"
      ]
     },
     "execution_count": 88,
     "metadata": {},
     "output_type": "execute_result"
    }
   ],
   "source": [
    "dfsql('''select SEX, SIU_CUST_YN, count(*) as cnt from df_cust \n",
    "         group by SEX, SIU_CUST_YN''')"
   ]
  },
  {
   "cell_type": "code",
   "execution_count": 89,
   "metadata": {
    "colab": {
     "base_uri": "https://localhost:8080/",
     "height": 1000
    },
    "executionInfo": {
     "elapsed": 967,
     "status": "ok",
     "timestamp": 1684557356813,
     "user": {
      "displayName": "Swan Kim",
      "userId": "01255046753553274360"
     },
     "user_tz": -540
    },
    "id": "1k2wTAD2cJ0y",
    "outputId": "dd50af4f-e838-4606-c89f-2380d95302bb"
   },
   "outputs": [
    {
     "data": {
      "text/html": [
       "<div>\n",
       "<style scoped>\n",
       "    .dataframe tbody tr th:only-of-type {\n",
       "        vertical-align: middle;\n",
       "    }\n",
       "\n",
       "    .dataframe tbody tr th {\n",
       "        vertical-align: top;\n",
       "    }\n",
       "\n",
       "    .dataframe thead th {\n",
       "        text-align: right;\n",
       "    }\n",
       "</style>\n",
       "<table border=\"1\" class=\"dataframe\">\n",
       "  <thead>\n",
       "    <tr style=\"text-align: right;\">\n",
       "      <th></th>\n",
       "      <th>CTPR</th>\n",
       "      <th>SIU_CUST_YN</th>\n",
       "      <th>cnt</th>\n",
       "    </tr>\n",
       "  </thead>\n",
       "  <tbody>\n",
       "    <tr>\n",
       "      <th>0</th>\n",
       "      <td>None</td>\n",
       "      <td>N</td>\n",
       "      <td>547</td>\n",
       "    </tr>\n",
       "    <tr>\n",
       "      <th>1</th>\n",
       "      <td>None</td>\n",
       "      <td>Y</td>\n",
       "      <td>28</td>\n",
       "    </tr>\n",
       "    <tr>\n",
       "      <th>2</th>\n",
       "      <td>강원</td>\n",
       "      <td>N</td>\n",
       "      <td>450</td>\n",
       "    </tr>\n",
       "    <tr>\n",
       "      <th>3</th>\n",
       "      <td>강원</td>\n",
       "      <td>Y</td>\n",
       "      <td>74</td>\n",
       "    </tr>\n",
       "    <tr>\n",
       "      <th>4</th>\n",
       "      <td>경기</td>\n",
       "      <td>N</td>\n",
       "      <td>4469</td>\n",
       "    </tr>\n",
       "    <tr>\n",
       "      <th>5</th>\n",
       "      <td>경기</td>\n",
       "      <td>Y</td>\n",
       "      <td>349</td>\n",
       "    </tr>\n",
       "    <tr>\n",
       "      <th>6</th>\n",
       "      <td>경남</td>\n",
       "      <td>N</td>\n",
       "      <td>1368</td>\n",
       "    </tr>\n",
       "    <tr>\n",
       "      <th>7</th>\n",
       "      <td>경남</td>\n",
       "      <td>Y</td>\n",
       "      <td>94</td>\n",
       "    </tr>\n",
       "    <tr>\n",
       "      <th>8</th>\n",
       "      <td>경북</td>\n",
       "      <td>N</td>\n",
       "      <td>851</td>\n",
       "    </tr>\n",
       "    <tr>\n",
       "      <th>9</th>\n",
       "      <td>경북</td>\n",
       "      <td>Y</td>\n",
       "      <td>45</td>\n",
       "    </tr>\n",
       "    <tr>\n",
       "      <th>10</th>\n",
       "      <td>광주</td>\n",
       "      <td>N</td>\n",
       "      <td>641</td>\n",
       "    </tr>\n",
       "    <tr>\n",
       "      <th>11</th>\n",
       "      <td>광주</td>\n",
       "      <td>Y</td>\n",
       "      <td>156</td>\n",
       "    </tr>\n",
       "    <tr>\n",
       "      <th>12</th>\n",
       "      <td>대구</td>\n",
       "      <td>N</td>\n",
       "      <td>853</td>\n",
       "    </tr>\n",
       "    <tr>\n",
       "      <th>13</th>\n",
       "      <td>대구</td>\n",
       "      <td>Y</td>\n",
       "      <td>56</td>\n",
       "    </tr>\n",
       "    <tr>\n",
       "      <th>14</th>\n",
       "      <td>대전</td>\n",
       "      <td>N</td>\n",
       "      <td>426</td>\n",
       "    </tr>\n",
       "    <tr>\n",
       "      <th>15</th>\n",
       "      <td>대전</td>\n",
       "      <td>Y</td>\n",
       "      <td>40</td>\n",
       "    </tr>\n",
       "    <tr>\n",
       "      <th>16</th>\n",
       "      <td>부산</td>\n",
       "      <td>N</td>\n",
       "      <td>1192</td>\n",
       "    </tr>\n",
       "    <tr>\n",
       "      <th>17</th>\n",
       "      <td>부산</td>\n",
       "      <td>Y</td>\n",
       "      <td>198</td>\n",
       "    </tr>\n",
       "    <tr>\n",
       "      <th>18</th>\n",
       "      <td>서울</td>\n",
       "      <td>N</td>\n",
       "      <td>3083</td>\n",
       "    </tr>\n",
       "    <tr>\n",
       "      <th>19</th>\n",
       "      <td>서울</td>\n",
       "      <td>Y</td>\n",
       "      <td>306</td>\n",
       "    </tr>\n",
       "    <tr>\n",
       "      <th>20</th>\n",
       "      <td>세종</td>\n",
       "      <td>N</td>\n",
       "      <td>35</td>\n",
       "    </tr>\n",
       "    <tr>\n",
       "      <th>21</th>\n",
       "      <td>세종</td>\n",
       "      <td>Y</td>\n",
       "      <td>2</td>\n",
       "    </tr>\n",
       "    <tr>\n",
       "      <th>22</th>\n",
       "      <td>울산</td>\n",
       "      <td>N</td>\n",
       "      <td>626</td>\n",
       "    </tr>\n",
       "    <tr>\n",
       "      <th>23</th>\n",
       "      <td>울산</td>\n",
       "      <td>Y</td>\n",
       "      <td>19</td>\n",
       "    </tr>\n",
       "    <tr>\n",
       "      <th>24</th>\n",
       "      <td>인천</td>\n",
       "      <td>N</td>\n",
       "      <td>1153</td>\n",
       "    </tr>\n",
       "    <tr>\n",
       "      <th>25</th>\n",
       "      <td>인천</td>\n",
       "      <td>Y</td>\n",
       "      <td>181</td>\n",
       "    </tr>\n",
       "    <tr>\n",
       "      <th>26</th>\n",
       "      <td>전남</td>\n",
       "      <td>N</td>\n",
       "      <td>934</td>\n",
       "    </tr>\n",
       "    <tr>\n",
       "      <th>27</th>\n",
       "      <td>전남</td>\n",
       "      <td>Y</td>\n",
       "      <td>102</td>\n",
       "    </tr>\n",
       "    <tr>\n",
       "      <th>28</th>\n",
       "      <td>전북</td>\n",
       "      <td>N</td>\n",
       "      <td>790</td>\n",
       "    </tr>\n",
       "    <tr>\n",
       "      <th>29</th>\n",
       "      <td>전북</td>\n",
       "      <td>Y</td>\n",
       "      <td>102</td>\n",
       "    </tr>\n",
       "    <tr>\n",
       "      <th>30</th>\n",
       "      <td>제주</td>\n",
       "      <td>N</td>\n",
       "      <td>174</td>\n",
       "    </tr>\n",
       "    <tr>\n",
       "      <th>31</th>\n",
       "      <td>충남</td>\n",
       "      <td>N</td>\n",
       "      <td>654</td>\n",
       "    </tr>\n",
       "    <tr>\n",
       "      <th>32</th>\n",
       "      <td>충남</td>\n",
       "      <td>Y</td>\n",
       "      <td>39</td>\n",
       "    </tr>\n",
       "    <tr>\n",
       "      <th>33</th>\n",
       "      <td>충북</td>\n",
       "      <td>N</td>\n",
       "      <td>555</td>\n",
       "    </tr>\n",
       "    <tr>\n",
       "      <th>34</th>\n",
       "      <td>충북</td>\n",
       "      <td>Y</td>\n",
       "      <td>15</td>\n",
       "    </tr>\n",
       "  </tbody>\n",
       "</table>\n",
       "</div>"
      ],
      "text/plain": [
       "    CTPR SIU_CUST_YN   cnt\n",
       "0   None           N   547\n",
       "1   None           Y    28\n",
       "2     강원           N   450\n",
       "3     강원           Y    74\n",
       "4     경기           N  4469\n",
       "5     경기           Y   349\n",
       "6     경남           N  1368\n",
       "7     경남           Y    94\n",
       "8     경북           N   851\n",
       "9     경북           Y    45\n",
       "10    광주           N   641\n",
       "11    광주           Y   156\n",
       "12    대구           N   853\n",
       "13    대구           Y    56\n",
       "14    대전           N   426\n",
       "15    대전           Y    40\n",
       "16    부산           N  1192\n",
       "17    부산           Y   198\n",
       "18    서울           N  3083\n",
       "19    서울           Y   306\n",
       "20    세종           N    35\n",
       "21    세종           Y     2\n",
       "22    울산           N   626\n",
       "23    울산           Y    19\n",
       "24    인천           N  1153\n",
       "25    인천           Y   181\n",
       "26    전남           N   934\n",
       "27    전남           Y   102\n",
       "28    전북           N   790\n",
       "29    전북           Y   102\n",
       "30    제주           N   174\n",
       "31    충남           N   654\n",
       "32    충남           Y    39\n",
       "33    충북           N   555\n",
       "34    충북           Y    15"
      ]
     },
     "execution_count": 89,
     "metadata": {},
     "output_type": "execute_result"
    }
   ],
   "source": [
    "dfsql('''select CTPR, SIU_CUST_YN, count(*) as cnt from df_cust \n",
    "         group by CTPR, SIU_CUST_YN''')"
   ]
  },
  {
   "cell_type": "code",
   "execution_count": 90,
   "metadata": {
    "colab": {
     "base_uri": "https://localhost:8080/",
     "height": 112
    },
    "executionInfo": {
     "elapsed": 603,
     "status": "ok",
     "timestamp": 1684553410579,
     "user": {
      "displayName": "Swan Kim",
      "userId": "01255046753553274360"
     },
     "user_tz": -540
    },
    "id": "AYZoy4G9H0mh",
    "outputId": "c76ccd25-8993-4e33-8f2d-9dc454470c8f"
   },
   "outputs": [
    {
     "data": {
      "text/html": [
       "<div>\n",
       "<style scoped>\n",
       "    .dataframe tbody tr th:only-of-type {\n",
       "        vertical-align: middle;\n",
       "    }\n",
       "\n",
       "    .dataframe tbody tr th {\n",
       "        vertical-align: top;\n",
       "    }\n",
       "\n",
       "    .dataframe thead th {\n",
       "        text-align: right;\n",
       "    }\n",
       "</style>\n",
       "<table border=\"1\" class=\"dataframe\">\n",
       "  <thead>\n",
       "    <tr style=\"text-align: right;\">\n",
       "      <th></th>\n",
       "      <th>SIU_CUST_YN</th>\n",
       "      <th>avg(age)</th>\n",
       "    </tr>\n",
       "  </thead>\n",
       "  <tbody>\n",
       "    <tr>\n",
       "      <th>0</th>\n",
       "      <td>N</td>\n",
       "      <td>44.463646</td>\n",
       "    </tr>\n",
       "    <tr>\n",
       "      <th>1</th>\n",
       "      <td>Y</td>\n",
       "      <td>47.295681</td>\n",
       "    </tr>\n",
       "  </tbody>\n",
       "</table>\n",
       "</div>"
      ],
      "text/plain": [
       "  SIU_CUST_YN   avg(age)\n",
       "0           N  44.463646\n",
       "1           Y  47.295681"
      ]
     },
     "execution_count": 90,
     "metadata": {},
     "output_type": "execute_result"
    }
   ],
   "source": [
    "dfsql(''' select SIU_CUST_YN, avg(age) from df_cust group by SIU_CUST_YN ''')"
   ]
  },
  {
   "cell_type": "code",
   "execution_count": 91,
   "metadata": {
    "colab": {
     "base_uri": "https://localhost:8080/",
     "height": 112
    },
    "executionInfo": {
     "elapsed": 4,
     "status": "ok",
     "timestamp": 1684553410580,
     "user": {
      "displayName": "Swan Kim",
      "userId": "01255046753553274360"
     },
     "user_tz": -540
    },
    "id": "G1JTEik2H6Lh",
    "outputId": "d5c99545-43b2-45f2-f503-893ea96902e3"
   },
   "outputs": [
    {
     "data": {
      "text/html": [
       "<div>\n",
       "<style scoped>\n",
       "    .dataframe tbody tr th:only-of-type {\n",
       "        vertical-align: middle;\n",
       "    }\n",
       "\n",
       "    .dataframe tbody tr th {\n",
       "        vertical-align: top;\n",
       "    }\n",
       "\n",
       "    .dataframe thead th {\n",
       "        text-align: right;\n",
       "    }\n",
       "</style>\n",
       "<table border=\"1\" class=\"dataframe\">\n",
       "  <thead>\n",
       "    <tr style=\"text-align: right;\">\n",
       "      <th></th>\n",
       "      <th>SIU_CUST_YN</th>\n",
       "      <th>avg(MINCRDT)</th>\n",
       "    </tr>\n",
       "  </thead>\n",
       "  <tbody>\n",
       "    <tr>\n",
       "      <th>0</th>\n",
       "      <td>N</td>\n",
       "      <td>5.811037</td>\n",
       "    </tr>\n",
       "    <tr>\n",
       "      <th>1</th>\n",
       "      <td>Y</td>\n",
       "      <td>6.303158</td>\n",
       "    </tr>\n",
       "  </tbody>\n",
       "</table>\n",
       "</div>"
      ],
      "text/plain": [
       "  SIU_CUST_YN  avg(MINCRDT)\n",
       "0           N      5.811037\n",
       "1           Y      6.303158"
      ]
     },
     "execution_count": 91,
     "metadata": {},
     "output_type": "execute_result"
    }
   ],
   "source": [
    "dfsql(''' select SIU_CUST_YN, avg(MINCRDT) from df_cust group by SIU_CUST_YN ''')"
   ]
  },
  {
   "cell_type": "code",
   "execution_count": null,
   "metadata": {
    "id": "Vprx5p9dcEu6"
   },
   "outputs": [],
   "source": []
  },
  {
   "cell_type": "code",
   "execution_count": 92,
   "metadata": {
    "colab": {
     "base_uri": "https://localhost:8080/",
     "height": 423
    },
    "executionInfo": {
     "elapsed": 1539,
     "status": "ok",
     "timestamp": 1684553412116,
     "user": {
      "displayName": "Swan Kim",
      "userId": "01255046753553274360"
     },
     "user_tz": -540
    },
    "id": "6YaJ-q1eNov5",
    "outputId": "5ef3d126-dcf1-41fc-f8f5-460cc827abc0"
   },
   "outputs": [
    {
     "data": {
      "text/html": [
       "<div>\n",
       "<style scoped>\n",
       "    .dataframe tbody tr th:only-of-type {\n",
       "        vertical-align: middle;\n",
       "    }\n",
       "\n",
       "    .dataframe tbody tr th {\n",
       "        vertical-align: top;\n",
       "    }\n",
       "\n",
       "    .dataframe thead th {\n",
       "        text-align: right;\n",
       "    }\n",
       "</style>\n",
       "<table border=\"1\" class=\"dataframe\">\n",
       "  <thead>\n",
       "    <tr style=\"text-align: right;\">\n",
       "      <th></th>\n",
       "      <th>CUST_ID</th>\n",
       "      <th>n_insu</th>\n",
       "      <th>pay_term</th>\n",
       "      <th>pay_cycle</th>\n",
       "      <th>insu_amt</th>\n",
       "    </tr>\n",
       "  </thead>\n",
       "  <tbody>\n",
       "    <tr>\n",
       "      <th>0</th>\n",
       "      <td>1</td>\n",
       "      <td>34</td>\n",
       "      <td>3.147059</td>\n",
       "      <td>8.705882</td>\n",
       "      <td>19202.405676</td>\n",
       "    </tr>\n",
       "    <tr>\n",
       "      <th>1</th>\n",
       "      <td>2</td>\n",
       "      <td>38</td>\n",
       "      <td>4.657895</td>\n",
       "      <td>8.131579</td>\n",
       "      <td>20005.105263</td>\n",
       "    </tr>\n",
       "    <tr>\n",
       "      <th>2</th>\n",
       "      <td>3</td>\n",
       "      <td>2</td>\n",
       "      <td>10.000000</td>\n",
       "      <td>1.000000</td>\n",
       "      <td>10000.000000</td>\n",
       "    </tr>\n",
       "    <tr>\n",
       "      <th>3</th>\n",
       "      <td>4</td>\n",
       "      <td>108</td>\n",
       "      <td>8.657407</td>\n",
       "      <td>1.129630</td>\n",
       "      <td>15616.540694</td>\n",
       "    </tr>\n",
       "    <tr>\n",
       "      <th>4</th>\n",
       "      <td>5</td>\n",
       "      <td>5</td>\n",
       "      <td>12.200000</td>\n",
       "      <td>0.800000</td>\n",
       "      <td>29600.000000</td>\n",
       "    </tr>\n",
       "    <tr>\n",
       "      <th>...</th>\n",
       "      <td>...</td>\n",
       "      <td>...</td>\n",
       "      <td>...</td>\n",
       "      <td>...</td>\n",
       "      <td>...</td>\n",
       "    </tr>\n",
       "    <tr>\n",
       "      <th>22395</th>\n",
       "      <td>22396</td>\n",
       "      <td>2</td>\n",
       "      <td>20.000000</td>\n",
       "      <td>1.000000</td>\n",
       "      <td>52500.000000</td>\n",
       "    </tr>\n",
       "    <tr>\n",
       "      <th>22396</th>\n",
       "      <td>22397</td>\n",
       "      <td>1</td>\n",
       "      <td>15.000000</td>\n",
       "      <td>1.000000</td>\n",
       "      <td>20000.000000</td>\n",
       "    </tr>\n",
       "    <tr>\n",
       "      <th>22397</th>\n",
       "      <td>22398</td>\n",
       "      <td>3</td>\n",
       "      <td>1.000000</td>\n",
       "      <td>4.666667</td>\n",
       "      <td>100.000000</td>\n",
       "    </tr>\n",
       "    <tr>\n",
       "      <th>22398</th>\n",
       "      <td>22399</td>\n",
       "      <td>4</td>\n",
       "      <td>16.750000</td>\n",
       "      <td>1.000000</td>\n",
       "      <td>89913.493250</td>\n",
       "    </tr>\n",
       "    <tr>\n",
       "      <th>22399</th>\n",
       "      <td>22400</td>\n",
       "      <td>1</td>\n",
       "      <td>20.000000</td>\n",
       "      <td>1.000000</td>\n",
       "      <td>100000.000000</td>\n",
       "    </tr>\n",
       "  </tbody>\n",
       "</table>\n",
       "<p>22400 rows × 5 columns</p>\n",
       "</div>"
      ],
      "text/plain": [
       "       CUST_ID  n_insu   pay_term  pay_cycle       insu_amt\n",
       "0            1      34   3.147059   8.705882   19202.405676\n",
       "1            2      38   4.657895   8.131579   20005.105263\n",
       "2            3       2  10.000000   1.000000   10000.000000\n",
       "3            4     108   8.657407   1.129630   15616.540694\n",
       "4            5       5  12.200000   0.800000   29600.000000\n",
       "...        ...     ...        ...        ...            ...\n",
       "22395    22396       2  20.000000   1.000000   52500.000000\n",
       "22396    22397       1  15.000000   1.000000   20000.000000\n",
       "22397    22398       3   1.000000   4.666667     100.000000\n",
       "22398    22399       4  16.750000   1.000000   89913.493250\n",
       "22399    22400       1  20.000000   1.000000  100000.000000\n",
       "\n",
       "[22400 rows x 5 columns]"
      ]
     },
     "execution_count": 92,
     "metadata": {},
     "output_type": "execute_result"
    }
   ],
   "source": [
    "# 고객 단위로 cntt 데이터 만들기(고객 한명이 여러 증권을 가지고 있으므로 고객단위로 합친다)\n",
    "cust_cntt = dfsql('''select cust_id, count(poly_no) as n_insu, avg(REAL_PAYM_TERM) as pay_term, avg(PAYM_CYCL_CODE) as pay_cycle, avg(MAIN_INSR_AMT)/1000 as insu_amt from df_cntt group by cust_id''') \n",
    "cust_cntt"
   ]
  },
  {
   "cell_type": "code",
   "execution_count": 93,
   "metadata": {
    "id": "XTZ-ewKTNun6"
   },
   "outputs": [],
   "source": [
    "# 고객이 가지고 있는 여러 증권을 통합하여 고객단위의 범주형 변수 X의 비중을 만드는 함수\n",
    "# 예를 들어, CUST_ROLE은 \n",
    "# 계약에 있어 고객의 역할을 구분한 코드\n",
    "# 계약자이나 주피보험자는 아님(0) // 계약자이며 주피보험자임(1) \n",
    "# // 계약자는 아니지만 주피보험자임(2) //주피보험자는 아니지만 피보험자임(21)\n",
    "# // 피보험자는 아니지만 생존수익자(3)// 피보험자 및 생존수익자는 아니지만 입원장해수익자(4)\n",
    "# // 피보험자는 생존급부의 수익자는 아니지만 사망수익자(5) 인데, 각 증권전체에 대해 범주별 비율을 구한다.\n",
    "\n",
    "# 범주가 많은 경우, 하나의 변수가 여러개의 범주 변수로 나뉘는데 그 수를 k개로 줄이기 위해 SVD를 적용하였음\n",
    "\n",
    "def feat_gen1(X, k):\n",
    "    # 고객 1명이 가지고 있는 모든 증권의 범주 X를 구한다.\n",
    "    _tmp = dfsql(\"select cust_id, \" + X + \" from df_cntt order by cust_id\")\n",
    "    # 범주의 Unique 값을 구한다.\n",
    "    col_names = _tmp[X].unique().tolist()\n",
    "    # 범주가 없는 경우 'None' 라는 범주로 만든다.\n",
    "    idx = [i for i,v in enumerate(col_names) if v == None]\n",
    "    if len(idx) > 0:\n",
    "        col_names[idx[0]] = 'None'\n",
    "    # Feature 행렬 생성을 위해 범주를 행렬 숫자 위치로 변환하는 딕셔너리 생성\n",
    "    col_names = sorted(col_names)\n",
    "    col_name_dic = dict()\n",
    "    for i, val in enumerate(col_names):\n",
    "        col_name_dic[val] = i\n",
    "    # 행은 고객, 열은 범주에 해당하는 행렬을 생성한다. (Sparse Matrix)\n",
    "    _tmp1 = np.zeros((22400, len(col_name_dic)))\n",
    "    for idx, row in _tmp.iterrows():\n",
    "        if row[X] != None:\n",
    "            _tmp1[row['CUST_ID']-1, col_name_dic[row[X]]] += 1 \n",
    "        else:\n",
    "            _tmp1[row['CUST_ID']-1, col_name_dic['None']] += 1\n",
    "    \n",
    "    # Sparse Matrix 에 대한 SVD로 차원축소\n",
    "    U, s, VT = np.linalg.svd(_tmp1, full_matrices=True) \n",
    "    U = U[:,:k]\n",
    "    S = np.diag(s[:k]) \n",
    "    VT = VT[:k, :]\n",
    "    return U.dot(S)"
   ]
  },
  {
   "cell_type": "code",
   "execution_count": 94,
   "metadata": {
    "id": "vB2OE0k-N31p"
   },
   "outputs": [],
   "source": [
    "cust_roles = feat_gen1('CUST_ROLE', 3)\n",
    "good_clsf = feat_gen1('GOOD_CLSF_CDNM', 3)\n",
    "sale_chnl = feat_gen1('SALE_CHNL_CODE', 3)\n",
    "cntt_stat = feat_gen1('CNTT_STAT_CODE', 3)"
   ]
  },
  {
   "cell_type": "code",
   "execution_count": 95,
   "metadata": {
    "id": "I5ShQq9TN5UR"
   },
   "outputs": [],
   "source": [
    "_tmp = np.concatenate((cust_roles, good_clsf), axis=1)\n",
    "_tmp = np.concatenate((_tmp, sale_chnl), axis=1)\n",
    "_tmp = np.concatenate((_tmp, cntt_stat), axis=1)"
   ]
  },
  {
   "cell_type": "code",
   "execution_count": 96,
   "metadata": {
    "colab": {
     "base_uri": "https://localhost:8080/"
    },
    "executionInfo": {
     "elapsed": 15,
     "status": "ok",
     "timestamp": 1684553484404,
     "user": {
      "displayName": "Swan Kim",
      "userId": "01255046753553274360"
     },
     "user_tz": -540
    },
    "id": "hoPS-WC5OR6E",
    "outputId": "fb3ee73a-05f0-4b6f-ff88-ac0170675f51"
   },
   "outputs": [
    {
     "data": {
      "text/plain": [
       "(22400, 12)"
      ]
     },
     "execution_count": 96,
     "metadata": {},
     "output_type": "execute_result"
    }
   ],
   "source": [
    "_tmp.shape # 고객단위로 범주형 변수 특징 요약을 합친 결과"
   ]
  },
  {
   "cell_type": "code",
   "execution_count": 97,
   "metadata": {
    "id": "aQQ2NsaGOWCX"
   },
   "outputs": [],
   "source": [
    "# 고객단위로 범주형 변수 특징 요약을 합친 결과를 데이터프레임으로 만든다.\n",
    "_tmp1 = pd.DataFrame(_tmp, columns =['cust_roles1','cust_roles2','cust_roles3','good_clsf1','good_clsf2','good_clsf3','sale_chnl1','sale_chnl2','sale_chnl3','cntt_stat1','cntt_stat2','cntt_stat3'])"
   ]
  },
  {
   "cell_type": "code",
   "execution_count": 98,
   "metadata": {
    "colab": {
     "base_uri": "https://localhost:8080/",
     "height": 423
    },
    "executionInfo": {
     "elapsed": 14,
     "status": "ok",
     "timestamp": 1684553484404,
     "user": {
      "displayName": "Swan Kim",
      "userId": "01255046753553274360"
     },
     "user_tz": -540
    },
    "id": "cBT5fC99ObVw",
    "outputId": "2e4c10d4-14cd-491c-b5ac-85c0ec8c9ad3"
   },
   "outputs": [
    {
     "data": {
      "text/html": [
       "<div>\n",
       "<style scoped>\n",
       "    .dataframe tbody tr th:only-of-type {\n",
       "        vertical-align: middle;\n",
       "    }\n",
       "\n",
       "    .dataframe tbody tr th {\n",
       "        vertical-align: top;\n",
       "    }\n",
       "\n",
       "    .dataframe thead th {\n",
       "        text-align: right;\n",
       "    }\n",
       "</style>\n",
       "<table border=\"1\" class=\"dataframe\">\n",
       "  <thead>\n",
       "    <tr style=\"text-align: right;\">\n",
       "      <th></th>\n",
       "      <th>cust_roles1</th>\n",
       "      <th>cust_roles2</th>\n",
       "      <th>cust_roles3</th>\n",
       "      <th>good_clsf1</th>\n",
       "      <th>good_clsf2</th>\n",
       "      <th>good_clsf3</th>\n",
       "      <th>sale_chnl1</th>\n",
       "      <th>sale_chnl2</th>\n",
       "      <th>sale_chnl3</th>\n",
       "      <th>cntt_stat1</th>\n",
       "      <th>cntt_stat2</th>\n",
       "      <th>cntt_stat3</th>\n",
       "      <th>CUST_ID</th>\n",
       "    </tr>\n",
       "  </thead>\n",
       "  <tbody>\n",
       "    <tr>\n",
       "      <th>0</th>\n",
       "      <td>-13.666623</td>\n",
       "      <td>22.310595</td>\n",
       "      <td>-3.389411</td>\n",
       "      <td>24.835399</td>\n",
       "      <td>13.065558</td>\n",
       "      <td>-2.344943</td>\n",
       "      <td>-11.015449</td>\n",
       "      <td>24.174359</td>\n",
       "      <td>0.367739</td>\n",
       "      <td>-8.890348</td>\n",
       "      <td>-0.128098</td>\n",
       "      <td>4.147008</td>\n",
       "      <td>1</td>\n",
       "    </tr>\n",
       "    <tr>\n",
       "      <th>1</th>\n",
       "      <td>-13.481294</td>\n",
       "      <td>26.579763</td>\n",
       "      <td>-7.788055</td>\n",
       "      <td>26.718178</td>\n",
       "      <td>13.497723</td>\n",
       "      <td>-3.571536</td>\n",
       "      <td>-11.125800</td>\n",
       "      <td>25.198111</td>\n",
       "      <td>-2.597988</td>\n",
       "      <td>-5.219807</td>\n",
       "      <td>-4.093443</td>\n",
       "      <td>8.173380</td>\n",
       "      <td>2</td>\n",
       "    </tr>\n",
       "    <tr>\n",
       "      <th>2</th>\n",
       "      <td>-1.671212</td>\n",
       "      <td>-0.284033</td>\n",
       "      <td>1.043320</td>\n",
       "      <td>1.688210</td>\n",
       "      <td>1.012337</td>\n",
       "      <td>-0.298138</td>\n",
       "      <td>-1.992532</td>\n",
       "      <td>-0.164353</td>\n",
       "      <td>0.023479</td>\n",
       "      <td>-0.159311</td>\n",
       "      <td>-0.204562</td>\n",
       "      <td>0.505065</td>\n",
       "      <td>3</td>\n",
       "    </tr>\n",
       "    <tr>\n",
       "      <th>3</th>\n",
       "      <td>-57.382062</td>\n",
       "      <td>0.232708</td>\n",
       "      <td>-11.121329</td>\n",
       "      <td>41.984360</td>\n",
       "      <td>-0.369456</td>\n",
       "      <td>17.382151</td>\n",
       "      <td>-87.264550</td>\n",
       "      <td>11.894616</td>\n",
       "      <td>-1.767435</td>\n",
       "      <td>-66.580122</td>\n",
       "      <td>12.162052</td>\n",
       "      <td>7.920367</td>\n",
       "      <td>4</td>\n",
       "    </tr>\n",
       "    <tr>\n",
       "      <th>4</th>\n",
       "      <td>-3.795017</td>\n",
       "      <td>-0.921310</td>\n",
       "      <td>1.268127</td>\n",
       "      <td>1.439574</td>\n",
       "      <td>-0.542247</td>\n",
       "      <td>-0.146374</td>\n",
       "      <td>-4.010353</td>\n",
       "      <td>-0.325049</td>\n",
       "      <td>-0.077270</td>\n",
       "      <td>-2.056674</td>\n",
       "      <td>0.477366</td>\n",
       "      <td>0.803574</td>\n",
       "      <td>5</td>\n",
       "    </tr>\n",
       "    <tr>\n",
       "      <th>...</th>\n",
       "      <td>...</td>\n",
       "      <td>...</td>\n",
       "      <td>...</td>\n",
       "      <td>...</td>\n",
       "      <td>...</td>\n",
       "      <td>...</td>\n",
       "      <td>...</td>\n",
       "      <td>...</td>\n",
       "      <td>...</td>\n",
       "      <td>...</td>\n",
       "      <td>...</td>\n",
       "      <td>...</td>\n",
       "      <td>...</td>\n",
       "    </tr>\n",
       "    <tr>\n",
       "      <th>22395</th>\n",
       "      <td>-1.671212</td>\n",
       "      <td>-0.284033</td>\n",
       "      <td>1.043320</td>\n",
       "      <td>0.463003</td>\n",
       "      <td>-1.092060</td>\n",
       "      <td>-1.256429</td>\n",
       "      <td>-1.992532</td>\n",
       "      <td>-0.164353</td>\n",
       "      <td>0.023479</td>\n",
       "      <td>-0.587933</td>\n",
       "      <td>-1.860476</td>\n",
       "      <td>-0.348184</td>\n",
       "      <td>22396</td>\n",
       "    </tr>\n",
       "    <tr>\n",
       "      <th>22396</th>\n",
       "      <td>-0.835606</td>\n",
       "      <td>-0.142017</td>\n",
       "      <td>0.521660</td>\n",
       "      <td>0.231501</td>\n",
       "      <td>-0.546030</td>\n",
       "      <td>-0.628215</td>\n",
       "      <td>-0.996266</td>\n",
       "      <td>-0.082176</td>\n",
       "      <td>0.011739</td>\n",
       "      <td>-0.293967</td>\n",
       "      <td>-0.930238</td>\n",
       "      <td>-0.174092</td>\n",
       "      <td>22397</td>\n",
       "    </tr>\n",
       "    <tr>\n",
       "      <th>22397</th>\n",
       "      <td>-0.041660</td>\n",
       "      <td>0.131697</td>\n",
       "      <td>-0.036894</td>\n",
       "      <td>2.532315</td>\n",
       "      <td>1.518505</td>\n",
       "      <td>-0.447207</td>\n",
       "      <td>-0.245887</td>\n",
       "      <td>2.989674</td>\n",
       "      <td>0.031450</td>\n",
       "      <td>-0.165636</td>\n",
       "      <td>-0.244695</td>\n",
       "      <td>1.376580</td>\n",
       "      <td>22398</td>\n",
       "    </tr>\n",
       "    <tr>\n",
       "      <th>22398</th>\n",
       "      <td>-3.342425</td>\n",
       "      <td>-0.568066</td>\n",
       "      <td>2.086640</td>\n",
       "      <td>0.884100</td>\n",
       "      <td>-1.522052</td>\n",
       "      <td>-0.107883</td>\n",
       "      <td>-3.985064</td>\n",
       "      <td>-0.328706</td>\n",
       "      <td>0.046958</td>\n",
       "      <td>-0.957418</td>\n",
       "      <td>-2.833341</td>\n",
       "      <td>-0.459823</td>\n",
       "      <td>22399</td>\n",
       "    </tr>\n",
       "    <tr>\n",
       "      <th>22399</th>\n",
       "      <td>-0.835606</td>\n",
       "      <td>-0.142017</td>\n",
       "      <td>0.521660</td>\n",
       "      <td>0.231501</td>\n",
       "      <td>-0.546030</td>\n",
       "      <td>-0.628215</td>\n",
       "      <td>-0.996266</td>\n",
       "      <td>-0.082176</td>\n",
       "      <td>0.011739</td>\n",
       "      <td>-0.293967</td>\n",
       "      <td>-0.930238</td>\n",
       "      <td>-0.174092</td>\n",
       "      <td>22400</td>\n",
       "    </tr>\n",
       "  </tbody>\n",
       "</table>\n",
       "<p>22400 rows × 13 columns</p>\n",
       "</div>"
      ],
      "text/plain": [
       "       cust_roles1  cust_roles2  cust_roles3  good_clsf1  good_clsf2  \\\n",
       "0       -13.666623    22.310595    -3.389411   24.835399   13.065558   \n",
       "1       -13.481294    26.579763    -7.788055   26.718178   13.497723   \n",
       "2        -1.671212    -0.284033     1.043320    1.688210    1.012337   \n",
       "3       -57.382062     0.232708   -11.121329   41.984360   -0.369456   \n",
       "4        -3.795017    -0.921310     1.268127    1.439574   -0.542247   \n",
       "...            ...          ...          ...         ...         ...   \n",
       "22395    -1.671212    -0.284033     1.043320    0.463003   -1.092060   \n",
       "22396    -0.835606    -0.142017     0.521660    0.231501   -0.546030   \n",
       "22397    -0.041660     0.131697    -0.036894    2.532315    1.518505   \n",
       "22398    -3.342425    -0.568066     2.086640    0.884100   -1.522052   \n",
       "22399    -0.835606    -0.142017     0.521660    0.231501   -0.546030   \n",
       "\n",
       "       good_clsf3  sale_chnl1  sale_chnl2  sale_chnl3  cntt_stat1  cntt_stat2  \\\n",
       "0       -2.344943  -11.015449   24.174359    0.367739   -8.890348   -0.128098   \n",
       "1       -3.571536  -11.125800   25.198111   -2.597988   -5.219807   -4.093443   \n",
       "2       -0.298138   -1.992532   -0.164353    0.023479   -0.159311   -0.204562   \n",
       "3       17.382151  -87.264550   11.894616   -1.767435  -66.580122   12.162052   \n",
       "4       -0.146374   -4.010353   -0.325049   -0.077270   -2.056674    0.477366   \n",
       "...           ...         ...         ...         ...         ...         ...   \n",
       "22395   -1.256429   -1.992532   -0.164353    0.023479   -0.587933   -1.860476   \n",
       "22396   -0.628215   -0.996266   -0.082176    0.011739   -0.293967   -0.930238   \n",
       "22397   -0.447207   -0.245887    2.989674    0.031450   -0.165636   -0.244695   \n",
       "22398   -0.107883   -3.985064   -0.328706    0.046958   -0.957418   -2.833341   \n",
       "22399   -0.628215   -0.996266   -0.082176    0.011739   -0.293967   -0.930238   \n",
       "\n",
       "       cntt_stat3  CUST_ID  \n",
       "0        4.147008        1  \n",
       "1        8.173380        2  \n",
       "2        0.505065        3  \n",
       "3        7.920367        4  \n",
       "4        0.803574        5  \n",
       "...           ...      ...  \n",
       "22395   -0.348184    22396  \n",
       "22396   -0.174092    22397  \n",
       "22397    1.376580    22398  \n",
       "22398   -0.459823    22399  \n",
       "22399   -0.174092    22400  \n",
       "\n",
       "[22400 rows x 13 columns]"
      ]
     },
     "execution_count": 98,
     "metadata": {},
     "output_type": "execute_result"
    }
   ],
   "source": [
    "_tmp1['CUST_ID'] = _tmp1.index + 1\n",
    "_tmp1"
   ]
  },
  {
   "cell_type": "code",
   "execution_count": 99,
   "metadata": {
    "id": "w8kM-HboOf3Q"
   },
   "outputs": [],
   "source": [
    "cust_cntt = pd.merge(cust_cntt, _tmp1, how = 'left', on = 'CUST_ID')"
   ]
  },
  {
   "cell_type": "code",
   "execution_count": 100,
   "metadata": {
    "colab": {
     "base_uri": "https://localhost:8080/"
    },
    "executionInfo": {
     "elapsed": 13,
     "status": "ok",
     "timestamp": 1684553484404,
     "user": {
      "displayName": "Swan Kim",
      "userId": "01255046753553274360"
     },
     "user_tz": -540
    },
    "id": "kG0NoLihRCww",
    "outputId": "b3c7f5a8-9307-479a-85e5-5ed149546aa8"
   },
   "outputs": [
    {
     "data": {
      "text/plain": [
       "Index(['CUST_ID', 'n_insu', 'pay_term', 'pay_cycle', 'insu_amt', 'cust_roles1',\n",
       "       'cust_roles2', 'cust_roles3', 'good_clsf1', 'good_clsf2', 'good_clsf3',\n",
       "       'sale_chnl1', 'sale_chnl2', 'sale_chnl3', 'cntt_stat1', 'cntt_stat2',\n",
       "       'cntt_stat3'],\n",
       "      dtype='object')"
      ]
     },
     "execution_count": 100,
     "metadata": {},
     "output_type": "execute_result"
    }
   ],
   "source": [
    "cust_cntt.columns"
   ]
  },
  {
   "cell_type": "code",
   "execution_count": 101,
   "metadata": {
    "id": "BdJBu3cWPjq1"
   },
   "outputs": [],
   "source": [
    "df_cust_cntt = pd.merge(df_cust, cust_cntt, how = 'left', on = 'CUST_ID')"
   ]
  },
  {
   "cell_type": "code",
   "execution_count": 102,
   "metadata": {
    "colab": {
     "base_uri": "https://localhost:8080/"
    },
    "executionInfo": {
     "elapsed": 12,
     "status": "ok",
     "timestamp": 1684553484405,
     "user": {
      "displayName": "Swan Kim",
      "userId": "01255046753553274360"
     },
     "user_tz": -540
    },
    "id": "INSha2vUVlt5",
    "outputId": "b88dd2d0-caa0-42e9-feb2-f7582b1187b2"
   },
   "outputs": [
    {
     "data": {
      "text/plain": [
       "Index(['CUST_ID', 'SIU_CUST_YN', 'SEX', 'AGE', 'RESI_COST', 'RESI_TYPE_CODE',\n",
       "       'FP_CAREER', 'CTPR', 'OCCP_GRP_1', 'TOTALPREM', 'MINCRDT', 'WEDD_YN',\n",
       "       'MAX_PRM', 'CUST_INCM', 'n_insu', 'pay_term', 'pay_cycle', 'insu_amt',\n",
       "       'cust_roles1', 'cust_roles2', 'cust_roles3', 'good_clsf1', 'good_clsf2',\n",
       "       'good_clsf3', 'sale_chnl1', 'sale_chnl2', 'sale_chnl3', 'cntt_stat1',\n",
       "       'cntt_stat2', 'cntt_stat3'],\n",
       "      dtype='object')"
      ]
     },
     "execution_count": 102,
     "metadata": {},
     "output_type": "execute_result"
    }
   ],
   "source": [
    "df_cust_cntt.columns"
   ]
  },
  {
   "cell_type": "code",
   "execution_count": 103,
   "metadata": {
    "colab": {
     "base_uri": "https://localhost:8080/"
    },
    "executionInfo": {
     "elapsed": 11,
     "status": "ok",
     "timestamp": 1684553484405,
     "user": {
      "displayName": "Swan Kim",
      "userId": "01255046753553274360"
     },
     "user_tz": -540
    },
    "id": "TQk85sZ7VqXr",
    "outputId": "3f8a4f22-097f-4dc0-a3a3-e1759576c10b"
   },
   "outputs": [
    {
     "data": {
      "text/plain": [
       "Index(['CUST_ID', 'POLY_NO', 'ACCI_DVSN', 'CAUS_CODE', 'CAUS_CODE_DTAL',\n",
       "       'DSAS_NAME', 'DMND_RESN_CODE', 'RESL_CD1', 'RESL_NM1', 'VLID_HOSP_OTDA',\n",
       "       'HOSP_CODE', 'HOSP_SPEC_DVSN', 'CHME_LICE_NO', 'DMND_AMT', 'PAYM_AMT',\n",
       "       'PMMI_DLNG_YN', 'NON_PAY_RATIO', 'HEED_HOSP_YN'],\n",
       "      dtype='object')"
      ]
     },
     "execution_count": 103,
     "metadata": {},
     "output_type": "execute_result"
    }
   ],
   "source": [
    "df_claim.columns"
   ]
  },
  {
   "cell_type": "code",
   "execution_count": 104,
   "metadata": {
    "id": "VLjpm96ZWiZJ"
   },
   "outputs": [],
   "source": [
    "# 고객이 가지고 있는 여러 보험청구 건을 통합하여 고객단위의 범주형 변수 X의 비중을 만드는 함수\n",
    "# 범주가 많은 경우, 하나의 변수가 여러개의 범주변수로 나뉘는데 그 수를 k개로 줄이기 위해 SVD를 적용하였음\n",
    "\n",
    "def feat_gen2(X, k):\n",
    "    # 고객 1명이 가지고 있는 모든 증권의 범주 X를 구한다.\n",
    "    _tmp = dfsql(\"select cust_id, \" + X + \" from df_claim order by cust_id\")\n",
    "    # 범주의 Unique 값을 구한다.\n",
    "    col_names = _tmp[X].unique().tolist()\n",
    "    # 범주가 없는 경우 'None' 라는 범주로 만든다.\n",
    "    idx = [i for i,v in enumerate(col_names) if v == None]\n",
    "    if len(idx) > 0:\n",
    "        col_names[idx[0]] = 'None'\n",
    "    # Feature 행렬 생성을 위해 범주를 행렬 숫자 위치로 변환하는 딕셔너리 생성\n",
    "    col_names = sorted(col_names)\n",
    "    col_name_dic = dict()\n",
    "    for i, val in enumerate(col_names):\n",
    "        col_name_dic[val] = i\n",
    "    # 행은 고객, 열은 범주에 해당하는 행렬을 생성한다. (Sparse Matrix)\n",
    "    _tmp1 = np.zeros((22400, len(col_name_dic)))\n",
    "    for idx, row in _tmp.iterrows():\n",
    "        if row[X] != None:\n",
    "            _tmp1[row['CUST_ID']-1, col_name_dic[row[X]]] += 1 \n",
    "        else:\n",
    "            _tmp1[row['CUST_ID']-1, col_name_dic['None']] += 1\n",
    "    \n",
    "    # Sparse Matrix 에 대한 SVD로 차원축소\n",
    "    U, s, VT = np.linalg.svd(_tmp1, full_matrices=True) \n",
    "    U = U[:,:k]\n",
    "    S = np.diag(s[:k]) \n",
    "    VT = VT[:k, :]\n",
    "    return U.dot(S)"
   ]
  },
  {
   "cell_type": "code",
   "execution_count": 105,
   "metadata": {
    "id": "c2J3QyVtYoq7"
   },
   "outputs": [],
   "source": [
    "ACCI_DVSN = feat_gen2('ACCI_DVSN', 3)"
   ]
  },
  {
   "cell_type": "code",
   "execution_count": 106,
   "metadata": {
    "id": "bDXAOenOZkRQ"
   },
   "outputs": [],
   "source": [
    "DMND_RESN_CODE = feat_gen2('DMND_RESN_CODE', 3)"
   ]
  },
  {
   "cell_type": "code",
   "execution_count": 107,
   "metadata": {
    "id": "bSXlYMClbIPq"
   },
   "outputs": [],
   "source": [
    "HOSP_SPEC_DVSN = feat_gen2('HOSP_SPEC_DVSN', 3)"
   ]
  },
  {
   "cell_type": "code",
   "execution_count": 108,
   "metadata": {
    "id": "ehS976M7m-Qa"
   },
   "outputs": [],
   "source": [
    "PMMI_DLNG_YN = feat_gen2('PMMI_DLNG_YN', 1)"
   ]
  },
  {
   "cell_type": "code",
   "execution_count": 109,
   "metadata": {
    "id": "ruazblxvqQIZ"
   },
   "outputs": [],
   "source": [
    "HEED_HOSP_YN = feat_gen2('HEED_HOSP_YN', 1)"
   ]
  },
  {
   "cell_type": "code",
   "execution_count": 110,
   "metadata": {
    "id": "WuL12EXtq8Sv"
   },
   "outputs": [],
   "source": [
    "_tmp = np.concatenate((ACCI_DVSN, DMND_RESN_CODE), axis=1)\n",
    "_tmp = np.concatenate((_tmp, HOSP_SPEC_DVSN), axis=1)\n",
    "_tmp = np.concatenate((_tmp, PMMI_DLNG_YN), axis=1)\n",
    "_tmp = np.concatenate((_tmp, HEED_HOSP_YN), axis=1)"
   ]
  },
  {
   "cell_type": "code",
   "execution_count": 111,
   "metadata": {
    "id": "WxGKAi88rI0_"
   },
   "outputs": [],
   "source": [
    "_tmp1 = pd.DataFrame(_tmp, columns =['ACCI_DVSN1','ACCI_DVSN2','ACCI_DVSN3','DMND_RESN_CODE1','DMND_RESN_CODE2','DMND_RESN_CODE3','HOSP_SPEC_DVSN1','HOSP_SPEC_DVSN2','HOSP_SPEC_DVSN3','PMMI_DLNG_YN','HEED_HOSP_YN'])"
   ]
  },
  {
   "cell_type": "code",
   "execution_count": 112,
   "metadata": {
    "colab": {
     "base_uri": "https://localhost:8080/",
     "height": 487
    },
    "executionInfo": {
     "elapsed": 4,
     "status": "ok",
     "timestamp": 1684553548277,
     "user": {
      "displayName": "Swan Kim",
      "userId": "01255046753553274360"
     },
     "user_tz": -540
    },
    "id": "fc-u27_XriaV",
    "outputId": "afdb0a62-6d67-48da-fcce-c1f7b83cc8ff"
   },
   "outputs": [
    {
     "data": {
      "text/html": [
       "<div>\n",
       "<style scoped>\n",
       "    .dataframe tbody tr th:only-of-type {\n",
       "        vertical-align: middle;\n",
       "    }\n",
       "\n",
       "    .dataframe tbody tr th {\n",
       "        vertical-align: top;\n",
       "    }\n",
       "\n",
       "    .dataframe thead th {\n",
       "        text-align: right;\n",
       "    }\n",
       "</style>\n",
       "<table border=\"1\" class=\"dataframe\">\n",
       "  <thead>\n",
       "    <tr style=\"text-align: right;\">\n",
       "      <th></th>\n",
       "      <th>ACCI_DVSN1</th>\n",
       "      <th>ACCI_DVSN2</th>\n",
       "      <th>ACCI_DVSN3</th>\n",
       "      <th>DMND_RESN_CODE1</th>\n",
       "      <th>DMND_RESN_CODE2</th>\n",
       "      <th>DMND_RESN_CODE3</th>\n",
       "      <th>HOSP_SPEC_DVSN1</th>\n",
       "      <th>HOSP_SPEC_DVSN2</th>\n",
       "      <th>HOSP_SPEC_DVSN3</th>\n",
       "      <th>PMMI_DLNG_YN</th>\n",
       "      <th>HEED_HOSP_YN</th>\n",
       "      <th>CUST_ID</th>\n",
       "    </tr>\n",
       "  </thead>\n",
       "  <tbody>\n",
       "    <tr>\n",
       "      <th>0</th>\n",
       "      <td>-3.935032</td>\n",
       "      <td>0.708427</td>\n",
       "      <td>0.116842</td>\n",
       "      <td>-0.481727</td>\n",
       "      <td>3.952394</td>\n",
       "      <td>0.324715</td>\n",
       "      <td>-2.168140</td>\n",
       "      <td>1.040836</td>\n",
       "      <td>1.992806</td>\n",
       "      <td>-0.166812</td>\n",
       "      <td>-3.998969</td>\n",
       "      <td>1</td>\n",
       "    </tr>\n",
       "    <tr>\n",
       "      <th>1</th>\n",
       "      <td>-2.951274</td>\n",
       "      <td>0.531320</td>\n",
       "      <td>0.087631</td>\n",
       "      <td>-0.361296</td>\n",
       "      <td>2.964295</td>\n",
       "      <td>0.243537</td>\n",
       "      <td>-1.029684</td>\n",
       "      <td>0.861429</td>\n",
       "      <td>-1.550328</td>\n",
       "      <td>-0.125109</td>\n",
       "      <td>-2.999227</td>\n",
       "      <td>2</td>\n",
       "    </tr>\n",
       "    <tr>\n",
       "      <th>2</th>\n",
       "      <td>-0.047797</td>\n",
       "      <td>-0.101606</td>\n",
       "      <td>-0.993676</td>\n",
       "      <td>-0.980637</td>\n",
       "      <td>-0.132019</td>\n",
       "      <td>0.143839</td>\n",
       "      <td>-0.477764</td>\n",
       "      <td>0.407227</td>\n",
       "      <td>-0.765997</td>\n",
       "      <td>-0.999130</td>\n",
       "      <td>-0.999742</td>\n",
       "      <td>3</td>\n",
       "    </tr>\n",
       "    <tr>\n",
       "      <th>3</th>\n",
       "      <td>-1.557169</td>\n",
       "      <td>-8.810395</td>\n",
       "      <td>0.975786</td>\n",
       "      <td>-0.514804</td>\n",
       "      <td>0.561653</td>\n",
       "      <td>-2.177483</td>\n",
       "      <td>-1.550718</td>\n",
       "      <td>1.790080</td>\n",
       "      <td>1.928229</td>\n",
       "      <td>-8.992170</td>\n",
       "      <td>-8.997681</td>\n",
       "      <td>4</td>\n",
       "    </tr>\n",
       "    <tr>\n",
       "      <th>4</th>\n",
       "      <td>-0.047797</td>\n",
       "      <td>-0.101606</td>\n",
       "      <td>-0.993676</td>\n",
       "      <td>-0.980637</td>\n",
       "      <td>-0.132019</td>\n",
       "      <td>0.143839</td>\n",
       "      <td>-0.150561</td>\n",
       "      <td>0.104686</td>\n",
       "      <td>0.001918</td>\n",
       "      <td>-0.999130</td>\n",
       "      <td>-0.999742</td>\n",
       "      <td>5</td>\n",
       "    </tr>\n",
       "    <tr>\n",
       "      <th>...</th>\n",
       "      <td>...</td>\n",
       "      <td>...</td>\n",
       "      <td>...</td>\n",
       "      <td>...</td>\n",
       "      <td>...</td>\n",
       "      <td>...</td>\n",
       "      <td>...</td>\n",
       "      <td>...</td>\n",
       "      <td>...</td>\n",
       "      <td>...</td>\n",
       "      <td>...</td>\n",
       "      <td>...</td>\n",
       "    </tr>\n",
       "    <tr>\n",
       "      <th>22395</th>\n",
       "      <td>-0.519056</td>\n",
       "      <td>-2.936798</td>\n",
       "      <td>0.325262</td>\n",
       "      <td>-1.221500</td>\n",
       "      <td>1.844177</td>\n",
       "      <td>0.306197</td>\n",
       "      <td>-1.667048</td>\n",
       "      <td>0.117875</td>\n",
       "      <td>-1.450800</td>\n",
       "      <td>-1.082536</td>\n",
       "      <td>-2.999227</td>\n",
       "      <td>22396</td>\n",
       "    </tr>\n",
       "    <tr>\n",
       "      <th>22396</th>\n",
       "      <td>-0.983758</td>\n",
       "      <td>0.177107</td>\n",
       "      <td>0.029210</td>\n",
       "      <td>-0.120432</td>\n",
       "      <td>0.988098</td>\n",
       "      <td>0.081179</td>\n",
       "      <td>-0.485540</td>\n",
       "      <td>0.579138</td>\n",
       "      <td>0.637204</td>\n",
       "      <td>-0.041703</td>\n",
       "      <td>-0.999742</td>\n",
       "      <td>22397</td>\n",
       "    </tr>\n",
       "    <tr>\n",
       "      <th>22397</th>\n",
       "      <td>-1.967516</td>\n",
       "      <td>0.354214</td>\n",
       "      <td>0.058421</td>\n",
       "      <td>-0.240864</td>\n",
       "      <td>1.976197</td>\n",
       "      <td>0.162358</td>\n",
       "      <td>-0.971080</td>\n",
       "      <td>1.158277</td>\n",
       "      <td>1.274408</td>\n",
       "      <td>-0.083406</td>\n",
       "      <td>-1.999485</td>\n",
       "      <td>22398</td>\n",
       "    </tr>\n",
       "    <tr>\n",
       "      <th>22398</th>\n",
       "      <td>-0.983758</td>\n",
       "      <td>0.177107</td>\n",
       "      <td>0.029210</td>\n",
       "      <td>-0.120432</td>\n",
       "      <td>0.988098</td>\n",
       "      <td>0.081179</td>\n",
       "      <td>-0.477764</td>\n",
       "      <td>0.407227</td>\n",
       "      <td>-0.765997</td>\n",
       "      <td>-0.041703</td>\n",
       "      <td>-0.999742</td>\n",
       "      <td>22399</td>\n",
       "    </tr>\n",
       "    <tr>\n",
       "      <th>22399</th>\n",
       "      <td>-0.983758</td>\n",
       "      <td>0.177107</td>\n",
       "      <td>0.029210</td>\n",
       "      <td>-0.120432</td>\n",
       "      <td>0.988098</td>\n",
       "      <td>0.081179</td>\n",
       "      <td>-0.711520</td>\n",
       "      <td>-0.696580</td>\n",
       "      <td>0.081194</td>\n",
       "      <td>-0.041703</td>\n",
       "      <td>-0.999742</td>\n",
       "      <td>22400</td>\n",
       "    </tr>\n",
       "  </tbody>\n",
       "</table>\n",
       "<p>22400 rows × 12 columns</p>\n",
       "</div>"
      ],
      "text/plain": [
       "       ACCI_DVSN1  ACCI_DVSN2  ACCI_DVSN3  DMND_RESN_CODE1  DMND_RESN_CODE2  \\\n",
       "0       -3.935032    0.708427    0.116842        -0.481727         3.952394   \n",
       "1       -2.951274    0.531320    0.087631        -0.361296         2.964295   \n",
       "2       -0.047797   -0.101606   -0.993676        -0.980637        -0.132019   \n",
       "3       -1.557169   -8.810395    0.975786        -0.514804         0.561653   \n",
       "4       -0.047797   -0.101606   -0.993676        -0.980637        -0.132019   \n",
       "...           ...         ...         ...              ...              ...   \n",
       "22395   -0.519056   -2.936798    0.325262        -1.221500         1.844177   \n",
       "22396   -0.983758    0.177107    0.029210        -0.120432         0.988098   \n",
       "22397   -1.967516    0.354214    0.058421        -0.240864         1.976197   \n",
       "22398   -0.983758    0.177107    0.029210        -0.120432         0.988098   \n",
       "22399   -0.983758    0.177107    0.029210        -0.120432         0.988098   \n",
       "\n",
       "       DMND_RESN_CODE3  HOSP_SPEC_DVSN1  HOSP_SPEC_DVSN2  HOSP_SPEC_DVSN3  \\\n",
       "0             0.324715        -2.168140         1.040836         1.992806   \n",
       "1             0.243537        -1.029684         0.861429        -1.550328   \n",
       "2             0.143839        -0.477764         0.407227        -0.765997   \n",
       "3            -2.177483        -1.550718         1.790080         1.928229   \n",
       "4             0.143839        -0.150561         0.104686         0.001918   \n",
       "...                ...              ...              ...              ...   \n",
       "22395         0.306197        -1.667048         0.117875        -1.450800   \n",
       "22396         0.081179        -0.485540         0.579138         0.637204   \n",
       "22397         0.162358        -0.971080         1.158277         1.274408   \n",
       "22398         0.081179        -0.477764         0.407227        -0.765997   \n",
       "22399         0.081179        -0.711520        -0.696580         0.081194   \n",
       "\n",
       "       PMMI_DLNG_YN  HEED_HOSP_YN  CUST_ID  \n",
       "0         -0.166812     -3.998969        1  \n",
       "1         -0.125109     -2.999227        2  \n",
       "2         -0.999130     -0.999742        3  \n",
       "3         -8.992170     -8.997681        4  \n",
       "4         -0.999130     -0.999742        5  \n",
       "...             ...           ...      ...  \n",
       "22395     -1.082536     -2.999227    22396  \n",
       "22396     -0.041703     -0.999742    22397  \n",
       "22397     -0.083406     -1.999485    22398  \n",
       "22398     -0.041703     -0.999742    22399  \n",
       "22399     -0.041703     -0.999742    22400  \n",
       "\n",
       "[22400 rows x 12 columns]"
      ]
     },
     "execution_count": 112,
     "metadata": {},
     "output_type": "execute_result"
    }
   ],
   "source": [
    "_tmp1['CUST_ID'] = _tmp1.index + 1\n",
    "_tmp1"
   ]
  },
  {
   "cell_type": "code",
   "execution_count": 113,
   "metadata": {
    "id": "vzjvL9vbnrCJ"
   },
   "outputs": [],
   "source": [
    "claim_num = dfsql('''select cust_id, count(*) as claim_cnt, sum(DMND_AMT) as DMND_AMT , sum(NON_PAY_RATIO) as NON_PAY_RATIO from df_claim group by cust_id''')"
   ]
  },
  {
   "cell_type": "code",
   "execution_count": 114,
   "metadata": {
    "colab": {
     "base_uri": "https://localhost:8080/"
    },
    "executionInfo": {
     "elapsed": 7,
     "status": "ok",
     "timestamp": 1684553549936,
     "user": {
      "displayName": "Swan Kim",
      "userId": "01255046753553274360"
     },
     "user_tz": -540
    },
    "id": "iX4RMet1p_QR",
    "outputId": "7063f67b-d4fd-471a-de93-528b45f86cd9"
   },
   "outputs": [
    {
     "data": {
      "text/plain": [
       "(22400, 3)"
      ]
     },
     "execution_count": 114,
     "metadata": {},
     "output_type": "execute_result"
    }
   ],
   "source": [
    "ACCI_DVSN.shape"
   ]
  },
  {
   "cell_type": "code",
   "execution_count": 115,
   "metadata": {
    "id": "3gzXK2Xeqxq4"
   },
   "outputs": [],
   "source": [
    "cust_cntt_claim = pd.merge(cust_cntt, _tmp1, how = 'left', on = 'CUST_ID')\n",
    "cust_cntt_claim = pd.merge(cust_cntt_claim, claim_num, how = 'left', on = 'CUST_ID')\n",
    "df_cust_cntt_claim = pd.merge(df_cust, cust_cntt_claim, how = 'left', on = 'CUST_ID')"
   ]
  },
  {
   "cell_type": "code",
   "execution_count": 116,
   "metadata": {
    "colab": {
     "base_uri": "https://localhost:8080/",
     "height": 299
    },
    "executionInfo": {
     "elapsed": 7,
     "status": "ok",
     "timestamp": 1684553549937,
     "user": {
      "displayName": "Swan Kim",
      "userId": "01255046753553274360"
     },
     "user_tz": -540
    },
    "id": "Gi4xw3srryfF",
    "outputId": "f37e27ab-6d2c-4cd4-9a57-4cda04bc83e6"
   },
   "outputs": [
    {
     "data": {
      "text/html": [
       "<div>\n",
       "<style scoped>\n",
       "    .dataframe tbody tr th:only-of-type {\n",
       "        vertical-align: middle;\n",
       "    }\n",
       "\n",
       "    .dataframe tbody tr th {\n",
       "        vertical-align: top;\n",
       "    }\n",
       "\n",
       "    .dataframe thead th {\n",
       "        text-align: right;\n",
       "    }\n",
       "</style>\n",
       "<table border=\"1\" class=\"dataframe\">\n",
       "  <thead>\n",
       "    <tr style=\"text-align: right;\">\n",
       "      <th></th>\n",
       "      <th>CUST_ID</th>\n",
       "      <th>SIU_CUST_YN</th>\n",
       "      <th>SEX</th>\n",
       "      <th>AGE</th>\n",
       "      <th>RESI_COST</th>\n",
       "      <th>RESI_TYPE_CODE</th>\n",
       "      <th>FP_CAREER</th>\n",
       "      <th>CTPR</th>\n",
       "      <th>OCCP_GRP_1</th>\n",
       "      <th>TOTALPREM</th>\n",
       "      <th>...</th>\n",
       "      <th>DMND_RESN_CODE2</th>\n",
       "      <th>DMND_RESN_CODE3</th>\n",
       "      <th>HOSP_SPEC_DVSN1</th>\n",
       "      <th>HOSP_SPEC_DVSN2</th>\n",
       "      <th>HOSP_SPEC_DVSN3</th>\n",
       "      <th>PMMI_DLNG_YN</th>\n",
       "      <th>HEED_HOSP_YN</th>\n",
       "      <th>claim_cnt</th>\n",
       "      <th>DMND_AMT</th>\n",
       "      <th>NON_PAY_RATIO</th>\n",
       "    </tr>\n",
       "  </thead>\n",
       "  <tbody>\n",
       "    <tr>\n",
       "      <th>0</th>\n",
       "      <td>1</td>\n",
       "      <td>N</td>\n",
       "      <td>2</td>\n",
       "      <td>47</td>\n",
       "      <td>21111</td>\n",
       "      <td>20</td>\n",
       "      <td>N</td>\n",
       "      <td>충북</td>\n",
       "      <td>3.사무직</td>\n",
       "      <td>146980441.0</td>\n",
       "      <td>...</td>\n",
       "      <td>3.952394</td>\n",
       "      <td>0.324715</td>\n",
       "      <td>-2.168140</td>\n",
       "      <td>1.040836</td>\n",
       "      <td>1.992806</td>\n",
       "      <td>-0.166812</td>\n",
       "      <td>-3.998969</td>\n",
       "      <td>4</td>\n",
       "      <td>141450</td>\n",
       "      <td>2.965763</td>\n",
       "    </tr>\n",
       "    <tr>\n",
       "      <th>1</th>\n",
       "      <td>2</td>\n",
       "      <td>N</td>\n",
       "      <td>1</td>\n",
       "      <td>53</td>\n",
       "      <td>40000</td>\n",
       "      <td>20</td>\n",
       "      <td>N</td>\n",
       "      <td>서울</td>\n",
       "      <td>3.사무직</td>\n",
       "      <td>94600109.0</td>\n",
       "      <td>...</td>\n",
       "      <td>2.964295</td>\n",
       "      <td>0.243537</td>\n",
       "      <td>-1.029684</td>\n",
       "      <td>0.861429</td>\n",
       "      <td>-1.550328</td>\n",
       "      <td>-0.125109</td>\n",
       "      <td>-2.999227</td>\n",
       "      <td>3</td>\n",
       "      <td>325531</td>\n",
       "      <td>2.639541</td>\n",
       "    </tr>\n",
       "    <tr>\n",
       "      <th>2</th>\n",
       "      <td>3</td>\n",
       "      <td>N</td>\n",
       "      <td>1</td>\n",
       "      <td>60</td>\n",
       "      <td>0</td>\n",
       "      <td>None</td>\n",
       "      <td>N</td>\n",
       "      <td>서울</td>\n",
       "      <td>5.서비스</td>\n",
       "      <td>18501269.0</td>\n",
       "      <td>...</td>\n",
       "      <td>-0.132019</td>\n",
       "      <td>0.143839</td>\n",
       "      <td>-0.477764</td>\n",
       "      <td>0.407227</td>\n",
       "      <td>-0.765997</td>\n",
       "      <td>-0.999130</td>\n",
       "      <td>-0.999742</td>\n",
       "      <td>1</td>\n",
       "      <td>430000</td>\n",
       "      <td>0.000000</td>\n",
       "    </tr>\n",
       "    <tr>\n",
       "      <th>3</th>\n",
       "      <td>4</td>\n",
       "      <td>N</td>\n",
       "      <td>2</td>\n",
       "      <td>64</td>\n",
       "      <td>12861</td>\n",
       "      <td>40</td>\n",
       "      <td>Y</td>\n",
       "      <td>경기</td>\n",
       "      <td>2.자영업</td>\n",
       "      <td>317223657.0</td>\n",
       "      <td>...</td>\n",
       "      <td>0.561653</td>\n",
       "      <td>-2.177483</td>\n",
       "      <td>-1.550718</td>\n",
       "      <td>1.790080</td>\n",
       "      <td>1.928229</td>\n",
       "      <td>-8.992170</td>\n",
       "      <td>-8.997681</td>\n",
       "      <td>9</td>\n",
       "      <td>1410000</td>\n",
       "      <td>0.000000</td>\n",
       "    </tr>\n",
       "    <tr>\n",
       "      <th>4</th>\n",
       "      <td>5</td>\n",
       "      <td>N</td>\n",
       "      <td>2</td>\n",
       "      <td>54</td>\n",
       "      <td>0</td>\n",
       "      <td>None</td>\n",
       "      <td>Y</td>\n",
       "      <td>광주</td>\n",
       "      <td>2.자영업</td>\n",
       "      <td>10506072.0</td>\n",
       "      <td>...</td>\n",
       "      <td>-0.132019</td>\n",
       "      <td>0.143839</td>\n",
       "      <td>-0.150561</td>\n",
       "      <td>0.104686</td>\n",
       "      <td>0.001918</td>\n",
       "      <td>-0.999130</td>\n",
       "      <td>-0.999742</td>\n",
       "      <td>1</td>\n",
       "      <td>660000</td>\n",
       "      <td>0.000000</td>\n",
       "    </tr>\n",
       "  </tbody>\n",
       "</table>\n",
       "<p>5 rows × 44 columns</p>\n",
       "</div>"
      ],
      "text/plain": [
       "   CUST_ID SIU_CUST_YN  SEX  AGE  RESI_COST RESI_TYPE_CODE FP_CAREER CTPR  \\\n",
       "0        1           N    2   47      21111             20         N   충북   \n",
       "1        2           N    1   53      40000             20         N   서울   \n",
       "2        3           N    1   60          0           None         N   서울   \n",
       "3        4           N    2   64      12861             40         Y   경기   \n",
       "4        5           N    2   54          0           None         Y   광주   \n",
       "\n",
       "  OCCP_GRP_1    TOTALPREM  ...  DMND_RESN_CODE2 DMND_RESN_CODE3  \\\n",
       "0      3.사무직  146980441.0  ...         3.952394        0.324715   \n",
       "1      3.사무직   94600109.0  ...         2.964295        0.243537   \n",
       "2      5.서비스   18501269.0  ...        -0.132019        0.143839   \n",
       "3      2.자영업  317223657.0  ...         0.561653       -2.177483   \n",
       "4      2.자영업   10506072.0  ...        -0.132019        0.143839   \n",
       "\n",
       "   HOSP_SPEC_DVSN1  HOSP_SPEC_DVSN2  HOSP_SPEC_DVSN3  PMMI_DLNG_YN  \\\n",
       "0        -2.168140         1.040836         1.992806     -0.166812   \n",
       "1        -1.029684         0.861429        -1.550328     -0.125109   \n",
       "2        -0.477764         0.407227        -0.765997     -0.999130   \n",
       "3        -1.550718         1.790080         1.928229     -8.992170   \n",
       "4        -0.150561         0.104686         0.001918     -0.999130   \n",
       "\n",
       "   HEED_HOSP_YN  claim_cnt  DMND_AMT  NON_PAY_RATIO  \n",
       "0     -3.998969          4    141450       2.965763  \n",
       "1     -2.999227          3    325531       2.639541  \n",
       "2     -0.999742          1    430000       0.000000  \n",
       "3     -8.997681          9   1410000       0.000000  \n",
       "4     -0.999742          1    660000       0.000000  \n",
       "\n",
       "[5 rows x 44 columns]"
      ]
     },
     "execution_count": 116,
     "metadata": {},
     "output_type": "execute_result"
    }
   ],
   "source": [
    "df_cust_cntt_claim.head()"
   ]
  },
  {
   "cell_type": "code",
   "execution_count": 117,
   "metadata": {
    "colab": {
     "base_uri": "https://localhost:8080/"
    },
    "executionInfo": {
     "elapsed": 6,
     "status": "ok",
     "timestamp": 1684553549937,
     "user": {
      "displayName": "Swan Kim",
      "userId": "01255046753553274360"
     },
     "user_tz": -540
    },
    "id": "1KpMUSnAr05l",
    "outputId": "d240e53a-a133-4bce-b590-44f2152805ab"
   },
   "outputs": [
    {
     "data": {
      "text/plain": [
       "CUST_ID               0\n",
       "SIU_CUST_YN           0\n",
       "SEX                   0\n",
       "AGE                   0\n",
       "RESI_COST             0\n",
       "RESI_TYPE_CODE        0\n",
       "FP_CAREER             0\n",
       "CTPR                  0\n",
       "OCCP_GRP_1            0\n",
       "TOTALPREM          5321\n",
       "MINCRDT            8766\n",
       "WEDD_YN               0\n",
       "MAX_PRM            5966\n",
       "CUST_INCM          4823\n",
       "n_insu                0\n",
       "pay_term              0\n",
       "pay_cycle            20\n",
       "insu_amt             20\n",
       "cust_roles1           0\n",
       "cust_roles2           0\n",
       "cust_roles3           0\n",
       "good_clsf1            0\n",
       "good_clsf2            0\n",
       "good_clsf3            0\n",
       "sale_chnl1            0\n",
       "sale_chnl2            0\n",
       "sale_chnl3            0\n",
       "cntt_stat1            0\n",
       "cntt_stat2            0\n",
       "cntt_stat3            0\n",
       "ACCI_DVSN1            0\n",
       "ACCI_DVSN2            0\n",
       "ACCI_DVSN3            0\n",
       "DMND_RESN_CODE1       0\n",
       "DMND_RESN_CODE2       0\n",
       "DMND_RESN_CODE3       0\n",
       "HOSP_SPEC_DVSN1       0\n",
       "HOSP_SPEC_DVSN2       0\n",
       "HOSP_SPEC_DVSN3       0\n",
       "PMMI_DLNG_YN          0\n",
       "HEED_HOSP_YN          0\n",
       "claim_cnt             0\n",
       "DMND_AMT              0\n",
       "NON_PAY_RATIO         0\n",
       "dtype: int64"
      ]
     },
     "execution_count": 117,
     "metadata": {},
     "output_type": "execute_result"
    }
   ],
   "source": [
    "df_cust_cntt_claim.isnull().sum()"
   ]
  },
  {
   "cell_type": "code",
   "execution_count": 118,
   "metadata": {
    "id": "dXryv3BL0pX0"
   },
   "outputs": [],
   "source": [
    "def miss2mean(X):\n",
    "    mean_value = df_cust_cntt_claim[X].mean()\n",
    "    df_cust_cntt_claim[X].fillna(value=mean_value, inplace=True)\n"
   ]
  },
  {
   "cell_type": "code",
   "execution_count": 119,
   "metadata": {
    "id": "nUnXLbeB02QE"
   },
   "outputs": [],
   "source": [
    "miss2mean('TOTALPREM')\n",
    "miss2mean('MINCRDT')\n",
    "miss2mean('MAX_PRM')\n",
    "miss2mean('CUST_INCM')\n",
    "miss2mean('pay_cycle')\n",
    "miss2mean('insu_amt')"
   ]
  },
  {
   "cell_type": "code",
   "execution_count": 120,
   "metadata": {
    "colab": {
     "base_uri": "https://localhost:8080/"
    },
    "executionInfo": {
     "elapsed": 5,
     "status": "ok",
     "timestamp": 1684553549937,
     "user": {
      "displayName": "Swan Kim",
      "userId": "01255046753553274360"
     },
     "user_tz": -540
    },
    "id": "An3MzQzM2ExZ",
    "outputId": "0237ce8a-7e3d-4fcd-c892-16006aa369d1"
   },
   "outputs": [
    {
     "data": {
      "text/plain": [
       "CUST_ID            0\n",
       "SIU_CUST_YN        0\n",
       "SEX                0\n",
       "AGE                0\n",
       "RESI_COST          0\n",
       "RESI_TYPE_CODE     0\n",
       "FP_CAREER          0\n",
       "CTPR               0\n",
       "OCCP_GRP_1         0\n",
       "TOTALPREM          0\n",
       "MINCRDT            0\n",
       "WEDD_YN            0\n",
       "MAX_PRM            0\n",
       "CUST_INCM          0\n",
       "n_insu             0\n",
       "pay_term           0\n",
       "pay_cycle          0\n",
       "insu_amt           0\n",
       "cust_roles1        0\n",
       "cust_roles2        0\n",
       "cust_roles3        0\n",
       "good_clsf1         0\n",
       "good_clsf2         0\n",
       "good_clsf3         0\n",
       "sale_chnl1         0\n",
       "sale_chnl2         0\n",
       "sale_chnl3         0\n",
       "cntt_stat1         0\n",
       "cntt_stat2         0\n",
       "cntt_stat3         0\n",
       "ACCI_DVSN1         0\n",
       "ACCI_DVSN2         0\n",
       "ACCI_DVSN3         0\n",
       "DMND_RESN_CODE1    0\n",
       "DMND_RESN_CODE2    0\n",
       "DMND_RESN_CODE3    0\n",
       "HOSP_SPEC_DVSN1    0\n",
       "HOSP_SPEC_DVSN2    0\n",
       "HOSP_SPEC_DVSN3    0\n",
       "PMMI_DLNG_YN       0\n",
       "HEED_HOSP_YN       0\n",
       "claim_cnt          0\n",
       "DMND_AMT           0\n",
       "NON_PAY_RATIO      0\n",
       "dtype: int64"
      ]
     },
     "execution_count": 120,
     "metadata": {},
     "output_type": "execute_result"
    }
   ],
   "source": [
    "df_cust_cntt_claim.isnull().sum()"
   ]
  },
  {
   "cell_type": "code",
   "execution_count": 121,
   "metadata": {
    "colab": {
     "base_uri": "https://localhost:8080/"
    },
    "executionInfo": {
     "elapsed": 8,
     "status": "ok",
     "timestamp": 1684553550363,
     "user": {
      "displayName": "Swan Kim",
      "userId": "01255046753553274360"
     },
     "user_tz": -540
    },
    "id": "v7tYR-yiuDe2",
    "outputId": "45ad77ff-a626-42ff-8a70-4ee3c3ea2a8c"
   },
   "outputs": [
    {
     "data": {
      "text/plain": [
       "20607"
      ]
     },
     "execution_count": 121,
     "metadata": {},
     "output_type": "execute_result"
    }
   ],
   "source": [
    "#df_cust_cntt_claim = df_cust_cntt_claim.dropna()\n",
    "len(df_cust_cntt_claim)"
   ]
  },
  {
   "cell_type": "code",
   "execution_count": 122,
   "metadata": {
    "id": "GvLNX2Jd3goN"
   },
   "outputs": [],
   "source": [
    "from sklearn.preprocessing import LabelEncoder\n",
    "encoder = LabelEncoder()"
   ]
  },
  {
   "cell_type": "code",
   "execution_count": 123,
   "metadata": {
    "colab": {
     "base_uri": "https://localhost:8080/"
    },
    "executionInfo": {
     "elapsed": 5,
     "status": "ok",
     "timestamp": 1684553550363,
     "user": {
      "displayName": "Swan Kim",
      "userId": "01255046753553274360"
     },
     "user_tz": -540
    },
    "id": "JfroHYRa3myM",
    "outputId": "ba9b1842-502e-4145-8865-451bc83539d8"
   },
   "outputs": [
    {
     "data": {
      "text/plain": [
       "CUST_ID              int64\n",
       "SIU_CUST_YN         object\n",
       "SEX                  int64\n",
       "AGE                  int64\n",
       "RESI_COST            int64\n",
       "RESI_TYPE_CODE      object\n",
       "FP_CAREER           object\n",
       "CTPR                object\n",
       "OCCP_GRP_1          object\n",
       "TOTALPREM          float64\n",
       "MINCRDT            float64\n",
       "WEDD_YN             object\n",
       "MAX_PRM            float64\n",
       "CUST_INCM          float64\n",
       "n_insu               int64\n",
       "pay_term           float64\n",
       "pay_cycle          float64\n",
       "insu_amt           float64\n",
       "cust_roles1        float64\n",
       "cust_roles2        float64\n",
       "cust_roles3        float64\n",
       "good_clsf1         float64\n",
       "good_clsf2         float64\n",
       "good_clsf3         float64\n",
       "sale_chnl1         float64\n",
       "sale_chnl2         float64\n",
       "sale_chnl3         float64\n",
       "cntt_stat1         float64\n",
       "cntt_stat2         float64\n",
       "cntt_stat3         float64\n",
       "ACCI_DVSN1         float64\n",
       "ACCI_DVSN2         float64\n",
       "ACCI_DVSN3         float64\n",
       "DMND_RESN_CODE1    float64\n",
       "DMND_RESN_CODE2    float64\n",
       "DMND_RESN_CODE3    float64\n",
       "HOSP_SPEC_DVSN1    float64\n",
       "HOSP_SPEC_DVSN2    float64\n",
       "HOSP_SPEC_DVSN3    float64\n",
       "PMMI_DLNG_YN       float64\n",
       "HEED_HOSP_YN       float64\n",
       "claim_cnt            int64\n",
       "DMND_AMT             int64\n",
       "NON_PAY_RATIO      float64\n",
       "dtype: object"
      ]
     },
     "execution_count": 123,
     "metadata": {},
     "output_type": "execute_result"
    }
   ],
   "source": [
    "df_cust_cntt_claim.dtypes"
   ]
  },
  {
   "cell_type": "code",
   "execution_count": 124,
   "metadata": {
    "id": "I2wLRqA13kZ0"
   },
   "outputs": [],
   "source": [
    "from sklearn.preprocessing import LabelEncoder\n",
    "encoder = LabelEncoder()\n",
    "df_cust_cntt_claim['SIU_CUST_YN'] = encoder.fit_transform(df_cust_cntt_claim['SIU_CUST_YN'])\n",
    "df_cust_cntt_claim['RESI_TYPE_CODE'] = encoder.fit_transform(df_cust_cntt_claim['RESI_TYPE_CODE'])\n",
    "df_cust_cntt_claim['FP_CAREER'] = encoder.fit_transform(df_cust_cntt_claim['FP_CAREER'])\n",
    "df_cust_cntt_claim['CTPR'] = encoder.fit_transform(df_cust_cntt_claim['CTPR'])\n",
    "df_cust_cntt_claim['OCCP_GRP_1'] = encoder.fit_transform(df_cust_cntt_claim['OCCP_GRP_1'])\n",
    "df_cust_cntt_claim['WEDD_YN'] = encoder.fit_transform(df_cust_cntt_claim['WEDD_YN'])"
   ]
  },
  {
   "cell_type": "code",
   "execution_count": 125,
   "metadata": {
    "colab": {
     "base_uri": "https://localhost:8080/"
    },
    "executionInfo": {
     "elapsed": 4,
     "status": "ok",
     "timestamp": 1684553550363,
     "user": {
      "displayName": "Swan Kim",
      "userId": "01255046753553274360"
     },
     "user_tz": -540
    },
    "id": "Ts0VgwOP5GBY",
    "outputId": "9d370ab7-6fbd-4be4-d27c-b597553924cd"
   },
   "outputs": [
    {
     "data": {
      "text/plain": [
       "CUST_ID              int64\n",
       "SIU_CUST_YN          int32\n",
       "SEX                  int64\n",
       "AGE                  int64\n",
       "RESI_COST            int64\n",
       "RESI_TYPE_CODE       int32\n",
       "FP_CAREER            int32\n",
       "CTPR                 int32\n",
       "OCCP_GRP_1           int32\n",
       "TOTALPREM          float64\n",
       "MINCRDT            float64\n",
       "WEDD_YN              int32\n",
       "MAX_PRM            float64\n",
       "CUST_INCM          float64\n",
       "n_insu               int64\n",
       "pay_term           float64\n",
       "pay_cycle          float64\n",
       "insu_amt           float64\n",
       "cust_roles1        float64\n",
       "cust_roles2        float64\n",
       "cust_roles3        float64\n",
       "good_clsf1         float64\n",
       "good_clsf2         float64\n",
       "good_clsf3         float64\n",
       "sale_chnl1         float64\n",
       "sale_chnl2         float64\n",
       "sale_chnl3         float64\n",
       "cntt_stat1         float64\n",
       "cntt_stat2         float64\n",
       "cntt_stat3         float64\n",
       "ACCI_DVSN1         float64\n",
       "ACCI_DVSN2         float64\n",
       "ACCI_DVSN3         float64\n",
       "DMND_RESN_CODE1    float64\n",
       "DMND_RESN_CODE2    float64\n",
       "DMND_RESN_CODE3    float64\n",
       "HOSP_SPEC_DVSN1    float64\n",
       "HOSP_SPEC_DVSN2    float64\n",
       "HOSP_SPEC_DVSN3    float64\n",
       "PMMI_DLNG_YN       float64\n",
       "HEED_HOSP_YN       float64\n",
       "claim_cnt            int64\n",
       "DMND_AMT             int64\n",
       "NON_PAY_RATIO      float64\n",
       "dtype: object"
      ]
     },
     "execution_count": 125,
     "metadata": {},
     "output_type": "execute_result"
    }
   ],
   "source": [
    "df_cust_cntt_claim.dtypes"
   ]
  },
  {
   "cell_type": "code",
   "execution_count": 159,
   "metadata": {},
   "outputs": [
    {
     "data": {
      "text/html": [
       "<div>\n",
       "<style scoped>\n",
       "    .dataframe tbody tr th:only-of-type {\n",
       "        vertical-align: middle;\n",
       "    }\n",
       "\n",
       "    .dataframe tbody tr th {\n",
       "        vertical-align: top;\n",
       "    }\n",
       "\n",
       "    .dataframe thead th {\n",
       "        text-align: right;\n",
       "    }\n",
       "</style>\n",
       "<table border=\"1\" class=\"dataframe\">\n",
       "  <thead>\n",
       "    <tr style=\"text-align: right;\">\n",
       "      <th></th>\n",
       "      <th>CUST_ID</th>\n",
       "      <th>SIU_CUST_YN</th>\n",
       "      <th>SEX</th>\n",
       "      <th>AGE</th>\n",
       "      <th>RESI_COST</th>\n",
       "      <th>RESI_TYPE_CODE</th>\n",
       "      <th>FP_CAREER</th>\n",
       "      <th>CTPR</th>\n",
       "      <th>OCCP_GRP_1</th>\n",
       "      <th>TOTALPREM</th>\n",
       "      <th>...</th>\n",
       "      <th>DMND_RESN_CODE2</th>\n",
       "      <th>DMND_RESN_CODE3</th>\n",
       "      <th>HOSP_SPEC_DVSN1</th>\n",
       "      <th>HOSP_SPEC_DVSN2</th>\n",
       "      <th>HOSP_SPEC_DVSN3</th>\n",
       "      <th>PMMI_DLNG_YN</th>\n",
       "      <th>HEED_HOSP_YN</th>\n",
       "      <th>claim_cnt</th>\n",
       "      <th>DMND_AMT</th>\n",
       "      <th>NON_PAY_RATIO</th>\n",
       "    </tr>\n",
       "  </thead>\n",
       "  <tbody>\n",
       "    <tr>\n",
       "      <th>0</th>\n",
       "      <td>1</td>\n",
       "      <td>0</td>\n",
       "      <td>2</td>\n",
       "      <td>47</td>\n",
       "      <td>21111</td>\n",
       "      <td>3</td>\n",
       "      <td>0</td>\n",
       "      <td>17</td>\n",
       "      <td>2</td>\n",
       "      <td>1.469804e+08</td>\n",
       "      <td>...</td>\n",
       "      <td>3.952394</td>\n",
       "      <td>0.324715</td>\n",
       "      <td>-2.168140</td>\n",
       "      <td>1.040836</td>\n",
       "      <td>1.992806</td>\n",
       "      <td>-0.166812</td>\n",
       "      <td>-3.998969</td>\n",
       "      <td>4</td>\n",
       "      <td>141450</td>\n",
       "      <td>2.965763</td>\n",
       "    </tr>\n",
       "    <tr>\n",
       "      <th>1</th>\n",
       "      <td>2</td>\n",
       "      <td>0</td>\n",
       "      <td>1</td>\n",
       "      <td>53</td>\n",
       "      <td>40000</td>\n",
       "      <td>3</td>\n",
       "      <td>0</td>\n",
       "      <td>9</td>\n",
       "      <td>2</td>\n",
       "      <td>9.460011e+07</td>\n",
       "      <td>...</td>\n",
       "      <td>2.964295</td>\n",
       "      <td>0.243537</td>\n",
       "      <td>-1.029684</td>\n",
       "      <td>0.861429</td>\n",
       "      <td>-1.550328</td>\n",
       "      <td>-0.125109</td>\n",
       "      <td>-2.999227</td>\n",
       "      <td>3</td>\n",
       "      <td>325531</td>\n",
       "      <td>2.639541</td>\n",
       "    </tr>\n",
       "    <tr>\n",
       "      <th>2</th>\n",
       "      <td>3</td>\n",
       "      <td>0</td>\n",
       "      <td>1</td>\n",
       "      <td>60</td>\n",
       "      <td>0</td>\n",
       "      <td>10</td>\n",
       "      <td>0</td>\n",
       "      <td>9</td>\n",
       "      <td>4</td>\n",
       "      <td>1.850127e+07</td>\n",
       "      <td>...</td>\n",
       "      <td>-0.132019</td>\n",
       "      <td>0.143839</td>\n",
       "      <td>-0.477764</td>\n",
       "      <td>0.407227</td>\n",
       "      <td>-0.765997</td>\n",
       "      <td>-0.999130</td>\n",
       "      <td>-0.999742</td>\n",
       "      <td>1</td>\n",
       "      <td>430000</td>\n",
       "      <td>0.000000</td>\n",
       "    </tr>\n",
       "    <tr>\n",
       "      <th>3</th>\n",
       "      <td>4</td>\n",
       "      <td>0</td>\n",
       "      <td>2</td>\n",
       "      <td>64</td>\n",
       "      <td>12861</td>\n",
       "      <td>5</td>\n",
       "      <td>1</td>\n",
       "      <td>2</td>\n",
       "      <td>1</td>\n",
       "      <td>3.172237e+08</td>\n",
       "      <td>...</td>\n",
       "      <td>0.561653</td>\n",
       "      <td>-2.177483</td>\n",
       "      <td>-1.550718</td>\n",
       "      <td>1.790080</td>\n",
       "      <td>1.928229</td>\n",
       "      <td>-8.992170</td>\n",
       "      <td>-8.997681</td>\n",
       "      <td>9</td>\n",
       "      <td>1410000</td>\n",
       "      <td>0.000000</td>\n",
       "    </tr>\n",
       "    <tr>\n",
       "      <th>4</th>\n",
       "      <td>5</td>\n",
       "      <td>0</td>\n",
       "      <td>2</td>\n",
       "      <td>54</td>\n",
       "      <td>0</td>\n",
       "      <td>10</td>\n",
       "      <td>1</td>\n",
       "      <td>5</td>\n",
       "      <td>1</td>\n",
       "      <td>1.050607e+07</td>\n",
       "      <td>...</td>\n",
       "      <td>-0.132019</td>\n",
       "      <td>0.143839</td>\n",
       "      <td>-0.150561</td>\n",
       "      <td>0.104686</td>\n",
       "      <td>0.001918</td>\n",
       "      <td>-0.999130</td>\n",
       "      <td>-0.999742</td>\n",
       "      <td>1</td>\n",
       "      <td>660000</td>\n",
       "      <td>0.000000</td>\n",
       "    </tr>\n",
       "    <tr>\n",
       "      <th>...</th>\n",
       "      <td>...</td>\n",
       "      <td>...</td>\n",
       "      <td>...</td>\n",
       "      <td>...</td>\n",
       "      <td>...</td>\n",
       "      <td>...</td>\n",
       "      <td>...</td>\n",
       "      <td>...</td>\n",
       "      <td>...</td>\n",
       "      <td>...</td>\n",
       "      <td>...</td>\n",
       "      <td>...</td>\n",
       "      <td>...</td>\n",
       "      <td>...</td>\n",
       "      <td>...</td>\n",
       "      <td>...</td>\n",
       "      <td>...</td>\n",
       "      <td>...</td>\n",
       "      <td>...</td>\n",
       "      <td>...</td>\n",
       "      <td>...</td>\n",
       "    </tr>\n",
       "    <tr>\n",
       "      <th>20602</th>\n",
       "      <td>875</td>\n",
       "      <td>1</td>\n",
       "      <td>1</td>\n",
       "      <td>49</td>\n",
       "      <td>0</td>\n",
       "      <td>10</td>\n",
       "      <td>0</td>\n",
       "      <td>3</td>\n",
       "      <td>4</td>\n",
       "      <td>3.010216e+07</td>\n",
       "      <td>...</td>\n",
       "      <td>-0.924136</td>\n",
       "      <td>1.006876</td>\n",
       "      <td>-1.723887</td>\n",
       "      <td>1.681708</td>\n",
       "      <td>1.283999</td>\n",
       "      <td>-6.993910</td>\n",
       "      <td>-6.998196</td>\n",
       "      <td>7</td>\n",
       "      <td>2928000</td>\n",
       "      <td>0.000000</td>\n",
       "    </tr>\n",
       "    <tr>\n",
       "      <th>20603</th>\n",
       "      <td>21483</td>\n",
       "      <td>0</td>\n",
       "      <td>2</td>\n",
       "      <td>30</td>\n",
       "      <td>31944</td>\n",
       "      <td>3</td>\n",
       "      <td>0</td>\n",
       "      <td>2</td>\n",
       "      <td>0</td>\n",
       "      <td>3.010216e+07</td>\n",
       "      <td>...</td>\n",
       "      <td>4.641023</td>\n",
       "      <td>-1.074144</td>\n",
       "      <td>-6.663237</td>\n",
       "      <td>-4.414361</td>\n",
       "      <td>1.923957</td>\n",
       "      <td>-6.161592</td>\n",
       "      <td>-9.997423</td>\n",
       "      <td>10</td>\n",
       "      <td>2824204</td>\n",
       "      <td>1.909459</td>\n",
       "    </tr>\n",
       "    <tr>\n",
       "      <th>20604</th>\n",
       "      <td>21940</td>\n",
       "      <td>0</td>\n",
       "      <td>2</td>\n",
       "      <td>23</td>\n",
       "      <td>45972</td>\n",
       "      <td>3</td>\n",
       "      <td>0</td>\n",
       "      <td>2</td>\n",
       "      <td>7</td>\n",
       "      <td>3.010216e+07</td>\n",
       "      <td>...</td>\n",
       "      <td>1.580139</td>\n",
       "      <td>0.593876</td>\n",
       "      <td>-3.331619</td>\n",
       "      <td>-2.207180</td>\n",
       "      <td>0.961979</td>\n",
       "      <td>-2.123369</td>\n",
       "      <td>-4.998712</td>\n",
       "      <td>5</td>\n",
       "      <td>485909</td>\n",
       "      <td>0.572928</td>\n",
       "    </tr>\n",
       "    <tr>\n",
       "      <th>20605</th>\n",
       "      <td>20356</td>\n",
       "      <td>0</td>\n",
       "      <td>1</td>\n",
       "      <td>15</td>\n",
       "      <td>27777</td>\n",
       "      <td>3</td>\n",
       "      <td>0</td>\n",
       "      <td>2</td>\n",
       "      <td>7</td>\n",
       "      <td>3.010216e+07</td>\n",
       "      <td>...</td>\n",
       "      <td>-0.083725</td>\n",
       "      <td>-0.811939</td>\n",
       "      <td>-1.423039</td>\n",
       "      <td>-1.393159</td>\n",
       "      <td>0.162387</td>\n",
       "      <td>-1.998260</td>\n",
       "      <td>-1.999485</td>\n",
       "      <td>2</td>\n",
       "      <td>434000</td>\n",
       "      <td>0.000000</td>\n",
       "    </tr>\n",
       "    <tr>\n",
       "      <th>20606</th>\n",
       "      <td>17118</td>\n",
       "      <td>0</td>\n",
       "      <td>2</td>\n",
       "      <td>18</td>\n",
       "      <td>21527</td>\n",
       "      <td>3</td>\n",
       "      <td>0</td>\n",
       "      <td>2</td>\n",
       "      <td>7</td>\n",
       "      <td>3.010216e+07</td>\n",
       "      <td>...</td>\n",
       "      <td>-0.083725</td>\n",
       "      <td>-0.811939</td>\n",
       "      <td>-0.955528</td>\n",
       "      <td>0.814455</td>\n",
       "      <td>-1.531994</td>\n",
       "      <td>-1.998260</td>\n",
       "      <td>-1.999485</td>\n",
       "      <td>2</td>\n",
       "      <td>520000</td>\n",
       "      <td>0.000000</td>\n",
       "    </tr>\n",
       "  </tbody>\n",
       "</table>\n",
       "<p>20607 rows × 44 columns</p>\n",
       "</div>"
      ],
      "text/plain": [
       "       CUST_ID  SIU_CUST_YN  SEX  AGE  RESI_COST  RESI_TYPE_CODE  FP_CAREER  \\\n",
       "0            1            0    2   47      21111               3          0   \n",
       "1            2            0    1   53      40000               3          0   \n",
       "2            3            0    1   60          0              10          0   \n",
       "3            4            0    2   64      12861               5          1   \n",
       "4            5            0    2   54          0              10          1   \n",
       "...        ...          ...  ...  ...        ...             ...        ...   \n",
       "20602      875            1    1   49          0              10          0   \n",
       "20603    21483            0    2   30      31944               3          0   \n",
       "20604    21940            0    2   23      45972               3          0   \n",
       "20605    20356            0    1   15      27777               3          0   \n",
       "20606    17118            0    2   18      21527               3          0   \n",
       "\n",
       "       CTPR  OCCP_GRP_1     TOTALPREM  ...  DMND_RESN_CODE2  DMND_RESN_CODE3  \\\n",
       "0        17           2  1.469804e+08  ...         3.952394         0.324715   \n",
       "1         9           2  9.460011e+07  ...         2.964295         0.243537   \n",
       "2         9           4  1.850127e+07  ...        -0.132019         0.143839   \n",
       "3         2           1  3.172237e+08  ...         0.561653        -2.177483   \n",
       "4         5           1  1.050607e+07  ...        -0.132019         0.143839   \n",
       "...     ...         ...           ...  ...              ...              ...   \n",
       "20602     3           4  3.010216e+07  ...        -0.924136         1.006876   \n",
       "20603     2           0  3.010216e+07  ...         4.641023        -1.074144   \n",
       "20604     2           7  3.010216e+07  ...         1.580139         0.593876   \n",
       "20605     2           7  3.010216e+07  ...        -0.083725        -0.811939   \n",
       "20606     2           7  3.010216e+07  ...        -0.083725        -0.811939   \n",
       "\n",
       "       HOSP_SPEC_DVSN1  HOSP_SPEC_DVSN2  HOSP_SPEC_DVSN3  PMMI_DLNG_YN  \\\n",
       "0            -2.168140         1.040836         1.992806     -0.166812   \n",
       "1            -1.029684         0.861429        -1.550328     -0.125109   \n",
       "2            -0.477764         0.407227        -0.765997     -0.999130   \n",
       "3            -1.550718         1.790080         1.928229     -8.992170   \n",
       "4            -0.150561         0.104686         0.001918     -0.999130   \n",
       "...                ...              ...              ...           ...   \n",
       "20602        -1.723887         1.681708         1.283999     -6.993910   \n",
       "20603        -6.663237        -4.414361         1.923957     -6.161592   \n",
       "20604        -3.331619        -2.207180         0.961979     -2.123369   \n",
       "20605        -1.423039        -1.393159         0.162387     -1.998260   \n",
       "20606        -0.955528         0.814455        -1.531994     -1.998260   \n",
       "\n",
       "       HEED_HOSP_YN  claim_cnt  DMND_AMT  NON_PAY_RATIO  \n",
       "0         -3.998969          4    141450       2.965763  \n",
       "1         -2.999227          3    325531       2.639541  \n",
       "2         -0.999742          1    430000       0.000000  \n",
       "3         -8.997681          9   1410000       0.000000  \n",
       "4         -0.999742          1    660000       0.000000  \n",
       "...             ...        ...       ...            ...  \n",
       "20602     -6.998196          7   2928000       0.000000  \n",
       "20603     -9.997423         10   2824204       1.909459  \n",
       "20604     -4.998712          5    485909       0.572928  \n",
       "20605     -1.999485          2    434000       0.000000  \n",
       "20606     -1.999485          2    520000       0.000000  \n",
       "\n",
       "[20607 rows x 44 columns]"
      ]
     },
     "execution_count": 159,
     "metadata": {},
     "output_type": "execute_result"
    }
   ],
   "source": [
    "df_cust_cntt_claim"
   ]
  },
  {
   "cell_type": "code",
   "execution_count": 126,
   "metadata": {
    "id": "Yma1s2Lote8J"
   },
   "outputs": [],
   "source": [
    "from sklearn.model_selection import train_test_split\n",
    "df_cust_cntt_claim_train, df_cust_cntt_claim_test = train_test_split(df_cust_cntt_claim, test_size=0.2)"
   ]
  },
  {
   "cell_type": "code",
   "execution_count": 141,
   "metadata": {},
   "outputs": [],
   "source": [
    "X = df_cust_cntt_claim.drop(['SIU_CUST_YN'], axis = 1)\n",
    "y = df_cust_cntt_claim['SIU_CUST_YN']"
   ]
  },
  {
   "cell_type": "code",
   "execution_count": 127,
   "metadata": {
    "id": "wsPc9Itk26Pu"
   },
   "outputs": [],
   "source": [
    "X_train = df_cust_cntt_claim_train.drop(['SIU_CUST_YN'], axis = 1)\n",
    "X_test = df_cust_cntt_claim_test.drop(['SIU_CUST_YN'], axis = 1)\n",
    "y_train = df_cust_cntt_claim_train['SIU_CUST_YN']\n",
    "y_test = df_cust_cntt_claim_test['SIU_CUST_YN'] "
   ]
  },
  {
   "cell_type": "code",
   "execution_count": 128,
   "metadata": {
    "id": "4loFF5-72pi3"
   },
   "outputs": [],
   "source": [
    "from sklearn.ensemble import RandomForestClassifier\n",
    "from sklearn.tree import DecisionTreeClassifier"
   ]
  },
  {
   "cell_type": "code",
   "execution_count": 129,
   "metadata": {},
   "outputs": [],
   "source": [
    "def get_clf_eval(y_test, pred=None, pred_proba=None):\n",
    "    confusion = confusion_matrix( y_test, pred)\n",
    "    accuracy = accuracy_score(y_test , pred)\n",
    "    precision = precision_score(y_test , pred)\n",
    "    recall = recall_score(y_test , pred)\n",
    "    f1 = f1_score(y_test,pred)\n",
    "    # ROC-AUC 추가 \n",
    "    roc_auc = roc_auc_score(y_test, pred_proba)\n",
    "    print('오차 행렬')\n",
    "    print(confusion)\n",
    "    # ROC-AUC print 추가\n",
    "    print('정확도: {0:.4f}, 정밀도: {1:.4f}, 재현율: {2:.4f},\\\n",
    "    F1: {3:.4f}, AUC:{4:.4f}'.format(accuracy, precision, recall, f1, roc_auc))"
   ]
  },
  {
   "cell_type": "code",
   "execution_count": 143,
   "metadata": {},
   "outputs": [],
   "source": [
    "def get_clf_eval(y_test, pred=None, pred_proba=None):\n",
    "    confusion = confusion_matrix( y_test, pred)\n",
    "    tn, fp, fn, tp = confusion.ravel()\n",
    "    specificity = tn/(tn+fp)\n",
    "    accuracy = accuracy_score(y_test , pred)\n",
    "    precision = precision_score(y_test , pred)\n",
    "    recall = recall_score(y_test , pred)\n",
    "    f1 = f1_score(y_test,pred)\n",
    "    # ROC-AUC 추가 \n",
    "    roc_auc = roc_auc_score(y_test, pred_proba)\n",
    "    print('오차 행렬')\n",
    "    print(confusion)\n",
    "    # ROC-AUC print 추가\n",
    "    print('특이도: {0:.4f}, 정밀도: {1:.4f}, 재현율: {2:.4f},\\\n",
    "    F1: {3:.4f}, AUC:{4:.4f}'.format(specificity, precision, recall, f1, roc_auc))"
   ]
  },
  {
   "cell_type": "code",
   "execution_count": 137,
   "metadata": {},
   "outputs": [],
   "source": [
    "import numpy as np\n",
    "import pandas as pd\n",
    "from sklearn.linear_model import LogisticRegression\n",
    "from sklearn.model_selection import train_test_split\n",
    "from sklearn.metrics import confusion_matrix, precision_score, recall_score\n",
    "from sklearn.metrics import accuracy_score, roc_auc_score, roc_curve\n",
    "import statsmodels.api as sm\n",
    "import matplotlib.pyplot as plt\n",
    "import seaborn as sns\n",
    "from sklearn.metrics import f1_score"
   ]
  },
  {
   "cell_type": "code",
   "execution_count": 144,
   "metadata": {},
   "outputs": [
    {
     "name": "stdout",
     "output_type": "stream",
     "text": [
      "오차 행렬\n",
      "[[3708   40]\n",
      " [ 228  146]]\n",
      "특이도: 0.9893, 정밀도: 0.7849, 재현율: 0.3904,    F1: 0.5214, AUC:0.8927\n"
     ]
    }
   ],
   "source": [
    "rf_clf = RandomForestClassifier(n_estimators=100, random_state=0, max_depth=24,min_samples_split= 16)\n",
    "rf_clf.fit(X_train , y_train)\n",
    "pred_rf = rf_clf.predict(X_test)\n",
    "pred_proba_rf = rf_clf.predict_proba(X_test)[:, 1]\n",
    "\n",
    "get_clf_eval(y_test , pred_rf, pred_proba_rf)"
   ]
  },
  {
   "cell_type": "code",
   "execution_count": 142,
   "metadata": {},
   "outputs": [
    {
     "name": "stdout",
     "output_type": "stream",
     "text": [
      "교차검증 평균:  0.48370435576963944\n"
     ]
    }
   ],
   "source": [
    "from sklearn.model_selection import cross_val_score, cross_validate\n",
    "\n",
    "scores = cross_val_score(rf_clf, X, y, cv = 5, n_jobs=-1, scoring='f1')\n",
    "scores\n",
    "\n",
    "pd.DataFrame(cross_validate(rf_clf, X, y, cv =5))\n",
    "\n",
    "print('교차검증 평균: ', scores.mean())"
   ]
  },
  {
   "cell_type": "code",
   "execution_count": 62,
   "metadata": {
    "colab": {
     "base_uri": "https://localhost:8080/"
    },
    "executionInfo": {
     "elapsed": 281,
     "status": "ok",
     "timestamp": 1684553550642,
     "user": {
      "displayName": "Swan Kim",
      "userId": "01255046753553274360"
     },
     "user_tz": -540
    },
    "id": "etQpJ0jR2wA3",
    "outputId": "d4136aa9-b6e2-42e5-874a-c5b043f063d1"
   },
   "outputs": [
    {
     "data": {
      "text/plain": [
       "0.9019893255701116"
      ]
     },
     "execution_count": 62,
     "metadata": {},
     "output_type": "execute_result"
    }
   ],
   "source": [
    "dtc = DecisionTreeClassifier()\n",
    "dtc.fit(X_train, y_train)\n",
    "y_pred = dtc.predict(X_test)\n",
    "dtc.score(X_test , y_test) "
   ]
  },
  {
   "cell_type": "code",
   "execution_count": 63,
   "metadata": {
    "colab": {
     "base_uri": "https://localhost:8080/"
    },
    "executionInfo": {
     "elapsed": 5156,
     "status": "ok",
     "timestamp": 1684553555798,
     "user": {
      "displayName": "Swan Kim",
      "userId": "01255046753553274360"
     },
     "user_tz": -540
    },
    "id": "BUbERH6y3JAv",
    "outputId": "2fbe52f6-ab3d-4e21-cc98-87f4eb073c62"
   },
   "outputs": [
    {
     "data": {
      "text/plain": [
       "0.9388646288209607"
      ]
     },
     "execution_count": 63,
     "metadata": {},
     "output_type": "execute_result"
    }
   ],
   "source": [
    "rf = RandomForestClassifier()\n",
    "rf.fit(X_train, y_train)\n",
    "y_pred = rf.predict(X_test)\n",
    "rf.score(X_test, y_test) "
   ]
  },
  {
   "cell_type": "code",
   "execution_count": 64,
   "metadata": {
    "colab": {
     "base_uri": "https://localhost:8080/"
    },
    "executionInfo": {
     "elapsed": 11334,
     "status": "ok",
     "timestamp": 1684553567125,
     "user": {
      "displayName": "Swan Kim",
      "userId": "01255046753553274360"
     },
     "user_tz": -540
    },
    "id": "sky6fT8t5yTf",
    "outputId": "c55dbe9d-89de-4ec9-f766-057d5034ea97"
   },
   "outputs": [
    {
     "data": {
      "text/plain": [
       "0.9371664240659874"
      ]
     },
     "execution_count": 64,
     "metadata": {},
     "output_type": "execute_result"
    }
   ],
   "source": [
    "from sklearn.ensemble import GradientBoostingClassifier\n",
    "\n",
    "xg = GradientBoostingClassifier(learning_rate=0.1)\n",
    "xg.fit(X_train, y_train)\n",
    "y_pred = xg.predict(X_test)\n",
    "xg.score(X_test , y_test) "
   ]
  },
  {
   "cell_type": "code",
   "execution_count": 65,
   "metadata": {
    "colab": {
     "base_uri": "https://localhost:8080/",
     "height": 449
    },
    "executionInfo": {
     "elapsed": 9,
     "status": "ok",
     "timestamp": 1684553567125,
     "user": {
      "displayName": "Swan Kim",
      "userId": "01255046753553274360"
     },
     "user_tz": -540
    },
    "id": "2LsT2atv578G",
    "outputId": "4485e7ff-ddb2-45d5-d4ea-f3e7754e546f"
   },
   "outputs": [
    {
     "data": {
      "image/png": "[encoded data removed]",
      "text/plain": [
       "<Figure size 432x288 with 2 Axes>"
      ]
     },
     "metadata": {
      "needs_background": "light"
     },
     "output_type": "display_data"
    }
   ],
   "source": [
    "from sklearn.metrics import confusion_matrix, ConfusionMatrixDisplay\n",
    "import matplotlib.pyplot as plt\n",
    "\n",
    "cm = confusion_matrix(y_test, y_pred, labels=xg.classes_)\n",
    "disp = ConfusionMatrixDisplay(confusion_matrix=cm, display_labels=xg.classes_)\n",
    "disp.plot()\n",
    "plt.show()\n"
   ]
  },
  {
   "cell_type": "code",
   "execution_count": 66,
   "metadata": {
    "id": "dZyfo0gk8Blx"
   },
   "outputs": [],
   "source": [
    "import numpy as np\n",
    "import pandas as pd\n",
    "from sklearn.linear_model import LogisticRegression\n",
    "from sklearn.model_selection import train_test_split\n",
    "from sklearn.metrics import confusion_matrix\n",
    "from sklearn.metrics import accuracy_score, roc_auc_score, roc_curve\n",
    "import statsmodels.api as sm\n",
    "import matplotlib.pyplot as plt\n",
    "import seaborn as sns\n",
    "from sklearn.metrics import f1_score\n",
    "\n",
    "f1 = f1_score(y_test,y_pred)"
   ]
  },
  {
   "cell_type": "code",
   "execution_count": 67,
   "metadata": {},
   "outputs": [
    {
     "data": {
      "text/plain": [
       "0.5265082266910421"
      ]
     },
     "execution_count": 67,
     "metadata": {},
     "output_type": "execute_result"
    }
   ],
   "source": [
    "f1"
   ]
  },
  {
   "cell_type": "code",
   "execution_count": 145,
   "metadata": {
    "collapsed": true
   },
   "outputs": [
    {
     "name": "stdout",
     "output_type": "stream",
     "text": [
      "        SIU_CUST_YN  SEX  AGE  RESI_COST  RESI_TYPE_CODE  FP_CAREER  \\\n",
      "0                 0    2   47      21111               3          0   \n",
      "1                 0    2   47      21111               3          0   \n",
      "2                 0    2   47      21111               3          0   \n",
      "3                 0    2   47      21111               3          0   \n",
      "4                 0    2   47      21111               3          0   \n",
      "...             ...  ...  ...        ...             ...        ...   \n",
      "661468            0    1   15      27777               3          0   \n",
      "661469            0    2   18      21527               3          0   \n",
      "661470            0    2   18      21527               3          0   \n",
      "661471            0    2   18      21527               3          0   \n",
      "661472            0    2   18      21527               3          0   \n",
      "\n",
      "        OCCP_GRP_1     TOTALPREM   MINCRDT    MAXCRDT  ...  ACCI_DVSN  \\\n",
      "0                2  1.469804e+08  5.471824  31.728344  ...          3   \n",
      "1                2  1.469804e+08  5.471824  31.728344  ...          3   \n",
      "2                2  1.469804e+08  5.471824  31.728344  ...          3   \n",
      "3                2  1.469804e+08  5.471824  31.728344  ...          3   \n",
      "4                2  1.469804e+08  5.471824  31.728344  ...          3   \n",
      "...            ...           ...       ...        ...  ...        ...   \n",
      "661468           7  8.163505e+07  5.471824  31.728344  ...          3   \n",
      "661469           7  8.163505e+07  5.471824  31.728344  ...          3   \n",
      "661470           7  8.163505e+07  5.471824  31.728344  ...          3   \n",
      "661471           7  8.163505e+07  5.471824  31.728344  ...          3   \n",
      "661472           7  8.163505e+07  5.471824  31.728344  ...          3   \n",
      "\n",
      "        DMND_RESN_CODE  VLID_HOSP_OTDA  HOSP_SPEC_DVSN  PMMI_DLNG_YN  \\\n",
      "0                    3               2               0             1   \n",
      "1                    3               2               0             1   \n",
      "2                    3               2               0             1   \n",
      "3                    3               2               0             1   \n",
      "4                    3               2               0             1   \n",
      "...                ...             ...             ...           ...   \n",
      "661468               2               4               0             0   \n",
      "661469               2               4               1             0   \n",
      "661470               2               4               1             0   \n",
      "661471               5               0               1             0   \n",
      "661472               5               0               1             0   \n",
      "\n",
      "        HEED_HOSP_YN  CUST_ROLE  join  risk  claim  \n",
      "0                  0          1    34   0.0      4  \n",
      "1                  0          1    34   0.0      4  \n",
      "2                  0          2    34   0.0      4  \n",
      "3                  0          1    34   0.0      4  \n",
      "4                  0          1    34   0.0      4  \n",
      "...              ...        ...   ...   ...    ...  \n",
      "661468             0          2     1   0.0      2  \n",
      "661469             0          5     2   0.0      2  \n",
      "661470             0          2     2   0.0      2  \n",
      "661471             0          5     2   0.0      2  \n",
      "661472             0          2     2   0.0      2  \n",
      "\n",
      "[661473 rows x 24 columns]\n"
     ]
    }
   ],
   "source": [
    "import pickle\n",
    "with open(\"model_df.pickle\",\"rb\") as fr:\n",
    "    df_cust = pickle.load(fr)\n",
    "print(df_cust)"
   ]
  },
  {
   "cell_type": "code",
   "execution_count": 146,
   "metadata": {},
   "outputs": [
    {
     "data": {
      "text/plain": [
       "Index(['SIU_CUST_YN', 'SEX', 'AGE', 'RESI_COST', 'RESI_TYPE_CODE', 'FP_CAREER',\n",
       "       'OCCP_GRP_1', 'TOTALPREM', 'MINCRDT', 'MAXCRDT', 'WEDD_YN', 'CHLD_CNT',\n",
       "       'RCBASE_HSHD_INCM', 'CUST_RGST_DAY', 'ACCI_DVSN', 'DMND_RESN_CODE',\n",
       "       'VLID_HOSP_OTDA', 'HOSP_SPEC_DVSN', 'PMMI_DLNG_YN', 'HEED_HOSP_YN',\n",
       "       'CUST_ROLE', 'join', 'risk', 'claim'],\n",
       "      dtype='object')"
      ]
     },
     "execution_count": 146,
     "metadata": {},
     "output_type": "execute_result"
    }
   ],
   "source": [
    "df_cust.columns"
   ]
  },
  {
   "cell_type": "code",
   "execution_count": 149,
   "metadata": {},
   "outputs": [
    {
     "data": {
      "text/plain": [
       "array([ 0,  3,  1,  8,  5, 11,  2,  9,  4,  6,  7, 10, 12])"
      ]
     },
     "execution_count": 149,
     "metadata": {},
     "output_type": "execute_result"
    }
   ],
   "source": [
    "df_cust['HOSP_SPEC_DVSN'].unique()"
   ]
  },
  {
   "cell_type": "code",
   "execution_count": 150,
   "metadata": {},
   "outputs": [
    {
     "data": {
      "text/plain": [
       "array([ 5.47182397,  1.        ,  2.        ,  8.        ,  6.        ,\n",
       "       10.        ,  7.        ,  3.        ,  9.        ,  4.        ,\n",
       "        5.        ,  0.        , 28.        , 99.        ])"
      ]
     },
     "execution_count": 150,
     "metadata": {},
     "output_type": "execute_result"
    }
   ],
   "source": [
    "df_cust['MINCRDT'].unique()"
   ]
  },
  {
   "cell_type": "code",
   "execution_count": 154,
   "metadata": {},
   "outputs": [
    {
     "data": {
      "text/plain": [
       "array([1.46980441e+08, 9.46001090e+07, 1.85012690e+07, ...,\n",
       "       3.70435810e+07, 1.25523810e+07, 3.80800000e+05])"
      ]
     },
     "execution_count": 154,
     "metadata": {},
     "output_type": "execute_result"
    }
   ],
   "source": [
    "df_cust['TOTALPREM'].unique()"
   ]
  },
  {
   "cell_type": "code",
   "execution_count": 157,
   "metadata": {},
   "outputs": [
    {
     "data": {
      "text/html": [
       "<div>\n",
       "<style scoped>\n",
       "    .dataframe tbody tr th:only-of-type {\n",
       "        vertical-align: middle;\n",
       "    }\n",
       "\n",
       "    .dataframe tbody tr th {\n",
       "        vertical-align: top;\n",
       "    }\n",
       "\n",
       "    .dataframe thead th {\n",
       "        text-align: right;\n",
       "    }\n",
       "</style>\n",
       "<table border=\"1\" class=\"dataframe\">\n",
       "  <thead>\n",
       "    <tr style=\"text-align: right;\">\n",
       "      <th></th>\n",
       "      <th>SIU_CUST_YN</th>\n",
       "      <th>SEX</th>\n",
       "      <th>AGE</th>\n",
       "      <th>RESI_COST</th>\n",
       "      <th>RESI_TYPE_CODE</th>\n",
       "      <th>FP_CAREER</th>\n",
       "      <th>OCCP_GRP_1</th>\n",
       "      <th>TOTALPREM</th>\n",
       "      <th>MINCRDT</th>\n",
       "      <th>MAXCRDT</th>\n",
       "      <th>...</th>\n",
       "      <th>ACCI_DVSN</th>\n",
       "      <th>DMND_RESN_CODE</th>\n",
       "      <th>VLID_HOSP_OTDA</th>\n",
       "      <th>HOSP_SPEC_DVSN</th>\n",
       "      <th>PMMI_DLNG_YN</th>\n",
       "      <th>HEED_HOSP_YN</th>\n",
       "      <th>CUST_ROLE</th>\n",
       "      <th>join</th>\n",
       "      <th>risk</th>\n",
       "      <th>claim</th>\n",
       "    </tr>\n",
       "  </thead>\n",
       "  <tbody>\n",
       "    <tr>\n",
       "      <th>0</th>\n",
       "      <td>0</td>\n",
       "      <td>2</td>\n",
       "      <td>47</td>\n",
       "      <td>21111</td>\n",
       "      <td>3</td>\n",
       "      <td>0</td>\n",
       "      <td>2</td>\n",
       "      <td>1.469804e+08</td>\n",
       "      <td>5.471824</td>\n",
       "      <td>31.728344</td>\n",
       "      <td>...</td>\n",
       "      <td>3</td>\n",
       "      <td>3</td>\n",
       "      <td>2</td>\n",
       "      <td>0</td>\n",
       "      <td>1</td>\n",
       "      <td>0</td>\n",
       "      <td>1</td>\n",
       "      <td>34</td>\n",
       "      <td>0.0</td>\n",
       "      <td>4</td>\n",
       "    </tr>\n",
       "    <tr>\n",
       "      <th>1</th>\n",
       "      <td>0</td>\n",
       "      <td>2</td>\n",
       "      <td>47</td>\n",
       "      <td>21111</td>\n",
       "      <td>3</td>\n",
       "      <td>0</td>\n",
       "      <td>2</td>\n",
       "      <td>1.469804e+08</td>\n",
       "      <td>5.471824</td>\n",
       "      <td>31.728344</td>\n",
       "      <td>...</td>\n",
       "      <td>3</td>\n",
       "      <td>3</td>\n",
       "      <td>2</td>\n",
       "      <td>0</td>\n",
       "      <td>1</td>\n",
       "      <td>0</td>\n",
       "      <td>1</td>\n",
       "      <td>34</td>\n",
       "      <td>0.0</td>\n",
       "      <td>4</td>\n",
       "    </tr>\n",
       "    <tr>\n",
       "      <th>2</th>\n",
       "      <td>0</td>\n",
       "      <td>2</td>\n",
       "      <td>47</td>\n",
       "      <td>21111</td>\n",
       "      <td>3</td>\n",
       "      <td>0</td>\n",
       "      <td>2</td>\n",
       "      <td>1.469804e+08</td>\n",
       "      <td>5.471824</td>\n",
       "      <td>31.728344</td>\n",
       "      <td>...</td>\n",
       "      <td>3</td>\n",
       "      <td>3</td>\n",
       "      <td>2</td>\n",
       "      <td>0</td>\n",
       "      <td>1</td>\n",
       "      <td>0</td>\n",
       "      <td>2</td>\n",
       "      <td>34</td>\n",
       "      <td>0.0</td>\n",
       "      <td>4</td>\n",
       "    </tr>\n",
       "    <tr>\n",
       "      <th>3</th>\n",
       "      <td>0</td>\n",
       "      <td>2</td>\n",
       "      <td>47</td>\n",
       "      <td>21111</td>\n",
       "      <td>3</td>\n",
       "      <td>0</td>\n",
       "      <td>2</td>\n",
       "      <td>1.469804e+08</td>\n",
       "      <td>5.471824</td>\n",
       "      <td>31.728344</td>\n",
       "      <td>...</td>\n",
       "      <td>3</td>\n",
       "      <td>3</td>\n",
       "      <td>2</td>\n",
       "      <td>0</td>\n",
       "      <td>1</td>\n",
       "      <td>0</td>\n",
       "      <td>1</td>\n",
       "      <td>34</td>\n",
       "      <td>0.0</td>\n",
       "      <td>4</td>\n",
       "    </tr>\n",
       "    <tr>\n",
       "      <th>4</th>\n",
       "      <td>0</td>\n",
       "      <td>2</td>\n",
       "      <td>47</td>\n",
       "      <td>21111</td>\n",
       "      <td>3</td>\n",
       "      <td>0</td>\n",
       "      <td>2</td>\n",
       "      <td>1.469804e+08</td>\n",
       "      <td>5.471824</td>\n",
       "      <td>31.728344</td>\n",
       "      <td>...</td>\n",
       "      <td>3</td>\n",
       "      <td>3</td>\n",
       "      <td>2</td>\n",
       "      <td>0</td>\n",
       "      <td>1</td>\n",
       "      <td>0</td>\n",
       "      <td>1</td>\n",
       "      <td>34</td>\n",
       "      <td>0.0</td>\n",
       "      <td>4</td>\n",
       "    </tr>\n",
       "    <tr>\n",
       "      <th>...</th>\n",
       "      <td>...</td>\n",
       "      <td>...</td>\n",
       "      <td>...</td>\n",
       "      <td>...</td>\n",
       "      <td>...</td>\n",
       "      <td>...</td>\n",
       "      <td>...</td>\n",
       "      <td>...</td>\n",
       "      <td>...</td>\n",
       "      <td>...</td>\n",
       "      <td>...</td>\n",
       "      <td>...</td>\n",
       "      <td>...</td>\n",
       "      <td>...</td>\n",
       "      <td>...</td>\n",
       "      <td>...</td>\n",
       "      <td>...</td>\n",
       "      <td>...</td>\n",
       "      <td>...</td>\n",
       "      <td>...</td>\n",
       "      <td>...</td>\n",
       "    </tr>\n",
       "    <tr>\n",
       "      <th>661468</th>\n",
       "      <td>0</td>\n",
       "      <td>1</td>\n",
       "      <td>15</td>\n",
       "      <td>27777</td>\n",
       "      <td>3</td>\n",
       "      <td>0</td>\n",
       "      <td>7</td>\n",
       "      <td>8.163505e+07</td>\n",
       "      <td>5.471824</td>\n",
       "      <td>31.728344</td>\n",
       "      <td>...</td>\n",
       "      <td>3</td>\n",
       "      <td>2</td>\n",
       "      <td>4</td>\n",
       "      <td>0</td>\n",
       "      <td>0</td>\n",
       "      <td>0</td>\n",
       "      <td>2</td>\n",
       "      <td>1</td>\n",
       "      <td>0.0</td>\n",
       "      <td>2</td>\n",
       "    </tr>\n",
       "    <tr>\n",
       "      <th>661469</th>\n",
       "      <td>0</td>\n",
       "      <td>2</td>\n",
       "      <td>18</td>\n",
       "      <td>21527</td>\n",
       "      <td>3</td>\n",
       "      <td>0</td>\n",
       "      <td>7</td>\n",
       "      <td>8.163505e+07</td>\n",
       "      <td>5.471824</td>\n",
       "      <td>31.728344</td>\n",
       "      <td>...</td>\n",
       "      <td>3</td>\n",
       "      <td>2</td>\n",
       "      <td>4</td>\n",
       "      <td>1</td>\n",
       "      <td>0</td>\n",
       "      <td>0</td>\n",
       "      <td>5</td>\n",
       "      <td>2</td>\n",
       "      <td>0.0</td>\n",
       "      <td>2</td>\n",
       "    </tr>\n",
       "    <tr>\n",
       "      <th>661470</th>\n",
       "      <td>0</td>\n",
       "      <td>2</td>\n",
       "      <td>18</td>\n",
       "      <td>21527</td>\n",
       "      <td>3</td>\n",
       "      <td>0</td>\n",
       "      <td>7</td>\n",
       "      <td>8.163505e+07</td>\n",
       "      <td>5.471824</td>\n",
       "      <td>31.728344</td>\n",
       "      <td>...</td>\n",
       "      <td>3</td>\n",
       "      <td>2</td>\n",
       "      <td>4</td>\n",
       "      <td>1</td>\n",
       "      <td>0</td>\n",
       "      <td>0</td>\n",
       "      <td>2</td>\n",
       "      <td>2</td>\n",
       "      <td>0.0</td>\n",
       "      <td>2</td>\n",
       "    </tr>\n",
       "    <tr>\n",
       "      <th>661471</th>\n",
       "      <td>0</td>\n",
       "      <td>2</td>\n",
       "      <td>18</td>\n",
       "      <td>21527</td>\n",
       "      <td>3</td>\n",
       "      <td>0</td>\n",
       "      <td>7</td>\n",
       "      <td>8.163505e+07</td>\n",
       "      <td>5.471824</td>\n",
       "      <td>31.728344</td>\n",
       "      <td>...</td>\n",
       "      <td>3</td>\n",
       "      <td>5</td>\n",
       "      <td>0</td>\n",
       "      <td>1</td>\n",
       "      <td>0</td>\n",
       "      <td>0</td>\n",
       "      <td>5</td>\n",
       "      <td>2</td>\n",
       "      <td>0.0</td>\n",
       "      <td>2</td>\n",
       "    </tr>\n",
       "    <tr>\n",
       "      <th>661472</th>\n",
       "      <td>0</td>\n",
       "      <td>2</td>\n",
       "      <td>18</td>\n",
       "      <td>21527</td>\n",
       "      <td>3</td>\n",
       "      <td>0</td>\n",
       "      <td>7</td>\n",
       "      <td>8.163505e+07</td>\n",
       "      <td>5.471824</td>\n",
       "      <td>31.728344</td>\n",
       "      <td>...</td>\n",
       "      <td>3</td>\n",
       "      <td>5</td>\n",
       "      <td>0</td>\n",
       "      <td>1</td>\n",
       "      <td>0</td>\n",
       "      <td>0</td>\n",
       "      <td>2</td>\n",
       "      <td>2</td>\n",
       "      <td>0.0</td>\n",
       "      <td>2</td>\n",
       "    </tr>\n",
       "  </tbody>\n",
       "</table>\n",
       "<p>661473 rows × 24 columns</p>\n",
       "</div>"
      ],
      "text/plain": [
       "        SIU_CUST_YN  SEX  AGE  RESI_COST  RESI_TYPE_CODE  FP_CAREER  \\\n",
       "0                 0    2   47      21111               3          0   \n",
       "1                 0    2   47      21111               3          0   \n",
       "2                 0    2   47      21111               3          0   \n",
       "3                 0    2   47      21111               3          0   \n",
       "4                 0    2   47      21111               3          0   \n",
       "...             ...  ...  ...        ...             ...        ...   \n",
       "661468            0    1   15      27777               3          0   \n",
       "661469            0    2   18      21527               3          0   \n",
       "661470            0    2   18      21527               3          0   \n",
       "661471            0    2   18      21527               3          0   \n",
       "661472            0    2   18      21527               3          0   \n",
       "\n",
       "        OCCP_GRP_1     TOTALPREM   MINCRDT    MAXCRDT  ...  ACCI_DVSN  \\\n",
       "0                2  1.469804e+08  5.471824  31.728344  ...          3   \n",
       "1                2  1.469804e+08  5.471824  31.728344  ...          3   \n",
       "2                2  1.469804e+08  5.471824  31.728344  ...          3   \n",
       "3                2  1.469804e+08  5.471824  31.728344  ...          3   \n",
       "4                2  1.469804e+08  5.471824  31.728344  ...          3   \n",
       "...            ...           ...       ...        ...  ...        ...   \n",
       "661468           7  8.163505e+07  5.471824  31.728344  ...          3   \n",
       "661469           7  8.163505e+07  5.471824  31.728344  ...          3   \n",
       "661470           7  8.163505e+07  5.471824  31.728344  ...          3   \n",
       "661471           7  8.163505e+07  5.471824  31.728344  ...          3   \n",
       "661472           7  8.163505e+07  5.471824  31.728344  ...          3   \n",
       "\n",
       "        DMND_RESN_CODE  VLID_HOSP_OTDA  HOSP_SPEC_DVSN  PMMI_DLNG_YN  \\\n",
       "0                    3               2               0             1   \n",
       "1                    3               2               0             1   \n",
       "2                    3               2               0             1   \n",
       "3                    3               2               0             1   \n",
       "4                    3               2               0             1   \n",
       "...                ...             ...             ...           ...   \n",
       "661468               2               4               0             0   \n",
       "661469               2               4               1             0   \n",
       "661470               2               4               1             0   \n",
       "661471               5               0               1             0   \n",
       "661472               5               0               1             0   \n",
       "\n",
       "        HEED_HOSP_YN  CUST_ROLE  join  risk  claim  \n",
       "0                  0          1    34   0.0      4  \n",
       "1                  0          1    34   0.0      4  \n",
       "2                  0          2    34   0.0      4  \n",
       "3                  0          1    34   0.0      4  \n",
       "4                  0          1    34   0.0      4  \n",
       "...              ...        ...   ...   ...    ...  \n",
       "661468             0          2     1   0.0      2  \n",
       "661469             0          5     2   0.0      2  \n",
       "661470             0          2     2   0.0      2  \n",
       "661471             0          5     2   0.0      2  \n",
       "661472             0          2     2   0.0      2  \n",
       "\n",
       "[661473 rows x 24 columns]"
      ]
     },
     "execution_count": 157,
     "metadata": {},
     "output_type": "execute_result"
    }
   ],
   "source": [
    "df_cust"
   ]
  },
  {
   "cell_type": "code",
   "execution_count": 158,
   "metadata": {},
   "outputs": [],
   "source": [
    "with open(\"model_df.pickle\",\"wb\") as fw:\n",
    "    pickle.dump(df_cust, fw)"
   ]
  },
  {
   "cell_type": "code",
   "execution_count": null,
   "metadata": {},
   "outputs": [],
   "source": []
  }
 ],
 "metadata": {
  "colab": {
   "authorship_tag": "ABX9TyP/V+Ib98mXL18EPPIekG3N",
   "provenance": []
  },
  "kernelspec": {
   "display_name": "Python 3 (ipykernel)",
   "language": "python",
   "name": "python3"
  },
  "language_info": {
   "codemirror_mode": {
    "name": "ipython",
    "version": 3
   },
   "file_extension": ".py",
   "mimetype": "text/x-python",
   "name": "python",
   "nbconvert_exporter": "python",
   "pygments_lexer": "ipython3",
   "version": "3.9.7"
  }
 },
 "nbformat": 4,
 "nbformat_minor": 1
}
