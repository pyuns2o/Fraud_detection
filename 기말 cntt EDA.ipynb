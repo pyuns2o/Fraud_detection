{
 "cells": [
  {
   "cell_type": "code",
   "execution_count": 1,
   "id": "812b2c38",
   "metadata": {},
   "outputs": [],
   "source": [
    "import numpy as np\n",
    "import matplotlib.pyplot as plt\n",
    "import seaborn as sns\n",
    "import pandas as pd"
   ]
  },
  {
   "cell_type": "code",
   "execution_count": 67,
   "id": "93d63036",
   "metadata": {},
   "outputs": [],
   "source": [
    "df_cntt = pd.read_csv('BGCON_CNTT_DATA.csv', encoding = 'utf-8')"
   ]
  },
  {
   "cell_type": "code",
   "execution_count": 68,
   "id": "93b16835",
   "metadata": {},
   "outputs": [
    {
     "data": {
      "text/plain": [
       "Index(['POLY_NO', 'CUST_ID', 'CUST_ROLE', 'IRKD_CODE_DTAL', 'IRKD_CODE_ITEM',\n",
       "       'GOOD_CLSF_CDNM', 'CNTT_YM', 'CLLT_FP_PRNO', 'REAL_PAYM_TERM',\n",
       "       'SALE_CHNL_CODE', 'CNTT_STAT_CODE', 'EXPR_YM', 'EXTN_YM', 'LAPS_YM',\n",
       "       'PAYM_CYCL_CODE', 'MAIN_INSR_AMT', 'SUM_ORIG_PREM', 'RECP_PUBL',\n",
       "       'CNTT_RECP', 'MNTH_INCM_AMT', 'DISTANCE'],\n",
       "      dtype='object')"
      ]
     },
     "execution_count": 68,
     "metadata": {},
     "output_type": "execute_result"
    }
   ],
   "source": [
    "df_cntt.columns"
   ]
  },
  {
   "cell_type": "code",
   "execution_count": 69,
   "id": "6375c4c2",
   "metadata": {},
   "outputs": [
    {
     "data": {
      "text/plain": [
       "POLY_NO               0\n",
       "CUST_ID               0\n",
       "CUST_ROLE             0\n",
       "CLLT_FP_PRNO         82\n",
       "REAL_PAYM_TERM        0\n",
       "SALE_CHNL_CODE        0\n",
       "DISTANCE          10556\n",
       "dtype: int64"
      ]
     },
     "execution_count": 69,
     "metadata": {},
     "output_type": "execute_result"
    }
   ],
   "source": [
    "df_cntt = df_cntt.drop(['IRKD_CODE_DTAL', 'IRKD_CODE_ITEM',\n",
    "                        'GOOD_CLSF_CDNM', 'CNTT_YM',\n",
    "                        'CNTT_STAT_CODE', 'EXPR_YM', 'EXTN_YM', 'LAPS_YM',\n",
    "                        'PAYM_CYCL_CODE', 'MAIN_INSR_AMT', 'SUM_ORIG_PREM', 'RECP_PUBL',\n",
    "                        'CNTT_RECP', 'MNTH_INCM_AMT'], axis=1)\n",
    "df_cntt.isnull().sum()"
   ]
  },
  {
   "cell_type": "code",
   "execution_count": 70,
   "id": "a675141b",
   "metadata": {},
   "outputs": [],
   "source": [
    "import pickle\n",
    "with open(\"df_cust.pickle\",\"rb\") as fr:\n",
    "    df_cust = pickle.load(fr)"
   ]
  },
  {
   "cell_type": "code",
   "execution_count": 71,
   "id": "3d042282",
   "metadata": {},
   "outputs": [],
   "source": [
    "df_cust = df_cust.drop(['SEX', 'AGE', 'RESI_COST', 'RESI_TYPE_CODE',\n",
    "       'FP_CAREER', 'CUST_RGST', 'CTPR', 'OCCP_GRP_1', 'OCCP_GRP_2',\n",
    "       'TOTALPREM', 'MINCRDT', 'MAXCRDT', 'WEDD_YN', 'MATE_OCCP_GRP_1',\n",
    "       'MATE_OCCP_GRP_2', 'CHLD_CNT', 'CUST_INCM', 'RCBASE_HSHD_INCM',\n",
    "       'JPBASE_HSHD_INCM', 'year', 'month'], axis=1)"
   ]
  },
  {
   "cell_type": "code",
   "execution_count": 72,
   "id": "b3bf75fd",
   "metadata": {},
   "outputs": [],
   "source": [
    "df_cntt = pd.merge(df_cntt, df_cust, on = 'CUST_ID', how = 'inner')"
   ]
  },
  {
   "cell_type": "code",
   "execution_count": 73,
   "id": "c4443c24",
   "metadata": {},
   "outputs": [
    {
     "data": {
      "text/html": [
       "<div>\n",
       "<style scoped>\n",
       "    .dataframe tbody tr th:only-of-type {\n",
       "        vertical-align: middle;\n",
       "    }\n",
       "\n",
       "    .dataframe tbody tr th {\n",
       "        vertical-align: top;\n",
       "    }\n",
       "\n",
       "    .dataframe thead th {\n",
       "        text-align: right;\n",
       "    }\n",
       "</style>\n",
       "<table border=\"1\" class=\"dataframe\">\n",
       "  <thead>\n",
       "    <tr style=\"text-align: right;\">\n",
       "      <th></th>\n",
       "      <th>POLY_NO</th>\n",
       "      <th>CUST_ID</th>\n",
       "      <th>CUST_ROLE</th>\n",
       "      <th>CLLT_FP_PRNO</th>\n",
       "      <th>REAL_PAYM_TERM</th>\n",
       "      <th>SALE_CHNL_CODE</th>\n",
       "      <th>DISTANCE</th>\n",
       "      <th>SIU_CUST_YN</th>\n",
       "    </tr>\n",
       "  </thead>\n",
       "  <tbody>\n",
       "    <tr>\n",
       "      <th>0</th>\n",
       "      <td>1</td>\n",
       "      <td>2805</td>\n",
       "      <td>1</td>\n",
       "      <td>4671.0</td>\n",
       "      <td>20</td>\n",
       "      <td>1</td>\n",
       "      <td>15.0</td>\n",
       "      <td>N</td>\n",
       "    </tr>\n",
       "    <tr>\n",
       "      <th>1</th>\n",
       "      <td>98492</td>\n",
       "      <td>2805</td>\n",
       "      <td>2</td>\n",
       "      <td>71.0</td>\n",
       "      <td>1</td>\n",
       "      <td>1</td>\n",
       "      <td>NaN</td>\n",
       "      <td>N</td>\n",
       "    </tr>\n",
       "    <tr>\n",
       "      <th>2</th>\n",
       "      <td>2</td>\n",
       "      <td>5658</td>\n",
       "      <td>1</td>\n",
       "      <td>5900.0</td>\n",
       "      <td>15</td>\n",
       "      <td>1</td>\n",
       "      <td>147.0</td>\n",
       "      <td>N</td>\n",
       "    </tr>\n",
       "    <tr>\n",
       "      <th>3</th>\n",
       "      <td>809</td>\n",
       "      <td>5658</td>\n",
       "      <td>5</td>\n",
       "      <td>5900.0</td>\n",
       "      <td>10</td>\n",
       "      <td>1</td>\n",
       "      <td>147.0</td>\n",
       "      <td>N</td>\n",
       "    </tr>\n",
       "    <tr>\n",
       "      <th>4</th>\n",
       "      <td>3296</td>\n",
       "      <td>5658</td>\n",
       "      <td>1</td>\n",
       "      <td>5900.0</td>\n",
       "      <td>15</td>\n",
       "      <td>1</td>\n",
       "      <td>147.0</td>\n",
       "      <td>N</td>\n",
       "    </tr>\n",
       "    <tr>\n",
       "      <th>...</th>\n",
       "      <td>...</td>\n",
       "      <td>...</td>\n",
       "      <td>...</td>\n",
       "      <td>...</td>\n",
       "      <td>...</td>\n",
       "      <td>...</td>\n",
       "      <td>...</td>\n",
       "      <td>...</td>\n",
       "    </tr>\n",
       "    <tr>\n",
       "      <th>104009</th>\n",
       "      <td>112564</td>\n",
       "      <td>9873</td>\n",
       "      <td>1</td>\n",
       "      <td>29488.0</td>\n",
       "      <td>10</td>\n",
       "      <td>2</td>\n",
       "      <td>34.0</td>\n",
       "      <td>N</td>\n",
       "    </tr>\n",
       "    <tr>\n",
       "      <th>104010</th>\n",
       "      <td>112565</td>\n",
       "      <td>9873</td>\n",
       "      <td>1</td>\n",
       "      <td>29488.0</td>\n",
       "      <td>0</td>\n",
       "      <td>2</td>\n",
       "      <td>34.0</td>\n",
       "      <td>N</td>\n",
       "    </tr>\n",
       "    <tr>\n",
       "      <th>104011</th>\n",
       "      <td>112569</td>\n",
       "      <td>2892</td>\n",
       "      <td>2</td>\n",
       "      <td>31477.0</td>\n",
       "      <td>15</td>\n",
       "      <td>2</td>\n",
       "      <td>7.0</td>\n",
       "      <td>N</td>\n",
       "    </tr>\n",
       "    <tr>\n",
       "      <th>104012</th>\n",
       "      <td>112709</td>\n",
       "      <td>18136</td>\n",
       "      <td>2</td>\n",
       "      <td>2216.0</td>\n",
       "      <td>5</td>\n",
       "      <td>2</td>\n",
       "      <td>2.0</td>\n",
       "      <td>N</td>\n",
       "    </tr>\n",
       "    <tr>\n",
       "      <th>104013</th>\n",
       "      <td>112710</td>\n",
       "      <td>3430</td>\n",
       "      <td>1</td>\n",
       "      <td>2211.0</td>\n",
       "      <td>10</td>\n",
       "      <td>2</td>\n",
       "      <td>6.0</td>\n",
       "      <td>N</td>\n",
       "    </tr>\n",
       "  </tbody>\n",
       "</table>\n",
       "<p>104014 rows × 8 columns</p>\n",
       "</div>"
      ],
      "text/plain": [
       "        POLY_NO  CUST_ID  CUST_ROLE  CLLT_FP_PRNO  REAL_PAYM_TERM  \\\n",
       "0             1     2805          1        4671.0              20   \n",
       "1         98492     2805          2          71.0               1   \n",
       "2             2     5658          1        5900.0              15   \n",
       "3           809     5658          5        5900.0              10   \n",
       "4          3296     5658          1        5900.0              15   \n",
       "...         ...      ...        ...           ...             ...   \n",
       "104009   112564     9873          1       29488.0              10   \n",
       "104010   112565     9873          1       29488.0               0   \n",
       "104011   112569     2892          2       31477.0              15   \n",
       "104012   112709    18136          2        2216.0               5   \n",
       "104013   112710     3430          1        2211.0              10   \n",
       "\n",
       "        SALE_CHNL_CODE  DISTANCE SIU_CUST_YN  \n",
       "0                    1      15.0           N  \n",
       "1                    1       NaN           N  \n",
       "2                    1     147.0           N  \n",
       "3                    1     147.0           N  \n",
       "4                    1     147.0           N  \n",
       "...                ...       ...         ...  \n",
       "104009               2      34.0           N  \n",
       "104010               2      34.0           N  \n",
       "104011               2       7.0           N  \n",
       "104012               2       2.0           N  \n",
       "104013               2       6.0           N  \n",
       "\n",
       "[104014 rows x 8 columns]"
      ]
     },
     "execution_count": 73,
     "metadata": {},
     "output_type": "execute_result"
    }
   ],
   "source": [
    "df_cntt"
   ]
  },
  {
   "cell_type": "code",
   "execution_count": 9,
   "id": "a91b7b66",
   "metadata": {},
   "outputs": [
    {
     "name": "stdout",
     "output_type": "stream",
     "text": [
      "Requirement already satisfied: pandasql in c:\\anaconda3\\lib\\site-packages (0.7.3)\n",
      "Requirement already satisfied: pandas in c:\\anaconda3\\lib\\site-packages (from pandasql) (1.3.4)\n",
      "Requirement already satisfied: numpy in c:\\anaconda3\\lib\\site-packages (from pandasql) (1.20.3)\n",
      "Requirement already satisfied: sqlalchemy in c:\\anaconda3\\lib\\site-packages (from pandasql) (1.4.46)\n",
      "Requirement already satisfied: pytz>=2017.3 in c:\\anaconda3\\lib\\site-packages (from pandas->pandasql) (2021.3)\n",
      "Requirement already satisfied: python-dateutil>=2.7.3 in c:\\anaconda3\\lib\\site-packages (from pandas->pandasql) (2.8.2)\n",
      "Requirement already satisfied: six>=1.5 in c:\\anaconda3\\lib\\site-packages (from python-dateutil>=2.7.3->pandas->pandasql) (1.16.0)\n",
      "Requirement already satisfied: greenlet!=0.4.17 in c:\\anaconda3\\lib\\site-packages (from sqlalchemy->pandasql) (1.1.1)\n"
     ]
    }
   ],
   "source": [
    "!pip install pandasql\n",
    "import numpy as np \n",
    "from pandasql import sqldf\n",
    "dfsql = lambda q: sqldf(q, globals())"
   ]
  },
  {
   "cell_type": "code",
   "execution_count": 47,
   "id": "d5872433",
   "metadata": {},
   "outputs": [],
   "source": [
    "pay = dfsql('''select CUST_ID, avg(REAL_PAYM_TERM) as REAL_PAYM_TERM_AVG, SIU_CUST_YN from df_cntt group by CUST_ID''')"
   ]
  },
  {
   "cell_type": "code",
   "execution_count": 53,
   "id": "49262a80",
   "metadata": {},
   "outputs": [
    {
     "data": {
      "text/html": [
       "<div>\n",
       "<style scoped>\n",
       "    .dataframe tbody tr th:only-of-type {\n",
       "        vertical-align: middle;\n",
       "    }\n",
       "\n",
       "    .dataframe tbody tr th {\n",
       "        vertical-align: top;\n",
       "    }\n",
       "\n",
       "    .dataframe thead th {\n",
       "        text-align: right;\n",
       "    }\n",
       "</style>\n",
       "<table border=\"1\" class=\"dataframe\">\n",
       "  <thead>\n",
       "    <tr style=\"text-align: right;\">\n",
       "      <th></th>\n",
       "      <th>CUST_ID</th>\n",
       "      <th>count(CUST_ID)</th>\n",
       "      <th>SIU_CUST_YN</th>\n",
       "    </tr>\n",
       "  </thead>\n",
       "  <tbody>\n",
       "    <tr>\n",
       "      <th>0</th>\n",
       "      <td>1</td>\n",
       "      <td>34</td>\n",
       "      <td>N</td>\n",
       "    </tr>\n",
       "    <tr>\n",
       "      <th>1</th>\n",
       "      <td>2</td>\n",
       "      <td>38</td>\n",
       "      <td>N</td>\n",
       "    </tr>\n",
       "    <tr>\n",
       "      <th>2</th>\n",
       "      <td>3</td>\n",
       "      <td>2</td>\n",
       "      <td>N</td>\n",
       "    </tr>\n",
       "    <tr>\n",
       "      <th>3</th>\n",
       "      <td>4</td>\n",
       "      <td>108</td>\n",
       "      <td>N</td>\n",
       "    </tr>\n",
       "    <tr>\n",
       "      <th>4</th>\n",
       "      <td>5</td>\n",
       "      <td>5</td>\n",
       "      <td>N</td>\n",
       "    </tr>\n",
       "    <tr>\n",
       "      <th>...</th>\n",
       "      <td>...</td>\n",
       "      <td>...</td>\n",
       "      <td>...</td>\n",
       "    </tr>\n",
       "    <tr>\n",
       "      <th>20602</th>\n",
       "      <td>22396</td>\n",
       "      <td>2</td>\n",
       "      <td>N</td>\n",
       "    </tr>\n",
       "    <tr>\n",
       "      <th>20603</th>\n",
       "      <td>22397</td>\n",
       "      <td>1</td>\n",
       "      <td>N</td>\n",
       "    </tr>\n",
       "    <tr>\n",
       "      <th>20604</th>\n",
       "      <td>22398</td>\n",
       "      <td>3</td>\n",
       "      <td>N</td>\n",
       "    </tr>\n",
       "    <tr>\n",
       "      <th>20605</th>\n",
       "      <td>22399</td>\n",
       "      <td>4</td>\n",
       "      <td>N</td>\n",
       "    </tr>\n",
       "    <tr>\n",
       "      <th>20606</th>\n",
       "      <td>22400</td>\n",
       "      <td>1</td>\n",
       "      <td>N</td>\n",
       "    </tr>\n",
       "  </tbody>\n",
       "</table>\n",
       "<p>20607 rows × 3 columns</p>\n",
       "</div>"
      ],
      "text/plain": [
       "       CUST_ID  count(CUST_ID) SIU_CUST_YN\n",
       "0            1              34           N\n",
       "1            2              38           N\n",
       "2            3               2           N\n",
       "3            4             108           N\n",
       "4            5               5           N\n",
       "...        ...             ...         ...\n",
       "20602    22396               2           N\n",
       "20603    22397               1           N\n",
       "20604    22398               3           N\n",
       "20605    22399               4           N\n",
       "20606    22400               1           N\n",
       "\n",
       "[20607 rows x 3 columns]"
      ]
     },
     "execution_count": 53,
     "metadata": {},
     "output_type": "execute_result"
    }
   ],
   "source": [
    "join_cnt = dfsql('''select CUST_ID, count(CUST_ID), SIU_CUST_YN from df_cntt group by CUST_ID''')\n",
    "join_cnt"
   ]
  },
  {
   "cell_type": "code",
   "execution_count": 54,
   "id": "a93b7729",
   "metadata": {},
   "outputs": [],
   "source": [
    "import pickle\n",
    "with open(\"join_cnt.pickle\",\"wb\") as fw:\n",
    "    pickle.dump(join_cnt, fw)"
   ]
  },
  {
   "cell_type": "code",
   "execution_count": null,
   "id": "0fc03b59",
   "metadata": {},
   "outputs": [],
   "source": []
  },
  {
   "cell_type": "code",
   "execution_count": null,
   "id": "470c9f1f",
   "metadata": {},
   "outputs": [],
   "source": []
  },
  {
   "cell_type": "code",
   "execution_count": 35,
   "id": "182d2906",
   "metadata": {},
   "outputs": [
    {
     "data": {
      "text/html": [
       "<div>\n",
       "<style scoped>\n",
       "    .dataframe tbody tr th:only-of-type {\n",
       "        vertical-align: middle;\n",
       "    }\n",
       "\n",
       "    .dataframe tbody tr th {\n",
       "        vertical-align: top;\n",
       "    }\n",
       "\n",
       "    .dataframe thead th {\n",
       "        text-align: right;\n",
       "    }\n",
       "</style>\n",
       "<table border=\"1\" class=\"dataframe\">\n",
       "  <thead>\n",
       "    <tr style=\"text-align: right;\">\n",
       "      <th></th>\n",
       "      <th>CUST_ID</th>\n",
       "      <th>REAL_PAYM_TERM_AVG</th>\n",
       "      <th>SIU_CUST_YN</th>\n",
       "    </tr>\n",
       "  </thead>\n",
       "  <tbody>\n",
       "    <tr>\n",
       "      <th>0</th>\n",
       "      <td>1</td>\n",
       "      <td>3.147059</td>\n",
       "      <td>N</td>\n",
       "    </tr>\n",
       "    <tr>\n",
       "      <th>1</th>\n",
       "      <td>2</td>\n",
       "      <td>4.657895</td>\n",
       "      <td>N</td>\n",
       "    </tr>\n",
       "    <tr>\n",
       "      <th>2</th>\n",
       "      <td>3</td>\n",
       "      <td>10.000000</td>\n",
       "      <td>N</td>\n",
       "    </tr>\n",
       "    <tr>\n",
       "      <th>3</th>\n",
       "      <td>4</td>\n",
       "      <td>8.657407</td>\n",
       "      <td>N</td>\n",
       "    </tr>\n",
       "    <tr>\n",
       "      <th>4</th>\n",
       "      <td>5</td>\n",
       "      <td>12.200000</td>\n",
       "      <td>N</td>\n",
       "    </tr>\n",
       "    <tr>\n",
       "      <th>...</th>\n",
       "      <td>...</td>\n",
       "      <td>...</td>\n",
       "      <td>...</td>\n",
       "    </tr>\n",
       "    <tr>\n",
       "      <th>20602</th>\n",
       "      <td>22396</td>\n",
       "      <td>20.000000</td>\n",
       "      <td>N</td>\n",
       "    </tr>\n",
       "    <tr>\n",
       "      <th>20603</th>\n",
       "      <td>22397</td>\n",
       "      <td>15.000000</td>\n",
       "      <td>N</td>\n",
       "    </tr>\n",
       "    <tr>\n",
       "      <th>20604</th>\n",
       "      <td>22398</td>\n",
       "      <td>1.000000</td>\n",
       "      <td>N</td>\n",
       "    </tr>\n",
       "    <tr>\n",
       "      <th>20605</th>\n",
       "      <td>22399</td>\n",
       "      <td>16.750000</td>\n",
       "      <td>N</td>\n",
       "    </tr>\n",
       "    <tr>\n",
       "      <th>20606</th>\n",
       "      <td>22400</td>\n",
       "      <td>20.000000</td>\n",
       "      <td>N</td>\n",
       "    </tr>\n",
       "  </tbody>\n",
       "</table>\n",
       "<p>20607 rows × 3 columns</p>\n",
       "</div>"
      ],
      "text/plain": [
       "       CUST_ID  REAL_PAYM_TERM_AVG SIU_CUST_YN\n",
       "0            1            3.147059           N\n",
       "1            2            4.657895           N\n",
       "2            3           10.000000           N\n",
       "3            4            8.657407           N\n",
       "4            5           12.200000           N\n",
       "...        ...                 ...         ...\n",
       "20602    22396           20.000000           N\n",
       "20603    22397           15.000000           N\n",
       "20604    22398            1.000000           N\n",
       "20605    22399           16.750000           N\n",
       "20606    22400           20.000000           N\n",
       "\n",
       "[20607 rows x 3 columns]"
      ]
     },
     "execution_count": 35,
     "metadata": {},
     "output_type": "execute_result"
    }
   ],
   "source": [
    "pay"
   ]
  },
  {
   "cell_type": "code",
   "execution_count": 26,
   "id": "2c3dbad0",
   "metadata": {},
   "outputs": [],
   "source": [
    "pay_yes = pay[pay['SIU_CUST_YN'] == 'Y']\n",
    "pay_no = pay[pay['SIU_CUST_YN'] == 'N']"
   ]
  },
  {
   "cell_type": "code",
   "execution_count": 31,
   "id": "1d6fc890",
   "metadata": {},
   "outputs": [
    {
     "data": {
      "text/plain": [
       "<AxesSubplot:xlabel='REAL_PAYM_TERM_AVG', ylabel='Density'>"
      ]
     },
     "execution_count": 31,
     "metadata": {},
     "output_type": "execute_result"
    },
    {
     "data": {
      "image/png": "[encoded data removed]",
      "text/plain": [
       "<Figure size 432x288 with 1 Axes>"
      ]
     },
     "metadata": {
      "needs_background": "light"
     },
     "output_type": "display_data"
    }
   ],
   "source": [
    "sns.kdeplot(x = 'REAL_PAYM_TERM_AVG', data = pay_yes)\n",
    "sns.kdeplot(x = 'REAL_PAYM_TERM_AVG', data = pay_no)"
   ]
  },
  {
   "cell_type": "code",
   "execution_count": 32,
   "id": "a483572c",
   "metadata": {},
   "outputs": [
    {
     "data": {
      "text/plain": [
       "<AxesSubplot:xlabel='REAL_PAYM_TERM_AVG', ylabel='Density'>"
      ]
     },
     "execution_count": 32,
     "metadata": {},
     "output_type": "execute_result"
    },
    {
     "data": {
      "image/png": "[encoded data removed]",
      "text/plain": [
       "<Figure size 432x288 with 1 Axes>"
      ]
     },
     "metadata": {
      "needs_background": "light"
     },
     "output_type": "display_data"
    }
   ],
   "source": [
    "sns.kdeplot(x = 'REAL_PAYM_TERM_AVG', data = pay_no)"
   ]
  },
  {
   "cell_type": "code",
   "execution_count": 33,
   "id": "3c8fc72b",
   "metadata": {},
   "outputs": [
    {
     "data": {
      "text/plain": [
       "30.059442986321464"
      ]
     },
     "execution_count": 33,
     "metadata": {},
     "output_type": "execute_result"
    }
   ],
   "source": [
    "np.mean(pay_yes['REAL_PAYM_TERM_AVG'])"
   ]
  },
  {
   "cell_type": "code",
   "execution_count": 34,
   "id": "ea0d2676",
   "metadata": {},
   "outputs": [
    {
     "data": {
      "text/plain": [
       "28.237520318389077"
      ]
     },
     "execution_count": 34,
     "metadata": {},
     "output_type": "execute_result"
    }
   ],
   "source": [
    "np.mean(pay_no['REAL_PAYM_TERM_AVG'])"
   ]
  },
  {
   "cell_type": "code",
   "execution_count": 12,
   "id": "7d8d1dbe",
   "metadata": {},
   "outputs": [
    {
     "data": {
      "text/plain": [
       "POLY_NO              0\n",
       "CUST_ID              0\n",
       "CUST_ROLE            0\n",
       "REAL_PAYM_TERM       0\n",
       "SALE_CHNL_CODE       0\n",
       "DISTANCE          9746\n",
       "SIU_CUST_YN          0\n",
       "dtype: int64"
      ]
     },
     "execution_count": 12,
     "metadata": {},
     "output_type": "execute_result"
    }
   ],
   "source": [
    "df_cntt.isnull().sum()"
   ]
  },
  {
   "cell_type": "code",
   "execution_count": 13,
   "id": "065b4e2a",
   "metadata": {},
   "outputs": [],
   "source": [
    "df_cntt_yes = df_cntt[df_cntt['SIU_CUST_YN']=='Y']\n",
    "df_cntt_no = df_cntt[df_cntt['SIU_CUST_YN']=='N']"
   ]
  },
  {
   "cell_type": "code",
   "execution_count": 14,
   "id": "c73d1e21",
   "metadata": {},
   "outputs": [
    {
     "data": {
      "text/plain": [
       "Index(['POLY_NO', 'CUST_ID', 'CUST_ROLE', 'REAL_PAYM_TERM', 'SALE_CHNL_CODE',\n",
       "       'DISTANCE', 'SIU_CUST_YN'],\n",
       "      dtype='object')"
      ]
     },
     "execution_count": 14,
     "metadata": {},
     "output_type": "execute_result"
    }
   ],
   "source": [
    "df_cntt.columns"
   ]
  },
  {
   "cell_type": "code",
   "execution_count": 15,
   "id": "f7802510",
   "metadata": {},
   "outputs": [
    {
     "data": {
      "text/plain": [
       "<AxesSubplot:xlabel='CUST_ROLE', ylabel='count'>"
      ]
     },
     "execution_count": 15,
     "metadata": {},
     "output_type": "execute_result"
    },
    {
     "data": {
      "image/png": "[encoded data removed]",
      "text/plain": [
       "<Figure size 432x288 with 1 Axes>"
      ]
     },
     "metadata": {
      "needs_background": "light"
     },
     "output_type": "display_data"
    }
   ],
   "source": [
    "sns.countplot(x = 'CUST_ROLE', data = df_cntt)"
   ]
  },
  {
   "cell_type": "code",
   "execution_count": 16,
   "id": "ba5a7973",
   "metadata": {},
   "outputs": [
    {
     "data": {
      "text/plain": [
       "<AxesSubplot:xlabel='CUST_ROLE', ylabel='count'>"
      ]
     },
     "execution_count": 16,
     "metadata": {},
     "output_type": "execute_result"
    },
    {
     "data": {
      "image/png": "[encoded data removed]",
      "text/plain": [
       "<Figure size 432x288 with 1 Axes>"
      ]
     },
     "metadata": {
      "needs_background": "light"
     },
     "output_type": "display_data"
    }
   ],
   "source": [
    "sns.countplot(x = 'CUST_ROLE', data = df_cntt_yes)"
   ]
  },
  {
   "cell_type": "code",
   "execution_count": 17,
   "id": "ef443d14",
   "metadata": {},
   "outputs": [
    {
     "data": {
      "text/plain": [
       "<AxesSubplot:xlabel='CUST_ROLE', ylabel='count'>"
      ]
     },
     "execution_count": 17,
     "metadata": {},
     "output_type": "execute_result"
    },
    {
     "data": {
      "image/png": "[encoded data removed]",
      "text/plain": [
       "<Figure size 432x288 with 1 Axes>"
      ]
     },
     "metadata": {
      "needs_background": "light"
     },
     "output_type": "display_data"
    }
   ],
   "source": [
    "sns.countplot(x = 'CUST_ROLE', data = df_cntt_no)"
   ]
  },
  {
   "cell_type": "code",
   "execution_count": 18,
   "id": "a564c716",
   "metadata": {},
   "outputs": [
    {
     "data": {
      "text/plain": [
       "1     0.454741\n",
       "0     0.250269\n",
       "2     0.203300\n",
       "5     0.061322\n",
       "21    0.013963\n",
       "3     0.008398\n",
       "4     0.008007\n",
       "Name: CUST_ROLE, dtype: float64"
      ]
     },
     "execution_count": 18,
     "metadata": {},
     "output_type": "execute_result"
    }
   ],
   "source": [
    "df_cntt_yes['CUST_ROLE'].value_counts(normalize=True)"
   ]
  },
  {
   "cell_type": "code",
   "execution_count": 19,
   "id": "b73867dc",
   "metadata": {},
   "outputs": [
    {
     "data": {
      "text/plain": [
       "1     0.422371\n",
       "2     0.250093\n",
       "0     0.205763\n",
       "5     0.083617\n",
       "21    0.029635\n",
       "3     0.005065\n",
       "4     0.003455\n",
       "Name: CUST_ROLE, dtype: float64"
      ]
     },
     "execution_count": 19,
     "metadata": {},
     "output_type": "execute_result"
    }
   ],
   "source": [
    "df_cntt_no['CUST_ROLE'].value_counts(normalize=True)"
   ]
  },
  {
   "cell_type": "code",
   "execution_count": 20,
   "id": "2df1e44c",
   "metadata": {},
   "outputs": [
    {
     "data": {
      "text/plain": [
       "<AxesSubplot:xlabel='REAL_PAYM_TERM', ylabel='Density'>"
      ]
     },
     "execution_count": 20,
     "metadata": {},
     "output_type": "execute_result"
    },
    {
     "data": {
      "image/png": "[encoded data removed]",
      "text/plain": [
       "<Figure size 432x288 with 1 Axes>"
      ]
     },
     "metadata": {
      "needs_background": "light"
     },
     "output_type": "display_data"
    }
   ],
   "source": [
    "sns.kdeplot(x = 'REAL_PAYM_TERM', data = df_cntt)"
   ]
  },
  {
   "cell_type": "code",
   "execution_count": 21,
   "id": "2080a290",
   "metadata": {},
   "outputs": [
    {
     "data": {
      "text/plain": [
       "<AxesSubplot:xlabel='REAL_PAYM_TERM', ylabel='Density'>"
      ]
     },
     "execution_count": 21,
     "metadata": {},
     "output_type": "execute_result"
    },
    {
     "data": {
      "image/png": "[encoded data removed]",
      "text/plain": [
       "<Figure size 432x288 with 1 Axes>"
      ]
     },
     "metadata": {
      "needs_background": "light"
     },
     "output_type": "display_data"
    }
   ],
   "source": [
    "sns.kdeplot(x = 'REAL_PAYM_TERM', data = df_cntt_yes)\n",
    "sns.kdeplot(x = 'REAL_PAYM_TERM', data = df_cntt_no)"
   ]
  },
  {
   "cell_type": "code",
   "execution_count": 22,
   "id": "30c52b9b",
   "metadata": {},
   "outputs": [
    {
     "data": {
      "text/plain": [
       "34.3584610877844"
      ]
     },
     "execution_count": 22,
     "metadata": {},
     "output_type": "execute_result"
    }
   ],
   "source": [
    "np.mean(df_cntt_yes['REAL_PAYM_TERM'])"
   ]
  },
  {
   "cell_type": "code",
   "execution_count": 23,
   "id": "126dc79f",
   "metadata": {},
   "outputs": [
    {
     "data": {
      "text/plain": [
       "32.02853699892293"
      ]
     },
     "execution_count": 23,
     "metadata": {},
     "output_type": "execute_result"
    }
   ],
   "source": [
    "np.mean(df_cntt_no['REAL_PAYM_TERM'])"
   ]
  },
  {
   "cell_type": "code",
   "execution_count": 24,
   "id": "8bdbe0c6",
   "metadata": {},
   "outputs": [
    {
     "data": {
      "text/html": [
       "<div>\n",
       "<style scoped>\n",
       "    .dataframe tbody tr th:only-of-type {\n",
       "        vertical-align: middle;\n",
       "    }\n",
       "\n",
       "    .dataframe tbody tr th {\n",
       "        vertical-align: top;\n",
       "    }\n",
       "\n",
       "    .dataframe thead th {\n",
       "        text-align: right;\n",
       "    }\n",
       "</style>\n",
       "<table border=\"1\" class=\"dataframe\">\n",
       "  <thead>\n",
       "    <tr style=\"text-align: right;\">\n",
       "      <th></th>\n",
       "      <th>POLY_NO</th>\n",
       "      <th>CUST_ID</th>\n",
       "      <th>CUST_ROLE</th>\n",
       "      <th>REAL_PAYM_TERM</th>\n",
       "      <th>SALE_CHNL_CODE</th>\n",
       "      <th>DISTANCE</th>\n",
       "      <th>SIU_CUST_YN</th>\n",
       "    </tr>\n",
       "  </thead>\n",
       "  <tbody>\n",
       "    <tr>\n",
       "      <th>9</th>\n",
       "      <td>3</td>\n",
       "      <td>4583</td>\n",
       "      <td>1</td>\n",
       "      <td>5</td>\n",
       "      <td>1</td>\n",
       "      <td>3.0</td>\n",
       "      <td>Y</td>\n",
       "    </tr>\n",
       "    <tr>\n",
       "      <th>10</th>\n",
       "      <td>1063</td>\n",
       "      <td>4583</td>\n",
       "      <td>1</td>\n",
       "      <td>15</td>\n",
       "      <td>1</td>\n",
       "      <td>3.0</td>\n",
       "      <td>Y</td>\n",
       "    </tr>\n",
       "    <tr>\n",
       "      <th>11</th>\n",
       "      <td>4012</td>\n",
       "      <td>4583</td>\n",
       "      <td>0</td>\n",
       "      <td>10</td>\n",
       "      <td>1</td>\n",
       "      <td>0.0</td>\n",
       "      <td>Y</td>\n",
       "    </tr>\n",
       "    <tr>\n",
       "      <th>12</th>\n",
       "      <td>4246</td>\n",
       "      <td>4583</td>\n",
       "      <td>0</td>\n",
       "      <td>15</td>\n",
       "      <td>1</td>\n",
       "      <td>4.0</td>\n",
       "      <td>Y</td>\n",
       "    </tr>\n",
       "    <tr>\n",
       "      <th>13</th>\n",
       "      <td>14521</td>\n",
       "      <td>4583</td>\n",
       "      <td>1</td>\n",
       "      <td>20</td>\n",
       "      <td>1</td>\n",
       "      <td>1.0</td>\n",
       "      <td>Y</td>\n",
       "    </tr>\n",
       "    <tr>\n",
       "      <th>...</th>\n",
       "      <td>...</td>\n",
       "      <td>...</td>\n",
       "      <td>...</td>\n",
       "      <td>...</td>\n",
       "      <td>...</td>\n",
       "      <td>...</td>\n",
       "      <td>...</td>\n",
       "    </tr>\n",
       "    <tr>\n",
       "      <th>102721</th>\n",
       "      <td>100770</td>\n",
       "      <td>3564</td>\n",
       "      <td>2</td>\n",
       "      <td>0</td>\n",
       "      <td>1</td>\n",
       "      <td>10.0</td>\n",
       "      <td>Y</td>\n",
       "    </tr>\n",
       "    <tr>\n",
       "      <th>102756</th>\n",
       "      <td>101269</td>\n",
       "      <td>9636</td>\n",
       "      <td>2</td>\n",
       "      <td>20</td>\n",
       "      <td>1</td>\n",
       "      <td>7.0</td>\n",
       "      <td>Y</td>\n",
       "    </tr>\n",
       "    <tr>\n",
       "      <th>102757</th>\n",
       "      <td>101270</td>\n",
       "      <td>9636</td>\n",
       "      <td>2</td>\n",
       "      <td>0</td>\n",
       "      <td>1</td>\n",
       "      <td>7.0</td>\n",
       "      <td>Y</td>\n",
       "    </tr>\n",
       "    <tr>\n",
       "      <th>102758</th>\n",
       "      <td>101288</td>\n",
       "      <td>9636</td>\n",
       "      <td>2</td>\n",
       "      <td>20</td>\n",
       "      <td>1</td>\n",
       "      <td>7.0</td>\n",
       "      <td>Y</td>\n",
       "    </tr>\n",
       "    <tr>\n",
       "      <th>102759</th>\n",
       "      <td>101289</td>\n",
       "      <td>9636</td>\n",
       "      <td>2</td>\n",
       "      <td>0</td>\n",
       "      <td>1</td>\n",
       "      <td>7.0</td>\n",
       "      <td>Y</td>\n",
       "    </tr>\n",
       "  </tbody>\n",
       "</table>\n",
       "<p>9688 rows × 7 columns</p>\n",
       "</div>"
      ],
      "text/plain": [
       "        POLY_NO  CUST_ID  CUST_ROLE  REAL_PAYM_TERM  SALE_CHNL_CODE  DISTANCE  \\\n",
       "9             3     4583          1               5               1       3.0   \n",
       "10         1063     4583          1              15               1       3.0   \n",
       "11         4012     4583          0              10               1       0.0   \n",
       "12         4246     4583          0              15               1       4.0   \n",
       "13        14521     4583          1              20               1       1.0   \n",
       "...         ...      ...        ...             ...             ...       ...   \n",
       "102721   100770     3564          2               0               1      10.0   \n",
       "102756   101269     9636          2              20               1       7.0   \n",
       "102757   101270     9636          2               0               1       7.0   \n",
       "102758   101288     9636          2              20               1       7.0   \n",
       "102759   101289     9636          2               0               1       7.0   \n",
       "\n",
       "       SIU_CUST_YN  \n",
       "9                Y  \n",
       "10               Y  \n",
       "11               Y  \n",
       "12               Y  \n",
       "13               Y  \n",
       "...            ...  \n",
       "102721           Y  \n",
       "102756           Y  \n",
       "102757           Y  \n",
       "102758           Y  \n",
       "102759           Y  \n",
       "\n",
       "[9688 rows x 7 columns]"
      ]
     },
     "execution_count": 24,
     "metadata": {},
     "output_type": "execute_result"
    }
   ],
   "source": [
    "df_cntt_yes[df_cntt_yes['REAL_PAYM_TERM']<25]"
   ]
  },
  {
   "cell_type": "code",
   "execution_count": 25,
   "id": "2c82794c",
   "metadata": {},
   "outputs": [
    {
     "data": {
      "text/html": [
       "<div>\n",
       "<style scoped>\n",
       "    .dataframe tbody tr th:only-of-type {\n",
       "        vertical-align: middle;\n",
       "    }\n",
       "\n",
       "    .dataframe tbody tr th {\n",
       "        vertical-align: top;\n",
       "    }\n",
       "\n",
       "    .dataframe thead th {\n",
       "        text-align: right;\n",
       "    }\n",
       "</style>\n",
       "<table border=\"1\" class=\"dataframe\">\n",
       "  <thead>\n",
       "    <tr style=\"text-align: right;\">\n",
       "      <th></th>\n",
       "      <th>POLY_NO</th>\n",
       "      <th>CUST_ID</th>\n",
       "      <th>CUST_ROLE</th>\n",
       "      <th>REAL_PAYM_TERM</th>\n",
       "      <th>SALE_CHNL_CODE</th>\n",
       "      <th>DISTANCE</th>\n",
       "      <th>SIU_CUST_YN</th>\n",
       "    </tr>\n",
       "  </thead>\n",
       "  <tbody>\n",
       "    <tr>\n",
       "      <th>0</th>\n",
       "      <td>1</td>\n",
       "      <td>2805</td>\n",
       "      <td>1</td>\n",
       "      <td>20</td>\n",
       "      <td>1</td>\n",
       "      <td>15.0</td>\n",
       "      <td>N</td>\n",
       "    </tr>\n",
       "    <tr>\n",
       "      <th>1</th>\n",
       "      <td>98492</td>\n",
       "      <td>2805</td>\n",
       "      <td>2</td>\n",
       "      <td>1</td>\n",
       "      <td>1</td>\n",
       "      <td>NaN</td>\n",
       "      <td>N</td>\n",
       "    </tr>\n",
       "    <tr>\n",
       "      <th>2</th>\n",
       "      <td>2</td>\n",
       "      <td>5658</td>\n",
       "      <td>1</td>\n",
       "      <td>15</td>\n",
       "      <td>1</td>\n",
       "      <td>147.0</td>\n",
       "      <td>N</td>\n",
       "    </tr>\n",
       "    <tr>\n",
       "      <th>3</th>\n",
       "      <td>809</td>\n",
       "      <td>5658</td>\n",
       "      <td>5</td>\n",
       "      <td>10</td>\n",
       "      <td>1</td>\n",
       "      <td>147.0</td>\n",
       "      <td>N</td>\n",
       "    </tr>\n",
       "    <tr>\n",
       "      <th>4</th>\n",
       "      <td>3296</td>\n",
       "      <td>5658</td>\n",
       "      <td>1</td>\n",
       "      <td>15</td>\n",
       "      <td>1</td>\n",
       "      <td>147.0</td>\n",
       "      <td>N</td>\n",
       "    </tr>\n",
       "    <tr>\n",
       "      <th>...</th>\n",
       "      <td>...</td>\n",
       "      <td>...</td>\n",
       "      <td>...</td>\n",
       "      <td>...</td>\n",
       "      <td>...</td>\n",
       "      <td>...</td>\n",
       "      <td>...</td>\n",
       "    </tr>\n",
       "    <tr>\n",
       "      <th>104009</th>\n",
       "      <td>112564</td>\n",
       "      <td>9873</td>\n",
       "      <td>1</td>\n",
       "      <td>10</td>\n",
       "      <td>2</td>\n",
       "      <td>34.0</td>\n",
       "      <td>N</td>\n",
       "    </tr>\n",
       "    <tr>\n",
       "      <th>104010</th>\n",
       "      <td>112565</td>\n",
       "      <td>9873</td>\n",
       "      <td>1</td>\n",
       "      <td>0</td>\n",
       "      <td>2</td>\n",
       "      <td>34.0</td>\n",
       "      <td>N</td>\n",
       "    </tr>\n",
       "    <tr>\n",
       "      <th>104011</th>\n",
       "      <td>112569</td>\n",
       "      <td>2892</td>\n",
       "      <td>2</td>\n",
       "      <td>15</td>\n",
       "      <td>2</td>\n",
       "      <td>7.0</td>\n",
       "      <td>N</td>\n",
       "    </tr>\n",
       "    <tr>\n",
       "      <th>104012</th>\n",
       "      <td>112709</td>\n",
       "      <td>18136</td>\n",
       "      <td>2</td>\n",
       "      <td>5</td>\n",
       "      <td>2</td>\n",
       "      <td>2.0</td>\n",
       "      <td>N</td>\n",
       "    </tr>\n",
       "    <tr>\n",
       "      <th>104013</th>\n",
       "      <td>112710</td>\n",
       "      <td>3430</td>\n",
       "      <td>1</td>\n",
       "      <td>10</td>\n",
       "      <td>2</td>\n",
       "      <td>6.0</td>\n",
       "      <td>N</td>\n",
       "    </tr>\n",
       "  </tbody>\n",
       "</table>\n",
       "<p>89371 rows × 7 columns</p>\n",
       "</div>"
      ],
      "text/plain": [
       "        POLY_NO  CUST_ID  CUST_ROLE  REAL_PAYM_TERM  SALE_CHNL_CODE  DISTANCE  \\\n",
       "0             1     2805          1              20               1      15.0   \n",
       "1         98492     2805          2               1               1       NaN   \n",
       "2             2     5658          1              15               1     147.0   \n",
       "3           809     5658          5              10               1     147.0   \n",
       "4          3296     5658          1              15               1     147.0   \n",
       "...         ...      ...        ...             ...             ...       ...   \n",
       "104009   112564     9873          1              10               2      34.0   \n",
       "104010   112565     9873          1               0               2      34.0   \n",
       "104011   112569     2892          2              15               2       7.0   \n",
       "104012   112709    18136          2               5               2       2.0   \n",
       "104013   112710     3430          1              10               2       6.0   \n",
       "\n",
       "       SIU_CUST_YN  \n",
       "0                N  \n",
       "1                N  \n",
       "2                N  \n",
       "3                N  \n",
       "4                N  \n",
       "...            ...  \n",
       "104009           N  \n",
       "104010           N  \n",
       "104011           N  \n",
       "104012           N  \n",
       "104013           N  \n",
       "\n",
       "[89371 rows x 7 columns]"
      ]
     },
     "execution_count": 25,
     "metadata": {},
     "output_type": "execute_result"
    }
   ],
   "source": [
    "df_cntt_no[df_cntt_no['REAL_PAYM_TERM']<25]"
   ]
  },
  {
   "cell_type": "code",
   "execution_count": 56,
   "id": "7ba299bc",
   "metadata": {},
   "outputs": [
    {
     "data": {
      "text/plain": [
       "<AxesSubplot:xlabel='SALE_CHNL_CODE', ylabel='count'>"
      ]
     },
     "execution_count": 56,
     "metadata": {},
     "output_type": "execute_result"
    },
    {
     "data": {
      "image/png": "[encoded data removed]",
      "text/plain": [
       "<Figure size 432x288 with 1 Axes>"
      ]
     },
     "metadata": {
      "needs_background": "light"
     },
     "output_type": "display_data"
    }
   ],
   "source": [
    "sns.countplot(x = 'SALE_CHNL_CODE', data = df_cntt_yes)"
   ]
  },
  {
   "cell_type": "code",
   "execution_count": 55,
   "id": "407151ed",
   "metadata": {},
   "outputs": [
    {
     "data": {
      "text/plain": [
       "<AxesSubplot:xlabel='SALE_CHNL_CODE', ylabel='count'>"
      ]
     },
     "execution_count": 55,
     "metadata": {},
     "output_type": "execute_result"
    },
    {
     "data": {
      "image/png": "[encoded data removed]",
      "text/plain": [
       "<Figure size 432x288 with 1 Axes>"
      ]
     },
     "metadata": {
      "needs_background": "light"
     },
     "output_type": "display_data"
    }
   ],
   "source": [
    "sns.countplot(x = 'SALE_CHNL_CODE', data = df_cntt_no)"
   ]
  },
  {
   "cell_type": "code",
   "execution_count": 57,
   "id": "a9c9e3e5",
   "metadata": {},
   "outputs": [
    {
     "data": {
      "text/plain": [
       "1    0.829118\n",
       "2    0.057123\n",
       "4    0.053510\n",
       "7    0.048433\n",
       "6    0.005273\n",
       "3    0.003808\n",
       "5    0.002734\n",
       "Name: SALE_CHNL_CODE, dtype: float64"
      ]
     },
     "execution_count": 57,
     "metadata": {},
     "output_type": "execute_result"
    }
   ],
   "source": [
    "df_cntt_yes['SALE_CHNL_CODE'].value_counts(normalize=True)"
   ]
  },
  {
   "cell_type": "code",
   "execution_count": 58,
   "id": "fa320450",
   "metadata": {},
   "outputs": [
    {
     "data": {
      "text/plain": [
       "1    0.823851\n",
       "2    0.102684\n",
       "4    0.033538\n",
       "7    0.026010\n",
       "6    0.007273\n",
       "5    0.005257\n",
       "3    0.001386\n",
       "Name: SALE_CHNL_CODE, dtype: float64"
      ]
     },
     "execution_count": 58,
     "metadata": {},
     "output_type": "execute_result"
    }
   ],
   "source": [
    "df_cntt_no['SALE_CHNL_CODE'].value_counts(normalize=True)"
   ]
  },
  {
   "cell_type": "code",
   "execution_count": 61,
   "id": "e902a678",
   "metadata": {},
   "outputs": [
    {
     "data": {
      "text/plain": [
       "<AxesSubplot:xlabel='DISTANCE', ylabel='Density'>"
      ]
     },
     "execution_count": 61,
     "metadata": {},
     "output_type": "execute_result"
    },
    {
     "data": {
      "image/png": "[encoded data removed]",
      "text/plain": [
       "<Figure size 432x288 with 1 Axes>"
      ]
     },
     "metadata": {
      "needs_background": "light"
     },
     "output_type": "display_data"
    }
   ],
   "source": [
    "sns.kdeplot(x = 'DISTANCE', data = df_cntt)"
   ]
  },
  {
   "cell_type": "code",
   "execution_count": 64,
   "id": "fea0d318",
   "metadata": {},
   "outputs": [
    {
     "data": {
      "text/plain": [
       "<AxesSubplot:xlabel='DISTANCE', ylabel='Density'>"
      ]
     },
     "execution_count": 64,
     "metadata": {},
     "output_type": "execute_result"
    },
    {
     "data": {
      "image/png": "[encoded data removed]",
      "text/plain": [
       "<Figure size 432x288 with 1 Axes>"
      ]
     },
     "metadata": {
      "needs_background": "light"
     },
     "output_type": "display_data"
    }
   ],
   "source": [
    "sns.kdeplot(x = 'DISTANCE', data = df_cntt_yes)\n",
    "sns.kdeplot(x = 'DISTANCE', data = df_cntt_no)"
   ]
  },
  {
   "cell_type": "code",
   "execution_count": 63,
   "id": "4b2b7983",
   "metadata": {},
   "outputs": [
    {
     "data": {
      "text/plain": [
       "<AxesSubplot:xlabel='DISTANCE', ylabel='Density'>"
      ]
     },
     "execution_count": 63,
     "metadata": {},
     "output_type": "execute_result"
    },
    {
     "data": {
      "image/png": "[encoded data removed]",
      "text/plain": [
       "<Figure size 432x288 with 1 Axes>"
      ]
     },
     "metadata": {
      "needs_background": "light"
     },
     "output_type": "display_data"
    }
   ],
   "source": [
    "sns.kdeplot(x = 'DISTANCE', data = df_cntt_no)"
   ]
  },
  {
   "cell_type": "code",
   "execution_count": 65,
   "id": "54c8526d",
   "metadata": {},
   "outputs": [
    {
     "data": {
      "text/plain": [
       "40.98290063601293"
      ]
     },
     "execution_count": 65,
     "metadata": {},
     "output_type": "execute_result"
    }
   ],
   "source": [
    "np.mean(df_cntt_yes['DISTANCE'])"
   ]
  },
  {
   "cell_type": "code",
   "execution_count": 66,
   "id": "cd82c565",
   "metadata": {},
   "outputs": [
    {
     "data": {
      "text/plain": [
       "36.90319685392728"
      ]
     },
     "execution_count": 66,
     "metadata": {},
     "output_type": "execute_result"
    }
   ],
   "source": [
    "np.mean(df_cntt_no['DISTANCE'])"
   ]
  },
  {
   "cell_type": "code",
   "execution_count": null,
   "id": "c3413d8e",
   "metadata": {},
   "outputs": [],
   "source": []
  }
 ],
 "metadata": {
  "kernelspec": {
   "display_name": "Python 3 (ipykernel)",
   "language": "python",
   "name": "python3"
  },
  "language_info": {
   "codemirror_mode": {
    "name": "ipython",
    "version": 3
   },
   "file_extension": ".py",
   "mimetype": "text/x-python",
   "name": "python",
   "nbconvert_exporter": "python",
   "pygments_lexer": "ipython3",
   "version": "3.9.7"
  }
 },
 "nbformat": 4,
 "nbformat_minor": 5
}
