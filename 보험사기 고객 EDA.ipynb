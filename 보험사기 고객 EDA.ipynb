{
 "cells": [
  {
   "cell_type": "code",
   "execution_count": 1,
   "id": "0365689a",
   "metadata": {},
   "outputs": [],
   "source": [
    "import numpy as np\n",
    "import matplotlib.pyplot as plt\n",
    "import seaborn as sns\n",
    "import pandas as pd"
   ]
  },
  {
   "cell_type": "code",
   "execution_count": 2,
   "id": "25e69c66",
   "metadata": {},
   "outputs": [],
   "source": [
    "import pandas as pd\n",
    "df_cust = pd.read_csv('BGCON_CUST_DATA.csv', encoding = 'utf-8', dtype={'RESI_TYPE_CODE':str})"
   ]
  },
  {
   "cell_type": "code",
   "execution_count": 2,
   "id": "ef670a37",
   "metadata": {},
   "outputs": [
    {
     "data": {
      "text/plain": [
       "<AxesSubplot:>"
      ]
     },
     "execution_count": 2,
     "metadata": {},
     "output_type": "execute_result"
    },
    {
     "data": {
      "image/png": "[encoded data removed]",
      "text/plain": [
       "<Figure size 432x288 with 1 Axes>"
      ]
     },
     "metadata": {
      "needs_background": "light"
     },
     "output_type": "display_data"
    }
   ],
   "source": [
    "import matplotlib.pyplot as plt\n",
    "fig, ax = plt.subplots()\n",
    "df_cust['SIU_CUST_YN'].value_counts().plot(ax=ax, kind='bar')\n",
    "#사기여부. 사기가 아닌 경우가 많음. 불균형 데이터."
   ]
  },
  {
   "cell_type": "code",
   "execution_count": 3,
   "id": "0cfb51a4",
   "metadata": {},
   "outputs": [
    {
     "data": {
      "text/plain": [
       "<AxesSubplot:>"
      ]
     },
     "execution_count": 3,
     "metadata": {},
     "output_type": "execute_result"
    },
    {
     "data": {
      "image/png": "[encoded data removed]",
      "text/plain": [
       "<Figure size 432x288 with 1 Axes>"
      ]
     },
     "metadata": {
      "needs_background": "light"
     },
     "output_type": "display_data"
    }
   ],
   "source": [
    "from matplotlib import font_manager, rc\n",
    "import matplotlib.pyplot as plt\n",
    "plt.rc('font', family='Malgun Gothic')\n",
    "fig, ax = plt.subplots()\n",
    "df_cust['CTPR'].value_counts().plot(ax=ax, kind='bar')"
   ]
  },
  {
   "cell_type": "code",
   "execution_count": 4,
   "id": "12007c03",
   "metadata": {},
   "outputs": [
    {
     "data": {
      "text/html": [
       "<div>\n",
       "<style scoped>\n",
       "    .dataframe tbody tr th:only-of-type {\n",
       "        vertical-align: middle;\n",
       "    }\n",
       "\n",
       "    .dataframe tbody tr th {\n",
       "        vertical-align: top;\n",
       "    }\n",
       "\n",
       "    .dataframe thead th {\n",
       "        text-align: right;\n",
       "    }\n",
       "</style>\n",
       "<table border=\"1\" class=\"dataframe\">\n",
       "  <thead>\n",
       "    <tr style=\"text-align: right;\">\n",
       "      <th></th>\n",
       "      <th>CUST_ID</th>\n",
       "      <th>DIVIDED_SET</th>\n",
       "      <th>SEX</th>\n",
       "      <th>AGE</th>\n",
       "      <th>RESI_COST</th>\n",
       "      <th>CUST_RGST</th>\n",
       "      <th>TOTALPREM</th>\n",
       "      <th>MINCRDT</th>\n",
       "      <th>MAXCRDT</th>\n",
       "      <th>CHLD_CNT</th>\n",
       "      <th>LTBN_CHLD_AGE</th>\n",
       "      <th>MAX_PAYM_YM</th>\n",
       "      <th>MAX_PRM</th>\n",
       "      <th>CUST_INCM</th>\n",
       "      <th>RCBASE_HSHD_INCM</th>\n",
       "      <th>JPBASE_HSHD_INCM</th>\n",
       "    </tr>\n",
       "  </thead>\n",
       "  <tbody>\n",
       "    <tr>\n",
       "      <th>count</th>\n",
       "      <td>22400.000000</td>\n",
       "      <td>22400.000000</td>\n",
       "      <td>22400.000000</td>\n",
       "      <td>22400.000000</td>\n",
       "      <td>22400.000000</td>\n",
       "      <td>21944.000000</td>\n",
       "      <td>1.660900e+04</td>\n",
       "      <td>12924.000000</td>\n",
       "      <td>12924.000000</td>\n",
       "      <td>21927.000000</td>\n",
       "      <td>21927.000000</td>\n",
       "      <td>15914.000000</td>\n",
       "      <td>1.591400e+04</td>\n",
       "      <td>17137.000000</td>\n",
       "      <td>22400.000000</td>\n",
       "      <td>21720.000000</td>\n",
       "    </tr>\n",
       "    <tr>\n",
       "      <th>mean</th>\n",
       "      <td>11200.500000</td>\n",
       "      <td>1.080045</td>\n",
       "      <td>1.565134</td>\n",
       "      <td>44.734866</td>\n",
       "      <td>15914.413973</td>\n",
       "      <td>198924.250638</td>\n",
       "      <td>2.998266e+07</td>\n",
       "      <td>5.838904</td>\n",
       "      <td>19.480656</td>\n",
       "      <td>0.709491</td>\n",
       "      <td>8.603731</td>\n",
       "      <td>200881.825437</td>\n",
       "      <td>4.807763e+05</td>\n",
       "      <td>2704.184863</td>\n",
       "      <td>4768.733884</td>\n",
       "      <td>5198.238950</td>\n",
       "    </tr>\n",
       "    <tr>\n",
       "      <th>std</th>\n",
       "      <td>6466.467351</td>\n",
       "      <td>0.271368</td>\n",
       "      <td>0.495750</td>\n",
       "      <td>15.445707</td>\n",
       "      <td>14963.317519</td>\n",
       "      <td>16989.329112</td>\n",
       "      <td>4.897438e+07</td>\n",
       "      <td>3.515198</td>\n",
       "      <td>32.363151</td>\n",
       "      <td>0.953671</td>\n",
       "      <td>11.585592</td>\n",
       "      <td>522.266749</td>\n",
       "      <td>1.327265e+06</td>\n",
       "      <td>2188.208641</td>\n",
       "      <td>3072.385280</td>\n",
       "      <td>2714.947843</td>\n",
       "    </tr>\n",
       "    <tr>\n",
       "      <th>min</th>\n",
       "      <td>1.000000</td>\n",
       "      <td>1.000000</td>\n",
       "      <td>1.000000</td>\n",
       "      <td>2.000000</td>\n",
       "      <td>0.000000</td>\n",
       "      <td>101.000000</td>\n",
       "      <td>5.000000e+02</td>\n",
       "      <td>0.000000</td>\n",
       "      <td>0.000000</td>\n",
       "      <td>0.000000</td>\n",
       "      <td>0.000000</td>\n",
       "      <td>199801.000000</td>\n",
       "      <td>6.000000e+00</td>\n",
       "      <td>0.000000</td>\n",
       "      <td>0.000000</td>\n",
       "      <td>0.000000</td>\n",
       "    </tr>\n",
       "    <tr>\n",
       "      <th>25%</th>\n",
       "      <td>5600.750000</td>\n",
       "      <td>1.000000</td>\n",
       "      <td>1.000000</td>\n",
       "      <td>34.000000</td>\n",
       "      <td>6732.750000</td>\n",
       "      <td>200306.000000</td>\n",
       "      <td>6.665459e+06</td>\n",
       "      <td>6.000000</td>\n",
       "      <td>6.000000</td>\n",
       "      <td>0.000000</td>\n",
       "      <td>0.000000</td>\n",
       "      <td>200404.000000</td>\n",
       "      <td>1.129440e+05</td>\n",
       "      <td>0.000000</td>\n",
       "      <td>2995.000000</td>\n",
       "      <td>3557.750000</td>\n",
       "    </tr>\n",
       "    <tr>\n",
       "      <th>50%</th>\n",
       "      <td>11200.500000</td>\n",
       "      <td>1.000000</td>\n",
       "      <td>2.000000</td>\n",
       "      <td>46.000000</td>\n",
       "      <td>12222.000000</td>\n",
       "      <td>200306.000000</td>\n",
       "      <td>1.622463e+07</td>\n",
       "      <td>6.000000</td>\n",
       "      <td>6.000000</td>\n",
       "      <td>0.000000</td>\n",
       "      <td>0.000000</td>\n",
       "      <td>200901.000000</td>\n",
       "      <td>2.265920e+05</td>\n",
       "      <td>3432.000000</td>\n",
       "      <td>4807.000000</td>\n",
       "      <td>4681.000000</td>\n",
       "    </tr>\n",
       "    <tr>\n",
       "      <th>75%</th>\n",
       "      <td>16800.250000</td>\n",
       "      <td>1.000000</td>\n",
       "      <td>2.000000</td>\n",
       "      <td>56.000000</td>\n",
       "      <td>20988.000000</td>\n",
       "      <td>200402.000000</td>\n",
       "      <td>3.479439e+07</td>\n",
       "      <td>6.000000</td>\n",
       "      <td>7.000000</td>\n",
       "      <td>1.000000</td>\n",
       "      <td>19.000000</td>\n",
       "      <td>201402.000000</td>\n",
       "      <td>4.852868e+05</td>\n",
       "      <td>4398.000000</td>\n",
       "      <td>6607.250000</td>\n",
       "      <td>6839.500000</td>\n",
       "    </tr>\n",
       "    <tr>\n",
       "      <th>max</th>\n",
       "      <td>22400.000000</td>\n",
       "      <td>2.000000</td>\n",
       "      <td>2.000000</td>\n",
       "      <td>89.000000</td>\n",
       "      <td>305555.000000</td>\n",
       "      <td>201602.000000</td>\n",
       "      <td>1.840052e+09</td>\n",
       "      <td>99.000000</td>\n",
       "      <td>99.000000</td>\n",
       "      <td>6.000000</td>\n",
       "      <td>35.000000</td>\n",
       "      <td>207110.000000</td>\n",
       "      <td>5.686262e+07</td>\n",
       "      <td>12687.000000</td>\n",
       "      <td>19829.000000</td>\n",
       "      <td>25872.000000</td>\n",
       "    </tr>\n",
       "  </tbody>\n",
       "</table>\n",
       "</div>"
      ],
      "text/plain": [
       "            CUST_ID   DIVIDED_SET           SEX           AGE      RESI_COST  \\\n",
       "count  22400.000000  22400.000000  22400.000000  22400.000000   22400.000000   \n",
       "mean   11200.500000      1.080045      1.565134     44.734866   15914.413973   \n",
       "std     6466.467351      0.271368      0.495750     15.445707   14963.317519   \n",
       "min        1.000000      1.000000      1.000000      2.000000       0.000000   \n",
       "25%     5600.750000      1.000000      1.000000     34.000000    6732.750000   \n",
       "50%    11200.500000      1.000000      2.000000     46.000000   12222.000000   \n",
       "75%    16800.250000      1.000000      2.000000     56.000000   20988.000000   \n",
       "max    22400.000000      2.000000      2.000000     89.000000  305555.000000   \n",
       "\n",
       "           CUST_RGST     TOTALPREM       MINCRDT       MAXCRDT      CHLD_CNT  \\\n",
       "count   21944.000000  1.660900e+04  12924.000000  12924.000000  21927.000000   \n",
       "mean   198924.250638  2.998266e+07      5.838904     19.480656      0.709491   \n",
       "std     16989.329112  4.897438e+07      3.515198     32.363151      0.953671   \n",
       "min       101.000000  5.000000e+02      0.000000      0.000000      0.000000   \n",
       "25%    200306.000000  6.665459e+06      6.000000      6.000000      0.000000   \n",
       "50%    200306.000000  1.622463e+07      6.000000      6.000000      0.000000   \n",
       "75%    200402.000000  3.479439e+07      6.000000      7.000000      1.000000   \n",
       "max    201602.000000  1.840052e+09     99.000000     99.000000      6.000000   \n",
       "\n",
       "       LTBN_CHLD_AGE    MAX_PAYM_YM       MAX_PRM     CUST_INCM  \\\n",
       "count   21927.000000   15914.000000  1.591400e+04  17137.000000   \n",
       "mean        8.603731  200881.825437  4.807763e+05   2704.184863   \n",
       "std        11.585592     522.266749  1.327265e+06   2188.208641   \n",
       "min         0.000000  199801.000000  6.000000e+00      0.000000   \n",
       "25%         0.000000  200404.000000  1.129440e+05      0.000000   \n",
       "50%         0.000000  200901.000000  2.265920e+05   3432.000000   \n",
       "75%        19.000000  201402.000000  4.852868e+05   4398.000000   \n",
       "max        35.000000  207110.000000  5.686262e+07  12687.000000   \n",
       "\n",
       "       RCBASE_HSHD_INCM  JPBASE_HSHD_INCM  \n",
       "count      22400.000000      21720.000000  \n",
       "mean        4768.733884       5198.238950  \n",
       "std         3072.385280       2714.947843  \n",
       "min            0.000000          0.000000  \n",
       "25%         2995.000000       3557.750000  \n",
       "50%         4807.000000       4681.000000  \n",
       "75%         6607.250000       6839.500000  \n",
       "max        19829.000000      25872.000000  "
      ]
     },
     "execution_count": 4,
     "metadata": {},
     "output_type": "execute_result"
    }
   ],
   "source": [
    "df_cust.describe()"
   ]
  },
  {
   "cell_type": "code",
   "execution_count": 5,
   "id": "319303ad",
   "metadata": {},
   "outputs": [
    {
     "name": "stderr",
     "output_type": "stream",
     "text": [
      "C:\\Anaconda3\\lib\\site-packages\\matplotlib\\backends\\backend_agg.py:240: RuntimeWarning: Glyph 8722 missing from current font.\n",
      "  font.set_text(s, 0.0, flags=flags)\n",
      "C:\\Anaconda3\\lib\\site-packages\\matplotlib\\backends\\backend_agg.py:203: RuntimeWarning: Glyph 8722 missing from current font.\n",
      "  font.set_text(s, 0, flags=flags)\n"
     ]
    },
    {
     "data": {
      "image/png": "[encoded data removed]",
      "text/plain": [
       "<Figure size 720x720 with 2 Axes>"
      ]
     },
     "metadata": {
      "needs_background": "light"
     },
     "output_type": "display_data"
    }
   ],
   "source": [
    "import seaborn as sns\n",
    "\n",
    "plt.figure(figsize=(10, 10))\n",
    "sns.heatmap(df_cust.corr(), annot=True, fmt='.1f')\n",
    "plt.title('correlation of prediction variable', fontsize=10)\n",
    "plt.show()"
   ]
  },
  {
   "cell_type": "code",
   "execution_count": 3,
   "id": "0b88741a",
   "metadata": {},
   "outputs": [],
   "source": [
    "# 범주형 변수에서 결측을 하나의 범주로 인정한다.\n",
    "df_cust.fillna({'CTPR':'None'}, inplace=True)\n",
    "df_cust.fillna({'OCCP_GRP_1':'None'}, inplace=True)\n",
    "df_cust.fillna({'WEDD_YN':'None'}, inplace=True)\n",
    "\n",
    "df_cust = df_cust[df_cust['SIU_CUST_YN'].notna()] # SIU_CUST_YN 이 없는 레코드 제외"
   ]
  },
  {
   "cell_type": "code",
   "execution_count": 4,
   "id": "a0f37f72",
   "metadata": {},
   "outputs": [],
   "source": [
    "df_cust_yes = df_cust[df_cust['SIU_CUST_YN']=='Y']\n",
    "df_cust_no = df_cust[df_cust['SIU_CUST_YN']=='N']"
   ]
  },
  {
   "cell_type": "code",
   "execution_count": null,
   "id": "abf18a4c",
   "metadata": {},
   "outputs": [],
   "source": []
  },
  {
   "cell_type": "code",
   "execution_count": 59,
   "id": "283cb97f",
   "metadata": {},
   "outputs": [
    {
     "data": {
      "text/html": [
       "<div>\n",
       "<style scoped>\n",
       "    .dataframe tbody tr th:only-of-type {\n",
       "        vertical-align: middle;\n",
       "    }\n",
       "\n",
       "    .dataframe tbody tr th {\n",
       "        vertical-align: top;\n",
       "    }\n",
       "\n",
       "    .dataframe thead th {\n",
       "        text-align: right;\n",
       "    }\n",
       "</style>\n",
       "<table border=\"1\" class=\"dataframe\">\n",
       "  <thead>\n",
       "    <tr style=\"text-align: right;\">\n",
       "      <th></th>\n",
       "      <th>CUST_ID</th>\n",
       "      <th>SIU_CUST_YN</th>\n",
       "      <th>SEX</th>\n",
       "      <th>AGE</th>\n",
       "      <th>RESI_COST</th>\n",
       "      <th>RESI_TYPE_CODE</th>\n",
       "      <th>FP_CAREER</th>\n",
       "      <th>CUST_RGST</th>\n",
       "      <th>CTPR</th>\n",
       "      <th>OCCP_GRP_1</th>\n",
       "      <th>...</th>\n",
       "      <th>TOTALPREM</th>\n",
       "      <th>MINCRDT</th>\n",
       "      <th>MAXCRDT</th>\n",
       "      <th>WEDD_YN</th>\n",
       "      <th>MATE_OCCP_GRP_1</th>\n",
       "      <th>MATE_OCCP_GRP_2</th>\n",
       "      <th>CHLD_CNT</th>\n",
       "      <th>CUST_INCM</th>\n",
       "      <th>RCBASE_HSHD_INCM</th>\n",
       "      <th>JPBASE_HSHD_INCM</th>\n",
       "    </tr>\n",
       "  </thead>\n",
       "  <tbody>\n",
       "    <tr>\n",
       "      <th>0</th>\n",
       "      <td>1</td>\n",
       "      <td>N</td>\n",
       "      <td>2</td>\n",
       "      <td>47</td>\n",
       "      <td>21111</td>\n",
       "      <td>20</td>\n",
       "      <td>N</td>\n",
       "      <td>199910.0</td>\n",
       "      <td>충북</td>\n",
       "      <td>3.사무직</td>\n",
       "      <td>...</td>\n",
       "      <td>146980441.0</td>\n",
       "      <td>NaN</td>\n",
       "      <td>NaN</td>\n",
       "      <td>Y</td>\n",
       "      <td>3.사무직</td>\n",
       "      <td>2차산업 종사자</td>\n",
       "      <td>2.0</td>\n",
       "      <td>4879.0</td>\n",
       "      <td>10094</td>\n",
       "      <td>11337.0</td>\n",
       "    </tr>\n",
       "    <tr>\n",
       "      <th>1</th>\n",
       "      <td>2</td>\n",
       "      <td>N</td>\n",
       "      <td>1</td>\n",
       "      <td>53</td>\n",
       "      <td>40000</td>\n",
       "      <td>20</td>\n",
       "      <td>N</td>\n",
       "      <td>199910.0</td>\n",
       "      <td>서울</td>\n",
       "      <td>3.사무직</td>\n",
       "      <td>...</td>\n",
       "      <td>94600109.0</td>\n",
       "      <td>1.0</td>\n",
       "      <td>6.0</td>\n",
       "      <td>Y</td>\n",
       "      <td>1.주부</td>\n",
       "      <td>주부</td>\n",
       "      <td>2.0</td>\n",
       "      <td>6509.0</td>\n",
       "      <td>9143</td>\n",
       "      <td>6509.0</td>\n",
       "    </tr>\n",
       "    <tr>\n",
       "      <th>2</th>\n",
       "      <td>3</td>\n",
       "      <td>N</td>\n",
       "      <td>1</td>\n",
       "      <td>60</td>\n",
       "      <td>0</td>\n",
       "      <td>NaN</td>\n",
       "      <td>N</td>\n",
       "      <td>199910.0</td>\n",
       "      <td>서울</td>\n",
       "      <td>5.서비스</td>\n",
       "      <td>...</td>\n",
       "      <td>18501269.0</td>\n",
       "      <td>NaN</td>\n",
       "      <td>NaN</td>\n",
       "      <td>N</td>\n",
       "      <td>NaN</td>\n",
       "      <td>NaN</td>\n",
       "      <td>0.0</td>\n",
       "      <td>4180.0</td>\n",
       "      <td>0</td>\n",
       "      <td>4180.0</td>\n",
       "    </tr>\n",
       "    <tr>\n",
       "      <th>3</th>\n",
       "      <td>4</td>\n",
       "      <td>N</td>\n",
       "      <td>2</td>\n",
       "      <td>64</td>\n",
       "      <td>12861</td>\n",
       "      <td>40</td>\n",
       "      <td>Y</td>\n",
       "      <td>199910.0</td>\n",
       "      <td>경기</td>\n",
       "      <td>2.자영업</td>\n",
       "      <td>...</td>\n",
       "      <td>317223657.0</td>\n",
       "      <td>2.0</td>\n",
       "      <td>99.0</td>\n",
       "      <td>N</td>\n",
       "      <td>NaN</td>\n",
       "      <td>NaN</td>\n",
       "      <td>0.0</td>\n",
       "      <td>NaN</td>\n",
       "      <td>4270</td>\n",
       "      <td>5914.0</td>\n",
       "    </tr>\n",
       "    <tr>\n",
       "      <th>4</th>\n",
       "      <td>5</td>\n",
       "      <td>N</td>\n",
       "      <td>2</td>\n",
       "      <td>54</td>\n",
       "      <td>0</td>\n",
       "      <td>NaN</td>\n",
       "      <td>Y</td>\n",
       "      <td>199910.0</td>\n",
       "      <td>광주</td>\n",
       "      <td>2.자영업</td>\n",
       "      <td>...</td>\n",
       "      <td>10506072.0</td>\n",
       "      <td>8.0</td>\n",
       "      <td>8.0</td>\n",
       "      <td>Y</td>\n",
       "      <td>3.사무직</td>\n",
       "      <td>고위 공무원</td>\n",
       "      <td>3.0</td>\n",
       "      <td>3894.0</td>\n",
       "      <td>0</td>\n",
       "      <td>8885.0</td>\n",
       "    </tr>\n",
       "    <tr>\n",
       "      <th>...</th>\n",
       "      <td>...</td>\n",
       "      <td>...</td>\n",
       "      <td>...</td>\n",
       "      <td>...</td>\n",
       "      <td>...</td>\n",
       "      <td>...</td>\n",
       "      <td>...</td>\n",
       "      <td>...</td>\n",
       "      <td>...</td>\n",
       "      <td>...</td>\n",
       "      <td>...</td>\n",
       "      <td>...</td>\n",
       "      <td>...</td>\n",
       "      <td>...</td>\n",
       "      <td>...</td>\n",
       "      <td>...</td>\n",
       "      <td>...</td>\n",
       "      <td>...</td>\n",
       "      <td>...</td>\n",
       "      <td>...</td>\n",
       "      <td>...</td>\n",
       "    </tr>\n",
       "    <tr>\n",
       "      <th>22394</th>\n",
       "      <td>875</td>\n",
       "      <td>Y</td>\n",
       "      <td>1</td>\n",
       "      <td>49</td>\n",
       "      <td>0</td>\n",
       "      <td>NaN</td>\n",
       "      <td>N</td>\n",
       "      <td>200306.0</td>\n",
       "      <td>경남</td>\n",
       "      <td>5.서비스</td>\n",
       "      <td>...</td>\n",
       "      <td>NaN</td>\n",
       "      <td>NaN</td>\n",
       "      <td>NaN</td>\n",
       "      <td>Y</td>\n",
       "      <td>3.사무직</td>\n",
       "      <td>3차산업 종사자</td>\n",
       "      <td>2.0</td>\n",
       "      <td>5090.0</td>\n",
       "      <td>0</td>\n",
       "      <td>8373.0</td>\n",
       "    </tr>\n",
       "    <tr>\n",
       "      <th>22396</th>\n",
       "      <td>21483</td>\n",
       "      <td>N</td>\n",
       "      <td>2</td>\n",
       "      <td>30</td>\n",
       "      <td>31944</td>\n",
       "      <td>20</td>\n",
       "      <td>N</td>\n",
       "      <td>200306.0</td>\n",
       "      <td>경기</td>\n",
       "      <td>1.주부</td>\n",
       "      <td>...</td>\n",
       "      <td>NaN</td>\n",
       "      <td>NaN</td>\n",
       "      <td>NaN</td>\n",
       "      <td>N</td>\n",
       "      <td>NaN</td>\n",
       "      <td>NaN</td>\n",
       "      <td>0.0</td>\n",
       "      <td>0.0</td>\n",
       "      <td>9361</td>\n",
       "      <td>8947.0</td>\n",
       "    </tr>\n",
       "    <tr>\n",
       "      <th>22397</th>\n",
       "      <td>21940</td>\n",
       "      <td>N</td>\n",
       "      <td>2</td>\n",
       "      <td>23</td>\n",
       "      <td>45972</td>\n",
       "      <td>20</td>\n",
       "      <td>N</td>\n",
       "      <td>200501.0</td>\n",
       "      <td>경기</td>\n",
       "      <td>8.기타</td>\n",
       "      <td>...</td>\n",
       "      <td>NaN</td>\n",
       "      <td>6.0</td>\n",
       "      <td>6.0</td>\n",
       "      <td>N</td>\n",
       "      <td>NaN</td>\n",
       "      <td>NaN</td>\n",
       "      <td>0.0</td>\n",
       "      <td>0.0</td>\n",
       "      <td>11522</td>\n",
       "      <td>11484.0</td>\n",
       "    </tr>\n",
       "    <tr>\n",
       "      <th>22398</th>\n",
       "      <td>20356</td>\n",
       "      <td>N</td>\n",
       "      <td>1</td>\n",
       "      <td>15</td>\n",
       "      <td>27777</td>\n",
       "      <td>20</td>\n",
       "      <td>N</td>\n",
       "      <td>200306.0</td>\n",
       "      <td>경기</td>\n",
       "      <td>8.기타</td>\n",
       "      <td>...</td>\n",
       "      <td>NaN</td>\n",
       "      <td>NaN</td>\n",
       "      <td>NaN</td>\n",
       "      <td>N</td>\n",
       "      <td>NaN</td>\n",
       "      <td>NaN</td>\n",
       "      <td>0.0</td>\n",
       "      <td>NaN</td>\n",
       "      <td>7960</td>\n",
       "      <td>7614.0</td>\n",
       "    </tr>\n",
       "    <tr>\n",
       "      <th>22399</th>\n",
       "      <td>17118</td>\n",
       "      <td>N</td>\n",
       "      <td>2</td>\n",
       "      <td>18</td>\n",
       "      <td>21527</td>\n",
       "      <td>20</td>\n",
       "      <td>N</td>\n",
       "      <td>200306.0</td>\n",
       "      <td>경기</td>\n",
       "      <td>8.기타</td>\n",
       "      <td>...</td>\n",
       "      <td>NaN</td>\n",
       "      <td>NaN</td>\n",
       "      <td>NaN</td>\n",
       "      <td>N</td>\n",
       "      <td>NaN</td>\n",
       "      <td>NaN</td>\n",
       "      <td>0.0</td>\n",
       "      <td>NaN</td>\n",
       "      <td>7746</td>\n",
       "      <td>7746.0</td>\n",
       "    </tr>\n",
       "  </tbody>\n",
       "</table>\n",
       "<p>20607 rows × 21 columns</p>\n",
       "</div>"
      ],
      "text/plain": [
       "       CUST_ID SIU_CUST_YN  SEX  AGE  RESI_COST RESI_TYPE_CODE FP_CAREER  \\\n",
       "0            1           N    2   47      21111             20         N   \n",
       "1            2           N    1   53      40000             20         N   \n",
       "2            3           N    1   60          0            NaN         N   \n",
       "3            4           N    2   64      12861             40         Y   \n",
       "4            5           N    2   54          0            NaN         Y   \n",
       "...        ...         ...  ...  ...        ...            ...       ...   \n",
       "22394      875           Y    1   49          0            NaN         N   \n",
       "22396    21483           N    2   30      31944             20         N   \n",
       "22397    21940           N    2   23      45972             20         N   \n",
       "22398    20356           N    1   15      27777             20         N   \n",
       "22399    17118           N    2   18      21527             20         N   \n",
       "\n",
       "       CUST_RGST CTPR OCCP_GRP_1  ...    TOTALPREM  MINCRDT  MAXCRDT  WEDD_YN  \\\n",
       "0       199910.0   충북      3.사무직  ...  146980441.0      NaN      NaN        Y   \n",
       "1       199910.0   서울      3.사무직  ...   94600109.0      1.0      6.0        Y   \n",
       "2       199910.0   서울      5.서비스  ...   18501269.0      NaN      NaN        N   \n",
       "3       199910.0   경기      2.자영업  ...  317223657.0      2.0     99.0        N   \n",
       "4       199910.0   광주      2.자영업  ...   10506072.0      8.0      8.0        Y   \n",
       "...          ...  ...        ...  ...          ...      ...      ...      ...   \n",
       "22394   200306.0   경남      5.서비스  ...          NaN      NaN      NaN        Y   \n",
       "22396   200306.0   경기       1.주부  ...          NaN      NaN      NaN        N   \n",
       "22397   200501.0   경기       8.기타  ...          NaN      6.0      6.0        N   \n",
       "22398   200306.0   경기       8.기타  ...          NaN      NaN      NaN        N   \n",
       "22399   200306.0   경기       8.기타  ...          NaN      NaN      NaN        N   \n",
       "\n",
       "      MATE_OCCP_GRP_1 MATE_OCCP_GRP_2 CHLD_CNT  CUST_INCM  RCBASE_HSHD_INCM  \\\n",
       "0               3.사무직        2차산업 종사자      2.0     4879.0             10094   \n",
       "1                1.주부              주부      2.0     6509.0              9143   \n",
       "2                 NaN             NaN      0.0     4180.0                 0   \n",
       "3                 NaN             NaN      0.0        NaN              4270   \n",
       "4               3.사무직          고위 공무원      3.0     3894.0                 0   \n",
       "...               ...             ...      ...        ...               ...   \n",
       "22394           3.사무직        3차산업 종사자      2.0     5090.0                 0   \n",
       "22396             NaN             NaN      0.0        0.0              9361   \n",
       "22397             NaN             NaN      0.0        0.0             11522   \n",
       "22398             NaN             NaN      0.0        NaN              7960   \n",
       "22399             NaN             NaN      0.0        NaN              7746   \n",
       "\n",
       "       JPBASE_HSHD_INCM  \n",
       "0               11337.0  \n",
       "1                6509.0  \n",
       "2                4180.0  \n",
       "3                5914.0  \n",
       "4                8885.0  \n",
       "...                 ...  \n",
       "22394            8373.0  \n",
       "22396            8947.0  \n",
       "22397           11484.0  \n",
       "22398            7614.0  \n",
       "22399            7746.0  \n",
       "\n",
       "[20607 rows x 21 columns]"
      ]
     },
     "execution_count": 59,
     "metadata": {},
     "output_type": "execute_result"
    }
   ],
   "source": [
    "df_cust"
   ]
  },
  {
   "cell_type": "code",
   "execution_count": 8,
   "id": "49b9f70b",
   "metadata": {},
   "outputs": [
    {
     "data": {
      "text/plain": [
       "CUST_ID                 0\n",
       "DIVIDED_SET             0\n",
       "SIU_CUST_YN             0\n",
       "SEX                     0\n",
       "AGE                     0\n",
       "RESI_COST               0\n",
       "RESI_TYPE_CODE       1146\n",
       "FP_CAREER               0\n",
       "CUST_RGST             419\n",
       "CTPR                    0\n",
       "OCCP_GRP_1              0\n",
       "OCCP_GRP_2            547\n",
       "TOTALPREM            5321\n",
       "MINCRDT              8766\n",
       "MAXCRDT              8766\n",
       "WEDD_YN                 0\n",
       "MATE_OCCP_GRP_1     10885\n",
       "MATE_OCCP_GRP_2     10885\n",
       "CHLD_CNT              434\n",
       "LTBN_CHLD_AGE         434\n",
       "MAX_PAYM_YM          5966\n",
       "MAX_PRM              5966\n",
       "CUST_INCM            4823\n",
       "RCBASE_HSHD_INCM        0\n",
       "JPBASE_HSHD_INCM      616\n",
       "dtype: int64"
      ]
     },
     "execution_count": 8,
     "metadata": {},
     "output_type": "execute_result"
    }
   ],
   "source": [
    "df_cust.isnull().sum() # 결측치 비율"
   ]
  },
  {
   "cell_type": "code",
   "execution_count": 9,
   "id": "e240de87",
   "metadata": {},
   "outputs": [],
   "source": [
    "df_cust = df_cust.drop(['DIVIDED_SET', 'LTBN_CHLD_AGE', 'MAX_PAYM_YM', 'MAX_PRM'], axis=1)"
   ]
  },
  {
   "cell_type": "code",
   "execution_count": 11,
   "id": "9b5d0f24",
   "metadata": {},
   "outputs": [
    {
     "data": {
      "text/plain": [
       "CUST_ID                 0\n",
       "SIU_CUST_YN             0\n",
       "SEX                     0\n",
       "AGE                     0\n",
       "RESI_COST               0\n",
       "RESI_TYPE_CODE       1146\n",
       "FP_CAREER               0\n",
       "CUST_RGST             419\n",
       "CTPR                    0\n",
       "OCCP_GRP_1              0\n",
       "OCCP_GRP_2            547\n",
       "TOTALPREM            5321\n",
       "MINCRDT              8766\n",
       "MAXCRDT              8766\n",
       "WEDD_YN                 0\n",
       "MATE_OCCP_GRP_1     10885\n",
       "MATE_OCCP_GRP_2     10885\n",
       "CHLD_CNT              434\n",
       "CUST_INCM            4823\n",
       "RCBASE_HSHD_INCM        0\n",
       "JPBASE_HSHD_INCM      616\n",
       "dtype: int64"
      ]
     },
     "execution_count": 11,
     "metadata": {},
     "output_type": "execute_result"
    }
   ],
   "source": [
    "df_cust.isnull().sum()"
   ]
  },
  {
   "cell_type": "code",
   "execution_count": 86,
   "id": "5f1a8721",
   "metadata": {},
   "outputs": [
    {
     "data": {
      "text/plain": [
       "<AxesSubplot:xlabel='SIU_CUST_YN', ylabel='count'>"
      ]
     },
     "execution_count": 86,
     "metadata": {},
     "output_type": "execute_result"
    },
    {
     "data": {
      "image/png": "[encoded data removed]",
      "text/plain": [
       "<Figure size 432x288 with 1 Axes>"
      ]
     },
     "metadata": {
      "needs_background": "light"
     },
     "output_type": "display_data"
    }
   ],
   "source": [
    "sns.countplot(x = 'SIU_CUST_YN', data = df_cust, hue = 'WEDD_YN')"
   ]
  },
  {
   "cell_type": "code",
   "execution_count": 84,
   "id": "9bb1fe19",
   "metadata": {},
   "outputs": [
    {
     "data": {
      "text/plain": [
       "<AxesSubplot:xlabel='WEDD_YN', ylabel='count'>"
      ]
     },
     "execution_count": 84,
     "metadata": {},
     "output_type": "execute_result"
    },
    {
     "data": {
      "image/png": "[encoded data removed]",
      "text/plain": [
       "<Figure size 432x288 with 1 Axes>"
      ]
     },
     "metadata": {
      "needs_background": "light"
     },
     "output_type": "display_data"
    }
   ],
   "source": [
    "sns.countplot(x = 'WEDD_YN', data = df_cust_yes, order = df_cust_yes['WEDD_YN'].value_counts().index)"
   ]
  },
  {
   "cell_type": "code",
   "execution_count": 85,
   "id": "218262ae",
   "metadata": {},
   "outputs": [
    {
     "data": {
      "text/plain": [
       "<AxesSubplot:xlabel='WEDD_YN', ylabel='count'>"
      ]
     },
     "execution_count": 85,
     "metadata": {},
     "output_type": "execute_result"
    },
    {
     "data": {
      "image/png": "[encoded data removed]",
      "text/plain": [
       "<Figure size 432x288 with 1 Axes>"
      ]
     },
     "metadata": {
      "needs_background": "light"
     },
     "output_type": "display_data"
    }
   ],
   "source": [
    "sns.countplot(x = 'WEDD_YN', data = df_cust_no, order = df_cust_no['WEDD_YN'].value_counts().index)"
   ]
  },
  {
   "cell_type": "code",
   "execution_count": 279,
   "id": "35e30380",
   "metadata": {},
   "outputs": [
    {
     "data": {
      "text/plain": [
       "Y       1062\n",
       "N        717\n",
       "None      27\n",
       "Name: WEDD_YN, dtype: int64"
      ]
     },
     "execution_count": 279,
     "metadata": {},
     "output_type": "execute_result"
    }
   ],
   "source": [
    "df_cust_yes['WEDD_YN'].value_counts()"
   ]
  },
  {
   "cell_type": "code",
   "execution_count": 280,
   "id": "90c0945b",
   "metadata": {},
   "outputs": [
    {
     "data": {
      "text/plain": [
       "Y       9973\n",
       "N       8421\n",
       "None     407\n",
       "Name: WEDD_YN, dtype: int64"
      ]
     },
     "execution_count": 280,
     "metadata": {},
     "output_type": "execute_result"
    }
   ],
   "source": [
    "df_cust_no['WEDD_YN'].value_counts()"
   ]
  },
  {
   "cell_type": "code",
   "execution_count": 281,
   "id": "ae1551aa",
   "metadata": {},
   "outputs": [
    {
     "name": "stdout",
     "output_type": "stream",
     "text": [
      "3.1242058927003555e-06\n",
      "귀무가설을 기각합니다. 결혼여부와 보험 사기 여부 간에 유의한 관련성이 있습니다.\n"
     ]
    }
   ],
   "source": [
    "import numpy as np\n",
    "from scipy.stats import chi2_contingency\n",
    "\n",
    "# 주어진 데이터셋 (예시)\n",
    "data = np.array([[9973, 18801-9973], [1062, 1806-1062]])  # 주부인 경우와 아닌 경우에 대한 교차표\n",
    "\n",
    "# 카이제곱 검정 수행\n",
    "chi2, p_value, _, _ = chi2_contingency(data)\n",
    "print(p_value)\n",
    "# 유의성 검정 결과 출력\n",
    "if p_value < 0.05:\n",
    "    print(\"귀무가설을 기각합니다. 결혼여부와 보험 사기 여부 간에 유의한 관련성이 있습니다.\")\n",
    "else:\n",
    "    print(\"귀무가설을 기각할 수 없습니다. 결혼여부와 보험 사기 여부 간에 유의한 관련성이 없습니다.\")\n"
   ]
  },
  {
   "cell_type": "code",
   "execution_count": 5,
   "id": "d1d8f072",
   "metadata": {},
   "outputs": [
    {
     "data": {
      "text/plain": [
       "<AxesSubplot:xlabel='RESI_TYPE_CODE', ylabel='count'>"
      ]
     },
     "execution_count": 5,
     "metadata": {},
     "output_type": "execute_result"
    },
    {
     "data": {
      "image/png": "[encoded data removed]",
      "text/plain": [
       "<Figure size 432x288 with 1 Axes>"
      ]
     },
     "metadata": {
      "needs_background": "light"
     },
     "output_type": "display_data"
    }
   ],
   "source": [
    "sns.countplot(x = 'RESI_TYPE_CODE', data = df_cust)"
   ]
  },
  {
   "cell_type": "code",
   "execution_count": 6,
   "id": "17d2d63a",
   "metadata": {},
   "outputs": [
    {
     "data": {
      "text/plain": [
       "<AxesSubplot:xlabel='RESI_TYPE_CODE', ylabel='count'>"
      ]
     },
     "execution_count": 6,
     "metadata": {},
     "output_type": "execute_result"
    },
    {
     "data": {
      "image/png": "[encoded data removed]",
      "text/plain": [
       "<Figure size 432x288 with 1 Axes>"
      ]
     },
     "metadata": {
      "needs_background": "light"
     },
     "output_type": "display_data"
    }
   ],
   "source": [
    "sns.countplot(x = 'RESI_TYPE_CODE', data = df_cust_yes, order = df_cust_yes['RESI_TYPE_CODE'].value_counts().index)"
   ]
  },
  {
   "cell_type": "code",
   "execution_count": 7,
   "id": "f0756b53",
   "metadata": {},
   "outputs": [
    {
     "data": {
      "text/plain": [
       "<AxesSubplot:xlabel='RESI_TYPE_CODE', ylabel='count'>"
      ]
     },
     "execution_count": 7,
     "metadata": {},
     "output_type": "execute_result"
    },
    {
     "data": {
      "image/png": "[encoded data removed]",
      "text/plain": [
       "<Figure size 432x288 with 1 Axes>"
      ]
     },
     "metadata": {
      "needs_background": "light"
     },
     "output_type": "display_data"
    }
   ],
   "source": [
    "sns.countplot(x = 'RESI_TYPE_CODE', data = df_cust_no, order = df_cust_no['RESI_TYPE_CODE'].value_counts().index)"
   ]
  },
  {
   "cell_type": "code",
   "execution_count": 8,
   "id": "3492efd3",
   "metadata": {},
   "outputs": [
    {
     "data": {
      "text/plain": [
       "20    0.442792\n",
       "12    0.139016\n",
       "30    0.136156\n",
       "40    0.086384\n",
       "11    0.073799\n",
       "99    0.067506\n",
       "13    0.046911\n",
       "50    0.005149\n",
       "60    0.001716\n",
       "70    0.000572\n",
       "Name: RESI_TYPE_CODE, dtype: float64"
      ]
     },
     "execution_count": 8,
     "metadata": {},
     "output_type": "execute_result"
    }
   ],
   "source": [
    "df_cust_yes['RESI_TYPE_CODE'].value_counts(normalize = True)"
   ]
  },
  {
   "cell_type": "code",
   "execution_count": 9,
   "id": "f5b04c13",
   "metadata": {},
   "outputs": [
    {
     "data": {
      "text/plain": [
       "20    0.510190\n",
       "12    0.117880\n",
       "30    0.110258\n",
       "11    0.085982\n",
       "40    0.067069\n",
       "99    0.063513\n",
       "13    0.038221\n",
       "50    0.002879\n",
       "60    0.002428\n",
       "70    0.001581\n",
       "Name: RESI_TYPE_CODE, dtype: float64"
      ]
     },
     "execution_count": 9,
     "metadata": {},
     "output_type": "execute_result"
    }
   ],
   "source": [
    "df_cust_no['RESI_TYPE_CODE'].value_counts(normalize = True)"
   ]
  },
  {
   "cell_type": "code",
   "execution_count": 282,
   "id": "2d867540",
   "metadata": {},
   "outputs": [
    {
     "data": {
      "text/plain": [
       "<AxesSubplot:xlabel='CHLD_CNT', ylabel='count'>"
      ]
     },
     "execution_count": 282,
     "metadata": {},
     "output_type": "execute_result"
    },
    {
     "data": {
      "image/png": "[encoded data removed]",
      "text/plain": [
       "<Figure size 432x288 with 1 Axes>"
      ]
     },
     "metadata": {
      "needs_background": "light"
     },
     "output_type": "display_data"
    }
   ],
   "source": [
    "sns.countplot(x = 'CHLD_CNT', data = df_cust)"
   ]
  },
  {
   "cell_type": "code",
   "execution_count": 87,
   "id": "5fc07827",
   "metadata": {},
   "outputs": [
    {
     "data": {
      "text/plain": [
       "<AxesSubplot:xlabel='CHLD_CNT', ylabel='count'>"
      ]
     },
     "execution_count": 87,
     "metadata": {},
     "output_type": "execute_result"
    },
    {
     "data": {
      "image/png": "[encoded data removed]",
      "text/plain": [
       "<Figure size 432x288 with 1 Axes>"
      ]
     },
     "metadata": {
      "needs_background": "light"
     },
     "output_type": "display_data"
    }
   ],
   "source": [
    "sns.countplot(x = 'CHLD_CNT', data = df_cust_yes, order = df_cust_yes['CHLD_CNT'].value_counts().index)"
   ]
  },
  {
   "cell_type": "code",
   "execution_count": 88,
   "id": "6306752b",
   "metadata": {},
   "outputs": [
    {
     "data": {
      "text/plain": [
       "<AxesSubplot:xlabel='CHLD_CNT', ylabel='count'>"
      ]
     },
     "execution_count": 88,
     "metadata": {},
     "output_type": "execute_result"
    },
    {
     "data": {
      "image/png": "[encoded data removed]",
      "text/plain": [
       "<Figure size 432x288 with 1 Axes>"
      ]
     },
     "metadata": {
      "needs_background": "light"
     },
     "output_type": "display_data"
    }
   ],
   "source": [
    "sns.countplot(x = 'CHLD_CNT', data = df_cust_no, order = df_cust_no['CHLD_CNT'].value_counts().index)"
   ]
  },
  {
   "cell_type": "code",
   "execution_count": 283,
   "id": "4d7d6cda",
   "metadata": {
    "scrolled": true
   },
   "outputs": [
    {
     "data": {
      "text/plain": [
       "<AxesSubplot:xlabel='SEX', ylabel='count'>"
      ]
     },
     "execution_count": 283,
     "metadata": {},
     "output_type": "execute_result"
    },
    {
     "data": {
      "image/png": "[encoded data removed]",
      "text/plain": [
       "<Figure size 432x288 with 1 Axes>"
      ]
     },
     "metadata": {
      "needs_background": "light"
     },
     "output_type": "display_data"
    }
   ],
   "source": [
    "sns.countplot(x = 'SEX', data = df_cust)"
   ]
  },
  {
   "cell_type": "code",
   "execution_count": 70,
   "id": "70c33eda",
   "metadata": {},
   "outputs": [
    {
     "data": {
      "text/plain": [
       "<AxesSubplot:xlabel='SEX', ylabel='count'>"
      ]
     },
     "execution_count": 70,
     "metadata": {},
     "output_type": "execute_result"
    },
    {
     "data": {
      "image/png": "[encoded data removed]",
      "text/plain": [
       "<Figure size 432x288 with 1 Axes>"
      ]
     },
     "metadata": {
      "needs_background": "light"
     },
     "output_type": "display_data"
    }
   ],
   "source": [
    "sns.countplot(x = 'SEX', data = df_cust_yes)"
   ]
  },
  {
   "cell_type": "code",
   "execution_count": 71,
   "id": "e0679843",
   "metadata": {},
   "outputs": [
    {
     "data": {
      "text/plain": [
       "<AxesSubplot:xlabel='SEX', ylabel='count'>"
      ]
     },
     "execution_count": 71,
     "metadata": {},
     "output_type": "execute_result"
    },
    {
     "data": {
      "image/png": "[encoded data removed]",
      "text/plain": [
       "<Figure size 432x288 with 1 Axes>"
      ]
     },
     "metadata": {
      "needs_background": "light"
     },
     "output_type": "display_data"
    }
   ],
   "source": [
    "sns.countplot(x = 'SEX', data = df_cust_no)"
   ]
  },
  {
   "cell_type": "code",
   "execution_count": 287,
   "id": "14dc8a44",
   "metadata": {},
   "outputs": [
    {
     "data": {
      "text/plain": [
       "2    11646\n",
       "1     8961\n",
       "Name: SEX, dtype: int64"
      ]
     },
     "execution_count": 287,
     "metadata": {},
     "output_type": "execute_result"
    }
   ],
   "source": [
    "df_cust['SEX'].value_counts()"
   ]
  },
  {
   "cell_type": "code",
   "execution_count": 284,
   "id": "c197d930",
   "metadata": {},
   "outputs": [
    {
     "data": {
      "text/plain": [
       "2    1155\n",
       "1     651\n",
       "Name: SEX, dtype: int64"
      ]
     },
     "execution_count": 284,
     "metadata": {},
     "output_type": "execute_result"
    }
   ],
   "source": [
    "df_cust_yes['SEX'].value_counts()"
   ]
  },
  {
   "cell_type": "code",
   "execution_count": 285,
   "id": "2b71e46d",
   "metadata": {},
   "outputs": [
    {
     "data": {
      "text/plain": [
       "2    10491\n",
       "1     8310\n",
       "Name: SEX, dtype: int64"
      ]
     },
     "execution_count": 285,
     "metadata": {},
     "output_type": "execute_result"
    }
   ],
   "source": [
    "df_cust_no['SEX'].value_counts()"
   ]
  },
  {
   "cell_type": "code",
   "execution_count": 296,
   "id": "e6805724",
   "metadata": {},
   "outputs": [
    {
     "name": "stdout",
     "output_type": "stream",
     "text": [
      "2.9064414184147852e-11\n",
      "귀무가설을 기각합니다. 여자와 보험 사기 여부 간에 유의한 관련성이 있습니다.\n"
     ]
    }
   ],
   "source": [
    "import numpy as np\n",
    "from scipy.stats import chi2_contingency\n",
    "\n",
    "# 주어진 데이터셋 (예시)\n",
    "data = np.array([[10491, 18801-10491], [1155, 1806-1155]])  # 여자인 경우와 아닌 경우에 대한 교차표\n",
    "\n",
    "# 카이제곱 검정 수행\n",
    "chi2, p_value, _, _ = chi2_contingency(data)\n",
    "print(p_value)\n",
    "# 유의성 검정 결과 출력\n",
    "if p_value < 0.05:\n",
    "    print(\"귀무가설을 기각합니다. 여자와 보험 사기 여부 간에 유의한 관련성이 있습니다.\")\n",
    "else:\n",
    "    print(\"귀무가설을 기각할 수 없습니다. 여자와 보험 사기 여부 간에 유의한 관련성이 없습니다.\")\n"
   ]
  },
  {
   "cell_type": "code",
   "execution_count": 72,
   "id": "182a45ff",
   "metadata": {
    "scrolled": true
   },
   "outputs": [
    {
     "data": {
      "text/plain": [
       "<AxesSubplot:xlabel='SIU_CUST_YN', ylabel='count'>"
      ]
     },
     "execution_count": 72,
     "metadata": {},
     "output_type": "execute_result"
    },
    {
     "data": {
      "image/png": "[encoded data removed]",
      "text/plain": [
       "<Figure size 432x288 with 1 Axes>"
      ]
     },
     "metadata": {
      "needs_background": "light"
     },
     "output_type": "display_data"
    }
   ],
   "source": [
    "sns.countplot(x = 'SIU_CUST_YN', data = df_cust, hue = 'FP_CAREER')"
   ]
  },
  {
   "cell_type": "code",
   "execution_count": 73,
   "id": "3c68da9a",
   "metadata": {},
   "outputs": [
    {
     "data": {
      "text/plain": [
       "<AxesSubplot:xlabel='FP_CAREER', ylabel='count'>"
      ]
     },
     "execution_count": 73,
     "metadata": {},
     "output_type": "execute_result"
    },
    {
     "data": {
      "image/png": "[encoded data removed]",
      "text/plain": [
       "<Figure size 432x288 with 1 Axes>"
      ]
     },
     "metadata": {
      "needs_background": "light"
     },
     "output_type": "display_data"
    }
   ],
   "source": [
    "sns.countplot(x = 'FP_CAREER', data = df_cust_yes)"
   ]
  },
  {
   "cell_type": "code",
   "execution_count": 74,
   "id": "6acc0913",
   "metadata": {},
   "outputs": [
    {
     "data": {
      "text/plain": [
       "<AxesSubplot:xlabel='FP_CAREER', ylabel='count'>"
      ]
     },
     "execution_count": 74,
     "metadata": {},
     "output_type": "execute_result"
    },
    {
     "data": {
      "image/png": "[encoded data removed]",
      "text/plain": [
       "<Figure size 432x288 with 1 Axes>"
      ]
     },
     "metadata": {
      "needs_background": "light"
     },
     "output_type": "display_data"
    }
   ],
   "source": [
    "sns.countplot(x = 'FP_CAREER', data = df_cust_no)"
   ]
  },
  {
   "cell_type": "code",
   "execution_count": 196,
   "id": "df476484",
   "metadata": {},
   "outputs": [
    {
     "data": {
      "text/plain": [
       "N    1630\n",
       "Y     176\n",
       "Name: FP_CAREER, dtype: int64"
      ]
     },
     "execution_count": 196,
     "metadata": {},
     "output_type": "execute_result"
    }
   ],
   "source": [
    "df_cust_yes['FP_CAREER'].value_counts() #10%정도"
   ]
  },
  {
   "cell_type": "code",
   "execution_count": 197,
   "id": "41a95fbe",
   "metadata": {},
   "outputs": [
    {
     "data": {
      "text/plain": [
       "N    17858\n",
       "Y      943\n",
       "Name: FP_CAREER, dtype: int64"
      ]
     },
     "execution_count": 197,
     "metadata": {},
     "output_type": "execute_result"
    }
   ],
   "source": [
    "df_cust_no['FP_CAREER'].value_counts() #5%정도"
   ]
  },
  {
   "cell_type": "code",
   "execution_count": 278,
   "id": "4356d9a0",
   "metadata": {},
   "outputs": [
    {
     "name": "stdout",
     "output_type": "stream",
     "text": [
      "3.8433568036475066e-17\n",
      "귀무가설을 기각합니다. FP경력과 보험 사기 여부 간에 유의한 관련성이 있습니다.\n"
     ]
    }
   ],
   "source": [
    "import numpy as np\n",
    "from scipy.stats import chi2_contingency\n",
    "\n",
    "# 주어진 데이터셋 (예시)\n",
    "data = np.array([[943, 17858], [176, 1630]])  # 주부인 경우와 아닌 경우에 대한 교차표\n",
    "\n",
    "# 카이제곱 검정 수행\n",
    "chi2, p_value, _, _ = chi2_contingency(data)\n",
    "print(p_value)\n",
    "# 유의성 검정 결과 출력\n",
    "if p_value < 0.05:\n",
    "    print(\"귀무가설을 기각합니다. FP경력과 보험 사기 여부 간에 유의한 관련성이 있습니다.\")\n",
    "else:\n",
    "    print(\"귀무가설을 기각할 수 없습니다. FP경력과 보험 사기 여부 간에 유의한 관련성이 없습니다.\")\n"
   ]
  },
  {
   "cell_type": "code",
   "execution_count": 198,
   "id": "de407165",
   "metadata": {},
   "outputs": [
    {
     "data": {
      "text/plain": [
       "<AxesSubplot:xlabel='OCCP_GRP_1', ylabel='count'>"
      ]
     },
     "execution_count": 198,
     "metadata": {},
     "output_type": "execute_result"
    },
    {
     "data": {
      "image/png": "[encoded data removed]",
      "text/plain": [
       "<Figure size 432x288 with 1 Axes>"
      ]
     },
     "metadata": {
      "needs_background": "light"
     },
     "output_type": "display_data"
    }
   ],
   "source": [
    "sns.countplot(x = 'OCCP_GRP_1', data = df_cust)"
   ]
  },
  {
   "cell_type": "code",
   "execution_count": 78,
   "id": "17b597f0",
   "metadata": {
    "scrolled": true
   },
   "outputs": [
    {
     "data": {
      "text/plain": [
       "<AxesSubplot:xlabel='SIU_CUST_YN', ylabel='count'>"
      ]
     },
     "execution_count": 78,
     "metadata": {},
     "output_type": "execute_result"
    },
    {
     "data": {
      "image/png": "[encoded data removed]",
      "text/plain": [
       "<Figure size 432x288 with 1 Axes>"
      ]
     },
     "metadata": {
      "needs_background": "light"
     },
     "output_type": "display_data"
    }
   ],
   "source": [
    "sns.countplot(x = 'SIU_CUST_YN', data = df_cust, hue = 'OCCP_GRP_1')"
   ]
  },
  {
   "cell_type": "code",
   "execution_count": 91,
   "id": "826d9776",
   "metadata": {},
   "outputs": [
    {
     "data": {
      "text/plain": [
       "<AxesSubplot:xlabel='OCCP_GRP_1', ylabel='count'>"
      ]
     },
     "execution_count": 91,
     "metadata": {},
     "output_type": "execute_result"
    },
    {
     "data": {
      "image/png": "[encoded data removed]",
      "text/plain": [
       "<Figure size 432x288 with 1 Axes>"
      ]
     },
     "metadata": {
      "needs_background": "light"
     },
     "output_type": "display_data"
    }
   ],
   "source": [
    "sns.countplot(x = 'OCCP_GRP_1', data = df_cust_yes, order = df_cust_yes['OCCP_GRP_1'].value_counts().index)"
   ]
  },
  {
   "cell_type": "code",
   "execution_count": 92,
   "id": "6d639a58",
   "metadata": {},
   "outputs": [
    {
     "data": {
      "text/plain": [
       "<AxesSubplot:xlabel='OCCP_GRP_1', ylabel='count'>"
      ]
     },
     "execution_count": 92,
     "metadata": {},
     "output_type": "execute_result"
    },
    {
     "data": {
      "image/png": "[encoded data removed]",
      "text/plain": [
       "<Figure size 432x288 with 1 Axes>"
      ]
     },
     "metadata": {
      "needs_background": "light"
     },
     "output_type": "display_data"
    }
   ],
   "source": [
    "sns.countplot(x = 'OCCP_GRP_1', data = df_cust_no, order = df_cust_no['OCCP_GRP_1'].value_counts().index)"
   ]
  },
  {
   "cell_type": "code",
   "execution_count": 206,
   "id": "597a6a87",
   "metadata": {},
   "outputs": [
    {
     "data": {
      "image/png": "[encoded data removed]",
      "text/plain": [
       "<Figure size 432x288 with 1 Axes>"
      ]
     },
     "metadata": {
      "needs_background": "light"
     },
     "output_type": "display_data"
    }
   ],
   "source": [
    "sns.countplot(x = 'OCCP_GRP_2', data = df_cust,order = df_cust['OCCP_GRP_2'].value_counts().index)\n",
    "plt.xticks(rotation=90)\n",
    "plt.show()"
   ]
  },
  {
   "cell_type": "code",
   "execution_count": 204,
   "id": "5584c186",
   "metadata": {},
   "outputs": [
    {
     "data": {
      "image/png": "[encoded data removed]",
      "text/plain": [
       "<Figure size 432x288 with 1 Axes>"
      ]
     },
     "metadata": {
      "needs_background": "light"
     },
     "output_type": "display_data"
    }
   ],
   "source": [
    "sns.countplot(x = 'OCCP_GRP_2', data = df_cust_yes, order = df_cust_yes['OCCP_GRP_2'].value_counts().index)\n",
    "plt.xticks(rotation=90)\n",
    "plt.show()"
   ]
  },
  {
   "cell_type": "code",
   "execution_count": 205,
   "id": "a0eb2269",
   "metadata": {},
   "outputs": [
    {
     "data": {
      "image/png": "[encoded data removed]",
      "text/plain": [
       "<Figure size 432x288 with 1 Axes>"
      ]
     },
     "metadata": {
      "needs_background": "light"
     },
     "output_type": "display_data"
    }
   ],
   "source": [
    "sns.countplot(x = 'OCCP_GRP_2', data = df_cust_no, order = df_cust_no['OCCP_GRP_2'].value_counts().index)\n",
    "plt.xticks(rotation=90)\n",
    "plt.show()"
   ]
  },
  {
   "cell_type": "code",
   "execution_count": 207,
   "id": "da69e37e",
   "metadata": {},
   "outputs": [
    {
     "data": {
      "text/plain": [
       "주부          500\n",
       "3차산업 종사자    259\n",
       "자영업         254\n",
       "학생          219\n",
       "사무직         199\n",
       "2차산업 종사자     83\n",
       "운전직          32\n",
       "단순 사무직       29\n",
       "기타           27\n",
       "교육관련직        26\n",
       "공무원          22\n",
       "전문직          19\n",
       "단순 노무직       18\n",
       "의료직 종사자      18\n",
       "예체능계 종사자     17\n",
       "1차산업 종사자     17\n",
       "기업/단체 임원     10\n",
       "종교인/역술인      10\n",
       "교사            6\n",
       "대학교수/강사       2\n",
       "고소득의료직        2\n",
       "고위 공무원        1\n",
       "학자/연구직        1\n",
       "Name: OCCP_GRP_2, dtype: int64"
      ]
     },
     "execution_count": 207,
     "metadata": {},
     "output_type": "execute_result"
    }
   ],
   "source": [
    "df_cust_yes['OCCP_GRP_2'].value_counts()"
   ]
  },
  {
   "cell_type": "code",
   "execution_count": 208,
   "id": "2c0e592c",
   "metadata": {},
   "outputs": [
    {
     "data": {
      "text/plain": [
       "주부          3915\n",
       "학생          3435\n",
       "사무직         2130\n",
       "2차산업 종사자    1769\n",
       "3차산업 종사자    1663\n",
       "자영업         1646\n",
       "운전직          458\n",
       "기타           400\n",
       "공무원          385\n",
       "교육관련직        363\n",
       "1차산업 종사자     342\n",
       "전문직          326\n",
       "의료직 종사자      308\n",
       "단순 사무직       272\n",
       "교사           237\n",
       "단순 노무직       171\n",
       "예체능계 종사자     144\n",
       "기업/단체 임원     108\n",
       "종교인/역술인       56\n",
       "고위 공무원        41\n",
       "학자/연구직        38\n",
       "고소득의료직        33\n",
       "대학교수/강사       28\n",
       "고소득 전문직       16\n",
       "법무직 종사자        5\n",
       "Name: OCCP_GRP_2, dtype: int64"
      ]
     },
     "execution_count": 208,
     "metadata": {},
     "output_type": "execute_result"
    }
   ],
   "source": [
    "df_cust_no['OCCP_GRP_2'].value_counts()"
   ]
  },
  {
   "cell_type": "code",
   "execution_count": 209,
   "id": "82ef9d4a",
   "metadata": {},
   "outputs": [
    {
     "name": "stdout",
     "output_type": "stream",
     "text": [
      "귀무가설을 기각합니다. 주부의 참여와 보험 사기 여부 간에 유의한 관련성이 있습니다.\n"
     ]
    }
   ],
   "source": [
    "import numpy as np\n",
    "from scipy.stats import chi2_contingency\n",
    "\n",
    "# 주어진 데이터셋 (예시)\n",
    "data = np.array([[500, 1306], [3915, 14886]])  # 주부인 경우와 아닌 경우에 대한 교차표\n",
    "\n",
    "# 카이제곱 검정 수행\n",
    "chi2, p_value, _, _ = chi2_contingency(data)\n",
    "\n",
    "# 유의성 검정 결과 출력\n",
    "if p_value < 0.05:\n",
    "    print(\"귀무가설을 기각합니다. 주부의 참여와 보험 사기 여부 간에 유의한 관련성이 있습니다.\")\n",
    "else:\n",
    "    print(\"귀무가설을 기각할 수 없습니다. 주부의 참여와 보험 사기 여부 간에 유의한 관련성이 없습니다.\")\n"
   ]
  },
  {
   "cell_type": "code",
   "execution_count": 210,
   "id": "4a463482",
   "metadata": {},
   "outputs": [
    {
     "name": "stdout",
     "output_type": "stream",
     "text": [
      "귀무가설을 기각합니다. 자영업자의 참여와 보험 사기 여부 간에 유의한 관련성이 있습니다.\n"
     ]
    }
   ],
   "source": [
    "import numpy as np\n",
    "from scipy.stats import chi2_contingency\n",
    "\n",
    "# 주어진 데이터셋 (예시)\n",
    "data = np.array([[254, 1552], [1646, 17155]])  # 자영업인 경우와 아닌 경우에 대한 교차표\n",
    "\n",
    "# 카이제곱 검정 수행\n",
    "chi2, p_value, _, _ = chi2_contingency(data)\n",
    "\n",
    "# 유의성 검정 결과 출력\n",
    "if p_value < 0.05:\n",
    "    print(\"귀무가설을 기각합니다. 자영업자의 참여와 보험 사기 여부 간에 유의한 관련성이 있습니다.\")\n",
    "else:\n",
    "    print(\"귀무가설을 기각할 수 없습니다. 자영업자의 참여와 보험 사기 여부 간에 유의한 관련성이 없습니다.\")"
   ]
  },
  {
   "cell_type": "code",
   "execution_count": 211,
   "id": "ee549cf3",
   "metadata": {},
   "outputs": [
    {
     "name": "stdout",
     "output_type": "stream",
     "text": [
      "귀무가설을 기각합니다. 3차 산업 종사자의 참여와 보험 사기 여부 간에 유의한 관련성이 있습니다.\n"
     ]
    }
   ],
   "source": [
    "import numpy as np\n",
    "from scipy.stats import chi2_contingency\n",
    "\n",
    "# 주어진 데이터셋 (예시)\n",
    "data = np.array([[259, 1547], [1663, 17138]])  # 3차 산업 종사자인 경우와 아닌 경우에 대한 교차표\n",
    "\n",
    "# 카이제곱 검정 수행\n",
    "chi2, p_value, _, _ = chi2_contingency(data)\n",
    "\n",
    "# 유의성 검정 결과 출력\n",
    "if p_value < 0.05:\n",
    "    print(\"귀무가설을 기각합니다. 3차 산업 종사자의 참여와 보험 사기 여부 간에 유의한 관련성이 있습니다.\")\n",
    "else:\n",
    "    print(\"귀무가설을 기각할 수 없습니다. 3차 산업 종사자의 참여와 보험 사기 여부 간에 유의한 관련성이 없습니다.\")"
   ]
  },
  {
   "cell_type": "code",
   "execution_count": 258,
   "id": "973cc90d",
   "metadata": {},
   "outputs": [
    {
     "data": {
      "image/png": "[encoded data removed]",
      "text/plain": [
       "<Figure size 432x288 with 1 Axes>"
      ]
     },
     "metadata": {
      "needs_background": "light"
     },
     "output_type": "display_data"
    }
   ],
   "source": [
    "sns.countplot(x = 'MATE_OCCP_GRP_1', data = df_cust_yes, order = df_cust_yes['MATE_OCCP_GRP_1'].value_counts().index)\n",
    "plt.xticks(rotation=90)\n",
    "plt.show()"
   ]
  },
  {
   "cell_type": "code",
   "execution_count": 259,
   "id": "53627cdb",
   "metadata": {},
   "outputs": [
    {
     "data": {
      "image/png": "[encoded data removed]",
      "text/plain": [
       "<Figure size 432x288 with 1 Axes>"
      ]
     },
     "metadata": {
      "needs_background": "light"
     },
     "output_type": "display_data"
    }
   ],
   "source": [
    "sns.countplot(x = 'MATE_OCCP_GRP_1', data = df_cust_no, order = df_cust_no['MATE_OCCP_GRP_1'].value_counts().index)\n",
    "plt.xticks(rotation=90)\n",
    "plt.show()"
   ]
  },
  {
   "cell_type": "code",
   "execution_count": 26,
   "id": "a2ca8549",
   "metadata": {},
   "outputs": [
    {
     "data": {
      "text/plain": [
       "Index(['CUST_ID', 'SIU_CUST_YN', 'SEX', 'AGE', 'RESI_COST', 'RESI_TYPE_CODE',\n",
       "       'FP_CAREER', 'CUST_RGST', 'CTPR', 'OCCP_GRP_1', 'OCCP_GRP_2',\n",
       "       'TOTALPREM', 'MINCRDT', 'MAXCRDT', 'WEDD_YN', 'MATE_OCCP_GRP_1',\n",
       "       'MATE_OCCP_GRP_2', 'CHLD_CNT', 'CUST_INCM', 'RCBASE_HSHD_INCM',\n",
       "       'JPBASE_HSHD_INCM'],\n",
       "      dtype='object')"
      ]
     },
     "execution_count": 26,
     "metadata": {},
     "output_type": "execute_result"
    }
   ],
   "source": [
    "df_cust.columns"
   ]
  },
  {
   "cell_type": "code",
   "execution_count": 21,
   "id": "18fd1f32",
   "metadata": {},
   "outputs": [
    {
     "data": {
      "text/plain": [
       "{'11', '12', '13', '20', '30', '40', '50', '60', '70', '99', nan}"
      ]
     },
     "execution_count": 21,
     "metadata": {},
     "output_type": "execute_result"
    }
   ],
   "source": [
    "set(df_cust['RESI_TYPE_CODE'])"
   ]
  },
  {
   "cell_type": "code",
   "execution_count": 23,
   "id": "bc66e0f7",
   "metadata": {},
   "outputs": [
    {
     "data": {
      "text/plain": [
       "{'N', 'Y'}"
      ]
     },
     "execution_count": 23,
     "metadata": {},
     "output_type": "execute_result"
    }
   ],
   "source": [
    "set(df_cust['FP_CAREER'])"
   ]
  },
  {
   "cell_type": "code",
   "execution_count": 27,
   "id": "0079bc6b",
   "metadata": {},
   "outputs": [
    {
     "data": {
      "text/plain": [
       "{'1.주부', '2.자영업', '3.사무직', '4.전문직', '5.서비스', '6.제조업', '7.1차산업', '8.기타', 'None'}"
      ]
     },
     "execution_count": 27,
     "metadata": {},
     "output_type": "execute_result"
    }
   ],
   "source": [
    "set(df_cust['OCCP_GRP_1'])"
   ]
  },
  {
   "cell_type": "code",
   "execution_count": 28,
   "id": "2970e67c",
   "metadata": {},
   "outputs": [
    {
     "data": {
      "text/plain": [
       "{'1차산업 종사자',\n",
       " '2차산업 종사자',\n",
       " '3차산업 종사자',\n",
       " nan,\n",
       " '고소득 전문직',\n",
       " '고소득의료직',\n",
       " '고위 공무원',\n",
       " '공무원',\n",
       " '교사',\n",
       " '교육관련직',\n",
       " '기업/단체 임원',\n",
       " '기타',\n",
       " '단순 노무직',\n",
       " '단순 사무직',\n",
       " '대학교수/강사',\n",
       " '법무직 종사자',\n",
       " '사무직',\n",
       " '예체능계 종사자',\n",
       " '운전직',\n",
       " '의료직 종사자',\n",
       " '자영업',\n",
       " '전문직',\n",
       " '종교인/역술인',\n",
       " '주부',\n",
       " '학생',\n",
       " '학자/연구직'}"
      ]
     },
     "execution_count": 28,
     "metadata": {},
     "output_type": "execute_result"
    }
   ],
   "source": [
    "set(df_cust['OCCP_GRP_2'])"
   ]
  },
  {
   "cell_type": "code",
   "execution_count": 32,
   "id": "71aaf243",
   "metadata": {},
   "outputs": [
    {
     "data": {
      "text/plain": [
       "{'N', 'None', 'Y'}"
      ]
     },
     "execution_count": 32,
     "metadata": {},
     "output_type": "execute_result"
    }
   ],
   "source": [
    "set(df_cust['WEDD_YN'])"
   ]
  },
  {
   "cell_type": "code",
   "execution_count": 48,
   "id": "d897a312",
   "metadata": {},
   "outputs": [
    {
     "data": {
      "text/plain": [
       "<AxesSubplot:xlabel='RCBASE_HSHD_INCM', ylabel='Count'>"
      ]
     },
     "execution_count": 48,
     "metadata": {},
     "output_type": "execute_result"
    },
    {
     "data": {
      "image/png": "[encoded data removed]",
      "text/plain": [
       "<Figure size 432x288 with 1 Axes>"
      ]
     },
     "metadata": {
      "needs_background": "light"
     },
     "output_type": "display_data"
    }
   ],
   "source": [
    "sns.histplot(x='RCBASE_HSHD_INCM', data=df_cust)"
   ]
  },
  {
   "cell_type": "code",
   "execution_count": 93,
   "id": "a0ab7c89",
   "metadata": {},
   "outputs": [
    {
     "data": {
      "text/plain": [
       "<AxesSubplot:xlabel='RCBASE_HSHD_INCM', ylabel='Count'>"
      ]
     },
     "execution_count": 93,
     "metadata": {},
     "output_type": "execute_result"
    },
    {
     "data": {
      "image/png": "[encoded data removed]",
      "text/plain": [
       "<Figure size 432x288 with 1 Axes>"
      ]
     },
     "metadata": {
      "needs_background": "light"
     },
     "output_type": "display_data"
    }
   ],
   "source": [
    "sns.histplot(x='RCBASE_HSHD_INCM', data=df_cust_yes)"
   ]
  },
  {
   "cell_type": "code",
   "execution_count": 94,
   "id": "03dd1061",
   "metadata": {
    "scrolled": true
   },
   "outputs": [
    {
     "data": {
      "text/plain": [
       "<AxesSubplot:xlabel='RCBASE_HSHD_INCM', ylabel='Count'>"
      ]
     },
     "execution_count": 94,
     "metadata": {},
     "output_type": "execute_result"
    },
    {
     "data": {
      "image/png": "[encoded data removed]",
      "text/plain": [
       "<Figure size 432x288 with 1 Axes>"
      ]
     },
     "metadata": {
      "needs_background": "light"
     },
     "output_type": "display_data"
    }
   ],
   "source": [
    "sns.histplot(x='RCBASE_HSHD_INCM', data=df_cust_no)"
   ]
  },
  {
   "cell_type": "code",
   "execution_count": 260,
   "id": "7726325b",
   "metadata": {},
   "outputs": [
    {
     "data": {
      "text/plain": [
       "2520.2883597883597"
      ]
     },
     "execution_count": 260,
     "metadata": {},
     "output_type": "execute_result"
    }
   ],
   "source": [
    "np.mean(df_cust_yes['CUST_INCM'])"
   ]
  },
  {
   "cell_type": "code",
   "execution_count": 261,
   "id": "ac7f00ff",
   "metadata": {},
   "outputs": [
    {
     "data": {
      "text/plain": [
       "2723.237177690583"
      ]
     },
     "execution_count": 261,
     "metadata": {},
     "output_type": "execute_result"
    }
   ],
   "source": [
    "np.mean(df_cust_no['CUST_INCM'])"
   ]
  },
  {
   "cell_type": "code",
   "execution_count": 262,
   "id": "e2d9490d",
   "metadata": {},
   "outputs": [
    {
     "data": {
      "text/plain": [
       "4477.480066445182"
      ]
     },
     "execution_count": 262,
     "metadata": {},
     "output_type": "execute_result"
    }
   ],
   "source": [
    "np.mean(df_cust_yes['RCBASE_HSHD_INCM'])"
   ]
  },
  {
   "cell_type": "code",
   "execution_count": 263,
   "id": "db6ea7af",
   "metadata": {},
   "outputs": [
    {
     "data": {
      "text/plain": [
       "4800.783681719057"
      ]
     },
     "execution_count": 263,
     "metadata": {},
     "output_type": "execute_result"
    }
   ],
   "source": [
    "np.mean(df_cust_no['RCBASE_HSHD_INCM'])"
   ]
  },
  {
   "cell_type": "code",
   "execution_count": 264,
   "id": "5685573e",
   "metadata": {},
   "outputs": [
    {
     "data": {
      "text/plain": [
       "5104.164391353811"
      ]
     },
     "execution_count": 264,
     "metadata": {},
     "output_type": "execute_result"
    }
   ],
   "source": [
    "np.mean(df_cust_yes['JPBASE_HSHD_INCM'])"
   ]
  },
  {
   "cell_type": "code",
   "execution_count": 265,
   "id": "0da35e03",
   "metadata": {},
   "outputs": [
    {
     "data": {
      "text/plain": [
       "5213.688093018154"
      ]
     },
     "execution_count": 265,
     "metadata": {},
     "output_type": "execute_result"
    }
   ],
   "source": [
    "np.mean(df_cust_no['JPBASE_HSHD_INCM'])"
   ]
  },
  {
   "cell_type": "code",
   "execution_count": 266,
   "id": "ede336bb",
   "metadata": {},
   "outputs": [
    {
     "name": "stdout",
     "output_type": "stream",
     "text": [
      "귀무가설을 기각할 수 없습니다. 사기를 치는 집단의 소득과 안 치는 집단의 소득의 차이는 유의미하지 않습니다.\n"
     ]
    }
   ],
   "source": [
    "import numpy as np\n",
    "from scipy.stats import ttest_ind\n",
    "\n",
    "# 데이터 (예시)\n",
    "group1_income = df_cust_yes['CUST_INCM']  # 사기를 치는 경우의 소득\n",
    "group2_income = df_cust_no['CUST_INCM']  # 안 치는 경우의 소득\n",
    "\n",
    "# 독립표본 t-test 수행\n",
    "t_statistic, p_value = ttest_ind(group1_income, group2_income)\n",
    "\n",
    "# 유의성 검정 결과 출력\n",
    "if p_value < 0.05:\n",
    "    print(\"귀무가설을 기각합니다. 사기를 치는 집단의 소득과 안 치는 집단의 소득의 차이는 유의미합니다.\")\n",
    "else:\n",
    "    print(\"귀무가설을 기각할 수 없습니다. 사기를 치는 집단의 소득과 안 치는 집단의 소득의 차이는 유의미하지 않습니다.\")"
   ]
  },
  {
   "cell_type": "code",
   "execution_count": 267,
   "id": "15271e4d",
   "metadata": {},
   "outputs": [
    {
     "name": "stdout",
     "output_type": "stream",
     "text": [
      "귀무가설을 기각합니다. 사기를 치는 집단의 소득과 안 치는 집단의 소득의 차이는 유의미합니다.\n"
     ]
    }
   ],
   "source": [
    "import numpy as np\n",
    "from scipy.stats import ttest_ind\n",
    "\n",
    "# 데이터 (예시)\n",
    "group1_income = df_cust_yes['RCBASE_HSHD_INCM']  # 사기를 치는 경우의 소득\n",
    "group2_income = df_cust_no['RCBASE_HSHD_INCM']  # 안 치는 경우의 소득\n",
    "\n",
    "# 독립표본 t-test 수행\n",
    "t_statistic, p_value = ttest_ind(group1_income, group2_income)\n",
    "\n",
    "# 유의성 검정 결과 출력\n",
    "if p_value < 0.05:\n",
    "    print(\"귀무가설을 기각합니다. 사기를 치는 집단의 소득과 안 치는 집단의 소득의 차이는 유의미합니다.\")\n",
    "else:\n",
    "    print(\"귀무가설을 기각할 수 없습니다. 사기를 치는 집단의 소득과 안 치는 집단의 소득의 차이는 유의미하지 않습니다.\")"
   ]
  },
  {
   "cell_type": "code",
   "execution_count": 268,
   "id": "4374fcbb",
   "metadata": {},
   "outputs": [
    {
     "name": "stdout",
     "output_type": "stream",
     "text": [
      "귀무가설을 기각할 수 없습니다. 사기를 치는 집단의 소득과 안 치는 집단의 소득의 차이는 유의미하지 않습니다.\n"
     ]
    }
   ],
   "source": [
    "import numpy as np\n",
    "from scipy.stats import ttest_ind\n",
    "\n",
    "# 데이터 (예시)\n",
    "group1_income = df_cust_yes['JPBASE_HSHD_INCM']  # 사기를 치는 경우의 소득\n",
    "group2_income = df_cust_no['JPBASE_HSHD_INCM']  # 안 치는 경우의 소득\n",
    "\n",
    "# 독립표본 t-test 수행\n",
    "t_statistic, p_value = ttest_ind(group1_income, group2_income)\n",
    "\n",
    "# 유의성 검정 결과 출력\n",
    "if p_value < 0.05:\n",
    "    print(\"귀무가설을 기각합니다. 사기를 치는 집단의 소득과 안 치는 집단의 소득의 차이는 유의미합니다.\")\n",
    "else:\n",
    "    print(\"귀무가설을 기각할 수 없습니다. 사기를 치는 집단의 소득과 안 치는 집단의 소득의 차이는 유의미하지 않습니다.\")"
   ]
  },
  {
   "cell_type": "code",
   "execution_count": 49,
   "id": "0d0eb258",
   "metadata": {},
   "outputs": [
    {
     "data": {
      "text/plain": [
       "<AxesSubplot:xlabel='JPBASE_HSHD_INCM', ylabel='Count'>"
      ]
     },
     "execution_count": 49,
     "metadata": {},
     "output_type": "execute_result"
    },
    {
     "data": {
      "image/png": "[encoded data removed]",
      "text/plain": [
       "<Figure size 432x288 with 1 Axes>"
      ]
     },
     "metadata": {
      "needs_background": "light"
     },
     "output_type": "display_data"
    }
   ],
   "source": [
    "sns.histplot(x='JPBASE_HSHD_INCM', data=df_cust)"
   ]
  },
  {
   "cell_type": "code",
   "execution_count": 96,
   "id": "20523c42",
   "metadata": {},
   "outputs": [
    {
     "data": {
      "text/plain": [
       "<AxesSubplot:xlabel='JPBASE_HSHD_INCM', ylabel='Count'>"
      ]
     },
     "execution_count": 96,
     "metadata": {},
     "output_type": "execute_result"
    },
    {
     "data": {
      "image/png": "[encoded data removed]",
      "text/plain": [
       "<Figure size 432x288 with 1 Axes>"
      ]
     },
     "metadata": {
      "needs_background": "light"
     },
     "output_type": "display_data"
    }
   ],
   "source": [
    "sns.histplot(x='JPBASE_HSHD_INCM', data=df_cust_yes)"
   ]
  },
  {
   "cell_type": "code",
   "execution_count": 97,
   "id": "b8433f79",
   "metadata": {},
   "outputs": [
    {
     "data": {
      "text/plain": [
       "<AxesSubplot:xlabel='JPBASE_HSHD_INCM', ylabel='Count'>"
      ]
     },
     "execution_count": 97,
     "metadata": {},
     "output_type": "execute_result"
    },
    {
     "data": {
      "image/png": "[encoded data removed]",
      "text/plain": [
       "<Figure size 432x288 with 1 Axes>"
      ]
     },
     "metadata": {
      "needs_background": "light"
     },
     "output_type": "display_data"
    }
   ],
   "source": [
    "sns.histplot(x='JPBASE_HSHD_INCM', data=df_cust_no)"
   ]
  },
  {
   "cell_type": "code",
   "execution_count": 98,
   "id": "b6c3074c",
   "metadata": {},
   "outputs": [
    {
     "data": {
      "text/plain": [
       "<AxesSubplot:xlabel='CUST_INCM', ylabel='Count'>"
      ]
     },
     "execution_count": 98,
     "metadata": {},
     "output_type": "execute_result"
    },
    {
     "data": {
      "image/png": "[encoded data removed]",
      "text/plain": [
       "<Figure size 432x288 with 1 Axes>"
      ]
     },
     "metadata": {
      "needs_background": "light"
     },
     "output_type": "display_data"
    }
   ],
   "source": [
    "sns.histplot(x='CUST_INCM', data=df_cust)"
   ]
  },
  {
   "cell_type": "code",
   "execution_count": 99,
   "id": "db3bf15a",
   "metadata": {},
   "outputs": [
    {
     "data": {
      "text/plain": [
       "<AxesSubplot:xlabel='CUST_INCM', ylabel='Count'>"
      ]
     },
     "execution_count": 99,
     "metadata": {},
     "output_type": "execute_result"
    },
    {
     "data": {
      "image/png": "[encoded data removed]",
      "text/plain": [
       "<Figure size 432x288 with 1 Axes>"
      ]
     },
     "metadata": {
      "needs_background": "light"
     },
     "output_type": "display_data"
    }
   ],
   "source": [
    "sns.histplot(x='CUST_INCM', data=df_cust_yes)"
   ]
  },
  {
   "cell_type": "code",
   "execution_count": 100,
   "id": "3f462cec",
   "metadata": {},
   "outputs": [
    {
     "data": {
      "text/plain": [
       "<AxesSubplot:xlabel='CUST_INCM', ylabel='Count'>"
      ]
     },
     "execution_count": 100,
     "metadata": {},
     "output_type": "execute_result"
    },
    {
     "data": {
      "image/png": "[encoded data removed]",
      "text/plain": [
       "<Figure size 432x288 with 1 Axes>"
      ]
     },
     "metadata": {
      "needs_background": "light"
     },
     "output_type": "display_data"
    }
   ],
   "source": [
    "sns.histplot(x='CUST_INCM', data=df_cust_no)"
   ]
  },
  {
   "cell_type": "code",
   "execution_count": 101,
   "id": "e9146259",
   "metadata": {},
   "outputs": [
    {
     "data": {
      "text/plain": [
       "<AxesSubplot:xlabel='RESI_COST', ylabel='Count'>"
      ]
     },
     "execution_count": 101,
     "metadata": {},
     "output_type": "execute_result"
    },
    {
     "data": {
      "image/png": "[encoded data removed]",
      "text/plain": [
       "<Figure size 432x288 with 1 Axes>"
      ]
     },
     "metadata": {
      "needs_background": "light"
     },
     "output_type": "display_data"
    }
   ],
   "source": [
    "sns.histplot(x='RESI_COST', data=df_cust)"
   ]
  },
  {
   "cell_type": "code",
   "execution_count": 102,
   "id": "d2e8203f",
   "metadata": {},
   "outputs": [
    {
     "data": {
      "text/plain": [
       "<AxesSubplot:xlabel='RESI_COST', ylabel='Count'>"
      ]
     },
     "execution_count": 102,
     "metadata": {},
     "output_type": "execute_result"
    },
    {
     "data": {
      "image/png": "[encoded data removed]",
      "text/plain": [
       "<Figure size 432x288 with 1 Axes>"
      ]
     },
     "metadata": {
      "needs_background": "light"
     },
     "output_type": "display_data"
    }
   ],
   "source": [
    "sns.histplot(x='RESI_COST', data=df_cust_yes)"
   ]
  },
  {
   "cell_type": "code",
   "execution_count": 103,
   "id": "d1cb03c0",
   "metadata": {},
   "outputs": [
    {
     "data": {
      "text/plain": [
       "<AxesSubplot:xlabel='RESI_COST', ylabel='Count'>"
      ]
     },
     "execution_count": 103,
     "metadata": {},
     "output_type": "execute_result"
    },
    {
     "data": {
      "image/png": "[encoded data removed]",
      "text/plain": [
       "<Figure size 432x288 with 1 Axes>"
      ]
     },
     "metadata": {
      "needs_background": "light"
     },
     "output_type": "display_data"
    }
   ],
   "source": [
    "sns.histplot(x='RESI_COST', data=df_cust_no)"
   ]
  },
  {
   "cell_type": "code",
   "execution_count": 109,
   "id": "803ceeda",
   "metadata": {},
   "outputs": [
    {
     "data": {
      "text/plain": [
       "<AxesSubplot:xlabel='TOTALPREM', ylabel='Count'>"
      ]
     },
     "execution_count": 109,
     "metadata": {},
     "output_type": "execute_result"
    },
    {
     "data": {
      "image/png": "[encoded data removed]",
      "text/plain": [
       "<Figure size 432x288 with 1 Axes>"
      ]
     },
     "metadata": {
      "needs_background": "light"
     },
     "output_type": "display_data"
    }
   ],
   "source": [
    "sns.histplot(x='TOTALPREM', data=df_cust)"
   ]
  },
  {
   "cell_type": "code",
   "execution_count": 254,
   "id": "f31b9e67",
   "metadata": {},
   "outputs": [
    {
     "data": {
      "text/plain": [
       "29857461.202"
      ]
     },
     "execution_count": 254,
     "metadata": {},
     "output_type": "execute_result"
    }
   ],
   "source": [
    "np.mean(df_cust_yes['TOTALPREM'])"
   ]
  },
  {
   "cell_type": "code",
   "execution_count": 110,
   "id": "f52aaae7",
   "metadata": {},
   "outputs": [
    {
     "data": {
      "text/plain": [
       "<AxesSubplot:xlabel='TOTALPREM', ylabel='Count'>"
      ]
     },
     "execution_count": 110,
     "metadata": {},
     "output_type": "execute_result"
    },
    {
     "data": {
      "image/png": "[encoded data removed]",
      "text/plain": [
       "<Figure size 432x288 with 1 Axes>"
      ]
     },
     "metadata": {
      "needs_background": "light"
     },
     "output_type": "display_data"
    }
   ],
   "source": [
    "sns.histplot(x='TOTALPREM', data=df_cust_yes)"
   ]
  },
  {
   "cell_type": "code",
   "execution_count": 255,
   "id": "47cce883",
   "metadata": {},
   "outputs": [
    {
     "data": {
      "text/plain": [
       "30128788.510590453"
      ]
     },
     "execution_count": 255,
     "metadata": {},
     "output_type": "execute_result"
    }
   ],
   "source": [
    "np.mean(df_cust_no['TOTALPREM'])"
   ]
  },
  {
   "cell_type": "code",
   "execution_count": 111,
   "id": "c4dd1f6c",
   "metadata": {},
   "outputs": [
    {
     "data": {
      "text/plain": [
       "<AxesSubplot:xlabel='TOTALPREM', ylabel='Count'>"
      ]
     },
     "execution_count": 111,
     "metadata": {},
     "output_type": "execute_result"
    },
    {
     "data": {
      "image/png": "[encoded data removed]",
      "text/plain": [
       "<Figure size 432x288 with 1 Axes>"
      ]
     },
     "metadata": {
      "needs_background": "light"
     },
     "output_type": "display_data"
    }
   ],
   "source": [
    "sns.histplot(x='TOTALPREM', data=df_cust_no)"
   ]
  },
  {
   "cell_type": "code",
   "execution_count": 290,
   "id": "803a2412",
   "metadata": {},
   "outputs": [
    {
     "data": {
      "text/plain": [
       "<AxesSubplot:xlabel='AGE', ylabel='Count'>"
      ]
     },
     "execution_count": 290,
     "metadata": {},
     "output_type": "execute_result"
    },
    {
     "data": {
      "image/png": "[encoded data removed]",
      "text/plain": [
       "<Figure size 432x288 with 1 Axes>"
      ]
     },
     "metadata": {
      "needs_background": "light"
     },
     "output_type": "display_data"
    }
   ],
   "source": [
    "sns.histplot(x='AGE', data=df_cust)"
   ]
  },
  {
   "cell_type": "code",
   "execution_count": 291,
   "id": "34ddc003",
   "metadata": {},
   "outputs": [
    {
     "data": {
      "text/plain": [
       "<AxesSubplot:xlabel='AGE', ylabel='Count'>"
      ]
     },
     "execution_count": 291,
     "metadata": {},
     "output_type": "execute_result"
    },
    {
     "data": {
      "image/png": "[encoded data removed]",
      "text/plain": [
       "<Figure size 432x288 with 1 Axes>"
      ]
     },
     "metadata": {
      "needs_background": "light"
     },
     "output_type": "display_data"
    }
   ],
   "source": [
    "sns.histplot(x='AGE', data=df_cust_yes)"
   ]
  },
  {
   "cell_type": "code",
   "execution_count": 292,
   "id": "e687c071",
   "metadata": {},
   "outputs": [
    {
     "data": {
      "text/plain": [
       "<AxesSubplot:xlabel='AGE', ylabel='Count'>"
      ]
     },
     "execution_count": 292,
     "metadata": {},
     "output_type": "execute_result"
    },
    {
     "data": {
      "image/png": "[encoded data removed]",
      "text/plain": [
       "<Figure size 432x288 with 1 Axes>"
      ]
     },
     "metadata": {
      "needs_background": "light"
     },
     "output_type": "display_data"
    }
   ],
   "source": [
    "sns.histplot(x='AGE', data=df_cust_no)"
   ]
  },
  {
   "cell_type": "code",
   "execution_count": null,
   "id": "f92c2fd6",
   "metadata": {},
   "outputs": [],
   "source": []
  },
  {
   "cell_type": "code",
   "execution_count": 108,
   "id": "df6028b8",
   "metadata": {},
   "outputs": [
    {
     "data": {
      "text/plain": [
       "<AxesSubplot:xlabel='CTPR', ylabel='count'>"
      ]
     },
     "execution_count": 108,
     "metadata": {},
     "output_type": "execute_result"
    },
    {
     "data": {
      "image/png": "[encoded data removed]",
      "text/plain": [
       "<Figure size 432x288 with 1 Axes>"
      ]
     },
     "metadata": {
      "needs_background": "light"
     },
     "output_type": "display_data"
    }
   ],
   "source": [
    "sns.countplot(x = 'CTPR', data = df_cust, order = df_cust['CTPR'].value_counts().index)"
   ]
  },
  {
   "cell_type": "code",
   "execution_count": 106,
   "id": "fdb0e74e",
   "metadata": {},
   "outputs": [
    {
     "data": {
      "text/plain": [
       "<AxesSubplot:xlabel='CTPR', ylabel='count'>"
      ]
     },
     "execution_count": 106,
     "metadata": {},
     "output_type": "execute_result"
    },
    {
     "data": {
      "image/png": "[encoded data removed]",
      "text/plain": [
       "<Figure size 432x288 with 1 Axes>"
      ]
     },
     "metadata": {
      "needs_background": "light"
     },
     "output_type": "display_data"
    }
   ],
   "source": [
    "sns.countplot(x = 'CTPR', data = df_cust_yes, order = df_cust_yes['CTPR'].value_counts().index)"
   ]
  },
  {
   "cell_type": "code",
   "execution_count": 107,
   "id": "48b59fa9",
   "metadata": {},
   "outputs": [
    {
     "data": {
      "text/plain": [
       "<AxesSubplot:xlabel='CTPR', ylabel='count'>"
      ]
     },
     "execution_count": 107,
     "metadata": {},
     "output_type": "execute_result"
    },
    {
     "data": {
      "image/png": "[encoded data removed]",
      "text/plain": [
       "<Figure size 432x288 with 1 Axes>"
      ]
     },
     "metadata": {
      "needs_background": "light"
     },
     "output_type": "display_data"
    }
   ],
   "source": [
    "sns.countplot(x = 'CTPR', data = df_cust_no, order = df_cust_no['CTPR'].value_counts().index)"
   ]
  },
  {
   "cell_type": "code",
   "execution_count": 241,
   "id": "8eef4737",
   "metadata": {},
   "outputs": [
    {
     "data": {
      "text/plain": [
       "None     28\n",
       "강원       74\n",
       "경기      349\n",
       "경남       94\n",
       "경북       45\n",
       "광주      156\n",
       "대구       56\n",
       "대전       40\n",
       "부산      198\n",
       "서울      306\n",
       "세종        2\n",
       "울산       19\n",
       "인천      181\n",
       "전남      102\n",
       "전북      102\n",
       "충남       39\n",
       "충북       15\n",
       "Name: CTPR, dtype: int64"
      ]
     },
     "execution_count": 241,
     "metadata": {},
     "output_type": "execute_result"
    }
   ],
   "source": [
    "yes = df_cust_yes['CTPR'].value_counts(normalize = False).sort_index()\n",
    "yes"
   ]
  },
  {
   "cell_type": "code",
   "execution_count": 243,
   "id": "bb45c788",
   "metadata": {},
   "outputs": [
    {
     "data": {
      "text/plain": [
       "None     547\n",
       "강원       450\n",
       "경기      4469\n",
       "경남      1368\n",
       "경북       851\n",
       "광주       641\n",
       "대구       853\n",
       "대전       426\n",
       "부산      1192\n",
       "서울      3083\n",
       "세종        35\n",
       "울산       626\n",
       "인천      1153\n",
       "전남       934\n",
       "전북       790\n",
       "제주       174\n",
       "충남       654\n",
       "충북       555\n",
       "Name: CTPR, dtype: int64"
      ]
     },
     "execution_count": 243,
     "metadata": {},
     "output_type": "execute_result"
    }
   ],
   "source": [
    "no = df_cust_no['CTPR'].value_counts(normalize = False).sort_index()\n",
    "no"
   ]
  },
  {
   "cell_type": "code",
   "execution_count": 245,
   "id": "6c0c7d2e",
   "metadata": {},
   "outputs": [
    {
     "name": "stdout",
     "output_type": "stream",
     "text": [
      "귀무가설을 기각합니다. 지역과 보험 사기 여부 간에 유의한 관련성이 있습니다.\n",
      "귀무가설을 기각합니다. 지역과 보험 사기 여부 간에 유의한 관련성이 있습니다.\n",
      "귀무가설을 기각합니다. 지역과 보험 사기 여부 간에 유의한 관련성이 있습니다.\n",
      "귀무가설을 기각합니다. 지역과 보험 사기 여부 간에 유의한 관련성이 있습니다.\n",
      "귀무가설을 기각합니다. 지역과 보험 사기 여부 간에 유의한 관련성이 있습니다.\n",
      "귀무가설을 기각합니다. 지역과 보험 사기 여부 간에 유의한 관련성이 있습니다.\n",
      "귀무가설을 기각합니다. 지역과 보험 사기 여부 간에 유의한 관련성이 있습니다.\n",
      "귀무가설을 기각할 수 없습니다. 지역과 보험 사기 여부 간에 유의한 관련성이 없습니다.\n",
      "귀무가설을 기각합니다. 지역과 보험 사기 여부 간에 유의한 관련성이 있습니다.\n",
      "귀무가설을 기각할 수 없습니다. 지역과 보험 사기 여부 간에 유의한 관련성이 없습니다.\n",
      "귀무가설을 기각할 수 없습니다. 지역과 보험 사기 여부 간에 유의한 관련성이 없습니다.\n",
      "귀무가설을 기각합니다. 지역과 보험 사기 여부 간에 유의한 관련성이 있습니다.\n"
     ]
    }
   ],
   "source": [
    "import numpy as np\n",
    "from scipy.stats import chi2_contingency\n",
    "\n",
    "for i in range(12):\n",
    "    a = yes[i]\n",
    "    b = 1806 - yes[i]\n",
    "    c = no[i]\n",
    "    d = 18801- no[i]\n",
    "\n",
    "    data = np.array([[a, b], [c, d]])  # 자영업인 경우와 아닌 경우에 대한 교차표\n",
    "    chi2, p_value, _, _ = chi2_contingency(data)\n",
    "    if p_value < 0.05:\n",
    "        print(\"귀무가설을 기각합니다. 지역과 보험 사기 여부 간에 유의한 관련성이 있습니다.\")\n",
    "    else:\n",
    "        print(\"귀무가설을 기각할 수 없습니다. 지역과 보험 사기 여부 간에 유의한 관련성이 없습니다.\")"
   ]
  },
  {
   "cell_type": "code",
   "execution_count": 113,
   "id": "43bceb32",
   "metadata": {},
   "outputs": [
    {
     "data": {
      "text/plain": [
       "<AxesSubplot:xlabel='MINCRDT', ylabel='count'>"
      ]
     },
     "execution_count": 113,
     "metadata": {},
     "output_type": "execute_result"
    },
    {
     "data": {
      "image/png": "[encoded data removed]",
      "text/plain": [
       "<Figure size 432x288 with 1 Axes>"
      ]
     },
     "metadata": {
      "needs_background": "light"
     },
     "output_type": "display_data"
    }
   ],
   "source": [
    "sns.countplot(x = 'MINCRDT', data = df_cust, order = df_cust['MINCRDT'].value_counts().index)"
   ]
  },
  {
   "cell_type": "code",
   "execution_count": 114,
   "id": "67875d27",
   "metadata": {},
   "outputs": [
    {
     "data": {
      "text/plain": [
       "<AxesSubplot:xlabel='MINCRDT', ylabel='count'>"
      ]
     },
     "execution_count": 114,
     "metadata": {},
     "output_type": "execute_result"
    },
    {
     "data": {
      "image/png": "[encoded data removed]",
      "text/plain": [
       "<Figure size 432x288 with 1 Axes>"
      ]
     },
     "metadata": {
      "needs_background": "light"
     },
     "output_type": "display_data"
    }
   ],
   "source": [
    "sns.countplot(x = 'MINCRDT', data = df_cust_yes, order = df_cust_yes['MINCRDT'].value_counts().index)\n",
    "#신용등급이 매우 높은 경우에는 사기를 치는 경우가 없음. "
   ]
  },
  {
   "cell_type": "code",
   "execution_count": 115,
   "id": "45f50e37",
   "metadata": {},
   "outputs": [
    {
     "data": {
      "text/plain": [
       "<AxesSubplot:xlabel='MINCRDT', ylabel='count'>"
      ]
     },
     "execution_count": 115,
     "metadata": {},
     "output_type": "execute_result"
    },
    {
     "data": {
      "image/png": "[encoded data removed]",
      "text/plain": [
       "<Figure size 432x288 with 1 Axes>"
      ]
     },
     "metadata": {
      "needs_background": "light"
     },
     "output_type": "display_data"
    }
   ],
   "source": [
    "sns.countplot(x = 'MINCRDT', data = df_cust_no, order = df_cust_no['MINCRDT'].value_counts().index)"
   ]
  },
  {
   "cell_type": "code",
   "execution_count": 116,
   "id": "fa7432df",
   "metadata": {},
   "outputs": [
    {
     "data": {
      "text/plain": [
       "<AxesSubplot:xlabel='MAXCRDT', ylabel='count'>"
      ]
     },
     "execution_count": 116,
     "metadata": {},
     "output_type": "execute_result"
    },
    {
     "data": {
      "image/png": "[encoded data removed]",
      "text/plain": [
       "<Figure size 432x288 with 1 Axes>"
      ]
     },
     "metadata": {
      "needs_background": "light"
     },
     "output_type": "display_data"
    }
   ],
   "source": [
    "sns.countplot(x = 'MAXCRDT', data = df_cust, order = df_cust['MAXCRDT'].value_counts().index)"
   ]
  },
  {
   "cell_type": "code",
   "execution_count": 117,
   "id": "f5c2705f",
   "metadata": {},
   "outputs": [
    {
     "data": {
      "text/plain": [
       "<AxesSubplot:xlabel='MAXCRDT', ylabel='count'>"
      ]
     },
     "execution_count": 117,
     "metadata": {},
     "output_type": "execute_result"
    },
    {
     "data": {
      "image/png": "[encoded data removed]",
      "text/plain": [
       "<Figure size 432x288 with 1 Axes>"
      ]
     },
     "metadata": {
      "needs_background": "light"
     },
     "output_type": "display_data"
    }
   ],
   "source": [
    "sns.countplot(x = 'MAXCRDT', data = df_cust_yes, order = df_cust_yes['MAXCRDT'].value_counts().index)\n",
    "#최소신용등급이든 최대신용등급이든 보험사기인 경우가 신용등급이 전체적으로 낮은 경향을 확인할 수 있다."
   ]
  },
  {
   "cell_type": "code",
   "execution_count": 118,
   "id": "803acb4e",
   "metadata": {},
   "outputs": [
    {
     "data": {
      "text/plain": [
       "<AxesSubplot:xlabel='MAXCRDT', ylabel='count'>"
      ]
     },
     "execution_count": 118,
     "metadata": {},
     "output_type": "execute_result"
    },
    {
     "data": {
      "image/png": "[encoded data removed]",
      "text/plain": [
       "<Figure size 432x288 with 1 Axes>"
      ]
     },
     "metadata": {
      "needs_background": "light"
     },
     "output_type": "display_data"
    }
   ],
   "source": [
    "sns.countplot(x = 'MAXCRDT', data = df_cust_no, order = df_cust_no['MAXCRDT'].value_counts().index)"
   ]
  },
  {
   "cell_type": "code",
   "execution_count": 129,
   "id": "cdd2e7a9",
   "metadata": {},
   "outputs": [
    {
     "data": {
      "text/plain": [
       "199910.0"
      ]
     },
     "execution_count": 129,
     "metadata": {},
     "output_type": "execute_result"
    }
   ],
   "source": [
    "date = df_cust['CUST_RGST'][0]\n",
    "date"
   ]
  },
  {
   "cell_type": "code",
   "execution_count": 137,
   "id": "87027e1e",
   "metadata": {},
   "outputs": [
    {
     "data": {
      "text/plain": [
       "dtype('float64')"
      ]
     },
     "execution_count": 137,
     "metadata": {},
     "output_type": "execute_result"
    }
   ],
   "source": [
    "df_cust['CUST_RGST'].dtype"
   ]
  },
  {
   "cell_type": "code",
   "execution_count": 138,
   "id": "425690a3",
   "metadata": {},
   "outputs": [],
   "source": [
    "df_cust['CUST_RGST']= df_cust['CUST_RGST'].astype('str')"
   ]
  },
  {
   "cell_type": "code",
   "execution_count": 143,
   "id": "a5d10f9d",
   "metadata": {},
   "outputs": [
    {
     "name": "stdout",
     "output_type": "stream",
     "text": [
      "<class 'pandas.core.frame.DataFrame'>\n",
      "Int64Index: 20607 entries, 0 to 22399\n",
      "Data columns (total 21 columns):\n",
      " #   Column            Non-Null Count  Dtype  \n",
      "---  ------            --------------  -----  \n",
      " 0   CUST_ID           20607 non-null  int64  \n",
      " 1   SIU_CUST_YN       20607 non-null  object \n",
      " 2   SEX               20607 non-null  int64  \n",
      " 3   AGE               20607 non-null  int64  \n",
      " 4   RESI_COST         20607 non-null  int64  \n",
      " 5   RESI_TYPE_CODE    19461 non-null  object \n",
      " 6   FP_CAREER         20607 non-null  object \n",
      " 7   CUST_RGST         20607 non-null  object \n",
      " 8   CTPR              20607 non-null  object \n",
      " 9   OCCP_GRP_1        20607 non-null  object \n",
      " 10  OCCP_GRP_2        20060 non-null  object \n",
      " 11  TOTALPREM         15286 non-null  float64\n",
      " 12  MINCRDT           11841 non-null  float64\n",
      " 13  MAXCRDT           11841 non-null  float64\n",
      " 14  WEDD_YN           20607 non-null  object \n",
      " 15  MATE_OCCP_GRP_1   9722 non-null   object \n",
      " 16  MATE_OCCP_GRP_2   9722 non-null   object \n",
      " 17  CHLD_CNT          20173 non-null  float64\n",
      " 18  CUST_INCM         15784 non-null  float64\n",
      " 19  RCBASE_HSHD_INCM  20607 non-null  int64  \n",
      " 20  JPBASE_HSHD_INCM  19991 non-null  float64\n",
      "dtypes: float64(6), int64(5), object(10)\n",
      "memory usage: 4.0+ MB\n"
     ]
    }
   ],
   "source": [
    "df_cust.info()"
   ]
  },
  {
   "cell_type": "code",
   "execution_count": 156,
   "id": "578a6ed5",
   "metadata": {},
   "outputs": [
    {
     "data": {
      "text/plain": [
       "'10'"
      ]
     },
     "execution_count": 156,
     "metadata": {},
     "output_type": "execute_result"
    }
   ],
   "source": [
    "df_cust['CUST_RGST'][0][4:6]"
   ]
  },
  {
   "cell_type": "code",
   "execution_count": 148,
   "id": "1b44146b",
   "metadata": {},
   "outputs": [],
   "source": [
    "df_cust['year'] = df_cust['CUST_RGST'].apply(lambda x : x[0:4])"
   ]
  },
  {
   "cell_type": "code",
   "execution_count": 157,
   "id": "fc5a2ba2",
   "metadata": {},
   "outputs": [],
   "source": [
    "df_cust['month'] = df_cust['CUST_RGST'].apply(lambda x : x[4:6])"
   ]
  },
  {
   "cell_type": "code",
   "execution_count": 150,
   "id": "e423b1ef",
   "metadata": {},
   "outputs": [
    {
     "data": {
      "text/plain": [
       "0        1999\n",
       "1        1999\n",
       "2        1999\n",
       "3        1999\n",
       "4        1999\n",
       "         ... \n",
       "22394    2003\n",
       "22396    2003\n",
       "22397    2005\n",
       "22398    2003\n",
       "22399    2003\n",
       "Name: year, Length: 20607, dtype: object"
      ]
     },
     "execution_count": 150,
     "metadata": {},
     "output_type": "execute_result"
    }
   ],
   "source": [
    "df_cust['year']"
   ]
  },
  {
   "cell_type": "code",
   "execution_count": 159,
   "id": "70882bcf",
   "metadata": {},
   "outputs": [
    {
     "data": {
      "text/plain": [
       "{'101.',\n",
       " '1981',\n",
       " '1982',\n",
       " '1983',\n",
       " '1984',\n",
       " '1985',\n",
       " '1986',\n",
       " '1987',\n",
       " '1988',\n",
       " '1989',\n",
       " '1990',\n",
       " '1991',\n",
       " '1992',\n",
       " '1993',\n",
       " '1994',\n",
       " '1995',\n",
       " '1996',\n",
       " '1997',\n",
       " '1998',\n",
       " '1999',\n",
       " '2000',\n",
       " '2001',\n",
       " '2002',\n",
       " '2003',\n",
       " '2004',\n",
       " '2005',\n",
       " '2006',\n",
       " '2007',\n",
       " '2008',\n",
       " '2009',\n",
       " '2010',\n",
       " '2011',\n",
       " '2012',\n",
       " '2013',\n",
       " '2014',\n",
       " '2015',\n",
       " '2016',\n",
       " 'nan'}"
      ]
     },
     "execution_count": 159,
     "metadata": {},
     "output_type": "execute_result"
    }
   ],
   "source": [
    "set(df_cust['year']) #101인거는 무슨 의미인지 몰라서 우선 그대로 포함시킴"
   ]
  },
  {
   "cell_type": "code",
   "execution_count": 168,
   "id": "2938ca02",
   "metadata": {},
   "outputs": [],
   "source": [
    "df_cust_yes = df_cust[df_cust['SIU_CUST_YN']=='Y']\n",
    "df_cust_no = df_cust[df_cust['SIU_CUST_YN']=='N']"
   ]
  },
  {
   "cell_type": "code",
   "execution_count": 169,
   "id": "68ef69a7",
   "metadata": {},
   "outputs": [
    {
     "data": {
      "image/png": "[encoded data removed]",
      "text/plain": [
       "<Figure size 432x288 with 1 Axes>"
      ]
     },
     "metadata": {
      "needs_background": "light"
     },
     "output_type": "display_data"
    }
   ],
   "source": [
    "sns.countplot(x = 'year', data = df_cust, order = df_cust['year'].value_counts().index)\n",
    "plt.xticks(rotation=90)\n",
    "plt.show()"
   ]
  },
  {
   "cell_type": "code",
   "execution_count": 171,
   "id": "77346ddc",
   "metadata": {},
   "outputs": [
    {
     "data": {
      "image/png": "[encoded data removed]",
      "text/plain": [
       "<Figure size 432x288 with 1 Axes>"
      ]
     },
     "metadata": {
      "needs_background": "light"
     },
     "output_type": "display_data"
    }
   ],
   "source": [
    "sns.countplot(x = 'year', data = df_cust_yes, order = df_cust_yes['year'].value_counts().index)\n",
    "plt.xticks(rotation=90)\n",
    "plt.show()"
   ]
  },
  {
   "cell_type": "code",
   "execution_count": 172,
   "id": "112e23bc",
   "metadata": {},
   "outputs": [
    {
     "data": {
      "image/png": "[encoded data removed]",
      "text/plain": [
       "<Figure size 432x288 with 1 Axes>"
      ]
     },
     "metadata": {
      "needs_background": "light"
     },
     "output_type": "display_data"
    }
   ],
   "source": [
    "sns.countplot(x = 'year', data = df_cust_no, order = df_cust_no['year'].value_counts().index)\n",
    "plt.xticks(rotation=90)\n",
    "plt.show()"
   ]
  },
  {
   "cell_type": "code",
   "execution_count": 276,
   "id": "a8693b86",
   "metadata": {},
   "outputs": [
    {
     "data": {
      "text/plain": [
       "2003    1039\n",
       "2001      95\n",
       "2005      76\n",
       "2004      69\n",
       "2009      64\n",
       "2006      64\n",
       "2007      58\n",
       "2002      55\n",
       "2008      53\n",
       "2000      47\n",
       "1999      36\n",
       "nan       27\n",
       "101.      16\n",
       "2010      16\n",
       "2011      13\n",
       "1998      11\n",
       "2012      11\n",
       "1995       8\n",
       "1996       7\n",
       "2014       6\n",
       "1994       5\n",
       "1997       5\n",
       "1991       4\n",
       "1989       3\n",
       "1986       3\n",
       "1983       3\n",
       "1987       3\n",
       "2013       3\n",
       "1984       3\n",
       "1990       1\n",
       "1985       1\n",
       "1982       1\n",
       "Name: year, dtype: int64"
      ]
     },
     "execution_count": 276,
     "metadata": {},
     "output_type": "execute_result"
    }
   ],
   "source": [
    "df_cust_yes['year'].value_counts()"
   ]
  },
  {
   "cell_type": "code",
   "execution_count": 275,
   "id": "79434b91",
   "metadata": {},
   "outputs": [
    {
     "name": "stdout",
     "output_type": "stream",
     "text": [
      "귀무가설을 기각합니다. 고객등록날짜와 보험 사기 여부 간에 유의한 관련성이 있습니다.\n"
     ]
    }
   ],
   "source": [
    "import numpy as np\n",
    "from scipy.stats import chi2_contingency\n",
    "\n",
    "# 주어진 데이터셋 (예시)\n",
    "data = np.array([[611, 18801-611], [95, 1806-95]])  # 주부인 경우와 아닌 경우에 대한 교차표\n",
    "\n",
    "# 카이제곱 검정 수행\n",
    "chi2, p_value, _, _ = chi2_contingency(data)\n",
    "\n",
    "# 유의성 검정 결과 출력\n",
    "if p_value < 0.05:\n",
    "    print(\"귀무가설을 기각합니다. 고객등록날짜와 보험 사기 여부 간에 유의한 관련성이 있습니다.\")\n",
    "else:\n",
    "    print(\"귀무가설을 기각할 수 없습니다. 고객등록날짜와 보험 사기 여부 간에 유의한 관련성이 없습니다.\")\n"
   ]
  },
  {
   "cell_type": "code",
   "execution_count": 174,
   "id": "4db5e087",
   "metadata": {},
   "outputs": [
    {
     "data": {
      "text/plain": [
       "N    18801\n",
       "Y     1806\n",
       "Name: SIU_CUST_YN, dtype: int64"
      ]
     },
     "execution_count": 174,
     "metadata": {},
     "output_type": "execute_result"
    }
   ],
   "source": [
    "df_cust['SIU_CUST_YN'].value_counts()"
   ]
  },
  {
   "cell_type": "code",
   "execution_count": 178,
   "id": "dc5f623b",
   "metadata": {},
   "outputs": [
    {
     "data": {
      "text/plain": [
       "(18801, 23)"
      ]
     },
     "execution_count": 178,
     "metadata": {},
     "output_type": "execute_result"
    }
   ],
   "source": [
    "df_cust_no.shape"
   ]
  },
  {
   "cell_type": "code",
   "execution_count": 176,
   "id": "0d1f4d5b",
   "metadata": {},
   "outputs": [
    {
     "data": {
      "text/plain": [
       "2003    1039\n",
       "2001      95\n",
       "2005      76\n",
       "2004      69\n",
       "2009      64\n",
       "2006      64\n",
       "2007      58\n",
       "2002      55\n",
       "2008      53\n",
       "2000      47\n",
       "1999      36\n",
       "nan       27\n",
       "101.      16\n",
       "2010      16\n",
       "2011      13\n",
       "1998      11\n",
       "2012      11\n",
       "1995       8\n",
       "1996       7\n",
       "2014       6\n",
       "1994       5\n",
       "1997       5\n",
       "1991       4\n",
       "1989       3\n",
       "1986       3\n",
       "1983       3\n",
       "1987       3\n",
       "2013       3\n",
       "1984       3\n",
       "1990       1\n",
       "1985       1\n",
       "1982       1\n",
       "Name: year, dtype: int64"
      ]
     },
     "execution_count": 176,
     "metadata": {},
     "output_type": "execute_result"
    }
   ],
   "source": [
    "df_cust_yes['year'].value_counts()# 1806명 중에 1039명이 2003년에 가입한 것(보험 사기친 사람들이)"
   ]
  },
  {
   "cell_type": "code",
   "execution_count": 179,
   "id": "c4a8fe98",
   "metadata": {},
   "outputs": [
    {
     "data": {
      "text/plain": [
       "2003    11380\n",
       "2004      850\n",
       "2005      665\n",
       "2006      631\n",
       "2001      611\n",
       "2002      474\n",
       "2009      468\n",
       "2007      447\n",
       "nan       392\n",
       "2008      377\n",
       "2000      339\n",
       "1999      333\n",
       "2010      323\n",
       "2011      287\n",
       "2012      260\n",
       "2013      237\n",
       "101.      132\n",
       "2014      117\n",
       "1998       74\n",
       "1997       65\n",
       "1996       60\n",
       "1995       45\n",
       "2015       43\n",
       "1993       24\n",
       "1994       20\n",
       "1989       18\n",
       "1991       17\n",
       "1990       16\n",
       "1988       16\n",
       "1992       15\n",
       "1986       15\n",
       "1982       12\n",
       "1983        9\n",
       "1987        9\n",
       "1984        8\n",
       "1985        7\n",
       "1981        3\n",
       "2016        2\n",
       "Name: year, dtype: int64"
      ]
     },
     "execution_count": 179,
     "metadata": {},
     "output_type": "execute_result"
    }
   ],
   "source": [
    "df_cust_no['year'].value_counts()#18801명 중에 11280명(퍼센트로 따지기)"
   ]
  },
  {
   "cell_type": "code",
   "execution_count": 246,
   "id": "8eb4ae4a",
   "metadata": {},
   "outputs": [
    {
     "data": {
      "text/plain": [
       "8.기타      4226\n",
       "1.주부      3904\n",
       "3.사무직     2824\n",
       "5.서비스     2302\n",
       "2.자영업     1808\n",
       "4.전문직     1711\n",
       "6.제조업     1214\n",
       "None       512\n",
       "7.1차산업     300\n",
       "Name: OCCP_GRP_1, dtype: int64"
      ]
     },
     "execution_count": 246,
     "metadata": {},
     "output_type": "execute_result"
    }
   ],
   "source": [
    "df_cust_no['OCCP_GRP_1'].value_counts()#18801명 중에 주부 3904명(21 퍼센트로 따지기)"
   ]
  },
  {
   "cell_type": "code",
   "execution_count": 247,
   "id": "fb7a8d28",
   "metadata": {},
   "outputs": [
    {
     "data": {
      "text/plain": [
       "1.주부      498\n",
       "2.자영업     301\n",
       "8.기타      288\n",
       "5.서비스     263\n",
       "3.사무직     258\n",
       "4.전문직      97\n",
       "6.제조업      54\n",
       "None       35\n",
       "7.1차산업     12\n",
       "Name: OCCP_GRP_1, dtype: int64"
      ]
     },
     "execution_count": 247,
     "metadata": {},
     "output_type": "execute_result"
    }
   ],
   "source": [
    "df_cust_yes['OCCP_GRP_1'].value_counts()#1806명 중에 주부 498명(28 퍼센트로 따지기)"
   ]
  },
  {
   "cell_type": "code",
   "execution_count": 194,
   "id": "e5dc9de4",
   "metadata": {},
   "outputs": [
    {
     "name": "stdout",
     "output_type": "stream",
     "text": [
      "귀무가설을 기각합니다. 주부의 참여와 보험 사기 여부 간에 유의한 관련성이 있습니다.\n"
     ]
    }
   ],
   "source": [
    "import numpy as np\n",
    "from scipy.stats import chi2_contingency\n",
    "\n",
    "# 주어진 데이터셋 (예시)\n",
    "data = np.array([[3904, 14897], [498, 1308]])  # 주부인 경우와 아닌 경우에 대한 교차표\n",
    "\n",
    "# 카이제곱 검정 수행\n",
    "chi2, p_value, _, _ = chi2_contingency(data)\n",
    "\n",
    "# 유의성 검정 결과 출력\n",
    "if p_value < 0.05:\n",
    "    print(\"귀무가설을 기각합니다. 주부의 참여와 보험 사기 여부 간에 유의한 관련성이 있습니다.\")\n",
    "else:\n",
    "    print(\"귀무가설을 기각할 수 없습니다. 주부의 참여와 보험 사기 여부 간에 유의한 관련성이 없습니다.\")\n"
   ]
  },
  {
   "cell_type": "code",
   "execution_count": 195,
   "id": "eab014d6",
   "metadata": {},
   "outputs": [
    {
     "data": {
      "text/plain": [
       "1.8882071461110524e-11"
      ]
     },
     "execution_count": 195,
     "metadata": {},
     "output_type": "execute_result"
    }
   ],
   "source": [
    "p_value"
   ]
  },
  {
   "cell_type": "code",
   "execution_count": 248,
   "id": "7479625a",
   "metadata": {},
   "outputs": [
    {
     "name": "stdout",
     "output_type": "stream",
     "text": [
      "귀무가설을 기각합니다. 자영업자의 참여와 보험 사기 여부 간에 유의한 관련성이 있습니다.\n"
     ]
    }
   ],
   "source": [
    "import numpy as np\n",
    "from scipy.stats import chi2_contingency\n",
    "\n",
    "# 주어진 데이터셋 (예시)\n",
    "data = np.array([[1808, 16993], [301, 1505]])  # 주부인 경우와 아닌 경우에 대한 교차표\n",
    "\n",
    "# 카이제곱 검정 수행\n",
    "chi2, p_value, _, _ = chi2_contingency(data)\n",
    "\n",
    "# 유의성 검정 결과 출력\n",
    "if p_value < 0.05:\n",
    "    print(\"귀무가설을 기각합니다. 자영업자의 참여와 보험 사기 여부 간에 유의한 관련성이 있습니다.\")\n",
    "else:\n",
    "    print(\"귀무가설을 기각할 수 없습니다. 자영업자의 참여와 보험 사기 여부 간에 유의한 관련성이 없습니다.\")\n"
   ]
  },
  {
   "cell_type": "code",
   "execution_count": 293,
   "id": "7a722423",
   "metadata": {},
   "outputs": [
    {
     "data": {
      "text/html": [
       "<div>\n",
       "<style scoped>\n",
       "    .dataframe tbody tr th:only-of-type {\n",
       "        vertical-align: middle;\n",
       "    }\n",
       "\n",
       "    .dataframe tbody tr th {\n",
       "        vertical-align: top;\n",
       "    }\n",
       "\n",
       "    .dataframe thead th {\n",
       "        text-align: right;\n",
       "    }\n",
       "</style>\n",
       "<table border=\"1\" class=\"dataframe\">\n",
       "  <thead>\n",
       "    <tr style=\"text-align: right;\">\n",
       "      <th></th>\n",
       "      <th>CUST_ID</th>\n",
       "      <th>SIU_CUST_YN</th>\n",
       "      <th>SEX</th>\n",
       "      <th>AGE</th>\n",
       "      <th>RESI_COST</th>\n",
       "      <th>RESI_TYPE_CODE</th>\n",
       "      <th>FP_CAREER</th>\n",
       "      <th>CUST_RGST</th>\n",
       "      <th>CTPR</th>\n",
       "      <th>OCCP_GRP_1</th>\n",
       "      <th>...</th>\n",
       "      <th>MAXCRDT</th>\n",
       "      <th>WEDD_YN</th>\n",
       "      <th>MATE_OCCP_GRP_1</th>\n",
       "      <th>MATE_OCCP_GRP_2</th>\n",
       "      <th>CHLD_CNT</th>\n",
       "      <th>CUST_INCM</th>\n",
       "      <th>RCBASE_HSHD_INCM</th>\n",
       "      <th>JPBASE_HSHD_INCM</th>\n",
       "      <th>year</th>\n",
       "      <th>month</th>\n",
       "    </tr>\n",
       "  </thead>\n",
       "  <tbody>\n",
       "    <tr>\n",
       "      <th>0</th>\n",
       "      <td>1</td>\n",
       "      <td>N</td>\n",
       "      <td>2</td>\n",
       "      <td>47</td>\n",
       "      <td>21111</td>\n",
       "      <td>20</td>\n",
       "      <td>N</td>\n",
       "      <td>199910.0</td>\n",
       "      <td>충북</td>\n",
       "      <td>3.사무직</td>\n",
       "      <td>...</td>\n",
       "      <td>NaN</td>\n",
       "      <td>Y</td>\n",
       "      <td>3.사무직</td>\n",
       "      <td>2차산업 종사자</td>\n",
       "      <td>2.0</td>\n",
       "      <td>4879.0</td>\n",
       "      <td>10094</td>\n",
       "      <td>11337.0</td>\n",
       "      <td>1999</td>\n",
       "      <td>10</td>\n",
       "    </tr>\n",
       "    <tr>\n",
       "      <th>1</th>\n",
       "      <td>2</td>\n",
       "      <td>N</td>\n",
       "      <td>1</td>\n",
       "      <td>53</td>\n",
       "      <td>40000</td>\n",
       "      <td>20</td>\n",
       "      <td>N</td>\n",
       "      <td>199910.0</td>\n",
       "      <td>서울</td>\n",
       "      <td>3.사무직</td>\n",
       "      <td>...</td>\n",
       "      <td>6.0</td>\n",
       "      <td>Y</td>\n",
       "      <td>1.주부</td>\n",
       "      <td>주부</td>\n",
       "      <td>2.0</td>\n",
       "      <td>6509.0</td>\n",
       "      <td>9143</td>\n",
       "      <td>6509.0</td>\n",
       "      <td>1999</td>\n",
       "      <td>10</td>\n",
       "    </tr>\n",
       "    <tr>\n",
       "      <th>2</th>\n",
       "      <td>3</td>\n",
       "      <td>N</td>\n",
       "      <td>1</td>\n",
       "      <td>60</td>\n",
       "      <td>0</td>\n",
       "      <td>NaN</td>\n",
       "      <td>N</td>\n",
       "      <td>199910.0</td>\n",
       "      <td>서울</td>\n",
       "      <td>5.서비스</td>\n",
       "      <td>...</td>\n",
       "      <td>NaN</td>\n",
       "      <td>N</td>\n",
       "      <td>NaN</td>\n",
       "      <td>NaN</td>\n",
       "      <td>0.0</td>\n",
       "      <td>4180.0</td>\n",
       "      <td>0</td>\n",
       "      <td>4180.0</td>\n",
       "      <td>1999</td>\n",
       "      <td>10</td>\n",
       "    </tr>\n",
       "    <tr>\n",
       "      <th>3</th>\n",
       "      <td>4</td>\n",
       "      <td>N</td>\n",
       "      <td>2</td>\n",
       "      <td>64</td>\n",
       "      <td>12861</td>\n",
       "      <td>40</td>\n",
       "      <td>Y</td>\n",
       "      <td>199910.0</td>\n",
       "      <td>경기</td>\n",
       "      <td>2.자영업</td>\n",
       "      <td>...</td>\n",
       "      <td>99.0</td>\n",
       "      <td>N</td>\n",
       "      <td>NaN</td>\n",
       "      <td>NaN</td>\n",
       "      <td>0.0</td>\n",
       "      <td>NaN</td>\n",
       "      <td>4270</td>\n",
       "      <td>5914.0</td>\n",
       "      <td>1999</td>\n",
       "      <td>10</td>\n",
       "    </tr>\n",
       "    <tr>\n",
       "      <th>4</th>\n",
       "      <td>5</td>\n",
       "      <td>N</td>\n",
       "      <td>2</td>\n",
       "      <td>54</td>\n",
       "      <td>0</td>\n",
       "      <td>NaN</td>\n",
       "      <td>Y</td>\n",
       "      <td>199910.0</td>\n",
       "      <td>광주</td>\n",
       "      <td>2.자영업</td>\n",
       "      <td>...</td>\n",
       "      <td>8.0</td>\n",
       "      <td>Y</td>\n",
       "      <td>3.사무직</td>\n",
       "      <td>고위 공무원</td>\n",
       "      <td>3.0</td>\n",
       "      <td>3894.0</td>\n",
       "      <td>0</td>\n",
       "      <td>8885.0</td>\n",
       "      <td>1999</td>\n",
       "      <td>10</td>\n",
       "    </tr>\n",
       "    <tr>\n",
       "      <th>...</th>\n",
       "      <td>...</td>\n",
       "      <td>...</td>\n",
       "      <td>...</td>\n",
       "      <td>...</td>\n",
       "      <td>...</td>\n",
       "      <td>...</td>\n",
       "      <td>...</td>\n",
       "      <td>...</td>\n",
       "      <td>...</td>\n",
       "      <td>...</td>\n",
       "      <td>...</td>\n",
       "      <td>...</td>\n",
       "      <td>...</td>\n",
       "      <td>...</td>\n",
       "      <td>...</td>\n",
       "      <td>...</td>\n",
       "      <td>...</td>\n",
       "      <td>...</td>\n",
       "      <td>...</td>\n",
       "      <td>...</td>\n",
       "      <td>...</td>\n",
       "    </tr>\n",
       "    <tr>\n",
       "      <th>22394</th>\n",
       "      <td>875</td>\n",
       "      <td>Y</td>\n",
       "      <td>1</td>\n",
       "      <td>49</td>\n",
       "      <td>0</td>\n",
       "      <td>NaN</td>\n",
       "      <td>N</td>\n",
       "      <td>200306.0</td>\n",
       "      <td>경남</td>\n",
       "      <td>5.서비스</td>\n",
       "      <td>...</td>\n",
       "      <td>NaN</td>\n",
       "      <td>Y</td>\n",
       "      <td>3.사무직</td>\n",
       "      <td>3차산업 종사자</td>\n",
       "      <td>2.0</td>\n",
       "      <td>5090.0</td>\n",
       "      <td>0</td>\n",
       "      <td>8373.0</td>\n",
       "      <td>2003</td>\n",
       "      <td>06</td>\n",
       "    </tr>\n",
       "    <tr>\n",
       "      <th>22396</th>\n",
       "      <td>21483</td>\n",
       "      <td>N</td>\n",
       "      <td>2</td>\n",
       "      <td>30</td>\n",
       "      <td>31944</td>\n",
       "      <td>20</td>\n",
       "      <td>N</td>\n",
       "      <td>200306.0</td>\n",
       "      <td>경기</td>\n",
       "      <td>1.주부</td>\n",
       "      <td>...</td>\n",
       "      <td>NaN</td>\n",
       "      <td>N</td>\n",
       "      <td>NaN</td>\n",
       "      <td>NaN</td>\n",
       "      <td>0.0</td>\n",
       "      <td>0.0</td>\n",
       "      <td>9361</td>\n",
       "      <td>8947.0</td>\n",
       "      <td>2003</td>\n",
       "      <td>06</td>\n",
       "    </tr>\n",
       "    <tr>\n",
       "      <th>22397</th>\n",
       "      <td>21940</td>\n",
       "      <td>N</td>\n",
       "      <td>2</td>\n",
       "      <td>23</td>\n",
       "      <td>45972</td>\n",
       "      <td>20</td>\n",
       "      <td>N</td>\n",
       "      <td>200501.0</td>\n",
       "      <td>경기</td>\n",
       "      <td>8.기타</td>\n",
       "      <td>...</td>\n",
       "      <td>6.0</td>\n",
       "      <td>N</td>\n",
       "      <td>NaN</td>\n",
       "      <td>NaN</td>\n",
       "      <td>0.0</td>\n",
       "      <td>0.0</td>\n",
       "      <td>11522</td>\n",
       "      <td>11484.0</td>\n",
       "      <td>2005</td>\n",
       "      <td>01</td>\n",
       "    </tr>\n",
       "    <tr>\n",
       "      <th>22398</th>\n",
       "      <td>20356</td>\n",
       "      <td>N</td>\n",
       "      <td>1</td>\n",
       "      <td>15</td>\n",
       "      <td>27777</td>\n",
       "      <td>20</td>\n",
       "      <td>N</td>\n",
       "      <td>200306.0</td>\n",
       "      <td>경기</td>\n",
       "      <td>8.기타</td>\n",
       "      <td>...</td>\n",
       "      <td>NaN</td>\n",
       "      <td>N</td>\n",
       "      <td>NaN</td>\n",
       "      <td>NaN</td>\n",
       "      <td>0.0</td>\n",
       "      <td>NaN</td>\n",
       "      <td>7960</td>\n",
       "      <td>7614.0</td>\n",
       "      <td>2003</td>\n",
       "      <td>06</td>\n",
       "    </tr>\n",
       "    <tr>\n",
       "      <th>22399</th>\n",
       "      <td>17118</td>\n",
       "      <td>N</td>\n",
       "      <td>2</td>\n",
       "      <td>18</td>\n",
       "      <td>21527</td>\n",
       "      <td>20</td>\n",
       "      <td>N</td>\n",
       "      <td>200306.0</td>\n",
       "      <td>경기</td>\n",
       "      <td>8.기타</td>\n",
       "      <td>...</td>\n",
       "      <td>NaN</td>\n",
       "      <td>N</td>\n",
       "      <td>NaN</td>\n",
       "      <td>NaN</td>\n",
       "      <td>0.0</td>\n",
       "      <td>NaN</td>\n",
       "      <td>7746</td>\n",
       "      <td>7746.0</td>\n",
       "      <td>2003</td>\n",
       "      <td>06</td>\n",
       "    </tr>\n",
       "  </tbody>\n",
       "</table>\n",
       "<p>20607 rows × 23 columns</p>\n",
       "</div>"
      ],
      "text/plain": [
       "       CUST_ID SIU_CUST_YN  SEX  AGE  RESI_COST RESI_TYPE_CODE FP_CAREER  \\\n",
       "0            1           N    2   47      21111             20         N   \n",
       "1            2           N    1   53      40000             20         N   \n",
       "2            3           N    1   60          0            NaN         N   \n",
       "3            4           N    2   64      12861             40         Y   \n",
       "4            5           N    2   54          0            NaN         Y   \n",
       "...        ...         ...  ...  ...        ...            ...       ...   \n",
       "22394      875           Y    1   49          0            NaN         N   \n",
       "22396    21483           N    2   30      31944             20         N   \n",
       "22397    21940           N    2   23      45972             20         N   \n",
       "22398    20356           N    1   15      27777             20         N   \n",
       "22399    17118           N    2   18      21527             20         N   \n",
       "\n",
       "      CUST_RGST CTPR OCCP_GRP_1  ... MAXCRDT  WEDD_YN  MATE_OCCP_GRP_1  \\\n",
       "0      199910.0   충북      3.사무직  ...     NaN        Y            3.사무직   \n",
       "1      199910.0   서울      3.사무직  ...     6.0        Y             1.주부   \n",
       "2      199910.0   서울      5.서비스  ...     NaN        N              NaN   \n",
       "3      199910.0   경기      2.자영업  ...    99.0        N              NaN   \n",
       "4      199910.0   광주      2.자영업  ...     8.0        Y            3.사무직   \n",
       "...         ...  ...        ...  ...     ...      ...              ...   \n",
       "22394  200306.0   경남      5.서비스  ...     NaN        Y            3.사무직   \n",
       "22396  200306.0   경기       1.주부  ...     NaN        N              NaN   \n",
       "22397  200501.0   경기       8.기타  ...     6.0        N              NaN   \n",
       "22398  200306.0   경기       8.기타  ...     NaN        N              NaN   \n",
       "22399  200306.0   경기       8.기타  ...     NaN        N              NaN   \n",
       "\n",
       "       MATE_OCCP_GRP_2 CHLD_CNT CUST_INCM RCBASE_HSHD_INCM  JPBASE_HSHD_INCM  \\\n",
       "0             2차산업 종사자      2.0    4879.0            10094           11337.0   \n",
       "1                   주부      2.0    6509.0             9143            6509.0   \n",
       "2                  NaN      0.0    4180.0                0            4180.0   \n",
       "3                  NaN      0.0       NaN             4270            5914.0   \n",
       "4               고위 공무원      3.0    3894.0                0            8885.0   \n",
       "...                ...      ...       ...              ...               ...   \n",
       "22394         3차산업 종사자      2.0    5090.0                0            8373.0   \n",
       "22396              NaN      0.0       0.0             9361            8947.0   \n",
       "22397              NaN      0.0       0.0            11522           11484.0   \n",
       "22398              NaN      0.0       NaN             7960            7614.0   \n",
       "22399              NaN      0.0       NaN             7746            7746.0   \n",
       "\n",
       "       year  month  \n",
       "0      1999     10  \n",
       "1      1999     10  \n",
       "2      1999     10  \n",
       "3      1999     10  \n",
       "4      1999     10  \n",
       "...     ...    ...  \n",
       "22394  2003     06  \n",
       "22396  2003     06  \n",
       "22397  2005     01  \n",
       "22398  2003     06  \n",
       "22399  2003     06  \n",
       "\n",
       "[20607 rows x 23 columns]"
      ]
     },
     "execution_count": 293,
     "metadata": {},
     "output_type": "execute_result"
    }
   ],
   "source": [
    "df_cust"
   ]
  },
  {
   "cell_type": "code",
   "execution_count": 295,
   "id": "bee2076b",
   "metadata": {},
   "outputs": [],
   "source": [
    "import pickle\n",
    "with open(\"df_cust.pickle\",\"wb\") as fw:\n",
    "    pickle.dump(df_cust, fw)"
   ]
  },
  {
   "cell_type": "code",
   "execution_count": null,
   "id": "7eb27fa2",
   "metadata": {},
   "outputs": [],
   "source": []
  }
 ],
 "metadata": {
  "kernelspec": {
   "display_name": "Python 3 (ipykernel)",
   "language": "python",
   "name": "python3"
  },
  "language_info": {
   "codemirror_mode": {
    "name": "ipython",
    "version": 3
   },
   "file_extension": ".py",
   "mimetype": "text/x-python",
   "name": "python",
   "nbconvert_exporter": "python",
   "pygments_lexer": "ipython3",
   "version": "3.9.7"
  }
 },
 "nbformat": 4,
 "nbformat_minor": 5
}
